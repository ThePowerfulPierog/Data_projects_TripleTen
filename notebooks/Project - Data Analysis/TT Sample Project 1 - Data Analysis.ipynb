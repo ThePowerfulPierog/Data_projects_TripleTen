{
 "cells": [
  {
   "cell_type": "markdown",
   "metadata": {},
   "source": [
    "# Analysis on Historical Video Game Sales // Planning for the Upcoming Year "
   ]
  },
  {
   "cell_type": "markdown",
   "metadata": {},
   "source": [
    "In this project, we'll be examining historical data on game sales to identify patterns that determine whether or not a game succeeds.  Our goal is to spot potential big winners and plan advertising campaigns.\n",
    "\n",
    "To do this, we'll examine how sales vary from platform to platform.  Which platforms are leading in sales?  Which ones are growing vs shrinking?"
   ]
  },
  {
   "cell_type": "markdown",
   "metadata": {},
   "source": [
    "## Introducing Our Data"
   ]
  },
  {
   "cell_type": "markdown",
   "metadata": {},
   "source": [
    "### Preliminaries"
   ]
  },
  {
   "cell_type": "markdown",
   "metadata": {},
   "source": [
    "We'll start by importing the libraries we'll use for our analysis.  We'll then read in our CSV file."
   ]
  },
  {
   "cell_type": "code",
   "execution_count": 1,
   "metadata": {},
   "outputs": [],
   "source": [
    "import pandas as pd\n",
    "import numpy as np\n",
    "from scipy import stats as st\n",
    "from matplotlib import pyplot as plt\n",
    "import plotly.express as px\n",
    "import seaborn as sns"
   ]
  },
  {
   "cell_type": "code",
   "execution_count": null,
   "metadata": {},
   "outputs": [
    {
     "ename": "FileNotFoundError",
     "evalue": "[Errno 2] No such file or directory: '/datasets/games.csv'",
     "output_type": "error",
     "traceback": [
      "\u001b[1;31m---------------------------------------------------------------------------\u001b[0m",
      "\u001b[1;31mFileNotFoundError\u001b[0m                         Traceback (most recent call last)",
      "Cell \u001b[1;32mIn[2], line 1\u001b[0m\n\u001b[1;32m----> 1\u001b[0m df \u001b[38;5;241m=\u001b[39m pd\u001b[38;5;241m.\u001b[39mread_csv(\u001b[38;5;124m\"\u001b[39m\u001b[38;5;124m/datasets/games.csv\u001b[39m\u001b[38;5;124m\"\u001b[39m)\n",
      "File \u001b[1;32mc:\\Users\\mikec\\anaconda3\\Lib\\site-packages\\pandas\\io\\parsers\\readers.py:1026\u001b[0m, in \u001b[0;36mread_csv\u001b[1;34m(filepath_or_buffer, sep, delimiter, header, names, index_col, usecols, dtype, engine, converters, true_values, false_values, skipinitialspace, skiprows, skipfooter, nrows, na_values, keep_default_na, na_filter, verbose, skip_blank_lines, parse_dates, infer_datetime_format, keep_date_col, date_parser, date_format, dayfirst, cache_dates, iterator, chunksize, compression, thousands, decimal, lineterminator, quotechar, quoting, doublequote, escapechar, comment, encoding, encoding_errors, dialect, on_bad_lines, delim_whitespace, low_memory, memory_map, float_precision, storage_options, dtype_backend)\u001b[0m\n\u001b[0;32m   1013\u001b[0m kwds_defaults \u001b[38;5;241m=\u001b[39m _refine_defaults_read(\n\u001b[0;32m   1014\u001b[0m     dialect,\n\u001b[0;32m   1015\u001b[0m     delimiter,\n\u001b[1;32m   (...)\u001b[0m\n\u001b[0;32m   1022\u001b[0m     dtype_backend\u001b[38;5;241m=\u001b[39mdtype_backend,\n\u001b[0;32m   1023\u001b[0m )\n\u001b[0;32m   1024\u001b[0m kwds\u001b[38;5;241m.\u001b[39mupdate(kwds_defaults)\n\u001b[1;32m-> 1026\u001b[0m \u001b[38;5;28;01mreturn\u001b[39;00m _read(filepath_or_buffer, kwds)\n",
      "File \u001b[1;32mc:\\Users\\mikec\\anaconda3\\Lib\\site-packages\\pandas\\io\\parsers\\readers.py:620\u001b[0m, in \u001b[0;36m_read\u001b[1;34m(filepath_or_buffer, kwds)\u001b[0m\n\u001b[0;32m    617\u001b[0m _validate_names(kwds\u001b[38;5;241m.\u001b[39mget(\u001b[38;5;124m\"\u001b[39m\u001b[38;5;124mnames\u001b[39m\u001b[38;5;124m\"\u001b[39m, \u001b[38;5;28;01mNone\u001b[39;00m))\n\u001b[0;32m    619\u001b[0m \u001b[38;5;66;03m# Create the parser.\u001b[39;00m\n\u001b[1;32m--> 620\u001b[0m parser \u001b[38;5;241m=\u001b[39m TextFileReader(filepath_or_buffer, \u001b[38;5;241m*\u001b[39m\u001b[38;5;241m*\u001b[39mkwds)\n\u001b[0;32m    622\u001b[0m \u001b[38;5;28;01mif\u001b[39;00m chunksize \u001b[38;5;129;01mor\u001b[39;00m iterator:\n\u001b[0;32m    623\u001b[0m     \u001b[38;5;28;01mreturn\u001b[39;00m parser\n",
      "File \u001b[1;32mc:\\Users\\mikec\\anaconda3\\Lib\\site-packages\\pandas\\io\\parsers\\readers.py:1620\u001b[0m, in \u001b[0;36mTextFileReader.__init__\u001b[1;34m(self, f, engine, **kwds)\u001b[0m\n\u001b[0;32m   1617\u001b[0m     \u001b[38;5;28mself\u001b[39m\u001b[38;5;241m.\u001b[39moptions[\u001b[38;5;124m\"\u001b[39m\u001b[38;5;124mhas_index_names\u001b[39m\u001b[38;5;124m\"\u001b[39m] \u001b[38;5;241m=\u001b[39m kwds[\u001b[38;5;124m\"\u001b[39m\u001b[38;5;124mhas_index_names\u001b[39m\u001b[38;5;124m\"\u001b[39m]\n\u001b[0;32m   1619\u001b[0m \u001b[38;5;28mself\u001b[39m\u001b[38;5;241m.\u001b[39mhandles: IOHandles \u001b[38;5;241m|\u001b[39m \u001b[38;5;28;01mNone\u001b[39;00m \u001b[38;5;241m=\u001b[39m \u001b[38;5;28;01mNone\u001b[39;00m\n\u001b[1;32m-> 1620\u001b[0m \u001b[38;5;28mself\u001b[39m\u001b[38;5;241m.\u001b[39m_engine \u001b[38;5;241m=\u001b[39m \u001b[38;5;28mself\u001b[39m\u001b[38;5;241m.\u001b[39m_make_engine(f, \u001b[38;5;28mself\u001b[39m\u001b[38;5;241m.\u001b[39mengine)\n",
      "File \u001b[1;32mc:\\Users\\mikec\\anaconda3\\Lib\\site-packages\\pandas\\io\\parsers\\readers.py:1880\u001b[0m, in \u001b[0;36mTextFileReader._make_engine\u001b[1;34m(self, f, engine)\u001b[0m\n\u001b[0;32m   1878\u001b[0m     \u001b[38;5;28;01mif\u001b[39;00m \u001b[38;5;124m\"\u001b[39m\u001b[38;5;124mb\u001b[39m\u001b[38;5;124m\"\u001b[39m \u001b[38;5;129;01mnot\u001b[39;00m \u001b[38;5;129;01min\u001b[39;00m mode:\n\u001b[0;32m   1879\u001b[0m         mode \u001b[38;5;241m+\u001b[39m\u001b[38;5;241m=\u001b[39m \u001b[38;5;124m\"\u001b[39m\u001b[38;5;124mb\u001b[39m\u001b[38;5;124m\"\u001b[39m\n\u001b[1;32m-> 1880\u001b[0m \u001b[38;5;28mself\u001b[39m\u001b[38;5;241m.\u001b[39mhandles \u001b[38;5;241m=\u001b[39m get_handle(\n\u001b[0;32m   1881\u001b[0m     f,\n\u001b[0;32m   1882\u001b[0m     mode,\n\u001b[0;32m   1883\u001b[0m     encoding\u001b[38;5;241m=\u001b[39m\u001b[38;5;28mself\u001b[39m\u001b[38;5;241m.\u001b[39moptions\u001b[38;5;241m.\u001b[39mget(\u001b[38;5;124m\"\u001b[39m\u001b[38;5;124mencoding\u001b[39m\u001b[38;5;124m\"\u001b[39m, \u001b[38;5;28;01mNone\u001b[39;00m),\n\u001b[0;32m   1884\u001b[0m     compression\u001b[38;5;241m=\u001b[39m\u001b[38;5;28mself\u001b[39m\u001b[38;5;241m.\u001b[39moptions\u001b[38;5;241m.\u001b[39mget(\u001b[38;5;124m\"\u001b[39m\u001b[38;5;124mcompression\u001b[39m\u001b[38;5;124m\"\u001b[39m, \u001b[38;5;28;01mNone\u001b[39;00m),\n\u001b[0;32m   1885\u001b[0m     memory_map\u001b[38;5;241m=\u001b[39m\u001b[38;5;28mself\u001b[39m\u001b[38;5;241m.\u001b[39moptions\u001b[38;5;241m.\u001b[39mget(\u001b[38;5;124m\"\u001b[39m\u001b[38;5;124mmemory_map\u001b[39m\u001b[38;5;124m\"\u001b[39m, \u001b[38;5;28;01mFalse\u001b[39;00m),\n\u001b[0;32m   1886\u001b[0m     is_text\u001b[38;5;241m=\u001b[39mis_text,\n\u001b[0;32m   1887\u001b[0m     errors\u001b[38;5;241m=\u001b[39m\u001b[38;5;28mself\u001b[39m\u001b[38;5;241m.\u001b[39moptions\u001b[38;5;241m.\u001b[39mget(\u001b[38;5;124m\"\u001b[39m\u001b[38;5;124mencoding_errors\u001b[39m\u001b[38;5;124m\"\u001b[39m, \u001b[38;5;124m\"\u001b[39m\u001b[38;5;124mstrict\u001b[39m\u001b[38;5;124m\"\u001b[39m),\n\u001b[0;32m   1888\u001b[0m     storage_options\u001b[38;5;241m=\u001b[39m\u001b[38;5;28mself\u001b[39m\u001b[38;5;241m.\u001b[39moptions\u001b[38;5;241m.\u001b[39mget(\u001b[38;5;124m\"\u001b[39m\u001b[38;5;124mstorage_options\u001b[39m\u001b[38;5;124m\"\u001b[39m, \u001b[38;5;28;01mNone\u001b[39;00m),\n\u001b[0;32m   1889\u001b[0m )\n\u001b[0;32m   1890\u001b[0m \u001b[38;5;28;01massert\u001b[39;00m \u001b[38;5;28mself\u001b[39m\u001b[38;5;241m.\u001b[39mhandles \u001b[38;5;129;01mis\u001b[39;00m \u001b[38;5;129;01mnot\u001b[39;00m \u001b[38;5;28;01mNone\u001b[39;00m\n\u001b[0;32m   1891\u001b[0m f \u001b[38;5;241m=\u001b[39m \u001b[38;5;28mself\u001b[39m\u001b[38;5;241m.\u001b[39mhandles\u001b[38;5;241m.\u001b[39mhandle\n",
      "File \u001b[1;32mc:\\Users\\mikec\\anaconda3\\Lib\\site-packages\\pandas\\io\\common.py:873\u001b[0m, in \u001b[0;36mget_handle\u001b[1;34m(path_or_buf, mode, encoding, compression, memory_map, is_text, errors, storage_options)\u001b[0m\n\u001b[0;32m    868\u001b[0m \u001b[38;5;28;01melif\u001b[39;00m \u001b[38;5;28misinstance\u001b[39m(handle, \u001b[38;5;28mstr\u001b[39m):\n\u001b[0;32m    869\u001b[0m     \u001b[38;5;66;03m# Check whether the filename is to be opened in binary mode.\u001b[39;00m\n\u001b[0;32m    870\u001b[0m     \u001b[38;5;66;03m# Binary mode does not support 'encoding' and 'newline'.\u001b[39;00m\n\u001b[0;32m    871\u001b[0m     \u001b[38;5;28;01mif\u001b[39;00m ioargs\u001b[38;5;241m.\u001b[39mencoding \u001b[38;5;129;01mand\u001b[39;00m \u001b[38;5;124m\"\u001b[39m\u001b[38;5;124mb\u001b[39m\u001b[38;5;124m\"\u001b[39m \u001b[38;5;129;01mnot\u001b[39;00m \u001b[38;5;129;01min\u001b[39;00m ioargs\u001b[38;5;241m.\u001b[39mmode:\n\u001b[0;32m    872\u001b[0m         \u001b[38;5;66;03m# Encoding\u001b[39;00m\n\u001b[1;32m--> 873\u001b[0m         handle \u001b[38;5;241m=\u001b[39m \u001b[38;5;28mopen\u001b[39m(\n\u001b[0;32m    874\u001b[0m             handle,\n\u001b[0;32m    875\u001b[0m             ioargs\u001b[38;5;241m.\u001b[39mmode,\n\u001b[0;32m    876\u001b[0m             encoding\u001b[38;5;241m=\u001b[39mioargs\u001b[38;5;241m.\u001b[39mencoding,\n\u001b[0;32m    877\u001b[0m             errors\u001b[38;5;241m=\u001b[39merrors,\n\u001b[0;32m    878\u001b[0m             newline\u001b[38;5;241m=\u001b[39m\u001b[38;5;124m\"\u001b[39m\u001b[38;5;124m\"\u001b[39m,\n\u001b[0;32m    879\u001b[0m         )\n\u001b[0;32m    880\u001b[0m     \u001b[38;5;28;01melse\u001b[39;00m:\n\u001b[0;32m    881\u001b[0m         \u001b[38;5;66;03m# Binary mode\u001b[39;00m\n\u001b[0;32m    882\u001b[0m         handle \u001b[38;5;241m=\u001b[39m \u001b[38;5;28mopen\u001b[39m(handle, ioargs\u001b[38;5;241m.\u001b[39mmode)\n",
      "\u001b[1;31mFileNotFoundError\u001b[0m: [Errno 2] No such file or directory: '/datasets/games.csv'"
     ]
    }
   ],
   "source": [
    "df = pd.read_csv(\"/games.csv\")"
   ]
  },
  {
   "cell_type": "markdown",
   "metadata": {},
   "source": [
    "### First Look"
   ]
  },
  {
   "cell_type": "markdown",
   "metadata": {},
   "source": [
    "Let's get a sense of our DataFrame below."
   ]
  },
  {
   "cell_type": "code",
   "execution_count": null,
   "metadata": {
    "scrolled": false
   },
   "outputs": [
    {
     "name": "stdout",
     "output_type": "stream",
     "text": [
      "<class 'pandas.core.frame.DataFrame'>\n",
      "RangeIndex: 16715 entries, 0 to 16714\n",
      "Data columns (total 11 columns):\n",
      " #   Column           Non-Null Count  Dtype  \n",
      "---  ------           --------------  -----  \n",
      " 0   Name             16713 non-null  object \n",
      " 1   Platform         16715 non-null  object \n",
      " 2   Year_of_Release  16446 non-null  float64\n",
      " 3   Genre            16713 non-null  object \n",
      " 4   NA_sales         16715 non-null  float64\n",
      " 5   EU_sales         16715 non-null  float64\n",
      " 6   JP_sales         16715 non-null  float64\n",
      " 7   Other_sales      16715 non-null  float64\n",
      " 8   Critic_Score     8137 non-null   float64\n",
      " 9   User_Score       10014 non-null  object \n",
      " 10  Rating           9949 non-null   object \n",
      "dtypes: float64(6), object(5)\n",
      "memory usage: 1.4+ MB\n"
     ]
    }
   ],
   "source": [
    "df.info()"
   ]
  },
  {
   "cell_type": "code",
   "execution_count": null,
   "metadata": {},
   "outputs": [
    {
     "data": {
      "text/plain": [
       "(16715, 11)"
      ]
     },
     "execution_count": 4,
     "metadata": {},
     "output_type": "execute_result"
    }
   ],
   "source": [
    "df.shape"
   ]
  },
  {
   "cell_type": "code",
   "execution_count": null,
   "metadata": {},
   "outputs": [
    {
     "data": {
      "text/html": [
       "<div>\n",
       "<style scoped>\n",
       "    .dataframe tbody tr th:only-of-type {\n",
       "        vertical-align: middle;\n",
       "    }\n",
       "\n",
       "    .dataframe tbody tr th {\n",
       "        vertical-align: top;\n",
       "    }\n",
       "\n",
       "    .dataframe thead th {\n",
       "        text-align: right;\n",
       "    }\n",
       "</style>\n",
       "<table border=\"1\" class=\"dataframe\">\n",
       "  <thead>\n",
       "    <tr style=\"text-align: right;\">\n",
       "      <th></th>\n",
       "      <th>Name</th>\n",
       "      <th>Platform</th>\n",
       "      <th>Year_of_Release</th>\n",
       "      <th>Genre</th>\n",
       "      <th>NA_sales</th>\n",
       "      <th>EU_sales</th>\n",
       "      <th>JP_sales</th>\n",
       "      <th>Other_sales</th>\n",
       "      <th>Critic_Score</th>\n",
       "      <th>User_Score</th>\n",
       "      <th>Rating</th>\n",
       "    </tr>\n",
       "  </thead>\n",
       "  <tbody>\n",
       "    <tr>\n",
       "      <th>0</th>\n",
       "      <td>Wii Sports</td>\n",
       "      <td>Wii</td>\n",
       "      <td>2006.0</td>\n",
       "      <td>Sports</td>\n",
       "      <td>41.36</td>\n",
       "      <td>28.96</td>\n",
       "      <td>3.77</td>\n",
       "      <td>8.45</td>\n",
       "      <td>76.0</td>\n",
       "      <td>8</td>\n",
       "      <td>E</td>\n",
       "    </tr>\n",
       "    <tr>\n",
       "      <th>1</th>\n",
       "      <td>Super Mario Bros.</td>\n",
       "      <td>NES</td>\n",
       "      <td>1985.0</td>\n",
       "      <td>Platform</td>\n",
       "      <td>29.08</td>\n",
       "      <td>3.58</td>\n",
       "      <td>6.81</td>\n",
       "      <td>0.77</td>\n",
       "      <td>NaN</td>\n",
       "      <td>NaN</td>\n",
       "      <td>NaN</td>\n",
       "    </tr>\n",
       "    <tr>\n",
       "      <th>2</th>\n",
       "      <td>Mario Kart Wii</td>\n",
       "      <td>Wii</td>\n",
       "      <td>2008.0</td>\n",
       "      <td>Racing</td>\n",
       "      <td>15.68</td>\n",
       "      <td>12.76</td>\n",
       "      <td>3.79</td>\n",
       "      <td>3.29</td>\n",
       "      <td>82.0</td>\n",
       "      <td>8.3</td>\n",
       "      <td>E</td>\n",
       "    </tr>\n",
       "    <tr>\n",
       "      <th>3</th>\n",
       "      <td>Wii Sports Resort</td>\n",
       "      <td>Wii</td>\n",
       "      <td>2009.0</td>\n",
       "      <td>Sports</td>\n",
       "      <td>15.61</td>\n",
       "      <td>10.93</td>\n",
       "      <td>3.28</td>\n",
       "      <td>2.95</td>\n",
       "      <td>80.0</td>\n",
       "      <td>8</td>\n",
       "      <td>E</td>\n",
       "    </tr>\n",
       "    <tr>\n",
       "      <th>4</th>\n",
       "      <td>Pokemon Red/Pokemon Blue</td>\n",
       "      <td>GB</td>\n",
       "      <td>1996.0</td>\n",
       "      <td>Role-Playing</td>\n",
       "      <td>11.27</td>\n",
       "      <td>8.89</td>\n",
       "      <td>10.22</td>\n",
       "      <td>1.00</td>\n",
       "      <td>NaN</td>\n",
       "      <td>NaN</td>\n",
       "      <td>NaN</td>\n",
       "    </tr>\n",
       "    <tr>\n",
       "      <th>5</th>\n",
       "      <td>Tetris</td>\n",
       "      <td>GB</td>\n",
       "      <td>1989.0</td>\n",
       "      <td>Puzzle</td>\n",
       "      <td>23.20</td>\n",
       "      <td>2.26</td>\n",
       "      <td>4.22</td>\n",
       "      <td>0.58</td>\n",
       "      <td>NaN</td>\n",
       "      <td>NaN</td>\n",
       "      <td>NaN</td>\n",
       "    </tr>\n",
       "    <tr>\n",
       "      <th>6</th>\n",
       "      <td>New Super Mario Bros.</td>\n",
       "      <td>DS</td>\n",
       "      <td>2006.0</td>\n",
       "      <td>Platform</td>\n",
       "      <td>11.28</td>\n",
       "      <td>9.14</td>\n",
       "      <td>6.50</td>\n",
       "      <td>2.88</td>\n",
       "      <td>89.0</td>\n",
       "      <td>8.5</td>\n",
       "      <td>E</td>\n",
       "    </tr>\n",
       "    <tr>\n",
       "      <th>7</th>\n",
       "      <td>Wii Play</td>\n",
       "      <td>Wii</td>\n",
       "      <td>2006.0</td>\n",
       "      <td>Misc</td>\n",
       "      <td>13.96</td>\n",
       "      <td>9.18</td>\n",
       "      <td>2.93</td>\n",
       "      <td>2.84</td>\n",
       "      <td>58.0</td>\n",
       "      <td>6.6</td>\n",
       "      <td>E</td>\n",
       "    </tr>\n",
       "    <tr>\n",
       "      <th>8</th>\n",
       "      <td>New Super Mario Bros. Wii</td>\n",
       "      <td>Wii</td>\n",
       "      <td>2009.0</td>\n",
       "      <td>Platform</td>\n",
       "      <td>14.44</td>\n",
       "      <td>6.94</td>\n",
       "      <td>4.70</td>\n",
       "      <td>2.24</td>\n",
       "      <td>87.0</td>\n",
       "      <td>8.4</td>\n",
       "      <td>E</td>\n",
       "    </tr>\n",
       "    <tr>\n",
       "      <th>9</th>\n",
       "      <td>Duck Hunt</td>\n",
       "      <td>NES</td>\n",
       "      <td>1984.0</td>\n",
       "      <td>Shooter</td>\n",
       "      <td>26.93</td>\n",
       "      <td>0.63</td>\n",
       "      <td>0.28</td>\n",
       "      <td>0.47</td>\n",
       "      <td>NaN</td>\n",
       "      <td>NaN</td>\n",
       "      <td>NaN</td>\n",
       "    </tr>\n",
       "  </tbody>\n",
       "</table>\n",
       "</div>"
      ],
      "text/plain": [
       "                        Name Platform  Year_of_Release         Genre  \\\n",
       "0                 Wii Sports      Wii           2006.0        Sports   \n",
       "1          Super Mario Bros.      NES           1985.0      Platform   \n",
       "2             Mario Kart Wii      Wii           2008.0        Racing   \n",
       "3          Wii Sports Resort      Wii           2009.0        Sports   \n",
       "4   Pokemon Red/Pokemon Blue       GB           1996.0  Role-Playing   \n",
       "5                     Tetris       GB           1989.0        Puzzle   \n",
       "6      New Super Mario Bros.       DS           2006.0      Platform   \n",
       "7                   Wii Play      Wii           2006.0          Misc   \n",
       "8  New Super Mario Bros. Wii      Wii           2009.0      Platform   \n",
       "9                  Duck Hunt      NES           1984.0       Shooter   \n",
       "\n",
       "   NA_sales  EU_sales  JP_sales  Other_sales  Critic_Score User_Score Rating  \n",
       "0     41.36     28.96      3.77         8.45          76.0          8      E  \n",
       "1     29.08      3.58      6.81         0.77           NaN        NaN    NaN  \n",
       "2     15.68     12.76      3.79         3.29          82.0        8.3      E  \n",
       "3     15.61     10.93      3.28         2.95          80.0          8      E  \n",
       "4     11.27      8.89     10.22         1.00           NaN        NaN    NaN  \n",
       "5     23.20      2.26      4.22         0.58           NaN        NaN    NaN  \n",
       "6     11.28      9.14      6.50         2.88          89.0        8.5      E  \n",
       "7     13.96      9.18      2.93         2.84          58.0        6.6      E  \n",
       "8     14.44      6.94      4.70         2.24          87.0        8.4      E  \n",
       "9     26.93      0.63      0.28         0.47           NaN        NaN    NaN  "
      ]
     },
     "execution_count": 5,
     "metadata": {},
     "output_type": "execute_result"
    }
   ],
   "source": [
    "df.head(10)"
   ]
  },
  {
   "cell_type": "code",
   "execution_count": null,
   "metadata": {
    "scrolled": true
   },
   "outputs": [
    {
     "data": {
      "text/html": [
       "<div>\n",
       "<style scoped>\n",
       "    .dataframe tbody tr th:only-of-type {\n",
       "        vertical-align: middle;\n",
       "    }\n",
       "\n",
       "    .dataframe tbody tr th {\n",
       "        vertical-align: top;\n",
       "    }\n",
       "\n",
       "    .dataframe thead th {\n",
       "        text-align: right;\n",
       "    }\n",
       "</style>\n",
       "<table border=\"1\" class=\"dataframe\">\n",
       "  <thead>\n",
       "    <tr style=\"text-align: right;\">\n",
       "      <th></th>\n",
       "      <th>Name</th>\n",
       "      <th>Platform</th>\n",
       "      <th>Year_of_Release</th>\n",
       "      <th>Genre</th>\n",
       "      <th>NA_sales</th>\n",
       "      <th>EU_sales</th>\n",
       "      <th>JP_sales</th>\n",
       "      <th>Other_sales</th>\n",
       "      <th>Critic_Score</th>\n",
       "      <th>User_Score</th>\n",
       "      <th>Rating</th>\n",
       "    </tr>\n",
       "  </thead>\n",
       "  <tbody>\n",
       "    <tr>\n",
       "      <th>16705</th>\n",
       "      <td>15 Days</td>\n",
       "      <td>PC</td>\n",
       "      <td>2009.0</td>\n",
       "      <td>Adventure</td>\n",
       "      <td>0.00</td>\n",
       "      <td>0.01</td>\n",
       "      <td>0.00</td>\n",
       "      <td>0.0</td>\n",
       "      <td>63.0</td>\n",
       "      <td>5.8</td>\n",
       "      <td>NaN</td>\n",
       "    </tr>\n",
       "    <tr>\n",
       "      <th>16706</th>\n",
       "      <td>Men in Black II: Alien Escape</td>\n",
       "      <td>GC</td>\n",
       "      <td>2003.0</td>\n",
       "      <td>Shooter</td>\n",
       "      <td>0.01</td>\n",
       "      <td>0.00</td>\n",
       "      <td>0.00</td>\n",
       "      <td>0.0</td>\n",
       "      <td>NaN</td>\n",
       "      <td>tbd</td>\n",
       "      <td>T</td>\n",
       "    </tr>\n",
       "    <tr>\n",
       "      <th>16707</th>\n",
       "      <td>Aiyoku no Eustia</td>\n",
       "      <td>PSV</td>\n",
       "      <td>2014.0</td>\n",
       "      <td>Misc</td>\n",
       "      <td>0.00</td>\n",
       "      <td>0.00</td>\n",
       "      <td>0.01</td>\n",
       "      <td>0.0</td>\n",
       "      <td>NaN</td>\n",
       "      <td>NaN</td>\n",
       "      <td>NaN</td>\n",
       "    </tr>\n",
       "    <tr>\n",
       "      <th>16708</th>\n",
       "      <td>Woody Woodpecker in Crazy Castle 5</td>\n",
       "      <td>GBA</td>\n",
       "      <td>2002.0</td>\n",
       "      <td>Platform</td>\n",
       "      <td>0.01</td>\n",
       "      <td>0.00</td>\n",
       "      <td>0.00</td>\n",
       "      <td>0.0</td>\n",
       "      <td>NaN</td>\n",
       "      <td>NaN</td>\n",
       "      <td>NaN</td>\n",
       "    </tr>\n",
       "    <tr>\n",
       "      <th>16709</th>\n",
       "      <td>SCORE International Baja 1000: The Official Game</td>\n",
       "      <td>PS2</td>\n",
       "      <td>2008.0</td>\n",
       "      <td>Racing</td>\n",
       "      <td>0.00</td>\n",
       "      <td>0.00</td>\n",
       "      <td>0.00</td>\n",
       "      <td>0.0</td>\n",
       "      <td>NaN</td>\n",
       "      <td>NaN</td>\n",
       "      <td>NaN</td>\n",
       "    </tr>\n",
       "    <tr>\n",
       "      <th>16710</th>\n",
       "      <td>Samurai Warriors: Sanada Maru</td>\n",
       "      <td>PS3</td>\n",
       "      <td>2016.0</td>\n",
       "      <td>Action</td>\n",
       "      <td>0.00</td>\n",
       "      <td>0.00</td>\n",
       "      <td>0.01</td>\n",
       "      <td>0.0</td>\n",
       "      <td>NaN</td>\n",
       "      <td>NaN</td>\n",
       "      <td>NaN</td>\n",
       "    </tr>\n",
       "    <tr>\n",
       "      <th>16711</th>\n",
       "      <td>LMA Manager 2007</td>\n",
       "      <td>X360</td>\n",
       "      <td>2006.0</td>\n",
       "      <td>Sports</td>\n",
       "      <td>0.00</td>\n",
       "      <td>0.01</td>\n",
       "      <td>0.00</td>\n",
       "      <td>0.0</td>\n",
       "      <td>NaN</td>\n",
       "      <td>NaN</td>\n",
       "      <td>NaN</td>\n",
       "    </tr>\n",
       "    <tr>\n",
       "      <th>16712</th>\n",
       "      <td>Haitaka no Psychedelica</td>\n",
       "      <td>PSV</td>\n",
       "      <td>2016.0</td>\n",
       "      <td>Adventure</td>\n",
       "      <td>0.00</td>\n",
       "      <td>0.00</td>\n",
       "      <td>0.01</td>\n",
       "      <td>0.0</td>\n",
       "      <td>NaN</td>\n",
       "      <td>NaN</td>\n",
       "      <td>NaN</td>\n",
       "    </tr>\n",
       "    <tr>\n",
       "      <th>16713</th>\n",
       "      <td>Spirits &amp; Spells</td>\n",
       "      <td>GBA</td>\n",
       "      <td>2003.0</td>\n",
       "      <td>Platform</td>\n",
       "      <td>0.01</td>\n",
       "      <td>0.00</td>\n",
       "      <td>0.00</td>\n",
       "      <td>0.0</td>\n",
       "      <td>NaN</td>\n",
       "      <td>NaN</td>\n",
       "      <td>NaN</td>\n",
       "    </tr>\n",
       "    <tr>\n",
       "      <th>16714</th>\n",
       "      <td>Winning Post 8 2016</td>\n",
       "      <td>PSV</td>\n",
       "      <td>2016.0</td>\n",
       "      <td>Simulation</td>\n",
       "      <td>0.00</td>\n",
       "      <td>0.00</td>\n",
       "      <td>0.01</td>\n",
       "      <td>0.0</td>\n",
       "      <td>NaN</td>\n",
       "      <td>NaN</td>\n",
       "      <td>NaN</td>\n",
       "    </tr>\n",
       "  </tbody>\n",
       "</table>\n",
       "</div>"
      ],
      "text/plain": [
       "                                                   Name Platform  \\\n",
       "16705                                           15 Days       PC   \n",
       "16706                     Men in Black II: Alien Escape       GC   \n",
       "16707                                  Aiyoku no Eustia      PSV   \n",
       "16708                Woody Woodpecker in Crazy Castle 5      GBA   \n",
       "16709  SCORE International Baja 1000: The Official Game      PS2   \n",
       "16710                     Samurai Warriors: Sanada Maru      PS3   \n",
       "16711                                  LMA Manager 2007     X360   \n",
       "16712                           Haitaka no Psychedelica      PSV   \n",
       "16713                                  Spirits & Spells      GBA   \n",
       "16714                               Winning Post 8 2016      PSV   \n",
       "\n",
       "       Year_of_Release       Genre  NA_sales  EU_sales  JP_sales  Other_sales  \\\n",
       "16705           2009.0   Adventure      0.00      0.01      0.00          0.0   \n",
       "16706           2003.0     Shooter      0.01      0.00      0.00          0.0   \n",
       "16707           2014.0        Misc      0.00      0.00      0.01          0.0   \n",
       "16708           2002.0    Platform      0.01      0.00      0.00          0.0   \n",
       "16709           2008.0      Racing      0.00      0.00      0.00          0.0   \n",
       "16710           2016.0      Action      0.00      0.00      0.01          0.0   \n",
       "16711           2006.0      Sports      0.00      0.01      0.00          0.0   \n",
       "16712           2016.0   Adventure      0.00      0.00      0.01          0.0   \n",
       "16713           2003.0    Platform      0.01      0.00      0.00          0.0   \n",
       "16714           2016.0  Simulation      0.00      0.00      0.01          0.0   \n",
       "\n",
       "       Critic_Score User_Score Rating  \n",
       "16705          63.0        5.8    NaN  \n",
       "16706           NaN        tbd      T  \n",
       "16707           NaN        NaN    NaN  \n",
       "16708           NaN        NaN    NaN  \n",
       "16709           NaN        NaN    NaN  \n",
       "16710           NaN        NaN    NaN  \n",
       "16711           NaN        NaN    NaN  \n",
       "16712           NaN        NaN    NaN  \n",
       "16713           NaN        NaN    NaN  \n",
       "16714           NaN        NaN    NaN  "
      ]
     },
     "execution_count": 6,
     "metadata": {},
     "output_type": "execute_result"
    }
   ],
   "source": [
    "df.tail(10)"
   ]
  },
  {
   "cell_type": "markdown",
   "metadata": {},
   "source": [
    "In our DataFrame, each row represents a released video game.  We have 11 columns that provide the following: the name of the game, the year the game released and on which platform, sales (split by North America, Europe, Japan, and other), and ratings.  Specifically each game has a critic score, a user score, and an overall ESRB rating (similar to how a movie is rated PG, R, etc.).\n",
    "\n",
    "We also see that we have some missing values in our DataFrame that we'll address later on."
   ]
  },
  {
   "cell_type": "markdown",
   "metadata": {},
   "source": [
    "## Data Preparation"
   ]
  },
  {
   "cell_type": "markdown",
   "metadata": {},
   "source": [
    "We'll prepare our Data by making all of our column names lowercase, filling in missing values, and converting our data to appropriate types.  We'll also add any columns that may be useful for later analysis, such as a `total_sales` column."
   ]
  },
  {
   "cell_type": "markdown",
   "metadata": {},
   "source": [
    "### Initial Cleaning"
   ]
  },
  {
   "cell_type": "markdown",
   "metadata": {},
   "source": [
    "We can make our column names lowercase with the following:"
   ]
  },
  {
   "cell_type": "code",
   "execution_count": null,
   "metadata": {},
   "outputs": [
    {
     "data": {
      "text/plain": [
       "Index(['name', 'platform', 'year_of_release', 'genre', 'na_sales', 'eu_sales',\n",
       "       'jp_sales', 'other_sales', 'critic_score', 'user_score', 'rating'],\n",
       "      dtype='object')"
      ]
     },
     "execution_count": 7,
     "metadata": {},
     "output_type": "execute_result"
    }
   ],
   "source": [
    "df.columns = df.columns.str.lower()\n",
    "df.columns"
   ]
  },
  {
   "cell_type": "code",
   "execution_count": null,
   "metadata": {
    "scrolled": true
   },
   "outputs": [
    {
     "data": {
      "text/plain": [
       "0"
      ]
     },
     "execution_count": 8,
     "metadata": {},
     "output_type": "execute_result"
    }
   ],
   "source": [
    "df.duplicated().sum()"
   ]
  },
  {
   "cell_type": "code",
   "execution_count": null,
   "metadata": {
    "scrolled": true
   },
   "outputs": [
    {
     "data": {
      "text/plain": [
       "name                  2\n",
       "platform              0\n",
       "year_of_release     269\n",
       "genre                 2\n",
       "na_sales              0\n",
       "eu_sales              0\n",
       "jp_sales              0\n",
       "other_sales           0\n",
       "critic_score       8578\n",
       "user_score         6701\n",
       "rating             6766\n",
       "dtype: int64"
      ]
     },
     "execution_count": 9,
     "metadata": {},
     "output_type": "execute_result"
    }
   ],
   "source": [
    "df.isnull().sum()"
   ]
  },
  {
   "cell_type": "markdown",
   "metadata": {},
   "source": [
    "### Handling Missing Values"
   ]
  },
  {
   "cell_type": "markdown",
   "metadata": {},
   "source": [
    "We have missing values in the following columns:\n",
    "- Name\n",
    "- Year_of_Release\n",
    "- Genre\n",
    "- Critic_Score\n",
    "- User_Score\n",
    "- Rating"
   ]
  },
  {
   "cell_type": "markdown",
   "metadata": {},
   "source": [
    "Let's fill our `rating` column first."
   ]
  },
  {
   "cell_type": "code",
   "execution_count": null,
   "metadata": {
    "scrolled": false
   },
   "outputs": [
    {
     "data": {
      "text/plain": [
       "NaN     6766\n",
       "E       3990\n",
       "T       2961\n",
       "M       1563\n",
       "E10+    1420\n",
       "EC         8\n",
       "K-A        3\n",
       "RP         3\n",
       "AO         1\n",
       "Name: rating, dtype: int64"
      ]
     },
     "execution_count": 10,
     "metadata": {},
     "output_type": "execute_result"
    }
   ],
   "source": [
    "df['rating'].value_counts(dropna=False)"
   ]
  },
  {
   "cell_type": "markdown",
   "metadata": {},
   "source": [
    "We see that all of our missing values are `NaN`.  Let's replaces these with 'unrated'."
   ]
  },
  {
   "cell_type": "code",
   "execution_count": null,
   "metadata": {},
   "outputs": [],
   "source": [
    "df['rating'] = df['rating'].fillna('unrated')"
   ]
  },
  {
   "cell_type": "markdown",
   "metadata": {},
   "source": [
    "Our `genre` column is only missing two values, so let's track those down manually."
   ]
  },
  {
   "cell_type": "code",
   "execution_count": null,
   "metadata": {
    "scrolled": true
   },
   "outputs": [
    {
     "data": {
      "text/html": [
       "<div>\n",
       "<style scoped>\n",
       "    .dataframe tbody tr th:only-of-type {\n",
       "        vertical-align: middle;\n",
       "    }\n",
       "\n",
       "    .dataframe tbody tr th {\n",
       "        vertical-align: top;\n",
       "    }\n",
       "\n",
       "    .dataframe thead th {\n",
       "        text-align: right;\n",
       "    }\n",
       "</style>\n",
       "<table border=\"1\" class=\"dataframe\">\n",
       "  <thead>\n",
       "    <tr style=\"text-align: right;\">\n",
       "      <th></th>\n",
       "      <th>name</th>\n",
       "      <th>platform</th>\n",
       "      <th>year_of_release</th>\n",
       "      <th>genre</th>\n",
       "      <th>na_sales</th>\n",
       "      <th>eu_sales</th>\n",
       "      <th>jp_sales</th>\n",
       "      <th>other_sales</th>\n",
       "      <th>critic_score</th>\n",
       "      <th>user_score</th>\n",
       "      <th>rating</th>\n",
       "    </tr>\n",
       "  </thead>\n",
       "  <tbody>\n",
       "    <tr>\n",
       "      <th>659</th>\n",
       "      <td>NaN</td>\n",
       "      <td>GEN</td>\n",
       "      <td>1993.0</td>\n",
       "      <td>NaN</td>\n",
       "      <td>1.78</td>\n",
       "      <td>0.53</td>\n",
       "      <td>0.00</td>\n",
       "      <td>0.08</td>\n",
       "      <td>NaN</td>\n",
       "      <td>NaN</td>\n",
       "      <td>unrated</td>\n",
       "    </tr>\n",
       "    <tr>\n",
       "      <th>14244</th>\n",
       "      <td>NaN</td>\n",
       "      <td>GEN</td>\n",
       "      <td>1993.0</td>\n",
       "      <td>NaN</td>\n",
       "      <td>0.00</td>\n",
       "      <td>0.00</td>\n",
       "      <td>0.03</td>\n",
       "      <td>0.00</td>\n",
       "      <td>NaN</td>\n",
       "      <td>NaN</td>\n",
       "      <td>unrated</td>\n",
       "    </tr>\n",
       "  </tbody>\n",
       "</table>\n",
       "</div>"
      ],
      "text/plain": [
       "      name platform  year_of_release genre  na_sales  eu_sales  jp_sales  \\\n",
       "659    NaN      GEN           1993.0   NaN      1.78      0.53      0.00   \n",
       "14244  NaN      GEN           1993.0   NaN      0.00      0.00      0.03   \n",
       "\n",
       "       other_sales  critic_score user_score   rating  \n",
       "659           0.08           NaN        NaN  unrated  \n",
       "14244         0.00           NaN        NaN  unrated  "
      ]
     },
     "execution_count": 12,
     "metadata": {},
     "output_type": "execute_result"
    }
   ],
   "source": [
    "df[df['genre'].isna()]"
   ]
  },
  {
   "cell_type": "markdown",
   "metadata": {},
   "source": [
    "With only some basic sale information, it makes most sense to drop these values. Our calculations later will depend on both genre and scores, and the dropped data represents only two rows out of over 16,000. "
   ]
  },
  {
   "cell_type": "code",
   "execution_count": null,
   "metadata": {},
   "outputs": [],
   "source": [
    "df.dropna(subset=['genre'], inplace=True)"
   ]
  },
  {
   "cell_type": "code",
   "execution_count": null,
   "metadata": {
    "scrolled": true
   },
   "outputs": [
    {
     "data": {
      "text/plain": [
       "name                  0\n",
       "platform              0\n",
       "year_of_release     269\n",
       "genre                 0\n",
       "na_sales              0\n",
       "eu_sales              0\n",
       "jp_sales              0\n",
       "other_sales           0\n",
       "critic_score       8576\n",
       "user_score         6699\n",
       "rating                0\n",
       "dtype: int64"
      ]
     },
     "execution_count": 14,
     "metadata": {},
     "output_type": "execute_result"
    }
   ],
   "source": [
    "df.isna().sum()"
   ]
  },
  {
   "cell_type": "markdown",
   "metadata": {},
   "source": [
    "We can see that dropping these values also handled the two missing values from the `name` column."
   ]
  },
  {
   "cell_type": "markdown",
   "metadata": {},
   "source": [
    "We'll handle our `year_of_release` column next.  It's unlikely that we'll be able to accurately interpolate missing years.  We could fill these values with -1 as a placeholder, but we'll be reducing our dataset based on `year_of_release` later in our anaylsis.  We'll drop these rows from the dataset."
   ]
  },
  {
   "cell_type": "code",
   "execution_count": null,
   "metadata": {},
   "outputs": [],
   "source": [
    "df.dropna(subset=['year_of_release'], inplace=True)"
   ]
  },
  {
   "cell_type": "code",
   "execution_count": null,
   "metadata": {
    "scrolled": false
   },
   "outputs": [
    {
     "data": {
      "text/plain": [
       "0"
      ]
     },
     "execution_count": 16,
     "metadata": {},
     "output_type": "execute_result"
    }
   ],
   "source": [
    "df['year_of_release'].isna().sum()"
   ]
  },
  {
   "cell_type": "markdown",
   "metadata": {},
   "source": [
    "We've handled our missing values in this column, so now let's convert the datatype after checking that the resulting column will be equivalent."
   ]
  },
  {
   "cell_type": "code",
   "execution_count": null,
   "metadata": {
    "scrolled": true
   },
   "outputs": [
    {
     "data": {
      "text/plain": [
       "True"
      ]
     },
     "execution_count": 17,
     "metadata": {},
     "output_type": "execute_result"
    }
   ],
   "source": [
    "np.array_equal(df['year_of_release'], df['year_of_release'].astype('int'))"
   ]
  },
  {
   "cell_type": "code",
   "execution_count": null,
   "metadata": {},
   "outputs": [],
   "source": [
    "df['year_of_release'] = df['year_of_release'].astype('int')"
   ]
  },
  {
   "cell_type": "markdown",
   "metadata": {},
   "source": [
    "We have two columns left to fill: `critic_score` and `user_score`.  While we don't know with certainty the reason for why missing values occur, there are a few possible explanations.  Perhaps older games did not receive critic scores as frequently as newer games did.  A game may need to be popular enough (minimum number of sales) to warrant receiving a score.\n",
    "\n",
    "In any case, it is unlikely that we would be able to interpolate missing values in our `critic_score` and `user_score` columns, as these scores by definition are subjective.  We'll fill these columns with -1 and look at only the values we know when it comes time to analyze these columns."
   ]
  },
  {
   "cell_type": "markdown",
   "metadata": {},
   "source": [
    "Our `user_score` column contains the value `tbd`.  Because `tbd` is an unknown value, we'll first replace any values of `\"tbd\"` to be `NaN`.  `\"tbd\"` means that a score hasn't been determined.  We'll fill all unknowns with -1 as with our `critic_score`."
   ]
  },
  {
   "cell_type": "code",
   "execution_count": null,
   "metadata": {
    "scrolled": true
   },
   "outputs": [],
   "source": [
    "df['user_score'].replace('tbd', np.nan, inplace=True)"
   ]
  },
  {
   "cell_type": "code",
   "execution_count": null,
   "metadata": {
    "scrolled": true
   },
   "outputs": [],
   "source": [
    "df['user_score'] = pd.to_numeric(df['user_score'], errors='raise')"
   ]
  },
  {
   "cell_type": "code",
   "execution_count": null,
   "metadata": {
    "scrolled": true
   },
   "outputs": [
    {
     "data": {
      "text/plain": [
       "8981"
      ]
     },
     "execution_count": 21,
     "metadata": {},
     "output_type": "execute_result"
    }
   ],
   "source": [
    "df['user_score'].isna().sum()"
   ]
  },
  {
   "cell_type": "markdown",
   "metadata": {},
   "source": [
    "Before we fill this column, it's worth mentioning that our `critic_score` column is on a scale of 0-100, while our `user_score` column is on a scale of `0.0-10.0`.  Before filling the remaining values, let's add a 'standardized user score' column so that we can compare our data easier down the line."
   ]
  },
  {
   "cell_type": "code",
   "execution_count": null,
   "metadata": {},
   "outputs": [],
   "source": [
    "df['st_user_score'] = df['user_score'] * 10\n",
    "df['st_user_score'] = df['st_user_score'].round()"
   ]
  },
  {
   "cell_type": "code",
   "execution_count": null,
   "metadata": {},
   "outputs": [
    {
     "data": {
      "text/plain": [
       "0        80.0\n",
       "1         NaN\n",
       "2        83.0\n",
       "3        80.0\n",
       "4         NaN\n",
       "         ... \n",
       "16710     NaN\n",
       "16711     NaN\n",
       "16712     NaN\n",
       "16713     NaN\n",
       "16714     NaN\n",
       "Name: st_user_score, Length: 16444, dtype: float64"
      ]
     },
     "execution_count": 23,
     "metadata": {},
     "output_type": "execute_result"
    }
   ],
   "source": [
    "df['st_user_score']"
   ]
  },
  {
   "cell_type": "code",
   "execution_count": null,
   "metadata": {
    "scrolled": false
   },
   "outputs": [],
   "source": [
    "df[['critic_score', 'user_score', 'st_user_score']] = df[['critic_score', 'user_score', 'st_user_score']].fillna(-1)"
   ]
  },
  {
   "cell_type": "code",
   "execution_count": null,
   "metadata": {},
   "outputs": [
    {
     "data": {
      "text/plain": [
       "name               0\n",
       "platform           0\n",
       "year_of_release    0\n",
       "genre              0\n",
       "na_sales           0\n",
       "eu_sales           0\n",
       "jp_sales           0\n",
       "other_sales        0\n",
       "critic_score       0\n",
       "user_score         0\n",
       "rating             0\n",
       "st_user_score      0\n",
       "dtype: int64"
      ]
     },
     "execution_count": 25,
     "metadata": {},
     "output_type": "execute_result"
    }
   ],
   "source": [
    "df.isna().sum()"
   ]
  },
  {
   "cell_type": "code",
   "execution_count": null,
   "metadata": {
    "scrolled": true
   },
   "outputs": [
    {
     "data": {
      "text/plain": [
       "True"
      ]
     },
     "metadata": {},
     "output_type": "display_data"
    },
    {
     "data": {
      "text/plain": [
       "True"
      ]
     },
     "execution_count": 26,
     "metadata": {},
     "output_type": "execute_result"
    }
   ],
   "source": [
    "display(np.array_equal(df['critic_score'], df['critic_score'].astype('int')))\n",
    "np.array_equal(df['st_user_score'], df['st_user_score'].astype('int'))"
   ]
  },
  {
   "cell_type": "code",
   "execution_count": null,
   "metadata": {},
   "outputs": [],
   "source": [
    "df['critic_score'] = df['critic_score'].astype('int')\n",
    "df['st_user_score'] = df['st_user_score'].astype('int')"
   ]
  },
  {
   "cell_type": "markdown",
   "metadata": {},
   "source": [
    "Let's look at our dataframe now:"
   ]
  },
  {
   "cell_type": "code",
   "execution_count": null,
   "metadata": {},
   "outputs": [
    {
     "data": {
      "text/html": [
       "<div>\n",
       "<style scoped>\n",
       "    .dataframe tbody tr th:only-of-type {\n",
       "        vertical-align: middle;\n",
       "    }\n",
       "\n",
       "    .dataframe tbody tr th {\n",
       "        vertical-align: top;\n",
       "    }\n",
       "\n",
       "    .dataframe thead th {\n",
       "        text-align: right;\n",
       "    }\n",
       "</style>\n",
       "<table border=\"1\" class=\"dataframe\">\n",
       "  <thead>\n",
       "    <tr style=\"text-align: right;\">\n",
       "      <th></th>\n",
       "      <th>name</th>\n",
       "      <th>platform</th>\n",
       "      <th>year_of_release</th>\n",
       "      <th>genre</th>\n",
       "      <th>na_sales</th>\n",
       "      <th>eu_sales</th>\n",
       "      <th>jp_sales</th>\n",
       "      <th>other_sales</th>\n",
       "      <th>critic_score</th>\n",
       "      <th>user_score</th>\n",
       "      <th>rating</th>\n",
       "      <th>st_user_score</th>\n",
       "    </tr>\n",
       "  </thead>\n",
       "  <tbody>\n",
       "    <tr>\n",
       "      <th>8617</th>\n",
       "      <td>Naruto: Ultimate Ninja Heroes 2 - The Phantom ...</td>\n",
       "      <td>PSP</td>\n",
       "      <td>2006</td>\n",
       "      <td>Fighting</td>\n",
       "      <td>0.14</td>\n",
       "      <td>0.00</td>\n",
       "      <td>0.00</td>\n",
       "      <td>0.01</td>\n",
       "      <td>64</td>\n",
       "      <td>7.8</td>\n",
       "      <td>T</td>\n",
       "      <td>78</td>\n",
       "    </tr>\n",
       "    <tr>\n",
       "      <th>2315</th>\n",
       "      <td>Skylanders: Trap Team</td>\n",
       "      <td>X360</td>\n",
       "      <td>2014</td>\n",
       "      <td>Action</td>\n",
       "      <td>0.54</td>\n",
       "      <td>0.27</td>\n",
       "      <td>0.00</td>\n",
       "      <td>0.08</td>\n",
       "      <td>-1</td>\n",
       "      <td>-1.0</td>\n",
       "      <td>E10+</td>\n",
       "      <td>-1</td>\n",
       "    </tr>\n",
       "    <tr>\n",
       "      <th>6617</th>\n",
       "      <td>A. IV Evolution: A Ressha de Ikou 4</td>\n",
       "      <td>PS</td>\n",
       "      <td>1994</td>\n",
       "      <td>Strategy</td>\n",
       "      <td>0.00</td>\n",
       "      <td>0.00</td>\n",
       "      <td>0.24</td>\n",
       "      <td>0.02</td>\n",
       "      <td>-1</td>\n",
       "      <td>-1.0</td>\n",
       "      <td>unrated</td>\n",
       "      <td>-1</td>\n",
       "    </tr>\n",
       "    <tr>\n",
       "      <th>8045</th>\n",
       "      <td>Summer Athletics: The Ultimate Challenge</td>\n",
       "      <td>PS2</td>\n",
       "      <td>2008</td>\n",
       "      <td>Sports</td>\n",
       "      <td>0.00</td>\n",
       "      <td>0.00</td>\n",
       "      <td>0.00</td>\n",
       "      <td>0.18</td>\n",
       "      <td>-1</td>\n",
       "      <td>-1.0</td>\n",
       "      <td>E</td>\n",
       "      <td>-1</td>\n",
       "    </tr>\n",
       "    <tr>\n",
       "      <th>15163</th>\n",
       "      <td>Line Rider 2: Unbound</td>\n",
       "      <td>Wii</td>\n",
       "      <td>2008</td>\n",
       "      <td>Puzzle</td>\n",
       "      <td>0.02</td>\n",
       "      <td>0.00</td>\n",
       "      <td>0.00</td>\n",
       "      <td>0.00</td>\n",
       "      <td>62</td>\n",
       "      <td>6.4</td>\n",
       "      <td>E</td>\n",
       "      <td>64</td>\n",
       "    </tr>\n",
       "    <tr>\n",
       "      <th>5094</th>\n",
       "      <td>Trivial Pursuit</td>\n",
       "      <td>X360</td>\n",
       "      <td>2009</td>\n",
       "      <td>Misc</td>\n",
       "      <td>0.12</td>\n",
       "      <td>0.21</td>\n",
       "      <td>0.00</td>\n",
       "      <td>0.04</td>\n",
       "      <td>66</td>\n",
       "      <td>6.4</td>\n",
       "      <td>E</td>\n",
       "      <td>64</td>\n",
       "    </tr>\n",
       "    <tr>\n",
       "      <th>8893</th>\n",
       "      <td>Super Street Fighter II</td>\n",
       "      <td>GEN</td>\n",
       "      <td>1993</td>\n",
       "      <td>Fighting</td>\n",
       "      <td>0.00</td>\n",
       "      <td>0.00</td>\n",
       "      <td>0.15</td>\n",
       "      <td>0.00</td>\n",
       "      <td>-1</td>\n",
       "      <td>-1.0</td>\n",
       "      <td>unrated</td>\n",
       "      <td>-1</td>\n",
       "    </tr>\n",
       "    <tr>\n",
       "      <th>10380</th>\n",
       "      <td>Virtual Hydlide</td>\n",
       "      <td>SAT</td>\n",
       "      <td>1995</td>\n",
       "      <td>Role-Playing</td>\n",
       "      <td>0.00</td>\n",
       "      <td>0.00</td>\n",
       "      <td>0.11</td>\n",
       "      <td>0.00</td>\n",
       "      <td>-1</td>\n",
       "      <td>-1.0</td>\n",
       "      <td>unrated</td>\n",
       "      <td>-1</td>\n",
       "    </tr>\n",
       "    <tr>\n",
       "      <th>7794</th>\n",
       "      <td>The Spiderwick Chronicles</td>\n",
       "      <td>Wii</td>\n",
       "      <td>2008</td>\n",
       "      <td>Action</td>\n",
       "      <td>0.17</td>\n",
       "      <td>0.00</td>\n",
       "      <td>0.00</td>\n",
       "      <td>0.01</td>\n",
       "      <td>62</td>\n",
       "      <td>-1.0</td>\n",
       "      <td>E10+</td>\n",
       "      <td>-1</td>\n",
       "    </tr>\n",
       "    <tr>\n",
       "      <th>13087</th>\n",
       "      <td>Armored Core: Formula Front Extreme Battle</td>\n",
       "      <td>PSP</td>\n",
       "      <td>2004</td>\n",
       "      <td>Simulation</td>\n",
       "      <td>0.05</td>\n",
       "      <td>0.00</td>\n",
       "      <td>0.00</td>\n",
       "      <td>0.00</td>\n",
       "      <td>-1</td>\n",
       "      <td>-1.0</td>\n",
       "      <td>unrated</td>\n",
       "      <td>-1</td>\n",
       "    </tr>\n",
       "  </tbody>\n",
       "</table>\n",
       "</div>"
      ],
      "text/plain": [
       "                                                    name platform  \\\n",
       "8617   Naruto: Ultimate Ninja Heroes 2 - The Phantom ...      PSP   \n",
       "2315                               Skylanders: Trap Team     X360   \n",
       "6617                 A. IV Evolution: A Ressha de Ikou 4       PS   \n",
       "8045            Summer Athletics: The Ultimate Challenge      PS2   \n",
       "15163                              Line Rider 2: Unbound      Wii   \n",
       "5094                                     Trivial Pursuit     X360   \n",
       "8893                             Super Street Fighter II      GEN   \n",
       "10380                                    Virtual Hydlide      SAT   \n",
       "7794                           The Spiderwick Chronicles      Wii   \n",
       "13087         Armored Core: Formula Front Extreme Battle      PSP   \n",
       "\n",
       "       year_of_release         genre  na_sales  eu_sales  jp_sales  \\\n",
       "8617              2006      Fighting      0.14      0.00      0.00   \n",
       "2315              2014        Action      0.54      0.27      0.00   \n",
       "6617              1994      Strategy      0.00      0.00      0.24   \n",
       "8045              2008        Sports      0.00      0.00      0.00   \n",
       "15163             2008        Puzzle      0.02      0.00      0.00   \n",
       "5094              2009          Misc      0.12      0.21      0.00   \n",
       "8893              1993      Fighting      0.00      0.00      0.15   \n",
       "10380             1995  Role-Playing      0.00      0.00      0.11   \n",
       "7794              2008        Action      0.17      0.00      0.00   \n",
       "13087             2004    Simulation      0.05      0.00      0.00   \n",
       "\n",
       "       other_sales  critic_score  user_score   rating  st_user_score  \n",
       "8617          0.01            64         7.8        T             78  \n",
       "2315          0.08            -1        -1.0     E10+             -1  \n",
       "6617          0.02            -1        -1.0  unrated             -1  \n",
       "8045          0.18            -1        -1.0        E             -1  \n",
       "15163         0.00            62         6.4        E             64  \n",
       "5094          0.04            66         6.4        E             64  \n",
       "8893          0.00            -1        -1.0  unrated             -1  \n",
       "10380         0.00            -1        -1.0  unrated             -1  \n",
       "7794          0.01            62        -1.0     E10+             -1  \n",
       "13087         0.00            -1        -1.0  unrated             -1  "
      ]
     },
     "execution_count": 28,
     "metadata": {},
     "output_type": "execute_result"
    }
   ],
   "source": [
    "df.sample(10, random_state=1234)"
   ]
  },
  {
   "cell_type": "markdown",
   "metadata": {},
   "source": [
    "### Feature Engineering"
   ]
  },
  {
   "cell_type": "markdown",
   "metadata": {},
   "source": [
    "Our missing values have been handled and our datatypes are appropriate for our analysis.  Let's add a total sales column to our DataFrame."
   ]
  },
  {
   "cell_type": "code",
   "execution_count": null,
   "metadata": {},
   "outputs": [
    {
     "data": {
      "text/html": [
       "<div>\n",
       "<style scoped>\n",
       "    .dataframe tbody tr th:only-of-type {\n",
       "        vertical-align: middle;\n",
       "    }\n",
       "\n",
       "    .dataframe tbody tr th {\n",
       "        vertical-align: top;\n",
       "    }\n",
       "\n",
       "    .dataframe thead th {\n",
       "        text-align: right;\n",
       "    }\n",
       "</style>\n",
       "<table border=\"1\" class=\"dataframe\">\n",
       "  <thead>\n",
       "    <tr style=\"text-align: right;\">\n",
       "      <th></th>\n",
       "      <th>name</th>\n",
       "      <th>platform</th>\n",
       "      <th>year_of_release</th>\n",
       "      <th>genre</th>\n",
       "      <th>na_sales</th>\n",
       "      <th>eu_sales</th>\n",
       "      <th>jp_sales</th>\n",
       "      <th>other_sales</th>\n",
       "      <th>critic_score</th>\n",
       "      <th>user_score</th>\n",
       "      <th>rating</th>\n",
       "      <th>st_user_score</th>\n",
       "      <th>total_sales</th>\n",
       "    </tr>\n",
       "  </thead>\n",
       "  <tbody>\n",
       "    <tr>\n",
       "      <th>0</th>\n",
       "      <td>Wii Sports</td>\n",
       "      <td>Wii</td>\n",
       "      <td>2006</td>\n",
       "      <td>Sports</td>\n",
       "      <td>41.36</td>\n",
       "      <td>28.96</td>\n",
       "      <td>3.77</td>\n",
       "      <td>8.45</td>\n",
       "      <td>76</td>\n",
       "      <td>8.0</td>\n",
       "      <td>E</td>\n",
       "      <td>80</td>\n",
       "      <td>82.54</td>\n",
       "    </tr>\n",
       "    <tr>\n",
       "      <th>1</th>\n",
       "      <td>Super Mario Bros.</td>\n",
       "      <td>NES</td>\n",
       "      <td>1985</td>\n",
       "      <td>Platform</td>\n",
       "      <td>29.08</td>\n",
       "      <td>3.58</td>\n",
       "      <td>6.81</td>\n",
       "      <td>0.77</td>\n",
       "      <td>-1</td>\n",
       "      <td>-1.0</td>\n",
       "      <td>unrated</td>\n",
       "      <td>-1</td>\n",
       "      <td>40.24</td>\n",
       "    </tr>\n",
       "    <tr>\n",
       "      <th>2</th>\n",
       "      <td>Mario Kart Wii</td>\n",
       "      <td>Wii</td>\n",
       "      <td>2008</td>\n",
       "      <td>Racing</td>\n",
       "      <td>15.68</td>\n",
       "      <td>12.76</td>\n",
       "      <td>3.79</td>\n",
       "      <td>3.29</td>\n",
       "      <td>82</td>\n",
       "      <td>8.3</td>\n",
       "      <td>E</td>\n",
       "      <td>83</td>\n",
       "      <td>35.52</td>\n",
       "    </tr>\n",
       "    <tr>\n",
       "      <th>3</th>\n",
       "      <td>Wii Sports Resort</td>\n",
       "      <td>Wii</td>\n",
       "      <td>2009</td>\n",
       "      <td>Sports</td>\n",
       "      <td>15.61</td>\n",
       "      <td>10.93</td>\n",
       "      <td>3.28</td>\n",
       "      <td>2.95</td>\n",
       "      <td>80</td>\n",
       "      <td>8.0</td>\n",
       "      <td>E</td>\n",
       "      <td>80</td>\n",
       "      <td>32.77</td>\n",
       "    </tr>\n",
       "    <tr>\n",
       "      <th>4</th>\n",
       "      <td>Pokemon Red/Pokemon Blue</td>\n",
       "      <td>GB</td>\n",
       "      <td>1996</td>\n",
       "      <td>Role-Playing</td>\n",
       "      <td>11.27</td>\n",
       "      <td>8.89</td>\n",
       "      <td>10.22</td>\n",
       "      <td>1.00</td>\n",
       "      <td>-1</td>\n",
       "      <td>-1.0</td>\n",
       "      <td>unrated</td>\n",
       "      <td>-1</td>\n",
       "      <td>31.38</td>\n",
       "    </tr>\n",
       "    <tr>\n",
       "      <th>...</th>\n",
       "      <td>...</td>\n",
       "      <td>...</td>\n",
       "      <td>...</td>\n",
       "      <td>...</td>\n",
       "      <td>...</td>\n",
       "      <td>...</td>\n",
       "      <td>...</td>\n",
       "      <td>...</td>\n",
       "      <td>...</td>\n",
       "      <td>...</td>\n",
       "      <td>...</td>\n",
       "      <td>...</td>\n",
       "      <td>...</td>\n",
       "    </tr>\n",
       "    <tr>\n",
       "      <th>16710</th>\n",
       "      <td>Samurai Warriors: Sanada Maru</td>\n",
       "      <td>PS3</td>\n",
       "      <td>2016</td>\n",
       "      <td>Action</td>\n",
       "      <td>0.00</td>\n",
       "      <td>0.00</td>\n",
       "      <td>0.01</td>\n",
       "      <td>0.00</td>\n",
       "      <td>-1</td>\n",
       "      <td>-1.0</td>\n",
       "      <td>unrated</td>\n",
       "      <td>-1</td>\n",
       "      <td>0.01</td>\n",
       "    </tr>\n",
       "    <tr>\n",
       "      <th>16711</th>\n",
       "      <td>LMA Manager 2007</td>\n",
       "      <td>X360</td>\n",
       "      <td>2006</td>\n",
       "      <td>Sports</td>\n",
       "      <td>0.00</td>\n",
       "      <td>0.01</td>\n",
       "      <td>0.00</td>\n",
       "      <td>0.00</td>\n",
       "      <td>-1</td>\n",
       "      <td>-1.0</td>\n",
       "      <td>unrated</td>\n",
       "      <td>-1</td>\n",
       "      <td>0.01</td>\n",
       "    </tr>\n",
       "    <tr>\n",
       "      <th>16712</th>\n",
       "      <td>Haitaka no Psychedelica</td>\n",
       "      <td>PSV</td>\n",
       "      <td>2016</td>\n",
       "      <td>Adventure</td>\n",
       "      <td>0.00</td>\n",
       "      <td>0.00</td>\n",
       "      <td>0.01</td>\n",
       "      <td>0.00</td>\n",
       "      <td>-1</td>\n",
       "      <td>-1.0</td>\n",
       "      <td>unrated</td>\n",
       "      <td>-1</td>\n",
       "      <td>0.01</td>\n",
       "    </tr>\n",
       "    <tr>\n",
       "      <th>16713</th>\n",
       "      <td>Spirits &amp; Spells</td>\n",
       "      <td>GBA</td>\n",
       "      <td>2003</td>\n",
       "      <td>Platform</td>\n",
       "      <td>0.01</td>\n",
       "      <td>0.00</td>\n",
       "      <td>0.00</td>\n",
       "      <td>0.00</td>\n",
       "      <td>-1</td>\n",
       "      <td>-1.0</td>\n",
       "      <td>unrated</td>\n",
       "      <td>-1</td>\n",
       "      <td>0.01</td>\n",
       "    </tr>\n",
       "    <tr>\n",
       "      <th>16714</th>\n",
       "      <td>Winning Post 8 2016</td>\n",
       "      <td>PSV</td>\n",
       "      <td>2016</td>\n",
       "      <td>Simulation</td>\n",
       "      <td>0.00</td>\n",
       "      <td>0.00</td>\n",
       "      <td>0.01</td>\n",
       "      <td>0.00</td>\n",
       "      <td>-1</td>\n",
       "      <td>-1.0</td>\n",
       "      <td>unrated</td>\n",
       "      <td>-1</td>\n",
       "      <td>0.01</td>\n",
       "    </tr>\n",
       "  </tbody>\n",
       "</table>\n",
       "<p>16444 rows × 13 columns</p>\n",
       "</div>"
      ],
      "text/plain": [
       "                                name platform  year_of_release         genre  \\\n",
       "0                         Wii Sports      Wii             2006        Sports   \n",
       "1                  Super Mario Bros.      NES             1985      Platform   \n",
       "2                     Mario Kart Wii      Wii             2008        Racing   \n",
       "3                  Wii Sports Resort      Wii             2009        Sports   \n",
       "4           Pokemon Red/Pokemon Blue       GB             1996  Role-Playing   \n",
       "...                              ...      ...              ...           ...   \n",
       "16710  Samurai Warriors: Sanada Maru      PS3             2016        Action   \n",
       "16711               LMA Manager 2007     X360             2006        Sports   \n",
       "16712        Haitaka no Psychedelica      PSV             2016     Adventure   \n",
       "16713               Spirits & Spells      GBA             2003      Platform   \n",
       "16714            Winning Post 8 2016      PSV             2016    Simulation   \n",
       "\n",
       "       na_sales  eu_sales  jp_sales  other_sales  critic_score  user_score  \\\n",
       "0         41.36     28.96      3.77         8.45            76         8.0   \n",
       "1         29.08      3.58      6.81         0.77            -1        -1.0   \n",
       "2         15.68     12.76      3.79         3.29            82         8.3   \n",
       "3         15.61     10.93      3.28         2.95            80         8.0   \n",
       "4         11.27      8.89     10.22         1.00            -1        -1.0   \n",
       "...         ...       ...       ...          ...           ...         ...   \n",
       "16710      0.00      0.00      0.01         0.00            -1        -1.0   \n",
       "16711      0.00      0.01      0.00         0.00            -1        -1.0   \n",
       "16712      0.00      0.00      0.01         0.00            -1        -1.0   \n",
       "16713      0.01      0.00      0.00         0.00            -1        -1.0   \n",
       "16714      0.00      0.00      0.01         0.00            -1        -1.0   \n",
       "\n",
       "        rating  st_user_score  total_sales  \n",
       "0            E             80        82.54  \n",
       "1      unrated             -1        40.24  \n",
       "2            E             83        35.52  \n",
       "3            E             80        32.77  \n",
       "4      unrated             -1        31.38  \n",
       "...        ...            ...          ...  \n",
       "16710  unrated             -1         0.01  \n",
       "16711  unrated             -1         0.01  \n",
       "16712  unrated             -1         0.01  \n",
       "16713  unrated             -1         0.01  \n",
       "16714  unrated             -1         0.01  \n",
       "\n",
       "[16444 rows x 13 columns]"
      ]
     },
     "execution_count": 29,
     "metadata": {},
     "output_type": "execute_result"
    }
   ],
   "source": [
    "df['total_sales'] = df[['na_sales', 'eu_sales', 'jp_sales', 'other_sales']].sum(axis=1)\n",
    "df"
   ]
  },
  {
   "cell_type": "markdown",
   "metadata": {},
   "source": [
    "We are now ready to analyze our data."
   ]
  },
  {
   "cell_type": "markdown",
   "metadata": {},
   "source": [
    "## Exploratory Data Analysis"
   ]
  },
  {
   "cell_type": "markdown",
   "metadata": {},
   "source": [
    "In this section we'll examine how each of our DataPoints effects sales.  We'll be looking for clear trends in our data that we can use to plan for 2017.  Which platforms have the highest total sales?  For the best selling games, which platform do these games perform best on?  Does User/Critic Score have an effect on which games sell well?  Is a certain genre of game more popular than others?"
   ]
  },
  {
   "cell_type": "markdown",
   "metadata": {},
   "source": [
    "### Games by Release Year"
   ]
  },
  {
   "cell_type": "markdown",
   "metadata": {},
   "source": [
    "Let's start by looking at how many games were released each year, excluding  games where `year_of_release == -1`.  We'll want one bin for each year; we can find this by subtracting 1 from the length of our set of years that games were released in."
   ]
  },
  {
   "cell_type": "code",
   "execution_count": null,
   "metadata": {},
   "outputs": [
    {
     "data": {
      "text/plain": [
       "36"
      ]
     },
     "execution_count": 30,
     "metadata": {},
     "output_type": "execute_result"
    }
   ],
   "source": [
    "len(set(df['year_of_release'].tolist())) - 1"
   ]
  },
  {
   "cell_type": "code",
   "execution_count": null,
   "metadata": {},
   "outputs": [],
   "source": [
    "df_known_year = df[df['year_of_release'] != -1]"
   ]
  },
  {
   "cell_type": "code",
   "execution_count": null,
   "metadata": {
    "scrolled": false
   },
   "outputs": [
    {
     "data": {
      "image/png": "[encoded data removed]",
      "text/plain": [
       "<Figure size 640x480 with 1 Axes>"
      ]
     },
     "metadata": {},
     "output_type": "display_data"
    }
   ],
   "source": [
    "df_known_year.hist(column='year_of_release', bins=37)\n",
    "plt.xlabel(xlabel='Year of Release')\n",
    "plt.ylabel('Number of Games Released')\n",
    "plt.title('Number of Games Released by Year')\n",
    "plt.show()"
   ]
  },
  {
   "cell_type": "markdown",
   "metadata": {},
   "source": [
    "At a quick glance, we can see that the number of games began a steep and steady incline around 1994, peaking at 2008.  The number of games released was nearly cut in half between 2011 and 2012."
   ]
  },
  {
   "cell_type": "markdown",
   "metadata": {},
   "source": [
    "### Sales by Platform"
   ]
  },
  {
   "cell_type": "markdown",
   "metadata": {},
   "source": [
    "Let's see how our sales vary from platform to platform.  We'll use only data where the year of release is known, as many of our determinations depends on knowing this year."
   ]
  },
  {
   "cell_type": "code",
   "execution_count": null,
   "metadata": {
    "scrolled": false
   },
   "outputs": [
    {
     "data": {
      "image/png": "[encoded data removed]",
      "text/plain": [
       "<Figure size 640x480 with 1 Axes>"
      ]
     },
     "metadata": {},
     "output_type": "display_data"
    }
   ],
   "source": [
    "dfp = df_known_year.pivot_table('total_sales', index='year_of_release', columns='platform', aggfunc='sum')\n",
    "dfp.plot().legend(fontsize=4.7)\n",
    "plt.xlabel('Year of Release')\n",
    "plt.ylabel('Total Sales (millions of USD)')\n",
    "plt.show()"
   ]
  },
  {
   "cell_type": "markdown",
   "metadata": {},
   "source": [
    "When we look at all of our platforms at once, our graph can be hard to read.  The legends is quite small, but the specific platform is not relevant for this first look.  Instead, we look at the general trends: While there are some consoles with staying power, most appear to have a lifetime.  Interestingly, the lifecycle of the platforms appears to change as the years go on, with higher peaks, but shorter lifespans.\n",
    "\n",
    "Let's examine the platforms that had the highest cumulative sales over their lifetime."
   ]
  },
  {
   "cell_type": "code",
   "execution_count": null,
   "metadata": {
    "scrolled": true
   },
   "outputs": [
    {
     "data": {
      "text/plain": [
       "platform\n",
       "PS2     1233.56\n",
       "X360     961.24\n",
       "PS3      931.34\n",
       "Wii      891.18\n",
       "DS       802.78\n",
       "PS       727.58\n",
       "PS4      314.14\n",
       "GBA      312.88\n",
       "PSP      289.53\n",
       "3DS      257.81\n",
       "PC       255.76\n",
       "GB       254.43\n",
       "XB       251.57\n",
       "NES      251.05\n",
       "N64      218.01\n",
       "SNES     200.04\n",
       "GC       196.73\n",
       "XOne     159.32\n",
       "2600      86.48\n",
       "WiiU      82.19\n",
       "PSV       53.81\n",
       "SAT       33.59\n",
       "GEN       28.35\n",
       "DC        15.95\n",
       "SCD        1.86\n",
       "NG         1.44\n",
       "WS         1.42\n",
       "TG16       0.16\n",
       "3DO        0.10\n",
       "GG         0.04\n",
       "PCFX       0.03\n",
       "Name: total_sales, dtype: float64"
      ]
     },
     "execution_count": 34,
     "metadata": {},
     "output_type": "execute_result"
    }
   ],
   "source": [
    "df_platform_sales = df_known_year.groupby('platform')['total_sales'].sum()\n",
    "df_platform_sales.sort_values(ascending=False)"
   ]
  },
  {
   "cell_type": "code",
   "execution_count": null,
   "metadata": {},
   "outputs": [
    {
     "data": {
      "text/plain": [
       "['PS2', 'X360', 'PS3', 'Wii', 'DS', 'PS', 'PS4', 'GBA', 'PSP', '3DS']"
      ]
     },
     "execution_count": 35,
     "metadata": {},
     "output_type": "execute_result"
    }
   ],
   "source": [
    "top_platform_list = df_platform_sales.sort_values(ascending=False).head(10).index.tolist()\n",
    "top_platform_list"
   ]
  },
  {
   "cell_type": "markdown",
   "metadata": {},
   "source": [
    "Using the list of top 10 platforms, we can refine our graph to the following:"
   ]
  },
  {
   "cell_type": "code",
   "execution_count": null,
   "metadata": {
    "scrolled": false
   },
   "outputs": [
    {
     "data": {
      "image/png": "[encoded data removed]",
      "text/plain": [
       "<Figure size 640x480 with 1 Axes>"
      ]
     },
     "metadata": {},
     "output_type": "display_data"
    }
   ],
   "source": [
    "dfp2 = df_known_year.query(\"platform in @top_platform_list\").pivot_table('total_sales', index='year_of_release', columns='platform', aggfunc='sum')\n",
    "dfp2.plot(xlabel='Year of Release', ylabel='Total Sales (millions of USD)')\n",
    "plt.show()"
   ]
  },
  {
   "cell_type": "markdown",
   "metadata": {},
   "source": [
    "From the graph above, it appears that the top platforms all have a lifetime of around 10 years, except for the PC.  Most peak right around 4-5 years old before sales decline at the same rate they previously grew.\n",
    "\n",
    "This makes sense logically: four of the top platforms are part of the same series (PS, PS2, PS3, PS4).  As the new generation of the console is prepared for release, the sales for previous generations fall.  The PC is a bit of an outlier.  This is likely due to the fact that there is no \"next generation\" of PCs as there is with consoles; a newer, upgraded PC with better parts is still a PC even though its performance will be better."
   ]
  },
  {
   "cell_type": "markdown",
   "metadata": {},
   "source": [
    "### Limiting our Data"
   ]
  },
  {
   "cell_type": "markdown",
   "metadata": {},
   "source": [
    "One of our goals is to plan a campaign for 2017 (next year in our world).  As such, it would make sense to understand which platforms are still actively releasing games.  Our pivot table below shows `total_sales` summed for each platform based on the `year_of_release` for games."
   ]
  },
  {
   "cell_type": "code",
   "execution_count": null,
   "metadata": {
    "scrolled": true
   },
   "outputs": [
    {
     "data": {
      "text/html": [
       "<div>\n",
       "<style scoped>\n",
       "    .dataframe tbody tr th:only-of-type {\n",
       "        vertical-align: middle;\n",
       "    }\n",
       "\n",
       "    .dataframe tbody tr th {\n",
       "        vertical-align: top;\n",
       "    }\n",
       "\n",
       "    .dataframe thead th {\n",
       "        text-align: right;\n",
       "    }\n",
       "</style>\n",
       "<table border=\"1\" class=\"dataframe\">\n",
       "  <thead>\n",
       "    <tr style=\"text-align: right;\">\n",
       "      <th>platform</th>\n",
       "      <th>2600</th>\n",
       "      <th>3DO</th>\n",
       "      <th>3DS</th>\n",
       "      <th>DC</th>\n",
       "      <th>DS</th>\n",
       "      <th>GB</th>\n",
       "      <th>GBA</th>\n",
       "      <th>GC</th>\n",
       "      <th>GEN</th>\n",
       "      <th>GG</th>\n",
       "      <th>N64</th>\n",
       "      <th>NES</th>\n",
       "      <th>NG</th>\n",
       "      <th>PC</th>\n",
       "      <th>PCFX</th>\n",
       "      <th>PS</th>\n",
       "      <th>PS2</th>\n",
       "      <th>PS3</th>\n",
       "      <th>PS4</th>\n",
       "      <th>PSP</th>\n",
       "      <th>PSV</th>\n",
       "      <th>SAT</th>\n",
       "      <th>SCD</th>\n",
       "      <th>SNES</th>\n",
       "      <th>TG16</th>\n",
       "      <th>WS</th>\n",
       "      <th>Wii</th>\n",
       "      <th>WiiU</th>\n",
       "      <th>X360</th>\n",
       "      <th>XB</th>\n",
       "      <th>XOne</th>\n",
       "    </tr>\n",
       "    <tr>\n",
       "      <th>year_of_release</th>\n",
       "      <th></th>\n",
       "      <th></th>\n",
       "      <th></th>\n",
       "      <th></th>\n",
       "      <th></th>\n",
       "      <th></th>\n",
       "      <th></th>\n",
       "      <th></th>\n",
       "      <th></th>\n",
       "      <th></th>\n",
       "      <th></th>\n",
       "      <th></th>\n",
       "      <th></th>\n",
       "      <th></th>\n",
       "      <th></th>\n",
       "      <th></th>\n",
       "      <th></th>\n",
       "      <th></th>\n",
       "      <th></th>\n",
       "      <th></th>\n",
       "      <th></th>\n",
       "      <th></th>\n",
       "      <th></th>\n",
       "      <th></th>\n",
       "      <th></th>\n",
       "      <th></th>\n",
       "      <th></th>\n",
       "      <th></th>\n",
       "      <th></th>\n",
       "      <th></th>\n",
       "      <th></th>\n",
       "    </tr>\n",
       "  </thead>\n",
       "  <tbody>\n",
       "    <tr>\n",
       "      <th>2011</th>\n",
       "      <td>NaN</td>\n",
       "      <td>NaN</td>\n",
       "      <td>63.20</td>\n",
       "      <td>NaN</td>\n",
       "      <td>26.18</td>\n",
       "      <td>NaN</td>\n",
       "      <td>NaN</td>\n",
       "      <td>NaN</td>\n",
       "      <td>NaN</td>\n",
       "      <td>NaN</td>\n",
       "      <td>NaN</td>\n",
       "      <td>NaN</td>\n",
       "      <td>NaN</td>\n",
       "      <td>35.03</td>\n",
       "      <td>NaN</td>\n",
       "      <td>NaN</td>\n",
       "      <td>0.45</td>\n",
       "      <td>156.78</td>\n",
       "      <td>NaN</td>\n",
       "      <td>17.82</td>\n",
       "      <td>4.63</td>\n",
       "      <td>NaN</td>\n",
       "      <td>NaN</td>\n",
       "      <td>NaN</td>\n",
       "      <td>NaN</td>\n",
       "      <td>NaN</td>\n",
       "      <td>59.65</td>\n",
       "      <td>NaN</td>\n",
       "      <td>143.84</td>\n",
       "      <td>NaN</td>\n",
       "      <td>NaN</td>\n",
       "    </tr>\n",
       "    <tr>\n",
       "      <th>2012</th>\n",
       "      <td>NaN</td>\n",
       "      <td>NaN</td>\n",
       "      <td>51.36</td>\n",
       "      <td>NaN</td>\n",
       "      <td>11.01</td>\n",
       "      <td>NaN</td>\n",
       "      <td>NaN</td>\n",
       "      <td>NaN</td>\n",
       "      <td>NaN</td>\n",
       "      <td>NaN</td>\n",
       "      <td>NaN</td>\n",
       "      <td>NaN</td>\n",
       "      <td>NaN</td>\n",
       "      <td>23.22</td>\n",
       "      <td>NaN</td>\n",
       "      <td>NaN</td>\n",
       "      <td>NaN</td>\n",
       "      <td>107.36</td>\n",
       "      <td>NaN</td>\n",
       "      <td>7.69</td>\n",
       "      <td>16.19</td>\n",
       "      <td>NaN</td>\n",
       "      <td>NaN</td>\n",
       "      <td>NaN</td>\n",
       "      <td>NaN</td>\n",
       "      <td>NaN</td>\n",
       "      <td>21.71</td>\n",
       "      <td>17.56</td>\n",
       "      <td>99.74</td>\n",
       "      <td>NaN</td>\n",
       "      <td>NaN</td>\n",
       "    </tr>\n",
       "    <tr>\n",
       "      <th>2013</th>\n",
       "      <td>NaN</td>\n",
       "      <td>NaN</td>\n",
       "      <td>56.57</td>\n",
       "      <td>NaN</td>\n",
       "      <td>1.54</td>\n",
       "      <td>NaN</td>\n",
       "      <td>NaN</td>\n",
       "      <td>NaN</td>\n",
       "      <td>NaN</td>\n",
       "      <td>NaN</td>\n",
       "      <td>NaN</td>\n",
       "      <td>NaN</td>\n",
       "      <td>NaN</td>\n",
       "      <td>12.38</td>\n",
       "      <td>NaN</td>\n",
       "      <td>NaN</td>\n",
       "      <td>NaN</td>\n",
       "      <td>113.25</td>\n",
       "      <td>25.99</td>\n",
       "      <td>3.14</td>\n",
       "      <td>10.59</td>\n",
       "      <td>NaN</td>\n",
       "      <td>NaN</td>\n",
       "      <td>NaN</td>\n",
       "      <td>NaN</td>\n",
       "      <td>NaN</td>\n",
       "      <td>8.59</td>\n",
       "      <td>21.65</td>\n",
       "      <td>88.58</td>\n",
       "      <td>NaN</td>\n",
       "      <td>18.96</td>\n",
       "    </tr>\n",
       "    <tr>\n",
       "      <th>2014</th>\n",
       "      <td>NaN</td>\n",
       "      <td>NaN</td>\n",
       "      <td>43.76</td>\n",
       "      <td>NaN</td>\n",
       "      <td>NaN</td>\n",
       "      <td>NaN</td>\n",
       "      <td>NaN</td>\n",
       "      <td>NaN</td>\n",
       "      <td>NaN</td>\n",
       "      <td>NaN</td>\n",
       "      <td>NaN</td>\n",
       "      <td>NaN</td>\n",
       "      <td>NaN</td>\n",
       "      <td>13.28</td>\n",
       "      <td>NaN</td>\n",
       "      <td>NaN</td>\n",
       "      <td>NaN</td>\n",
       "      <td>47.76</td>\n",
       "      <td>100.00</td>\n",
       "      <td>0.24</td>\n",
       "      <td>11.90</td>\n",
       "      <td>NaN</td>\n",
       "      <td>NaN</td>\n",
       "      <td>NaN</td>\n",
       "      <td>NaN</td>\n",
       "      <td>NaN</td>\n",
       "      <td>3.75</td>\n",
       "      <td>22.03</td>\n",
       "      <td>34.74</td>\n",
       "      <td>NaN</td>\n",
       "      <td>54.07</td>\n",
       "    </tr>\n",
       "    <tr>\n",
       "      <th>2015</th>\n",
       "      <td>NaN</td>\n",
       "      <td>NaN</td>\n",
       "      <td>27.78</td>\n",
       "      <td>NaN</td>\n",
       "      <td>NaN</td>\n",
       "      <td>NaN</td>\n",
       "      <td>NaN</td>\n",
       "      <td>NaN</td>\n",
       "      <td>NaN</td>\n",
       "      <td>NaN</td>\n",
       "      <td>NaN</td>\n",
       "      <td>NaN</td>\n",
       "      <td>NaN</td>\n",
       "      <td>8.52</td>\n",
       "      <td>NaN</td>\n",
       "      <td>NaN</td>\n",
       "      <td>NaN</td>\n",
       "      <td>16.82</td>\n",
       "      <td>118.90</td>\n",
       "      <td>0.12</td>\n",
       "      <td>6.25</td>\n",
       "      <td>NaN</td>\n",
       "      <td>NaN</td>\n",
       "      <td>NaN</td>\n",
       "      <td>NaN</td>\n",
       "      <td>NaN</td>\n",
       "      <td>1.14</td>\n",
       "      <td>16.35</td>\n",
       "      <td>11.96</td>\n",
       "      <td>NaN</td>\n",
       "      <td>60.14</td>\n",
       "    </tr>\n",
       "    <tr>\n",
       "      <th>2016</th>\n",
       "      <td>NaN</td>\n",
       "      <td>NaN</td>\n",
       "      <td>15.14</td>\n",
       "      <td>NaN</td>\n",
       "      <td>NaN</td>\n",
       "      <td>NaN</td>\n",
       "      <td>NaN</td>\n",
       "      <td>NaN</td>\n",
       "      <td>NaN</td>\n",
       "      <td>NaN</td>\n",
       "      <td>NaN</td>\n",
       "      <td>NaN</td>\n",
       "      <td>NaN</td>\n",
       "      <td>5.25</td>\n",
       "      <td>NaN</td>\n",
       "      <td>NaN</td>\n",
       "      <td>NaN</td>\n",
       "      <td>3.60</td>\n",
       "      <td>69.25</td>\n",
       "      <td>NaN</td>\n",
       "      <td>4.25</td>\n",
       "      <td>NaN</td>\n",
       "      <td>NaN</td>\n",
       "      <td>NaN</td>\n",
       "      <td>NaN</td>\n",
       "      <td>NaN</td>\n",
       "      <td>0.18</td>\n",
       "      <td>4.60</td>\n",
       "      <td>1.52</td>\n",
       "      <td>NaN</td>\n",
       "      <td>26.15</td>\n",
       "    </tr>\n",
       "  </tbody>\n",
       "</table>\n",
       "</div>"
      ],
      "text/plain": [
       "platform         2600  3DO    3DS  DC     DS  GB  GBA  GC  GEN  GG  N64  NES  \\\n",
       "year_of_release                                                                \n",
       "2011              NaN  NaN  63.20 NaN  26.18 NaN  NaN NaN  NaN NaN  NaN  NaN   \n",
       "2012              NaN  NaN  51.36 NaN  11.01 NaN  NaN NaN  NaN NaN  NaN  NaN   \n",
       "2013              NaN  NaN  56.57 NaN   1.54 NaN  NaN NaN  NaN NaN  NaN  NaN   \n",
       "2014              NaN  NaN  43.76 NaN    NaN NaN  NaN NaN  NaN NaN  NaN  NaN   \n",
       "2015              NaN  NaN  27.78 NaN    NaN NaN  NaN NaN  NaN NaN  NaN  NaN   \n",
       "2016              NaN  NaN  15.14 NaN    NaN NaN  NaN NaN  NaN NaN  NaN  NaN   \n",
       "\n",
       "platform         NG     PC  PCFX  PS   PS2     PS3     PS4    PSP    PSV  SAT  \\\n",
       "year_of_release                                                                 \n",
       "2011            NaN  35.03   NaN NaN  0.45  156.78     NaN  17.82   4.63  NaN   \n",
       "2012            NaN  23.22   NaN NaN   NaN  107.36     NaN   7.69  16.19  NaN   \n",
       "2013            NaN  12.38   NaN NaN   NaN  113.25   25.99   3.14  10.59  NaN   \n",
       "2014            NaN  13.28   NaN NaN   NaN   47.76  100.00   0.24  11.90  NaN   \n",
       "2015            NaN   8.52   NaN NaN   NaN   16.82  118.90   0.12   6.25  NaN   \n",
       "2016            NaN   5.25   NaN NaN   NaN    3.60   69.25    NaN   4.25  NaN   \n",
       "\n",
       "platform         SCD  SNES  TG16  WS    Wii   WiiU    X360  XB   XOne  \n",
       "year_of_release                                                        \n",
       "2011             NaN   NaN   NaN NaN  59.65    NaN  143.84 NaN    NaN  \n",
       "2012             NaN   NaN   NaN NaN  21.71  17.56   99.74 NaN    NaN  \n",
       "2013             NaN   NaN   NaN NaN   8.59  21.65   88.58 NaN  18.96  \n",
       "2014             NaN   NaN   NaN NaN   3.75  22.03   34.74 NaN  54.07  \n",
       "2015             NaN   NaN   NaN NaN   1.14  16.35   11.96 NaN  60.14  \n",
       "2016             NaN   NaN   NaN NaN   0.18   4.60    1.52 NaN  26.15  "
      ]
     },
     "metadata": {},
     "output_type": "display_data"
    }
   ],
   "source": [
    "#determine which platform is leading in sales, determine which are shrinking vs growing\n",
    "with pd.option_context('display.max_columns', None):display(dfp.tail(6))"
   ]
  },
  {
   "cell_type": "markdown",
   "metadata": {},
   "source": [
    "We can see that many platforms no longer have new games being made."
   ]
  },
  {
   "cell_type": "code",
   "execution_count": null,
   "metadata": {},
   "outputs": [
    {
     "data": {
      "text/plain": [
       "['3DS', 'PC', 'PS3', 'PS4', 'PSV', 'Wii', 'WiiU', 'X360', 'XOne']"
      ]
     },
     "execution_count": 38,
     "metadata": {},
     "output_type": "execute_result"
    }
   ],
   "source": [
    "not_null_plats = dfp.iloc[-1].notnull().index[dfp.iloc[-1].notnull()].tolist()\n",
    "not_null_plats "
   ]
  },
  {
   "cell_type": "markdown",
   "metadata": {},
   "source": [
    "Let's now look at our pivot table once more, this time only with platforms that had games released in 2016."
   ]
  },
  {
   "cell_type": "code",
   "execution_count": null,
   "metadata": {},
   "outputs": [
    {
     "data": {
      "text/html": [
       "<div>\n",
       "<style scoped>\n",
       "    .dataframe tbody tr th:only-of-type {\n",
       "        vertical-align: middle;\n",
       "    }\n",
       "\n",
       "    .dataframe tbody tr th {\n",
       "        vertical-align: top;\n",
       "    }\n",
       "\n",
       "    .dataframe thead th {\n",
       "        text-align: right;\n",
       "    }\n",
       "</style>\n",
       "<table border=\"1\" class=\"dataframe\">\n",
       "  <thead>\n",
       "    <tr style=\"text-align: right;\">\n",
       "      <th>platform</th>\n",
       "      <th>3DS</th>\n",
       "      <th>PC</th>\n",
       "      <th>PS3</th>\n",
       "      <th>PS4</th>\n",
       "      <th>PSV</th>\n",
       "      <th>Wii</th>\n",
       "      <th>WiiU</th>\n",
       "      <th>X360</th>\n",
       "      <th>XOne</th>\n",
       "    </tr>\n",
       "    <tr>\n",
       "      <th>year_of_release</th>\n",
       "      <th></th>\n",
       "      <th></th>\n",
       "      <th></th>\n",
       "      <th></th>\n",
       "      <th></th>\n",
       "      <th></th>\n",
       "      <th></th>\n",
       "      <th></th>\n",
       "      <th></th>\n",
       "    </tr>\n",
       "  </thead>\n",
       "  <tbody>\n",
       "    <tr>\n",
       "      <th>2012</th>\n",
       "      <td>51.36</td>\n",
       "      <td>23.22</td>\n",
       "      <td>107.36</td>\n",
       "      <td>NaN</td>\n",
       "      <td>16.19</td>\n",
       "      <td>21.71</td>\n",
       "      <td>17.56</td>\n",
       "      <td>99.74</td>\n",
       "      <td>NaN</td>\n",
       "    </tr>\n",
       "    <tr>\n",
       "      <th>2013</th>\n",
       "      <td>56.57</td>\n",
       "      <td>12.38</td>\n",
       "      <td>113.25</td>\n",
       "      <td>25.99</td>\n",
       "      <td>10.59</td>\n",
       "      <td>8.59</td>\n",
       "      <td>21.65</td>\n",
       "      <td>88.58</td>\n",
       "      <td>18.96</td>\n",
       "    </tr>\n",
       "    <tr>\n",
       "      <th>2014</th>\n",
       "      <td>43.76</td>\n",
       "      <td>13.28</td>\n",
       "      <td>47.76</td>\n",
       "      <td>100.00</td>\n",
       "      <td>11.90</td>\n",
       "      <td>3.75</td>\n",
       "      <td>22.03</td>\n",
       "      <td>34.74</td>\n",
       "      <td>54.07</td>\n",
       "    </tr>\n",
       "    <tr>\n",
       "      <th>2015</th>\n",
       "      <td>27.78</td>\n",
       "      <td>8.52</td>\n",
       "      <td>16.82</td>\n",
       "      <td>118.90</td>\n",
       "      <td>6.25</td>\n",
       "      <td>1.14</td>\n",
       "      <td>16.35</td>\n",
       "      <td>11.96</td>\n",
       "      <td>60.14</td>\n",
       "    </tr>\n",
       "    <tr>\n",
       "      <th>2016</th>\n",
       "      <td>15.14</td>\n",
       "      <td>5.25</td>\n",
       "      <td>3.60</td>\n",
       "      <td>69.25</td>\n",
       "      <td>4.25</td>\n",
       "      <td>0.18</td>\n",
       "      <td>4.60</td>\n",
       "      <td>1.52</td>\n",
       "      <td>26.15</td>\n",
       "    </tr>\n",
       "  </tbody>\n",
       "</table>\n",
       "</div>"
      ],
      "text/plain": [
       "platform           3DS     PC     PS3     PS4    PSV    Wii   WiiU   X360  \\\n",
       "year_of_release                                                             \n",
       "2012             51.36  23.22  107.36     NaN  16.19  21.71  17.56  99.74   \n",
       "2013             56.57  12.38  113.25   25.99  10.59   8.59  21.65  88.58   \n",
       "2014             43.76  13.28   47.76  100.00  11.90   3.75  22.03  34.74   \n",
       "2015             27.78   8.52   16.82  118.90   6.25   1.14  16.35  11.96   \n",
       "2016             15.14   5.25    3.60   69.25   4.25   0.18   4.60   1.52   \n",
       "\n",
       "platform          XOne  \n",
       "year_of_release         \n",
       "2012               NaN  \n",
       "2013             18.96  \n",
       "2014             54.07  \n",
       "2015             60.14  \n",
       "2016             26.15  "
      ]
     },
     "execution_count": 39,
     "metadata": {},
     "output_type": "execute_result"
    }
   ],
   "source": [
    "dfp_final = df_known_year.query('platform in @not_null_plats').pivot_table('total_sales', index='year_of_release', columns='platform', aggfunc='sum')\n",
    "dfp_final.tail(5)"
   ]
  },
  {
   "cell_type": "markdown",
   "metadata": {},
   "source": [
    "From our table, we can see that games released in 2016 had the highest sales on the `PS4` platform.  Newer games seem to sell only on a few platforms: `3DS, PS4, and XOne`.  The `WiiU` has moderate sales for games in 2016.  Other consoles (except for `PC`) have relative low sales of games released in 2016.  This likely indicates that these consoles are approaching the end of their life cycle."
   ]
  },
  {
   "cell_type": "markdown",
   "metadata": {},
   "source": [
    "More importantly, we should focus on data that comes only after the market stablized.  The number of games sold per year leveled off around 2012.  Let's reduced our data from this point forward to only include information from games that were released in 2012 or later."
   ]
  },
  {
   "cell_type": "code",
   "execution_count": null,
   "metadata": {},
   "outputs": [],
   "source": [
    "df_reduced_years = df[df['year_of_release'] > 2011]"
   ]
  },
  {
   "cell_type": "code",
   "execution_count": null,
   "metadata": {},
   "outputs": [
    {
     "data": {
      "text/html": [
       "<div>\n",
       "<style scoped>\n",
       "    .dataframe tbody tr th:only-of-type {\n",
       "        vertical-align: middle;\n",
       "    }\n",
       "\n",
       "    .dataframe tbody tr th {\n",
       "        vertical-align: top;\n",
       "    }\n",
       "\n",
       "    .dataframe thead th {\n",
       "        text-align: right;\n",
       "    }\n",
       "</style>\n",
       "<table border=\"1\" class=\"dataframe\">\n",
       "  <thead>\n",
       "    <tr style=\"text-align: right;\">\n",
       "      <th></th>\n",
       "      <th>name</th>\n",
       "      <th>platform</th>\n",
       "      <th>year_of_release</th>\n",
       "      <th>genre</th>\n",
       "      <th>na_sales</th>\n",
       "      <th>eu_sales</th>\n",
       "      <th>jp_sales</th>\n",
       "      <th>other_sales</th>\n",
       "      <th>critic_score</th>\n",
       "      <th>user_score</th>\n",
       "      <th>rating</th>\n",
       "      <th>st_user_score</th>\n",
       "      <th>total_sales</th>\n",
       "    </tr>\n",
       "  </thead>\n",
       "  <tbody>\n",
       "    <tr>\n",
       "      <th>16</th>\n",
       "      <td>Grand Theft Auto V</td>\n",
       "      <td>PS3</td>\n",
       "      <td>2013</td>\n",
       "      <td>Action</td>\n",
       "      <td>7.02</td>\n",
       "      <td>9.09</td>\n",
       "      <td>0.98</td>\n",
       "      <td>3.96</td>\n",
       "      <td>97</td>\n",
       "      <td>8.2</td>\n",
       "      <td>M</td>\n",
       "      <td>82</td>\n",
       "      <td>21.05</td>\n",
       "    </tr>\n",
       "    <tr>\n",
       "      <th>23</th>\n",
       "      <td>Grand Theft Auto V</td>\n",
       "      <td>X360</td>\n",
       "      <td>2013</td>\n",
       "      <td>Action</td>\n",
       "      <td>9.66</td>\n",
       "      <td>5.14</td>\n",
       "      <td>0.06</td>\n",
       "      <td>1.41</td>\n",
       "      <td>97</td>\n",
       "      <td>8.1</td>\n",
       "      <td>M</td>\n",
       "      <td>81</td>\n",
       "      <td>16.27</td>\n",
       "    </tr>\n",
       "    <tr>\n",
       "      <th>31</th>\n",
       "      <td>Call of Duty: Black Ops 3</td>\n",
       "      <td>PS4</td>\n",
       "      <td>2015</td>\n",
       "      <td>Shooter</td>\n",
       "      <td>6.03</td>\n",
       "      <td>5.86</td>\n",
       "      <td>0.36</td>\n",
       "      <td>2.38</td>\n",
       "      <td>-1</td>\n",
       "      <td>-1.0</td>\n",
       "      <td>unrated</td>\n",
       "      <td>-1</td>\n",
       "      <td>14.63</td>\n",
       "    </tr>\n",
       "    <tr>\n",
       "      <th>33</th>\n",
       "      <td>Pokemon X/Pokemon Y</td>\n",
       "      <td>3DS</td>\n",
       "      <td>2013</td>\n",
       "      <td>Role-Playing</td>\n",
       "      <td>5.28</td>\n",
       "      <td>4.19</td>\n",
       "      <td>4.35</td>\n",
       "      <td>0.78</td>\n",
       "      <td>-1</td>\n",
       "      <td>-1.0</td>\n",
       "      <td>unrated</td>\n",
       "      <td>-1</td>\n",
       "      <td>14.60</td>\n",
       "    </tr>\n",
       "    <tr>\n",
       "      <th>34</th>\n",
       "      <td>Call of Duty: Black Ops II</td>\n",
       "      <td>PS3</td>\n",
       "      <td>2012</td>\n",
       "      <td>Shooter</td>\n",
       "      <td>4.99</td>\n",
       "      <td>5.73</td>\n",
       "      <td>0.65</td>\n",
       "      <td>2.42</td>\n",
       "      <td>83</td>\n",
       "      <td>5.3</td>\n",
       "      <td>M</td>\n",
       "      <td>53</td>\n",
       "      <td>13.79</td>\n",
       "    </tr>\n",
       "    <tr>\n",
       "      <th>...</th>\n",
       "      <td>...</td>\n",
       "      <td>...</td>\n",
       "      <td>...</td>\n",
       "      <td>...</td>\n",
       "      <td>...</td>\n",
       "      <td>...</td>\n",
       "      <td>...</td>\n",
       "      <td>...</td>\n",
       "      <td>...</td>\n",
       "      <td>...</td>\n",
       "      <td>...</td>\n",
       "      <td>...</td>\n",
       "      <td>...</td>\n",
       "    </tr>\n",
       "    <tr>\n",
       "      <th>16703</th>\n",
       "      <td>Strawberry Nauts</td>\n",
       "      <td>PSV</td>\n",
       "      <td>2016</td>\n",
       "      <td>Adventure</td>\n",
       "      <td>0.00</td>\n",
       "      <td>0.00</td>\n",
       "      <td>0.01</td>\n",
       "      <td>0.00</td>\n",
       "      <td>-1</td>\n",
       "      <td>-1.0</td>\n",
       "      <td>unrated</td>\n",
       "      <td>-1</td>\n",
       "      <td>0.01</td>\n",
       "    </tr>\n",
       "    <tr>\n",
       "      <th>16707</th>\n",
       "      <td>Aiyoku no Eustia</td>\n",
       "      <td>PSV</td>\n",
       "      <td>2014</td>\n",
       "      <td>Misc</td>\n",
       "      <td>0.00</td>\n",
       "      <td>0.00</td>\n",
       "      <td>0.01</td>\n",
       "      <td>0.00</td>\n",
       "      <td>-1</td>\n",
       "      <td>-1.0</td>\n",
       "      <td>unrated</td>\n",
       "      <td>-1</td>\n",
       "      <td>0.01</td>\n",
       "    </tr>\n",
       "    <tr>\n",
       "      <th>16710</th>\n",
       "      <td>Samurai Warriors: Sanada Maru</td>\n",
       "      <td>PS3</td>\n",
       "      <td>2016</td>\n",
       "      <td>Action</td>\n",
       "      <td>0.00</td>\n",
       "      <td>0.00</td>\n",
       "      <td>0.01</td>\n",
       "      <td>0.00</td>\n",
       "      <td>-1</td>\n",
       "      <td>-1.0</td>\n",
       "      <td>unrated</td>\n",
       "      <td>-1</td>\n",
       "      <td>0.01</td>\n",
       "    </tr>\n",
       "    <tr>\n",
       "      <th>16712</th>\n",
       "      <td>Haitaka no Psychedelica</td>\n",
       "      <td>PSV</td>\n",
       "      <td>2016</td>\n",
       "      <td>Adventure</td>\n",
       "      <td>0.00</td>\n",
       "      <td>0.00</td>\n",
       "      <td>0.01</td>\n",
       "      <td>0.00</td>\n",
       "      <td>-1</td>\n",
       "      <td>-1.0</td>\n",
       "      <td>unrated</td>\n",
       "      <td>-1</td>\n",
       "      <td>0.01</td>\n",
       "    </tr>\n",
       "    <tr>\n",
       "      <th>16714</th>\n",
       "      <td>Winning Post 8 2016</td>\n",
       "      <td>PSV</td>\n",
       "      <td>2016</td>\n",
       "      <td>Simulation</td>\n",
       "      <td>0.00</td>\n",
       "      <td>0.00</td>\n",
       "      <td>0.01</td>\n",
       "      <td>0.00</td>\n",
       "      <td>-1</td>\n",
       "      <td>-1.0</td>\n",
       "      <td>unrated</td>\n",
       "      <td>-1</td>\n",
       "      <td>0.01</td>\n",
       "    </tr>\n",
       "  </tbody>\n",
       "</table>\n",
       "<p>2886 rows × 13 columns</p>\n",
       "</div>"
      ],
      "text/plain": [
       "                                name platform  year_of_release         genre  \\\n",
       "16                Grand Theft Auto V      PS3             2013        Action   \n",
       "23                Grand Theft Auto V     X360             2013        Action   \n",
       "31         Call of Duty: Black Ops 3      PS4             2015       Shooter   \n",
       "33               Pokemon X/Pokemon Y      3DS             2013  Role-Playing   \n",
       "34        Call of Duty: Black Ops II      PS3             2012       Shooter   \n",
       "...                              ...      ...              ...           ...   \n",
       "16703               Strawberry Nauts      PSV             2016     Adventure   \n",
       "16707               Aiyoku no Eustia      PSV             2014          Misc   \n",
       "16710  Samurai Warriors: Sanada Maru      PS3             2016        Action   \n",
       "16712        Haitaka no Psychedelica      PSV             2016     Adventure   \n",
       "16714            Winning Post 8 2016      PSV             2016    Simulation   \n",
       "\n",
       "       na_sales  eu_sales  jp_sales  other_sales  critic_score  user_score  \\\n",
       "16         7.02      9.09      0.98         3.96            97         8.2   \n",
       "23         9.66      5.14      0.06         1.41            97         8.1   \n",
       "31         6.03      5.86      0.36         2.38            -1        -1.0   \n",
       "33         5.28      4.19      4.35         0.78            -1        -1.0   \n",
       "34         4.99      5.73      0.65         2.42            83         5.3   \n",
       "...         ...       ...       ...          ...           ...         ...   \n",
       "16703      0.00      0.00      0.01         0.00            -1        -1.0   \n",
       "16707      0.00      0.00      0.01         0.00            -1        -1.0   \n",
       "16710      0.00      0.00      0.01         0.00            -1        -1.0   \n",
       "16712      0.00      0.00      0.01         0.00            -1        -1.0   \n",
       "16714      0.00      0.00      0.01         0.00            -1        -1.0   \n",
       "\n",
       "        rating  st_user_score  total_sales  \n",
       "16           M             82        21.05  \n",
       "23           M             81        16.27  \n",
       "31     unrated             -1        14.63  \n",
       "33     unrated             -1        14.60  \n",
       "34           M             53        13.79  \n",
       "...        ...            ...          ...  \n",
       "16703  unrated             -1         0.01  \n",
       "16707  unrated             -1         0.01  \n",
       "16710  unrated             -1         0.01  \n",
       "16712  unrated             -1         0.01  \n",
       "16714  unrated             -1         0.01  \n",
       "\n",
       "[2886 rows x 13 columns]"
      ]
     },
     "execution_count": 41,
     "metadata": {},
     "output_type": "execute_result"
    }
   ],
   "source": [
    "df_reduced_years"
   ]
  },
  {
   "cell_type": "markdown",
   "metadata": {},
   "source": [
    "### Sales of Games by Platform"
   ]
  },
  {
   "cell_type": "markdown",
   "metadata": {},
   "source": [
    "Let's look at how individual games made after 2011 sell worldwide for each platform."
   ]
  },
  {
   "cell_type": "code",
   "execution_count": null,
   "metadata": {
    "scrolled": false
   },
   "outputs": [
    {
     "data": {
      "image/png": "[encoded data removed]",
      "text/plain": [
       "<Figure size 640x480 with 1 Axes>"
      ]
     },
     "metadata": {},
     "output_type": "display_data"
    }
   ],
   "source": [
    "box_fig = sns.boxplot(x=df_reduced_years['total_sales'], y=df_reduced_years['platform'], order=['PS3','X360','PS4','XOne','DS','Wii','3DS','WiiU','PC','PSV','PSP'])\n",
    "plt.xlabel('Total Sales (millions of USD)')\n",
    "plt.show()"
   ]
  },
  {
   "cell_type": "markdown",
   "metadata": {},
   "source": [
    "We can see that the PS3 had the single best selling game that was released after 2011.  Our data is heavily consolidated in the 0-5 million range for sales.  Let's take a closer look at what is happening in the lower range."
   ]
  },
  {
   "cell_type": "code",
   "execution_count": null,
   "metadata": {},
   "outputs": [
    {
     "data": {
      "image/png": "[encoded data removed]",
      "text/plain": [
       "<Figure size 640x480 with 1 Axes>"
      ]
     },
     "metadata": {},
     "output_type": "display_data"
    }
   ],
   "source": [
    "sns.boxplot(x=df_reduced_years['total_sales'], y=df_reduced_years['platform'], order=['PS3','X360','PS4','XOne','DS','Wii','3DS','WiiU','PC','PSV','PSP'])\n",
    "plt.xlim(0,5)\n",
    "plt.xlabel('Total Sales (millions of USD)')\n",
    "plt.show()"
   ]
  },
  {
   "cell_type": "markdown",
   "metadata": {},
   "source": [
    "The `DS` and `PSP` are both smaller systems where the average game does not sell well (compared to other systems in our graph).  \n",
    "The Xbox 360 has the highest median of all systems in the visualization.  In other words, the top 50% of games sold on the Xbox 360 brought in more revenue per game than the top 50% of any other system.\n",
    "\n",
    "The `3DS` stands out as unique.  75& of the games sold on the 3DS (with our designated release years) bring in less than 0.5 million in total sales, but the platform has a large number of outliers with high total sales. From our first visualization, we can see that the largest outlier for the `3DS` was the third/fourth-best-selling game (very close to PS4 outlier of same sales) of all games released between 2012-2016."
   ]
  },
  {
   "cell_type": "markdown",
   "metadata": {},
   "source": [
    "### Correlation between Critic/User Scores and Total Sales"
   ]
  },
  {
   "cell_type": "markdown",
   "metadata": {},
   "source": [
    "We'll take our `critic_score` and `user_score` columns into account next.  Let's see how these columns affect our `total_sales`.  We'd expect that the higher a game scores, the more it will sell.  Perhaps a user rating will be more effective than critic scores, as users may tend to rate a game based on general feeling of entertainment when compared to a critic working through a structured list of observations.  We'll first examine the Xbox 360 on its own."
   ]
  },
  {
   "cell_type": "code",
   "execution_count": null,
   "metadata": {},
   "outputs": [],
   "source": [
    "df_360u = df_reduced_years[df_reduced_years['user_score'] != -1]\n",
    "df_360u = df_360u[df_360u.platform.isin(['X360'])]"
   ]
  },
  {
   "cell_type": "code",
   "execution_count": null,
   "metadata": {
    "scrolled": false
   },
   "outputs": [
    {
     "data": {
      "image/png": "[encoded data removed]",
      "text/plain": [
       "<Figure size 640x480 with 1 Axes>"
      ]
     },
     "metadata": {},
     "output_type": "display_data"
    }
   ],
   "source": [
    "df_360u.plot(kind='scatter', x='user_score', y='total_sales', xlabel='User Score', ylabel='Total Sales (millions of USD)')\n",
    "plt.show()"
   ]
  },
  {
   "cell_type": "code",
   "execution_count": null,
   "metadata": {},
   "outputs": [
    {
     "data": {
      "text/plain": [
       "0.006163978646213326"
      ]
     },
     "execution_count": 46,
     "metadata": {},
     "output_type": "execute_result"
    }
   ],
   "source": [
    "df_360u.user_score.corr(df_360u.total_sales)"
   ]
  },
  {
   "cell_type": "markdown",
   "metadata": {},
   "source": [
    "The user score of a game on the Xbox 360 has no correlation with the total sales that a game produces."
   ]
  },
  {
   "cell_type": "code",
   "execution_count": null,
   "metadata": {},
   "outputs": [],
   "source": [
    "df_360c = df_reduced_years[df_reduced_years['critic_score'] != -1]\n",
    "df_360c = df_360c[df_360c.platform.isin(['X360'])]"
   ]
  },
  {
   "cell_type": "code",
   "execution_count": null,
   "metadata": {
    "scrolled": false
   },
   "outputs": [
    {
     "data": {
      "image/png": "[encoded data removed]",
      "text/plain": [
       "<Figure size 640x480 with 1 Axes>"
      ]
     },
     "metadata": {},
     "output_type": "display_data"
    }
   ],
   "source": [
    "df_360c.plot(kind='scatter', x='critic_score', y='total_sales', xlabel='Critic Score', ylabel='Total Sales (millions of USD)')\n",
    "plt.show()"
   ]
  },
  {
   "cell_type": "code",
   "execution_count": null,
   "metadata": {},
   "outputs": [
    {
     "data": {
      "text/plain": [
       "0.3605734888507336"
      ]
     },
     "execution_count": 49,
     "metadata": {},
     "output_type": "execute_result"
    }
   ],
   "source": [
    "df_360c.critic_score.corr(df_360c.total_sales)"
   ]
  },
  {
   "cell_type": "markdown",
   "metadata": {},
   "source": [
    "While our user score had no correlation with total sales, we can say that the Critic Score has a weak-to-moderate positive correlation on the Total Sales of a game.  Correllation does not equal causation, but it would be reasonable to say that there is a possible chance that a good Critic Score positively effects how well a game sells."
   ]
  },
  {
   "cell_type": "markdown",
   "metadata": {},
   "source": [
    "### Sales of the Same Game Across Different Platforms"
   ]
  },
  {
   "cell_type": "markdown",
   "metadata": {},
   "source": [
    "Let's see how these scores affect sales with other platforms.  We'll look at the Xbox One next."
   ]
  },
  {
   "cell_type": "code",
   "execution_count": null,
   "metadata": {},
   "outputs": [],
   "source": [
    "df_xoneu = df_reduced_years[df_reduced_years['user_score'] != -1]\n",
    "df_xoneu = df_xoneu[df_xoneu.platform.isin(['XOne'])]"
   ]
  },
  {
   "cell_type": "code",
   "execution_count": null,
   "metadata": {
    "scrolled": false
   },
   "outputs": [
    {
     "data": {
      "image/png": "[encoded data removed]",
      "text/plain": [
       "<Figure size 640x480 with 1 Axes>"
      ]
     },
     "metadata": {},
     "output_type": "display_data"
    }
   ],
   "source": [
    "df_xoneu.plot(kind='scatter', x='user_score', y='total_sales', xlabel='User Score', ylabel='Total Sales (millions of USD)')\n",
    "plt.show()"
   ]
  },
  {
   "cell_type": "code",
   "execution_count": null,
   "metadata": {},
   "outputs": [
    {
     "data": {
      "text/plain": [
       "-0.06892505328279414"
      ]
     },
     "execution_count": 52,
     "metadata": {},
     "output_type": "execute_result"
    }
   ],
   "source": [
    "df_xoneu.user_score.corr(df_xoneu.total_sales)"
   ]
  },
  {
   "cell_type": "code",
   "execution_count": null,
   "metadata": {},
   "outputs": [],
   "source": [
    "df_xonec = df_reduced_years[df_reduced_years['critic_score'] != -1]\n",
    "df_xonec = df_xonec[df_xonec.platform.isin(['XOne'])]"
   ]
  },
  {
   "cell_type": "code",
   "execution_count": null,
   "metadata": {
    "scrolled": false
   },
   "outputs": [
    {
     "data": {
      "image/png": "[encoded data removed]",
      "text/plain": [
       "<Figure size 640x480 with 1 Axes>"
      ]
     },
     "metadata": {},
     "output_type": "display_data"
    }
   ],
   "source": [
    "df_xonec.plot(kind='scatter', x='critic_score', y='total_sales', xlabel='Critic Score', ylabel='Total Sales (millions of USD)')\n",
    "plt.show()"
   ]
  },
  {
   "cell_type": "code",
   "execution_count": null,
   "metadata": {
    "scrolled": true
   },
   "outputs": [
    {
     "data": {
      "text/plain": [
       "0.4169983280084017"
      ]
     },
     "execution_count": 55,
     "metadata": {},
     "output_type": "execute_result"
    }
   ],
   "source": [
    "df_xonec.critic_score.corr(df_xonec.total_sales)"
   ]
  },
  {
   "cell_type": "markdown",
   "metadata": {},
   "source": [
    "Similarly to the Xbox 360, the User Scores for Xbox One games seems to have almost no correlation on total sales of the games.  If anything, there is a very weak negative correlation.  The Critic Score has a moderate positive correlation on the total sales of the game, just like with the 360."
   ]
  },
  {
   "cell_type": "markdown",
   "metadata": {},
   "source": [
    "Let's examine the 3DS next, as this platform had one of the more unique box plots."
   ]
  },
  {
   "cell_type": "code",
   "execution_count": null,
   "metadata": {
    "scrolled": true
   },
   "outputs": [],
   "source": [
    "df_3dsu = df_reduced_years[df_reduced_years['user_score'] != -1]\n",
    "df_3dsu = df_3dsu[df_3dsu.platform.isin(['3DS'])]"
   ]
  },
  {
   "cell_type": "code",
   "execution_count": null,
   "metadata": {},
   "outputs": [
    {
     "data": {
      "image/png": "[encoded data removed]",
      "text/plain": [
       "<Figure size 640x480 with 1 Axes>"
      ]
     },
     "metadata": {},
     "output_type": "display_data"
    }
   ],
   "source": [
    "df_3dsu.plot(kind='scatter', x='user_score', y='total_sales', xlabel='User Score', ylabel='Total Sales (millions of USD)')\n",
    "plt.show()"
   ]
  },
  {
   "cell_type": "code",
   "execution_count": null,
   "metadata": {},
   "outputs": [
    {
     "data": {
      "text/plain": [
       "0.19758263411038599"
      ]
     },
     "execution_count": 58,
     "metadata": {},
     "output_type": "execute_result"
    }
   ],
   "source": [
    "df_3dsu.user_score.corr(df_3dsu.total_sales)"
   ]
  },
  {
   "cell_type": "code",
   "execution_count": null,
   "metadata": {},
   "outputs": [],
   "source": [
    "df_3dsc = df_reduced_years[df_reduced_years['critic_score'] != -1]\n",
    "df_3dsc = df_3dsc[df_3dsc.platform.isin(['3DS'])]"
   ]
  },
  {
   "cell_type": "code",
   "execution_count": null,
   "metadata": {},
   "outputs": [
    {
     "data": {
      "image/png": "[encoded data removed]",
      "text/plain": [
       "<Figure size 640x480 with 1 Axes>"
      ]
     },
     "metadata": {},
     "output_type": "display_data"
    }
   ],
   "source": [
    "df_3dsc.plot(kind='scatter', x='critic_score', y='total_sales', xlabel='Critic Score', ylabel='Total Sales (millions of USD)')\n",
    "plt.show()"
   ]
  },
  {
   "cell_type": "code",
   "execution_count": null,
   "metadata": {},
   "outputs": [
    {
     "data": {
      "text/plain": [
       "0.3208028695360785"
      ]
     },
     "execution_count": 61,
     "metadata": {},
     "output_type": "execute_result"
    }
   ],
   "source": [
    "df_3dsc.critic_score.corr(df_3dsc.total_sales)"
   ]
  },
  {
   "cell_type": "markdown",
   "metadata": {},
   "source": [
    "The 3DS has a different trend than the Xbox Consoles do.  User score appears to have a weak positive correlation to total sales of a game.  The critic score also has a weak positive correlation to total sales, but this correlation coefficient is less than those of the Xbox Consoles.  Perhaps gamers that play 3DS games care much more about how other gamers score the games they play."
   ]
  },
  {
   "cell_type": "markdown",
   "metadata": {},
   "source": [
    "### Game Genre's Effect on Sales"
   ]
  },
  {
   "cell_type": "code",
   "execution_count": null,
   "metadata": {
    "scrolled": false
   },
   "outputs": [
    {
     "data": {
      "text/plain": [
       "\"\\ngenre_sales = df_reduced_plats.groupby('genre', as_index=False)['total_sales'].sum()\\nsns.barplot(x='total_sales', y='genre', data=df_reduced_plats, estimator=np.median, ci=None)\\ndisplay(genre_sales)\\nplt.xlabel('Median Total Sales (millions of USD)')\\nplt.show()\\n\""
      ]
     },
     "execution_count": 62,
     "metadata": {},
     "output_type": "execute_result"
    }
   ],
   "source": [
    "#Original attempt reserved per comments made\n",
    "'''\n",
    "genre_sales = df_reduced_plats.groupby('genre', as_index=False)['total_sales'].sum()\n",
    "sns.barplot(x='total_sales', y='genre', data=df_reduced_plats, estimator=np.median, ci=None)\n",
    "display(genre_sales)\n",
    "plt.xlabel('Median Total Sales (millions of USD)')\n",
    "plt.show()\n",
    "'''"
   ]
  },
  {
   "cell_type": "markdown",
   "metadata": {},
   "source": [
    "Let's examine how the `genre` may affect sales. "
   ]
  },
  {
   "cell_type": "code",
   "execution_count": null,
   "metadata": {},
   "outputs": [
    {
     "data": {
      "text/html": [
       "<div>\n",
       "<style scoped>\n",
       "    .dataframe tbody tr th:only-of-type {\n",
       "        vertical-align: middle;\n",
       "    }\n",
       "\n",
       "    .dataframe tbody tr th {\n",
       "        vertical-align: top;\n",
       "    }\n",
       "\n",
       "    .dataframe thead th {\n",
       "        text-align: right;\n",
       "    }\n",
       "</style>\n",
       "<table border=\"1\" class=\"dataframe\">\n",
       "  <thead>\n",
       "    <tr style=\"text-align: right;\">\n",
       "      <th></th>\n",
       "      <th>genre</th>\n",
       "      <th>total_sales</th>\n",
       "    </tr>\n",
       "  </thead>\n",
       "  <tbody>\n",
       "    <tr>\n",
       "      <th>0</th>\n",
       "      <td>Action</td>\n",
       "      <td>441.12</td>\n",
       "    </tr>\n",
       "    <tr>\n",
       "      <th>8</th>\n",
       "      <td>Shooter</td>\n",
       "      <td>304.73</td>\n",
       "    </tr>\n",
       "    <tr>\n",
       "      <th>7</th>\n",
       "      <td>Role-Playing</td>\n",
       "      <td>192.80</td>\n",
       "    </tr>\n",
       "    <tr>\n",
       "      <th>10</th>\n",
       "      <td>Sports</td>\n",
       "      <td>181.07</td>\n",
       "    </tr>\n",
       "    <tr>\n",
       "      <th>3</th>\n",
       "      <td>Misc</td>\n",
       "      <td>85.04</td>\n",
       "    </tr>\n",
       "    <tr>\n",
       "      <th>4</th>\n",
       "      <td>Platform</td>\n",
       "      <td>61.00</td>\n",
       "    </tr>\n",
       "    <tr>\n",
       "      <th>6</th>\n",
       "      <td>Racing</td>\n",
       "      <td>53.50</td>\n",
       "    </tr>\n",
       "    <tr>\n",
       "      <th>2</th>\n",
       "      <td>Fighting</td>\n",
       "      <td>44.49</td>\n",
       "    </tr>\n",
       "    <tr>\n",
       "      <th>9</th>\n",
       "      <td>Simulation</td>\n",
       "      <td>35.12</td>\n",
       "    </tr>\n",
       "    <tr>\n",
       "      <th>1</th>\n",
       "      <td>Adventure</td>\n",
       "      <td>29.43</td>\n",
       "    </tr>\n",
       "    <tr>\n",
       "      <th>11</th>\n",
       "      <td>Strategy</td>\n",
       "      <td>13.34</td>\n",
       "    </tr>\n",
       "    <tr>\n",
       "      <th>5</th>\n",
       "      <td>Puzzle</td>\n",
       "      <td>4.89</td>\n",
       "    </tr>\n",
       "  </tbody>\n",
       "</table>\n",
       "</div>"
      ],
      "text/plain": [
       "           genre  total_sales\n",
       "0         Action       441.12\n",
       "8        Shooter       304.73\n",
       "7   Role-Playing       192.80\n",
       "10        Sports       181.07\n",
       "3           Misc        85.04\n",
       "4       Platform        61.00\n",
       "6         Racing        53.50\n",
       "2       Fighting        44.49\n",
       "9     Simulation        35.12\n",
       "1      Adventure        29.43\n",
       "11      Strategy        13.34\n",
       "5         Puzzle         4.89"
      ]
     },
     "metadata": {},
     "output_type": "display_data"
    },
    {
     "data": {
      "image/png": "[encoded data removed]",
      "text/plain": [
       "<Figure size 640x480 with 1 Axes>"
      ]
     },
     "metadata": {},
     "output_type": "display_data"
    }
   ],
   "source": [
    "genre_sales2 = df_reduced_years.groupby('genre', as_index=False)['total_sales'].sum()\n",
    "bar_fig = sns.barplot(x='total_sales', y='genre', data=df_reduced_years, estimator=np.median, ci=None)\n",
    "display(genre_sales2.sort_values(by='total_sales', ascending=False))\n",
    "plt.xlabel('Median Total Sales (millions of USD)')\n",
    "plt.show()"
   ]
  },
  {
   "cell_type": "code",
   "execution_count": null,
   "metadata": {},
   "outputs": [
    {
     "data": {
      "text/plain": [
       "genre\n",
       "Action          0.120\n",
       "Adventure       0.030\n",
       "Fighting        0.130\n",
       "Misc            0.120\n",
       "Platform        0.210\n",
       "Puzzle          0.045\n",
       "Racing          0.140\n",
       "Role-Playing    0.140\n",
       "Shooter         0.440\n",
       "Simulation      0.120\n",
       "Sports          0.240\n",
       "Strategy        0.080\n",
       "Name: total_sales, dtype: float64"
      ]
     },
     "execution_count": 64,
     "metadata": {},
     "output_type": "execute_result"
    }
   ],
   "source": [
    "#values for graph above\n",
    "df_reduced_years.groupby('genre')['total_sales'].median()"
   ]
  },
  {
   "cell_type": "markdown",
   "metadata": {},
   "source": [
    "We can see that while our `Action` and `Shooter` genres have the highest `total_sales`. the data changes when we examine the median `total_sales` of each genre.  Our `Shooter` genre is the clear winner when we look at the median total sales.  In other words, we would say that 50% of `Shooter` games had at least 0.440 million in `total_sales`.   The `Platform` genre performs second-best, but each `Platform` game sells only about half as much as a shooter game does.  We know that `Shooter` games will be a safe bet in 2017, as they have both high total and median sales.  Interestingly, `Action` games have one of the lower median total sales. The high `total_sales` number that we see is likely due to the sheer number of Action games that sell."
   ]
  },
  {
   "cell_type": "markdown",
   "metadata": {},
   "source": [
    "### Region Profiles"
   ]
  },
  {
   "cell_type": "markdown",
   "metadata": {},
   "source": [
    "From here, let's examine each region more closely by building a user profile.  For each region, we'll find:\n",
    "- the top five platforms\n",
    "- the top five genres\n",
    "- the effect of ESRB ratings between individual groups"
   ]
  },
  {
   "cell_type": "markdown",
   "metadata": {},
   "source": [
    "Let's look at North America first:"
   ]
  },
  {
   "cell_type": "code",
   "execution_count": null,
   "metadata": {
    "scrolled": true
   },
   "outputs": [
    {
     "data": {
      "text/plain": [
       "platform\n",
       "X360    140.05\n",
       "PS4     108.74\n",
       "PS3     103.38\n",
       "XOne     93.12\n",
       "3DS      55.31\n",
       "Name: na_sales, dtype: float64"
      ]
     },
     "execution_count": 65,
     "metadata": {},
     "output_type": "execute_result"
    }
   ],
   "source": [
    "df_reduced_years.groupby('platform')['na_sales'].sum().sort_values(ascending=False).head(5)"
   ]
  },
  {
   "cell_type": "code",
   "execution_count": null,
   "metadata": {},
   "outputs": [
    {
     "data": {
      "text/plain": [
       "genre\n",
       "Action          177.84\n",
       "Shooter         144.77\n",
       "Sports           81.53\n",
       "Role-Playing     64.00\n",
       "Misc             38.19\n",
       "Name: na_sales, dtype: float64"
      ]
     },
     "execution_count": 66,
     "metadata": {},
     "output_type": "execute_result"
    }
   ],
   "source": [
    "df_reduced_years.groupby('genre')['na_sales'].sum().sort_values(ascending=False).head(5)"
   ]
  },
  {
   "cell_type": "code",
   "execution_count": null,
   "metadata": {},
   "outputs": [
    {
     "data": {
      "text/plain": [
       "rating\n",
       "M          0.155\n",
       "E10+       0.130\n",
       "E          0.070\n",
       "T          0.050\n",
       "unrated    0.000\n",
       "Name: na_sales, dtype: float64"
      ]
     },
     "execution_count": 67,
     "metadata": {},
     "output_type": "execute_result"
    }
   ],
   "source": [
    "df_reduced_years.groupby('rating')['na_sales'].median().sort_values(ascending=False)"
   ]
  },
  {
   "cell_type": "markdown",
   "metadata": {},
   "source": [
    "In North America, the Xbox360 platform had the highest sales over the last 5 years.  Action, then Shooter genres sell best.  Games that are rated M had the highest sales, with E10+ close behind.      "
   ]
  },
  {
   "cell_type": "markdown",
   "metadata": {},
   "source": [
    "Next we'll look at Europe's profile."
   ]
  },
  {
   "cell_type": "code",
   "execution_count": null,
   "metadata": {
    "scrolled": true
   },
   "outputs": [
    {
     "data": {
      "text/plain": [
       "platform\n",
       "PS4     141.09\n",
       "PS3     106.86\n",
       "X360     74.52\n",
       "XOne     51.59\n",
       "3DS      42.64\n",
       "Name: eu_sales, dtype: float64"
      ]
     },
     "execution_count": 68,
     "metadata": {},
     "output_type": "execute_result"
    }
   ],
   "source": [
    "#eu profile\n",
    "df_reduced_years.groupby('platform')['eu_sales'].sum().sort_values(ascending=False).head(5)"
   ]
  },
  {
   "cell_type": "code",
   "execution_count": null,
   "metadata": {},
   "outputs": [
    {
     "data": {
      "text/plain": [
       "genre\n",
       "Action          159.34\n",
       "Shooter         113.47\n",
       "Sports           69.09\n",
       "Role-Playing     48.53\n",
       "Racing           27.29\n",
       "Name: eu_sales, dtype: float64"
      ]
     },
     "execution_count": 69,
     "metadata": {},
     "output_type": "execute_result"
    }
   ],
   "source": [
    "df_reduced_years.groupby('genre')['eu_sales'].sum().sort_values(ascending=False).head(5)"
   ]
  },
  {
   "cell_type": "code",
   "execution_count": null,
   "metadata": {},
   "outputs": [
    {
     "data": {
      "text/plain": [
       "rating\n",
       "M          0.13\n",
       "E10+       0.11\n",
       "E          0.06\n",
       "T          0.04\n",
       "unrated    0.00\n",
       "Name: eu_sales, dtype: float64"
      ]
     },
     "execution_count": 70,
     "metadata": {},
     "output_type": "execute_result"
    }
   ],
   "source": [
    "df_reduced_years.groupby('rating')['eu_sales'].median().sort_values(ascending=False)"
   ]
  },
  {
   "cell_type": "markdown",
   "metadata": {},
   "source": [
    "In Europe, the Playstation 4 is the highest selling platform. Action and Shooter generes remain on top, as in North America.  Once again, games that are rated M sell best, with E10+ close behind."
   ]
  },
  {
   "cell_type": "markdown",
   "metadata": {},
   "source": [
    "Next is Japan's:"
   ]
  },
  {
   "cell_type": "code",
   "execution_count": null,
   "metadata": {},
   "outputs": [
    {
     "data": {
      "text/plain": [
       "platform\n",
       "3DS     87.79\n",
       "PS3     35.29\n",
       "PSV     21.04\n",
       "PS4     15.96\n",
       "WiiU    13.01\n",
       "Name: jp_sales, dtype: float64"
      ]
     },
     "execution_count": 71,
     "metadata": {},
     "output_type": "execute_result"
    }
   ],
   "source": [
    "df_reduced_years.groupby('platform')['jp_sales'].sum().sort_values(ascending=False).head(5)"
   ]
  },
  {
   "cell_type": "code",
   "execution_count": null,
   "metadata": {},
   "outputs": [
    {
     "data": {
      "text/plain": [
       "genre\n",
       "Role-Playing    65.44\n",
       "Action          52.80\n",
       "Misc            12.86\n",
       "Simulation      10.41\n",
       "Fighting         9.44\n",
       "Name: jp_sales, dtype: float64"
      ]
     },
     "execution_count": 72,
     "metadata": {},
     "output_type": "execute_result"
    }
   ],
   "source": [
    "df_reduced_years.groupby('genre')['jp_sales'].sum().sort_values(ascending=False).head(5)"
   ]
  },
  {
   "cell_type": "code",
   "execution_count": null,
   "metadata": {},
   "outputs": [
    {
     "data": {
      "text/plain": [
       "rating\n",
       "unrated    0.03\n",
       "T          0.01\n",
       "E          0.00\n",
       "E10+       0.00\n",
       "M          0.00\n",
       "Name: jp_sales, dtype: float64"
      ]
     },
     "execution_count": 73,
     "metadata": {},
     "output_type": "execute_result"
    }
   ],
   "source": [
    "df_reduced_years.groupby('rating')['jp_sales'].median().sort_values(ascending=False)"
   ]
  },
  {
   "cell_type": "markdown",
   "metadata": {},
   "source": [
    "Japan is unique from the other regions.  Whereas non-Japanese regions prefer Xbox360 and PS4, Japan's sales are focused heavily on the 3DS.  If marketing in Japan, it is clear that the handheld console should be targeted.  Japanese gamers heavily prefer Role-Playing games over other genres, with Action games coming in second.  Rating holds little weight in Japan."
   ]
  },
  {
   "cell_type": "markdown",
   "metadata": {},
   "source": [
    "Finally, we have all other regions:"
   ]
  },
  {
   "cell_type": "code",
   "execution_count": null,
   "metadata": {},
   "outputs": [
    {
     "data": {
      "text/plain": [
       "platform\n",
       "PS4     48.35\n",
       "PS3     43.26\n",
       "X360    20.40\n",
       "XOne    14.27\n",
       "3DS      8.87\n",
       "Name: other_sales, dtype: float64"
      ]
     },
     "execution_count": 74,
     "metadata": {},
     "output_type": "execute_result"
    }
   ],
   "source": [
    "df_reduced_years.groupby('platform')['other_sales'].sum().sort_values(ascending=False).head(5)"
   ]
  },
  {
   "cell_type": "code",
   "execution_count": null,
   "metadata": {},
   "outputs": [
    {
     "data": {
      "text/plain": [
       "genre\n",
       "Action          51.14\n",
       "Shooter         37.26\n",
       "Sports          22.44\n",
       "Role-Playing    14.83\n",
       "Misc             7.67\n",
       "Name: other_sales, dtype: float64"
      ]
     },
     "execution_count": 75,
     "metadata": {},
     "output_type": "execute_result"
    }
   ],
   "source": [
    "df_reduced_years.groupby('genre')['other_sales'].sum().sort_values(ascending=False).head(5)"
   ]
  },
  {
   "cell_type": "code",
   "execution_count": null,
   "metadata": {},
   "outputs": [
    {
     "data": {
      "text/plain": [
       "rating\n",
       "M          0.04\n",
       "E10+       0.03\n",
       "E          0.02\n",
       "T          0.01\n",
       "unrated    0.00\n",
       "Name: other_sales, dtype: float64"
      ]
     },
     "execution_count": 76,
     "metadata": {},
     "output_type": "execute_result"
    }
   ],
   "source": [
    "df_reduced_years.groupby('rating')['other_sales'].median().sort_values(ascending=False)"
   ]
  },
  {
   "cell_type": "markdown",
   "metadata": {},
   "source": [
    "Other regions most closely follow the patterns of EU.  Action and Shooter games are once again on top.  PS4 is favored, with PS3 in second place for sales.  Rated M games sell highest, with E10+ right behind."
   ]
  },
  {
   "cell_type": "markdown",
   "metadata": {},
   "source": [
    "Overall, a few patterns emerge:\n",
    "\n",
    "- All non-JP regions have similar tendencies.  Action and Shooter games are the best selling genres, and rated M games sell more than games of other ratings.  North America has a preference for the Xbox 360, while all other non-JP regions prefer the PS4.\n",
    "- The Japan region has a unique profile unlike other regions.  The 3DS platform has the highest sales.  While Action games still sell well, the Role-Playing genre is the best selling genre.\n",
    "- Action games are popular in all regions.  The Action genre is the highest selling genre in all non-Japanese regions; in Japan the Action genre is the second-best selling genre. "
   ]
  },
  {
   "cell_type": "markdown",
   "metadata": {},
   "source": [
    "## Statistical Data Analysis"
   ]
  },
  {
   "cell_type": "markdown",
   "metadata": {},
   "source": [
    "While our examination above is important, we must also test our findings statistically.  We'll test two ideas:\n",
    "\n",
    "1. Are the average user ratings of the Xbox One and PC the same?\n",
    "2. Do the average user ratings for Action and Sports genres differ?"
   ]
  },
  {
   "cell_type": "markdown",
   "metadata": {},
   "source": [
    "### Test 1"
   ]
  },
  {
   "cell_type": "markdown",
   "metadata": {},
   "source": [
    "For our first question we'll use the following hypotheses:\n",
    "- Null hypothesis: The mean user rating of the Xbox One and PC platforms are the same.\n",
    "- Alternative hypothesis: The mean user rating of the Xbox One and PC platforms are different.\n",
    "\n",
    "As we are trying to determine if the means of two sttistical populations are equal to each other, we'll use our two-tailed test.  We'll take all the values in the `user_score` column and filter out values for both the `XOne` and `PC` platforms."
   ]
  },
  {
   "cell_type": "code",
   "execution_count": null,
   "metadata": {
    "scrolled": true
   },
   "outputs": [
    {
     "name": "stdout",
     "output_type": "stream",
     "text": [
      "pvalue: 0.5489537965134912\n",
      "We cannot reject the null hypothesis\n"
     ]
    }
   ],
   "source": [
    "dftest1 = df_reduced_years[df_reduced_years['user_score']!= -1]\n",
    "xbox_vals = dftest1[dftest1.platform.isin(['XOne'])]['user_score'].values\n",
    "pc_vals = dftest1[dftest1.platform.isin(['PC'])]['user_score'].values\n",
    "\n",
    "alpha=0.05\n",
    "\n",
    "results = st.ttest_ind(xbox_vals, pc_vals, equal_var = False)\n",
    "\n",
    "print('pvalue:', results.pvalue)\n",
    "\n",
    "if (results.pvalue < alpha):\n",
    "    print(\"We reject the null hypothesis\")\n",
    "else:\n",
    "    print(\"We cannot reject the null hypothesis\")"
   ]
  },
  {
   "cell_type": "markdown",
   "metadata": {},
   "source": [
    "Our p value tells us that there is a roughly 54.9% chance of obtaining the observed results if the null hypothesis were true.  In other words, if the mean user rating of the Xbox One and PC Platforms are the same, there is a ~54.9% chance that we would have obtained our observed results.\n",
    "\n",
    "With such a probability, we cannot reject our null hypothesis.  There is a decent chance that the population means are the same. "
   ]
  },
  {
   "cell_type": "markdown",
   "metadata": {},
   "source": [
    "### Test 2"
   ]
  },
  {
   "cell_type": "markdown",
   "metadata": {},
   "source": [
    "For our second question we'll use the following hypotheses:\n",
    "- Null hypothesis: The mean user rating for the Action and Sports genres are the same.\n",
    "- Alternative hypothesis: The mean user rating for the Action and Sports genres are not the same.\n",
    "\n",
    "We'll use the same type of test, as we are once again testing if two statistical population means are equal to each other.  This time, we'll take the values based on `genre` rather than `platform`."
   ]
  },
  {
   "cell_type": "code",
   "execution_count": null,
   "metadata": {},
   "outputs": [
    {
     "name": "stdout",
     "output_type": "stream",
     "text": [
      "pvalue:  4.24307776572644e-20\n",
      "We reject the null hypothesis.\n"
     ]
    }
   ],
   "source": [
    "action_vals = dftest1[dftest1.genre.isin(['Action'])]['user_score'].values\n",
    "sports_vals = dftest1[dftest1.genre.isin(['Sports'])]['user_score'].values\n",
    "\n",
    "alpha = 0.05\n",
    "\n",
    "results = st.ttest_ind(action_vals, sports_vals, equal_var = False)\n",
    "\n",
    "print('pvalue: ', results.pvalue)\n",
    "\n",
    "if (results.pvalue < alpha):\n",
    "    print(\"We reject the null hypothesis.\")\n",
    "else:\n",
    "    print(\"We cannot reject the null hypothesis.\")"
   ]
  },
  {
   "cell_type": "markdown",
   "metadata": {},
   "source": [
    "From out test above, we reject our null hypothesis that the mean user rating for the Action and Sports genres are the same.  In this case we accept that the genres have different average user ratings."
   ]
  },
  {
   "cell_type": "code",
   "execution_count": null,
   "metadata": {},
   "outputs": [
    {
     "data": {
      "text/plain": [
       "\"\\nl = {'A':[1,2,4], 'B':[3,3,5]}\\n\\ndf1 = pd.DataFrame(l)\\n\\ndf2 = df1\\n\\ndf3 = df1.copy() \\n\\ndisplay(df1, df2, df3)\""
      ]
     },
     "execution_count": 79,
     "metadata": {},
     "output_type": "execute_result"
    }
   ],
   "source": [
    "# Reviewer's code 1.1\n",
    "'''\n",
    "l = {'A':[1,2,4], 'B':[3,3,5]}\n",
    "\n",
    "df1 = pd.DataFrame(l)\n",
    "\n",
    "df2 = df1\n",
    "\n",
    "df3 = df1.copy() \n",
    "\n",
    "display(df1, df2, df3)'''"
   ]
  },
  {
   "cell_type": "code",
   "execution_count": null,
   "metadata": {
    "scrolled": true
   },
   "outputs": [
    {
     "data": {
      "text/plain": [
       "\"\\ndf2.loc[0, 'A'] = 'change2'\\n\\ndf3.loc[1, 'A'] = 'change3'\\n\\ndisplay(df1, df2, df3)\""
      ]
     },
     "execution_count": 80,
     "metadata": {},
     "output_type": "execute_result"
    }
   ],
   "source": [
    "# Reviewer's code 1.2\n",
    "'''\n",
    "df2.loc[0, 'A'] = 'change2'\n",
    "\n",
    "df3.loc[1, 'A'] = 'change3'\n",
    "\n",
    "display(df1, df2, df3)'''"
   ]
  },
  {
   "cell_type": "markdown",
   "metadata": {},
   "source": [
    "## Conclusions"
   ]
  },
  {
   "cell_type": "markdown",
   "metadata": {},
   "source": [
    "Platforms appear to have a lifetime of roughly 10 years, except for the PC. Most platforms experience peak sales around the 4-5 year mark, before sales decline at the same rate they previously grew.  This makes sense logically: As a new generation of console is prepared for release, the sales for previous generations fall.  Thus we should ensure that we prioritize newer platforms, and ignore platforms that are on their way out of circulation.\n",
    "\n",
    "It is clear that individual games on the PS4 sold well in all regions, though these sales were less strong in Japan.  Instead, Japanese gamers preferred the 3DS.  The Xbox 360 was strongest in North America, but the PS4 still had high sales here.  The ratings for games sold in Japan also differed from other regions.  While other regions preferred games that were rated M, \"unrated\" was the highest selling category in Japan.  \n",
    "\n",
    "Overall, we discovered that Action and Shooter genres have the highest total sales. Our Shooter genre is likely the safest to market towards, as median sales for Shooters are highest in the genre.\n",
    "\n",
    "Surprisingly, user score seems to have little effect on the total sales of a game overall, though there was a correlation for 3DS games specifically.  Critic scores have a weak-to-moderate correlation with total sales when examining Xbox Consoles and the 3DS platforms specifically.\n",
    "\n",
    "- <ins>one important thing to note before mentioning our key points</ins>: while the Xbox360 may have the highest sales of the last 5 years, sales for games released in 2016 are nearly non existant.  This indicates that this console's lifecycle is likely over, and the newer generation of consoles will likely have higher sales in the coming years.\n",
    "\n",
    "Overall, a few patterns emerge:\n",
    "\n",
    "- All non-JP regions have similar tendencies.  Action and Shooter games are the best selling genres, and rated M games sell more than games of other ratings.  North America has a preference for the Xbox 360, while all other non-JP regions prefer the PS4.\n",
    "- The Japan region has a unique profile unlike other regions.  The 3DS platform has the highest sales.  While Action games still sell well, the Role-Playing genre is the best selling genre.\n",
    "- Action games are popular in all regions.  The Action genre is the highest selling genre in all non-Japanese regions; in Japan the Action genre is the second-best selling genre. "
   ]
  }
 ],
 "metadata": {
  "ExecuteTimeLog": [
   {
    "duration": 2952,
    "start_time": "2024-12-06T23:45:58.355Z"
   },
   {
    "duration": 42,
    "start_time": "2024-12-06T23:46:58.547Z"
   },
   {
    "duration": 15,
    "start_time": "2024-12-06T23:47:03.131Z"
   },
   {
    "duration": 11,
    "start_time": "2024-12-06T23:47:13.030Z"
   },
   {
    "duration": 249,
    "start_time": "2024-12-06T23:47:33.526Z"
   },
   {
    "duration": 3,
    "start_time": "2024-12-06T23:47:37.343Z"
   },
   {
    "duration": 10,
    "start_time": "2024-12-06T23:51:25.613Z"
   },
   {
    "duration": 12,
    "start_time": "2024-12-06T23:51:30.487Z"
   },
   {
    "duration": 12,
    "start_time": "2024-12-06T23:51:36.351Z"
   },
   {
    "duration": 2,
    "start_time": "2024-12-06T23:58:13.103Z"
   },
   {
    "duration": 2,
    "start_time": "2024-12-06T23:58:36.702Z"
   },
   {
    "duration": 2,
    "start_time": "2024-12-06T23:58:59.311Z"
   },
   {
    "duration": 2,
    "start_time": "2024-12-06T23:59:17.741Z"
   },
   {
    "duration": 2,
    "start_time": "2024-12-06T23:59:41.713Z"
   },
   {
    "duration": 2,
    "start_time": "2024-12-07T00:00:06.184Z"
   },
   {
    "duration": 2,
    "start_time": "2024-12-07T00:00:21.210Z"
   },
   {
    "duration": 2,
    "start_time": "2024-12-07T00:00:52.712Z"
   },
   {
    "duration": 2,
    "start_time": "2024-12-07T00:02:27.817Z"
   },
   {
    "duration": 2,
    "start_time": "2024-12-07T01:00:17.408Z"
   },
   {
    "duration": 2,
    "start_time": "2024-12-07T01:00:38.077Z"
   },
   {
    "duration": 2469,
    "start_time": "2024-12-07T01:02:59.325Z"
   },
   {
    "duration": 37,
    "start_time": "2024-12-07T01:03:01.796Z"
   },
   {
    "duration": 12,
    "start_time": "2024-12-07T01:03:01.835Z"
   },
   {
    "duration": 4,
    "start_time": "2024-12-07T01:03:01.850Z"
   },
   {
    "duration": 14,
    "start_time": "2024-12-07T01:03:01.855Z"
   },
   {
    "duration": 12,
    "start_time": "2024-12-07T01:03:01.870Z"
   },
   {
    "duration": 3,
    "start_time": "2024-12-07T01:03:01.884Z"
   },
   {
    "duration": 3,
    "start_time": "2024-12-07T01:03:01.912Z"
   },
   {
    "duration": 3,
    "start_time": "2024-12-07T01:03:01.918Z"
   },
   {
    "duration": 2,
    "start_time": "2024-12-07T01:03:01.925Z"
   },
   {
    "duration": 7,
    "start_time": "2024-12-07T01:03:01.929Z"
   },
   {
    "duration": 2,
    "start_time": "2024-12-07T01:03:01.938Z"
   },
   {
    "duration": 3,
    "start_time": "2024-12-07T01:03:01.941Z"
   },
   {
    "duration": 3,
    "start_time": "2024-12-07T01:03:01.946Z"
   },
   {
    "duration": 3,
    "start_time": "2024-12-07T01:03:01.950Z"
   },
   {
    "duration": 2,
    "start_time": "2024-12-07T01:03:01.955Z"
   },
   {
    "duration": 2,
    "start_time": "2024-12-07T01:03:01.959Z"
   },
   {
    "duration": 7,
    "start_time": "2024-12-07T01:13:46.225Z"
   },
   {
    "duration": 8,
    "start_time": "2024-12-07T01:25:56.557Z"
   },
   {
    "duration": 2513,
    "start_time": "2024-12-09T02:29:32.298Z"
   },
   {
    "duration": 36,
    "start_time": "2024-12-09T02:29:34.813Z"
   },
   {
    "duration": 12,
    "start_time": "2024-12-09T02:29:34.850Z"
   },
   {
    "duration": 4,
    "start_time": "2024-12-09T02:29:34.864Z"
   },
   {
    "duration": 15,
    "start_time": "2024-12-09T02:29:34.870Z"
   },
   {
    "duration": 12,
    "start_time": "2024-12-09T02:29:34.887Z"
   },
   {
    "duration": 29,
    "start_time": "2024-12-09T02:29:34.901Z"
   },
   {
    "duration": 3,
    "start_time": "2024-12-09T02:29:34.932Z"
   },
   {
    "duration": 3,
    "start_time": "2024-12-09T02:29:34.937Z"
   },
   {
    "duration": 4,
    "start_time": "2024-12-09T02:29:34.942Z"
   },
   {
    "duration": 3,
    "start_time": "2024-12-09T02:29:34.947Z"
   },
   {
    "duration": 2,
    "start_time": "2024-12-09T02:29:34.952Z"
   },
   {
    "duration": 2,
    "start_time": "2024-12-09T02:29:34.956Z"
   },
   {
    "duration": 3,
    "start_time": "2024-12-09T02:29:34.960Z"
   },
   {
    "duration": 3,
    "start_time": "2024-12-09T02:29:34.964Z"
   },
   {
    "duration": 4,
    "start_time": "2024-12-09T02:29:34.968Z"
   },
   {
    "duration": 3,
    "start_time": "2024-12-09T02:29:34.973Z"
   },
   {
    "duration": 47,
    "start_time": "2024-12-09T02:29:34.977Z"
   },
   {
    "duration": 3,
    "start_time": "2024-12-09T02:29:35.025Z"
   },
   {
    "duration": 2386,
    "start_time": "2024-12-19T01:14:32.594Z"
   },
   {
    "duration": 73,
    "start_time": "2024-12-19T01:14:34.982Z"
   },
   {
    "duration": 12,
    "start_time": "2024-12-19T01:14:35.056Z"
   },
   {
    "duration": 5,
    "start_time": "2024-12-19T01:14:35.070Z"
   },
   {
    "duration": 14,
    "start_time": "2024-12-19T01:14:35.076Z"
   },
   {
    "duration": 10,
    "start_time": "2024-12-19T01:14:35.092Z"
   },
   {
    "duration": 7,
    "start_time": "2024-12-19T01:14:35.104Z"
   },
   {
    "duration": 30,
    "start_time": "2024-12-19T01:14:35.113Z"
   },
   {
    "duration": 2,
    "start_time": "2024-12-19T01:14:35.145Z"
   },
   {
    "duration": 2,
    "start_time": "2024-12-19T01:14:35.150Z"
   },
   {
    "duration": 3,
    "start_time": "2024-12-19T01:14:35.153Z"
   },
   {
    "duration": 2,
    "start_time": "2024-12-19T01:14:35.158Z"
   },
   {
    "duration": 2,
    "start_time": "2024-12-19T01:14:35.162Z"
   },
   {
    "duration": 3,
    "start_time": "2024-12-19T01:14:35.166Z"
   },
   {
    "duration": 5,
    "start_time": "2024-12-19T01:14:35.172Z"
   },
   {
    "duration": 6,
    "start_time": "2024-12-19T01:14:35.179Z"
   },
   {
    "duration": 3,
    "start_time": "2024-12-19T01:14:35.187Z"
   },
   {
    "duration": 2,
    "start_time": "2024-12-19T01:14:35.192Z"
   },
   {
    "duration": 3,
    "start_time": "2024-12-19T01:14:35.196Z"
   },
   {
    "duration": 3,
    "start_time": "2024-12-19T01:26:22.066Z"
   },
   {
    "duration": 3,
    "start_time": "2024-12-19T01:26:29.002Z"
   },
   {
    "duration": 4,
    "start_time": "2024-12-19T01:26:34.608Z"
   },
   {
    "duration": 4,
    "start_time": "2024-12-19T01:28:27.240Z"
   },
   {
    "duration": 741,
    "start_time": "2024-12-19T01:28:32.703Z"
   },
   {
    "duration": 25,
    "start_time": "2024-12-19T01:28:33.446Z"
   },
   {
    "duration": 11,
    "start_time": "2024-12-19T01:28:33.473Z"
   },
   {
    "duration": 4,
    "start_time": "2024-12-19T01:28:33.485Z"
   },
   {
    "duration": 12,
    "start_time": "2024-12-19T01:28:33.492Z"
   },
   {
    "duration": 10,
    "start_time": "2024-12-19T01:28:33.506Z"
   },
   {
    "duration": 5,
    "start_time": "2024-12-19T01:28:33.542Z"
   },
   {
    "duration": 7,
    "start_time": "2024-12-19T01:28:33.549Z"
   },
   {
    "duration": 2,
    "start_time": "2024-12-19T01:28:33.558Z"
   },
   {
    "duration": 2,
    "start_time": "2024-12-19T01:28:33.562Z"
   },
   {
    "duration": 2,
    "start_time": "2024-12-19T01:28:33.566Z"
   },
   {
    "duration": 4,
    "start_time": "2024-12-19T01:28:33.569Z"
   },
   {
    "duration": 2,
    "start_time": "2024-12-19T01:28:33.574Z"
   },
   {
    "duration": 2,
    "start_time": "2024-12-19T01:28:33.579Z"
   },
   {
    "duration": 2,
    "start_time": "2024-12-19T01:28:33.583Z"
   },
   {
    "duration": 3,
    "start_time": "2024-12-19T01:28:33.586Z"
   },
   {
    "duration": 2,
    "start_time": "2024-12-19T01:28:33.592Z"
   },
   {
    "duration": 3,
    "start_time": "2024-12-19T01:28:33.643Z"
   },
   {
    "duration": 3,
    "start_time": "2024-12-19T01:28:33.647Z"
   },
   {
    "duration": 3,
    "start_time": "2024-12-19T01:28:33.651Z"
   },
   {
    "duration": 5,
    "start_time": "2024-12-19T01:30:26.530Z"
   },
   {
    "duration": 819,
    "start_time": "2024-12-19T01:40:40.445Z"
   },
   {
    "duration": 10,
    "start_time": "2024-12-19T01:43:53.172Z"
   },
   {
    "duration": 49,
    "start_time": "2024-12-19T01:44:00.129Z"
   },
   {
    "duration": 3,
    "start_time": "2024-12-19T01:44:13.254Z"
   },
   {
    "duration": 796,
    "start_time": "2024-12-19T01:44:18.457Z"
   },
   {
    "duration": 25,
    "start_time": "2024-12-19T01:44:19.255Z"
   },
   {
    "duration": 11,
    "start_time": "2024-12-19T01:44:19.282Z"
   },
   {
    "duration": 5,
    "start_time": "2024-12-19T01:44:19.294Z"
   },
   {
    "duration": 16,
    "start_time": "2024-12-19T01:44:19.302Z"
   },
   {
    "duration": 32,
    "start_time": "2024-12-19T01:44:19.319Z"
   },
   {
    "duration": 5,
    "start_time": "2024-12-19T01:44:19.353Z"
   },
   {
    "duration": 4,
    "start_time": "2024-12-19T01:44:19.359Z"
   },
   {
    "duration": 10,
    "start_time": "2024-12-19T01:44:19.365Z"
   },
   {
    "duration": 2,
    "start_time": "2024-12-19T01:44:19.377Z"
   },
   {
    "duration": 7,
    "start_time": "2024-12-19T01:44:19.381Z"
   },
   {
    "duration": 3,
    "start_time": "2024-12-19T01:44:19.389Z"
   },
   {
    "duration": 3,
    "start_time": "2024-12-19T01:44:19.393Z"
   },
   {
    "duration": 45,
    "start_time": "2024-12-19T01:44:19.399Z"
   },
   {
    "duration": 2,
    "start_time": "2024-12-19T01:44:19.446Z"
   },
   {
    "duration": 2,
    "start_time": "2024-12-19T01:44:19.450Z"
   },
   {
    "duration": 2,
    "start_time": "2024-12-19T01:44:19.454Z"
   },
   {
    "duration": 2,
    "start_time": "2024-12-19T01:44:19.457Z"
   },
   {
    "duration": 5,
    "start_time": "2024-12-19T01:44:19.461Z"
   },
   {
    "duration": 3,
    "start_time": "2024-12-19T01:44:19.467Z"
   },
   {
    "duration": 3,
    "start_time": "2024-12-19T01:44:19.471Z"
   },
   {
    "duration": 3,
    "start_time": "2024-12-19T01:44:19.475Z"
   },
   {
    "duration": 3,
    "start_time": "2024-12-19T01:44:19.479Z"
   },
   {
    "duration": 10,
    "start_time": "2024-12-19T01:44:48.654Z"
   },
   {
    "duration": 8,
    "start_time": "2024-12-19T01:44:55.451Z"
   },
   {
    "duration": 787,
    "start_time": "2024-12-19T01:44:59.165Z"
   },
   {
    "duration": 24,
    "start_time": "2024-12-19T01:44:59.954Z"
   },
   {
    "duration": 11,
    "start_time": "2024-12-19T01:44:59.979Z"
   },
   {
    "duration": 4,
    "start_time": "2024-12-19T01:44:59.991Z"
   },
   {
    "duration": 13,
    "start_time": "2024-12-19T01:44:59.997Z"
   },
   {
    "duration": 35,
    "start_time": "2024-12-19T01:45:00.012Z"
   },
   {
    "duration": 4,
    "start_time": "2024-12-19T01:45:00.048Z"
   },
   {
    "duration": 4,
    "start_time": "2024-12-19T01:45:00.054Z"
   },
   {
    "duration": 7,
    "start_time": "2024-12-19T01:45:00.060Z"
   },
   {
    "duration": 10,
    "start_time": "2024-12-19T01:45:00.069Z"
   },
   {
    "duration": 3,
    "start_time": "2024-12-19T01:45:00.080Z"
   },
   {
    "duration": 8,
    "start_time": "2024-12-19T01:45:00.084Z"
   },
   {
    "duration": 2,
    "start_time": "2024-12-19T01:45:00.093Z"
   },
   {
    "duration": 44,
    "start_time": "2024-12-19T01:45:00.098Z"
   },
   {
    "duration": 3,
    "start_time": "2024-12-19T01:45:00.144Z"
   },
   {
    "duration": 3,
    "start_time": "2024-12-19T01:45:00.148Z"
   },
   {
    "duration": 3,
    "start_time": "2024-12-19T01:45:00.152Z"
   },
   {
    "duration": 3,
    "start_time": "2024-12-19T01:45:00.156Z"
   },
   {
    "duration": 2,
    "start_time": "2024-12-19T01:45:00.161Z"
   },
   {
    "duration": 3,
    "start_time": "2024-12-19T01:45:00.164Z"
   },
   {
    "duration": 3,
    "start_time": "2024-12-19T01:45:00.168Z"
   },
   {
    "duration": 2,
    "start_time": "2024-12-19T01:45:00.173Z"
   },
   {
    "duration": 2,
    "start_time": "2024-12-19T01:45:00.177Z"
   },
   {
    "duration": 3,
    "start_time": "2024-12-19T01:45:00.181Z"
   },
   {
    "duration": 8,
    "start_time": "2024-12-19T01:45:39.861Z"
   },
   {
    "duration": 11,
    "start_time": "2024-12-19T01:47:24.368Z"
   },
   {
    "duration": 8,
    "start_time": "2024-12-19T01:47:28.775Z"
   },
   {
    "duration": 5,
    "start_time": "2024-12-19T01:47:49.589Z"
   },
   {
    "duration": 8,
    "start_time": "2024-12-19T01:47:53.407Z"
   },
   {
    "duration": 736,
    "start_time": "2024-12-19T01:48:06.207Z"
   },
   {
    "duration": 24,
    "start_time": "2024-12-19T01:48:06.945Z"
   },
   {
    "duration": 11,
    "start_time": "2024-12-19T01:48:06.970Z"
   },
   {
    "duration": 4,
    "start_time": "2024-12-19T01:48:06.983Z"
   },
   {
    "duration": 13,
    "start_time": "2024-12-19T01:48:06.990Z"
   },
   {
    "duration": 11,
    "start_time": "2024-12-19T01:48:07.004Z"
   },
   {
    "duration": 6,
    "start_time": "2024-12-19T01:48:07.044Z"
   },
   {
    "duration": 4,
    "start_time": "2024-12-19T01:48:07.052Z"
   },
   {
    "duration": 9,
    "start_time": "2024-12-19T01:48:07.058Z"
   },
   {
    "duration": 4,
    "start_time": "2024-12-19T01:48:07.069Z"
   },
   {
    "duration": 2,
    "start_time": "2024-12-19T01:48:07.075Z"
   },
   {
    "duration": 8,
    "start_time": "2024-12-19T01:48:07.079Z"
   },
   {
    "duration": 3,
    "start_time": "2024-12-19T01:48:07.088Z"
   },
   {
    "duration": 3,
    "start_time": "2024-12-19T01:48:07.093Z"
   },
   {
    "duration": 3,
    "start_time": "2024-12-19T01:48:07.097Z"
   },
   {
    "duration": 43,
    "start_time": "2024-12-19T01:48:07.101Z"
   },
   {
    "duration": 3,
    "start_time": "2024-12-19T01:48:07.146Z"
   },
   {
    "duration": 3,
    "start_time": "2024-12-19T01:48:07.151Z"
   },
   {
    "duration": 3,
    "start_time": "2024-12-19T01:48:07.156Z"
   },
   {
    "duration": 2,
    "start_time": "2024-12-19T01:48:07.162Z"
   },
   {
    "duration": 4,
    "start_time": "2024-12-19T01:48:07.166Z"
   },
   {
    "duration": 3,
    "start_time": "2024-12-19T01:48:07.172Z"
   },
   {
    "duration": 3,
    "start_time": "2024-12-19T01:48:07.177Z"
   },
   {
    "duration": 3,
    "start_time": "2024-12-19T01:48:07.182Z"
   },
   {
    "duration": 9,
    "start_time": "2024-12-19T01:48:29.525Z"
   },
   {
    "duration": 5,
    "start_time": "2024-12-19T01:56:44.426Z"
   },
   {
    "duration": 887,
    "start_time": "2024-12-19T01:57:29.491Z"
   },
   {
    "duration": 53,
    "start_time": "2024-12-19T01:57:58.699Z"
   },
   {
    "duration": 11,
    "start_time": "2024-12-19T02:00:20.322Z"
   },
   {
    "duration": 751,
    "start_time": "2024-12-19T02:00:24.192Z"
   },
   {
    "duration": 25,
    "start_time": "2024-12-19T02:00:24.945Z"
   },
   {
    "duration": 11,
    "start_time": "2024-12-19T02:00:24.971Z"
   },
   {
    "duration": 4,
    "start_time": "2024-12-19T02:00:24.984Z"
   },
   {
    "duration": 12,
    "start_time": "2024-12-19T02:00:24.991Z"
   },
   {
    "duration": 12,
    "start_time": "2024-12-19T02:00:25.005Z"
   },
   {
    "duration": 4,
    "start_time": "2024-12-19T02:00:25.043Z"
   },
   {
    "duration": 4,
    "start_time": "2024-12-19T02:00:25.048Z"
   },
   {
    "duration": 7,
    "start_time": "2024-12-19T02:00:25.054Z"
   },
   {
    "duration": 5,
    "start_time": "2024-12-19T02:00:25.063Z"
   },
   {
    "duration": 6,
    "start_time": "2024-12-19T02:00:25.069Z"
   },
   {
    "duration": 7,
    "start_time": "2024-12-19T02:00:25.077Z"
   },
   {
    "duration": 864,
    "start_time": "2024-12-19T02:00:25.086Z"
   },
   {
    "duration": 0,
    "start_time": "2024-12-19T02:00:25.953Z"
   },
   {
    "duration": 0,
    "start_time": "2024-12-19T02:00:25.954Z"
   },
   {
    "duration": 0,
    "start_time": "2024-12-19T02:00:25.954Z"
   },
   {
    "duration": 0,
    "start_time": "2024-12-19T02:00:25.955Z"
   },
   {
    "duration": 0,
    "start_time": "2024-12-19T02:00:25.956Z"
   },
   {
    "duration": 0,
    "start_time": "2024-12-19T02:00:25.958Z"
   },
   {
    "duration": 0,
    "start_time": "2024-12-19T02:00:25.960Z"
   },
   {
    "duration": 0,
    "start_time": "2024-12-19T02:00:25.961Z"
   },
   {
    "duration": 0,
    "start_time": "2024-12-19T02:00:25.963Z"
   },
   {
    "duration": 0,
    "start_time": "2024-12-19T02:00:25.965Z"
   },
   {
    "duration": 0,
    "start_time": "2024-12-19T02:00:25.966Z"
   },
   {
    "duration": 0,
    "start_time": "2024-12-19T02:00:25.968Z"
   },
   {
    "duration": 0,
    "start_time": "2024-12-19T02:00:25.969Z"
   },
   {
    "duration": 62,
    "start_time": "2024-12-19T02:02:01.734Z"
   },
   {
    "duration": 768,
    "start_time": "2024-12-19T02:02:07.161Z"
   },
   {
    "duration": 28,
    "start_time": "2024-12-19T02:02:07.932Z"
   },
   {
    "duration": 11,
    "start_time": "2024-12-19T02:02:07.961Z"
   },
   {
    "duration": 4,
    "start_time": "2024-12-19T02:02:07.974Z"
   },
   {
    "duration": 13,
    "start_time": "2024-12-19T02:02:07.981Z"
   },
   {
    "duration": 15,
    "start_time": "2024-12-19T02:02:07.999Z"
   },
   {
    "duration": 30,
    "start_time": "2024-12-19T02:02:08.016Z"
   },
   {
    "duration": 4,
    "start_time": "2024-12-19T02:02:08.048Z"
   },
   {
    "duration": 9,
    "start_time": "2024-12-19T02:02:08.053Z"
   },
   {
    "duration": 6,
    "start_time": "2024-12-19T02:02:08.063Z"
   },
   {
    "duration": 7,
    "start_time": "2024-12-19T02:02:08.071Z"
   },
   {
    "duration": 822,
    "start_time": "2024-12-19T02:02:08.079Z"
   },
   {
    "duration": 0,
    "start_time": "2024-12-19T02:02:08.903Z"
   },
   {
    "duration": 0,
    "start_time": "2024-12-19T02:02:08.904Z"
   },
   {
    "duration": 0,
    "start_time": "2024-12-19T02:02:08.906Z"
   },
   {
    "duration": 0,
    "start_time": "2024-12-19T02:02:08.907Z"
   },
   {
    "duration": 0,
    "start_time": "2024-12-19T02:02:08.908Z"
   },
   {
    "duration": 0,
    "start_time": "2024-12-19T02:02:08.910Z"
   },
   {
    "duration": 0,
    "start_time": "2024-12-19T02:02:08.912Z"
   },
   {
    "duration": 0,
    "start_time": "2024-12-19T02:02:08.913Z"
   },
   {
    "duration": 0,
    "start_time": "2024-12-19T02:02:08.915Z"
   },
   {
    "duration": 0,
    "start_time": "2024-12-19T02:02:08.916Z"
   },
   {
    "duration": 0,
    "start_time": "2024-12-19T02:02:08.918Z"
   },
   {
    "duration": 0,
    "start_time": "2024-12-19T02:02:08.919Z"
   },
   {
    "duration": 0,
    "start_time": "2024-12-19T02:02:08.942Z"
   },
   {
    "duration": 6,
    "start_time": "2024-12-19T02:02:50.104Z"
   },
   {
    "duration": 7,
    "start_time": "2024-12-19T02:03:13.994Z"
   },
   {
    "duration": 762,
    "start_time": "2024-12-19T02:03:19.682Z"
   },
   {
    "duration": 26,
    "start_time": "2024-12-19T02:03:20.445Z"
   },
   {
    "duration": 17,
    "start_time": "2024-12-19T02:03:20.472Z"
   },
   {
    "duration": 7,
    "start_time": "2024-12-19T02:03:20.494Z"
   },
   {
    "duration": 17,
    "start_time": "2024-12-19T02:03:20.505Z"
   },
   {
    "duration": 26,
    "start_time": "2024-12-19T02:03:20.523Z"
   },
   {
    "duration": 4,
    "start_time": "2024-12-19T02:03:20.552Z"
   },
   {
    "duration": 5,
    "start_time": "2024-12-19T02:03:20.558Z"
   },
   {
    "duration": 9,
    "start_time": "2024-12-19T02:03:20.565Z"
   },
   {
    "duration": 6,
    "start_time": "2024-12-19T02:03:20.577Z"
   },
   {
    "duration": 5,
    "start_time": "2024-12-19T02:03:20.584Z"
   },
   {
    "duration": 6,
    "start_time": "2024-12-19T02:03:20.591Z"
   },
   {
    "duration": 4,
    "start_time": "2024-12-19T02:03:20.599Z"
   },
   {
    "duration": 8,
    "start_time": "2024-12-19T02:03:20.643Z"
   },
   {
    "duration": 843,
    "start_time": "2024-12-19T02:03:20.652Z"
   },
   {
    "duration": 0,
    "start_time": "2024-12-19T02:03:21.497Z"
   },
   {
    "duration": 0,
    "start_time": "2024-12-19T02:03:21.499Z"
   },
   {
    "duration": 0,
    "start_time": "2024-12-19T02:03:21.500Z"
   },
   {
    "duration": 0,
    "start_time": "2024-12-19T02:03:21.502Z"
   },
   {
    "duration": 0,
    "start_time": "2024-12-19T02:03:21.503Z"
   },
   {
    "duration": 0,
    "start_time": "2024-12-19T02:03:21.505Z"
   },
   {
    "duration": 0,
    "start_time": "2024-12-19T02:03:21.506Z"
   },
   {
    "duration": 0,
    "start_time": "2024-12-19T02:03:21.507Z"
   },
   {
    "duration": 0,
    "start_time": "2024-12-19T02:03:21.509Z"
   },
   {
    "duration": 0,
    "start_time": "2024-12-19T02:03:21.509Z"
   },
   {
    "duration": 0,
    "start_time": "2024-12-19T02:03:21.511Z"
   },
   {
    "duration": 0,
    "start_time": "2024-12-19T02:03:21.511Z"
   },
   {
    "duration": 0,
    "start_time": "2024-12-19T02:03:21.512Z"
   },
   {
    "duration": 6,
    "start_time": "2024-12-19T02:03:40.419Z"
   },
   {
    "duration": 4,
    "start_time": "2024-12-19T02:13:59.484Z"
   },
   {
    "duration": 13,
    "start_time": "2024-12-19T02:14:28.405Z"
   },
   {
    "duration": 8,
    "start_time": "2024-12-19T02:15:34.087Z"
   },
   {
    "duration": 729,
    "start_time": "2024-12-19T02:19:30.614Z"
   },
   {
    "duration": 24,
    "start_time": "2024-12-19T02:19:31.345Z"
   },
   {
    "duration": 11,
    "start_time": "2024-12-19T02:19:31.371Z"
   },
   {
    "duration": 3,
    "start_time": "2024-12-19T02:19:31.385Z"
   },
   {
    "duration": 12,
    "start_time": "2024-12-19T02:19:31.391Z"
   },
   {
    "duration": 11,
    "start_time": "2024-12-19T02:19:31.405Z"
   },
   {
    "duration": 4,
    "start_time": "2024-12-19T02:19:31.443Z"
   },
   {
    "duration": 7,
    "start_time": "2024-12-19T02:19:31.449Z"
   },
   {
    "duration": 2,
    "start_time": "2024-12-19T02:19:31.458Z"
   },
   {
    "duration": 1,
    "start_time": "2024-12-19T02:19:31.464Z"
   },
   {
    "duration": 5,
    "start_time": "2024-12-19T02:19:31.467Z"
   },
   {
    "duration": 7,
    "start_time": "2024-12-19T02:19:31.474Z"
   },
   {
    "duration": 5,
    "start_time": "2024-12-19T02:19:31.482Z"
   },
   {
    "duration": 7,
    "start_time": "2024-12-19T02:19:31.489Z"
   },
   {
    "duration": 5,
    "start_time": "2024-12-19T02:19:31.543Z"
   },
   {
    "duration": 4,
    "start_time": "2024-12-19T02:19:31.549Z"
   },
   {
    "duration": 13,
    "start_time": "2024-12-19T02:19:31.554Z"
   },
   {
    "duration": 4,
    "start_time": "2024-12-19T02:19:31.569Z"
   },
   {
    "duration": 2,
    "start_time": "2024-12-19T02:19:31.575Z"
   },
   {
    "duration": 5,
    "start_time": "2024-12-19T02:19:31.578Z"
   },
   {
    "duration": 2,
    "start_time": "2024-12-19T02:19:31.585Z"
   },
   {
    "duration": 3,
    "start_time": "2024-12-19T02:19:31.589Z"
   },
   {
    "duration": 3,
    "start_time": "2024-12-19T02:19:31.593Z"
   },
   {
    "duration": 3,
    "start_time": "2024-12-19T02:19:31.597Z"
   },
   {
    "duration": 43,
    "start_time": "2024-12-19T02:19:31.601Z"
   },
   {
    "duration": 3,
    "start_time": "2024-12-19T02:19:31.645Z"
   },
   {
    "duration": 3,
    "start_time": "2024-12-19T02:19:31.649Z"
   },
   {
    "duration": 5,
    "start_time": "2024-12-19T02:22:07.185Z"
   },
   {
    "duration": 6,
    "start_time": "2024-12-19T02:22:13.140Z"
   },
   {
    "duration": 6,
    "start_time": "2024-12-19T02:22:44.247Z"
   },
   {
    "duration": 5,
    "start_time": "2024-12-19T02:24:04.135Z"
   },
   {
    "duration": 4,
    "start_time": "2024-12-19T02:24:36.053Z"
   },
   {
    "duration": 4,
    "start_time": "2024-12-19T02:36:15.829Z"
   },
   {
    "duration": 374,
    "start_time": "2024-12-19T02:36:53.069Z"
   },
   {
    "duration": 4,
    "start_time": "2024-12-19T02:37:24.215Z"
   },
   {
    "duration": 22,
    "start_time": "2024-12-19T02:37:42.747Z"
   },
   {
    "duration": 818,
    "start_time": "2024-12-19T02:39:04.554Z"
   },
   {
    "duration": 34,
    "start_time": "2024-12-19T02:39:05.374Z"
   },
   {
    "duration": 13,
    "start_time": "2024-12-19T02:39:05.410Z"
   },
   {
    "duration": 4,
    "start_time": "2024-12-19T02:39:05.425Z"
   },
   {
    "duration": 14,
    "start_time": "2024-12-19T02:39:05.442Z"
   },
   {
    "duration": 13,
    "start_time": "2024-12-19T02:39:05.458Z"
   },
   {
    "duration": 4,
    "start_time": "2024-12-19T02:39:05.473Z"
   },
   {
    "duration": 7,
    "start_time": "2024-12-19T02:39:05.478Z"
   },
   {
    "duration": 6,
    "start_time": "2024-12-19T02:39:05.488Z"
   },
   {
    "duration": 4,
    "start_time": "2024-12-19T02:39:05.496Z"
   },
   {
    "duration": 50,
    "start_time": "2024-12-19T02:39:05.501Z"
   },
   {
    "duration": 2,
    "start_time": "2024-12-19T02:39:05.553Z"
   },
   {
    "duration": 3,
    "start_time": "2024-12-19T02:39:05.557Z"
   },
   {
    "duration": 5,
    "start_time": "2024-12-19T02:39:05.565Z"
   },
   {
    "duration": 10,
    "start_time": "2024-12-19T02:39:05.573Z"
   },
   {
    "duration": 5,
    "start_time": "2024-12-19T02:39:05.586Z"
   },
   {
    "duration": 8,
    "start_time": "2024-12-19T02:39:05.593Z"
   },
   {
    "duration": 4,
    "start_time": "2024-12-19T02:39:05.603Z"
   },
   {
    "duration": 3,
    "start_time": "2024-12-19T02:39:05.642Z"
   },
   {
    "duration": 15,
    "start_time": "2024-12-19T02:39:05.647Z"
   },
   {
    "duration": 2,
    "start_time": "2024-12-19T02:39:05.664Z"
   },
   {
    "duration": 2,
    "start_time": "2024-12-19T02:39:05.668Z"
   },
   {
    "duration": 2,
    "start_time": "2024-12-19T02:39:05.672Z"
   },
   {
    "duration": 3,
    "start_time": "2024-12-19T02:39:05.675Z"
   },
   {
    "duration": 3,
    "start_time": "2024-12-19T02:39:05.679Z"
   },
   {
    "duration": 3,
    "start_time": "2024-12-19T02:39:05.684Z"
   },
   {
    "duration": 2,
    "start_time": "2024-12-19T02:39:05.689Z"
   },
   {
    "duration": 2,
    "start_time": "2024-12-19T02:39:05.693Z"
   },
   {
    "duration": 45,
    "start_time": "2024-12-19T02:39:05.697Z"
   },
   {
    "duration": 2,
    "start_time": "2024-12-19T02:39:05.744Z"
   },
   {
    "duration": 12189,
    "start_time": "2024-12-19T02:44:46.265Z"
   },
   {
    "duration": 503,
    "start_time": "2024-12-19T02:50:19.373Z"
   },
   {
    "duration": 5,
    "start_time": "2024-12-19T02:51:46.779Z"
   },
   {
    "duration": 5106,
    "start_time": "2024-12-19T02:51:52.758Z"
   },
   {
    "duration": 18,
    "start_time": "2024-12-19T02:54:00.850Z"
   },
   {
    "duration": 18,
    "start_time": "2024-12-19T02:54:14.178Z"
   },
   {
    "duration": 6,
    "start_time": "2024-12-19T02:54:18.561Z"
   },
   {
    "duration": 24,
    "start_time": "2024-12-19T02:54:20.772Z"
   },
   {
    "duration": 15,
    "start_time": "2024-12-19T02:54:28.093Z"
   },
   {
    "duration": 5,
    "start_time": "2024-12-19T02:54:53.522Z"
   },
   {
    "duration": 16,
    "start_time": "2024-12-19T02:58:35.399Z"
   },
   {
    "duration": 756,
    "start_time": "2024-12-19T02:58:48.808Z"
   },
   {
    "duration": 26,
    "start_time": "2024-12-19T02:58:49.567Z"
   },
   {
    "duration": 12,
    "start_time": "2024-12-19T02:58:49.594Z"
   },
   {
    "duration": 4,
    "start_time": "2024-12-19T02:58:49.608Z"
   },
   {
    "duration": 34,
    "start_time": "2024-12-19T02:58:49.614Z"
   },
   {
    "duration": 17,
    "start_time": "2024-12-19T02:58:49.651Z"
   },
   {
    "duration": 4,
    "start_time": "2024-12-19T02:58:49.671Z"
   },
   {
    "duration": 7,
    "start_time": "2024-12-19T02:58:49.679Z"
   },
   {
    "duration": 7,
    "start_time": "2024-12-19T02:58:49.687Z"
   },
   {
    "duration": 3,
    "start_time": "2024-12-19T02:58:49.697Z"
   },
   {
    "duration": 52,
    "start_time": "2024-12-19T02:58:49.702Z"
   },
   {
    "duration": 19,
    "start_time": "2024-12-19T02:58:49.755Z"
   },
   {
    "duration": 12,
    "start_time": "2024-12-19T02:58:49.777Z"
   },
   {
    "duration": 7,
    "start_time": "2024-12-19T02:58:49.790Z"
   },
   {
    "duration": 2,
    "start_time": "2024-12-19T02:58:49.799Z"
   },
   {
    "duration": 2,
    "start_time": "2024-12-19T02:58:49.803Z"
   },
   {
    "duration": 5,
    "start_time": "2024-12-19T02:58:49.806Z"
   },
   {
    "duration": 31,
    "start_time": "2024-12-19T02:58:49.812Z"
   },
   {
    "duration": 4,
    "start_time": "2024-12-19T02:58:49.845Z"
   },
   {
    "duration": 7,
    "start_time": "2024-12-19T02:58:49.851Z"
   },
   {
    "duration": 4,
    "start_time": "2024-12-19T02:58:49.860Z"
   },
   {
    "duration": 4,
    "start_time": "2024-12-19T02:58:49.865Z"
   },
   {
    "duration": 14,
    "start_time": "2024-12-19T02:58:49.870Z"
   },
   {
    "duration": 2,
    "start_time": "2024-12-19T02:58:49.886Z"
   },
   {
    "duration": 3,
    "start_time": "2024-12-19T02:58:49.890Z"
   },
   {
    "duration": 3,
    "start_time": "2024-12-19T02:58:49.894Z"
   },
   {
    "duration": 2,
    "start_time": "2024-12-19T02:58:49.899Z"
   },
   {
    "duration": 2,
    "start_time": "2024-12-19T02:58:49.946Z"
   },
   {
    "duration": 2,
    "start_time": "2024-12-19T02:58:49.950Z"
   },
   {
    "duration": 3,
    "start_time": "2024-12-19T02:58:49.954Z"
   },
   {
    "duration": 4,
    "start_time": "2024-12-19T02:58:49.958Z"
   },
   {
    "duration": 2,
    "start_time": "2024-12-19T02:58:49.963Z"
   },
   {
    "duration": 2,
    "start_time": "2024-12-19T02:58:49.967Z"
   },
   {
    "duration": 16,
    "start_time": "2024-12-19T03:02:51.954Z"
   },
   {
    "duration": 17,
    "start_time": "2024-12-19T03:04:45.863Z"
   },
   {
    "duration": 17,
    "start_time": "2024-12-19T03:05:38.411Z"
   },
   {
    "duration": 244,
    "start_time": "2024-12-19T03:05:59.322Z"
   },
   {
    "duration": 3,
    "start_time": "2024-12-19T03:06:47.434Z"
   },
   {
    "duration": 5,
    "start_time": "2024-12-19T03:06:51.585Z"
   },
   {
    "duration": 4,
    "start_time": "2024-12-19T03:06:53.332Z"
   },
   {
    "duration": 21,
    "start_time": "2024-12-19T03:07:21.932Z"
   },
   {
    "duration": 3,
    "start_time": "2024-12-19T03:07:30.198Z"
   },
   {
    "duration": 21,
    "start_time": "2024-12-19T03:08:42.080Z"
   },
   {
    "duration": 3,
    "start_time": "2024-12-19T03:10:14.036Z"
   },
   {
    "duration": 5,
    "start_time": "2024-12-19T03:10:22.771Z"
   },
   {
    "duration": 7,
    "start_time": "2024-12-19T03:10:38.571Z"
   },
   {
    "duration": 3,
    "start_time": "2024-12-19T03:19:43.371Z"
   },
   {
    "duration": 3,
    "start_time": "2024-12-19T03:20:02.684Z"
   },
   {
    "duration": 4,
    "start_time": "2024-12-19T03:20:05.651Z"
   },
   {
    "duration": 4,
    "start_time": "2024-12-19T03:24:43.324Z"
   },
   {
    "duration": 3,
    "start_time": "2024-12-19T03:26:17.350Z"
   },
   {
    "duration": 4,
    "start_time": "2024-12-19T03:26:19.637Z"
   },
   {
    "duration": 2,
    "start_time": "2024-12-19T03:26:33.284Z"
   },
   {
    "duration": 746,
    "start_time": "2024-12-19T03:28:05.191Z"
   },
   {
    "duration": 24,
    "start_time": "2024-12-19T03:28:05.942Z"
   },
   {
    "duration": 11,
    "start_time": "2024-12-19T03:28:05.968Z"
   },
   {
    "duration": 4,
    "start_time": "2024-12-19T03:28:05.980Z"
   },
   {
    "duration": 13,
    "start_time": "2024-12-19T03:28:05.987Z"
   },
   {
    "duration": 11,
    "start_time": "2024-12-19T03:28:06.002Z"
   },
   {
    "duration": 4,
    "start_time": "2024-12-19T03:28:06.014Z"
   },
   {
    "duration": 7,
    "start_time": "2024-12-19T03:28:06.043Z"
   },
   {
    "duration": 5,
    "start_time": "2024-12-19T03:28:06.052Z"
   },
   {
    "duration": 3,
    "start_time": "2024-12-19T03:28:06.060Z"
   },
   {
    "duration": 11,
    "start_time": "2024-12-19T03:28:06.065Z"
   },
   {
    "duration": 4,
    "start_time": "2024-12-19T03:28:06.077Z"
   },
   {
    "duration": 3,
    "start_time": "2024-12-19T03:28:06.083Z"
   },
   {
    "duration": 5,
    "start_time": "2024-12-19T03:28:06.090Z"
   },
   {
    "duration": 61,
    "start_time": "2024-12-19T03:28:06.097Z"
   },
   {
    "duration": 2,
    "start_time": "2024-12-19T03:28:06.160Z"
   },
   {
    "duration": 4,
    "start_time": "2024-12-19T03:28:06.163Z"
   },
   {
    "duration": 4,
    "start_time": "2024-12-19T03:28:06.169Z"
   },
   {
    "duration": 2,
    "start_time": "2024-12-19T03:28:06.175Z"
   },
   {
    "duration": 2,
    "start_time": "2024-12-19T03:28:06.179Z"
   },
   {
    "duration": 2,
    "start_time": "2024-12-19T03:28:06.183Z"
   },
   {
    "duration": 5,
    "start_time": "2024-12-19T03:28:06.186Z"
   },
   {
    "duration": 8,
    "start_time": "2024-12-19T03:28:06.193Z"
   },
   {
    "duration": 4,
    "start_time": "2024-12-19T03:28:06.243Z"
   },
   {
    "duration": 7,
    "start_time": "2024-12-19T03:28:06.249Z"
   },
   {
    "duration": 4,
    "start_time": "2024-12-19T03:28:06.261Z"
   },
   {
    "duration": 2,
    "start_time": "2024-12-19T03:28:06.267Z"
   },
   {
    "duration": 12,
    "start_time": "2024-12-19T03:28:06.271Z"
   },
   {
    "duration": 2,
    "start_time": "2024-12-19T03:28:06.285Z"
   },
   {
    "duration": 3,
    "start_time": "2024-12-19T03:28:06.288Z"
   },
   {
    "duration": 3,
    "start_time": "2024-12-19T03:28:06.292Z"
   },
   {
    "duration": 2,
    "start_time": "2024-12-19T03:28:06.296Z"
   },
   {
    "duration": 2,
    "start_time": "2024-12-19T03:28:06.300Z"
   },
   {
    "duration": 2,
    "start_time": "2024-12-19T03:28:06.343Z"
   },
   {
    "duration": 2,
    "start_time": "2024-12-19T03:28:06.347Z"
   },
   {
    "duration": 2,
    "start_time": "2024-12-19T03:28:06.351Z"
   },
   {
    "duration": 2,
    "start_time": "2024-12-19T03:28:06.355Z"
   },
   {
    "duration": 2,
    "start_time": "2024-12-19T03:28:06.359Z"
   },
   {
    "duration": 11,
    "start_time": "2024-12-19T03:30:55.012Z"
   },
   {
    "duration": 746,
    "start_time": "2024-12-19T03:31:00.685Z"
   },
   {
    "duration": 31,
    "start_time": "2024-12-19T03:31:01.433Z"
   },
   {
    "duration": 12,
    "start_time": "2024-12-19T03:31:01.465Z"
   },
   {
    "duration": 4,
    "start_time": "2024-12-19T03:31:01.479Z"
   },
   {
    "duration": 14,
    "start_time": "2024-12-19T03:31:01.486Z"
   },
   {
    "duration": 41,
    "start_time": "2024-12-19T03:31:01.502Z"
   },
   {
    "duration": 5,
    "start_time": "2024-12-19T03:31:01.544Z"
   },
   {
    "duration": 8,
    "start_time": "2024-12-19T03:31:01.550Z"
   },
   {
    "duration": 5,
    "start_time": "2024-12-19T03:31:01.560Z"
   },
   {
    "duration": 3,
    "start_time": "2024-12-19T03:31:01.567Z"
   },
   {
    "duration": 13,
    "start_time": "2024-12-19T03:31:01.572Z"
   },
   {
    "duration": 4,
    "start_time": "2024-12-19T03:31:01.587Z"
   },
   {
    "duration": 4,
    "start_time": "2024-12-19T03:31:01.592Z"
   },
   {
    "duration": 44,
    "start_time": "2024-12-19T03:31:01.600Z"
   },
   {
    "duration": 19,
    "start_time": "2024-12-19T03:31:01.646Z"
   },
   {
    "duration": 3,
    "start_time": "2024-12-19T03:31:01.666Z"
   },
   {
    "duration": 5,
    "start_time": "2024-12-19T03:31:01.671Z"
   },
   {
    "duration": 4,
    "start_time": "2024-12-19T03:31:01.677Z"
   },
   {
    "duration": 2,
    "start_time": "2024-12-19T03:31:01.683Z"
   },
   {
    "duration": 2,
    "start_time": "2024-12-19T03:31:01.687Z"
   },
   {
    "duration": 2,
    "start_time": "2024-12-19T03:31:01.691Z"
   },
   {
    "duration": 52,
    "start_time": "2024-12-19T03:31:01.694Z"
   },
   {
    "duration": 8,
    "start_time": "2024-12-19T03:31:01.747Z"
   },
   {
    "duration": 4,
    "start_time": "2024-12-19T03:31:01.757Z"
   },
   {
    "duration": 7,
    "start_time": "2024-12-19T03:31:01.763Z"
   },
   {
    "duration": 4,
    "start_time": "2024-12-19T03:31:01.773Z"
   },
   {
    "duration": 3,
    "start_time": "2024-12-19T03:31:01.778Z"
   },
   {
    "duration": 12,
    "start_time": "2024-12-19T03:31:01.783Z"
   },
   {
    "duration": 2,
    "start_time": "2024-12-19T03:31:01.797Z"
   },
   {
    "duration": 43,
    "start_time": "2024-12-19T03:31:01.801Z"
   },
   {
    "duration": 2,
    "start_time": "2024-12-19T03:31:01.846Z"
   },
   {
    "duration": 2,
    "start_time": "2024-12-19T03:31:01.850Z"
   },
   {
    "duration": 2,
    "start_time": "2024-12-19T03:31:01.854Z"
   },
   {
    "duration": 3,
    "start_time": "2024-12-19T03:31:01.857Z"
   },
   {
    "duration": 2,
    "start_time": "2024-12-19T03:31:01.862Z"
   },
   {
    "duration": 2,
    "start_time": "2024-12-19T03:31:01.866Z"
   },
   {
    "duration": 3,
    "start_time": "2024-12-19T03:31:01.869Z"
   },
   {
    "duration": 2,
    "start_time": "2024-12-19T03:31:01.874Z"
   },
   {
    "duration": 4,
    "start_time": "2024-12-19T03:31:22.044Z"
   },
   {
    "duration": 12,
    "start_time": "2024-12-19T03:34:49.432Z"
   },
   {
    "duration": 10,
    "start_time": "2024-12-19T03:37:33.704Z"
   },
   {
    "duration": 710,
    "start_time": "2024-12-19T03:38:26.119Z"
   },
   {
    "duration": 29,
    "start_time": "2024-12-19T03:38:26.832Z"
   },
   {
    "duration": 12,
    "start_time": "2024-12-19T03:38:26.862Z"
   },
   {
    "duration": 4,
    "start_time": "2024-12-19T03:38:26.875Z"
   },
   {
    "duration": 14,
    "start_time": "2024-12-19T03:38:26.881Z"
   },
   {
    "duration": 11,
    "start_time": "2024-12-19T03:38:26.897Z"
   },
   {
    "duration": 4,
    "start_time": "2024-12-19T03:38:26.910Z"
   },
   {
    "duration": 8,
    "start_time": "2024-12-19T03:38:26.943Z"
   },
   {
    "duration": 7,
    "start_time": "2024-12-19T03:38:26.952Z"
   },
   {
    "duration": 3,
    "start_time": "2024-12-19T03:38:26.961Z"
   },
   {
    "duration": 10,
    "start_time": "2024-12-19T03:38:26.966Z"
   },
   {
    "duration": 11,
    "start_time": "2024-12-19T03:38:26.977Z"
   },
   {
    "duration": 4,
    "start_time": "2024-12-19T03:38:26.990Z"
   },
   {
    "duration": 2,
    "start_time": "2024-12-19T03:38:26.998Z"
   },
   {
    "duration": 44,
    "start_time": "2024-12-19T03:38:27.002Z"
   },
   {
    "duration": 18,
    "start_time": "2024-12-19T03:38:27.048Z"
   },
   {
    "duration": 3,
    "start_time": "2024-12-19T03:38:27.067Z"
   },
   {
    "duration": 4,
    "start_time": "2024-12-19T03:38:27.071Z"
   },
   {
    "duration": 5,
    "start_time": "2024-12-19T03:38:27.076Z"
   },
   {
    "duration": 4,
    "start_time": "2024-12-19T03:38:27.082Z"
   },
   {
    "duration": 3,
    "start_time": "2024-12-19T03:38:27.087Z"
   },
   {
    "duration": 4,
    "start_time": "2024-12-19T03:38:27.091Z"
   },
   {
    "duration": 48,
    "start_time": "2024-12-19T03:38:27.097Z"
   },
   {
    "duration": 6,
    "start_time": "2024-12-19T03:38:27.146Z"
   },
   {
    "duration": 8,
    "start_time": "2024-12-19T03:38:27.153Z"
   },
   {
    "duration": 4,
    "start_time": "2024-12-19T03:38:27.163Z"
   },
   {
    "duration": 3,
    "start_time": "2024-12-19T03:38:27.168Z"
   },
   {
    "duration": 11,
    "start_time": "2024-12-19T03:38:27.173Z"
   },
   {
    "duration": 3,
    "start_time": "2024-12-19T03:38:27.185Z"
   },
   {
    "duration": 2,
    "start_time": "2024-12-19T03:38:27.189Z"
   },
   {
    "duration": 3,
    "start_time": "2024-12-19T03:38:27.192Z"
   },
   {
    "duration": 3,
    "start_time": "2024-12-19T03:38:27.196Z"
   },
   {
    "duration": 3,
    "start_time": "2024-12-19T03:38:27.243Z"
   },
   {
    "duration": 3,
    "start_time": "2024-12-19T03:38:27.247Z"
   },
   {
    "duration": 3,
    "start_time": "2024-12-19T03:38:27.251Z"
   },
   {
    "duration": 2,
    "start_time": "2024-12-19T03:38:27.255Z"
   },
   {
    "duration": 2,
    "start_time": "2024-12-19T03:38:27.259Z"
   },
   {
    "duration": 3,
    "start_time": "2024-12-19T03:38:27.263Z"
   },
   {
    "duration": 627,
    "start_time": "2024-12-19T03:42:18.020Z"
   },
   {
    "duration": 9,
    "start_time": "2024-12-19T03:42:35.771Z"
   },
   {
    "duration": 8,
    "start_time": "2024-12-19T03:42:43.804Z"
   },
   {
    "duration": 765,
    "start_time": "2024-12-19T03:42:52.677Z"
   },
   {
    "duration": 24,
    "start_time": "2024-12-19T03:42:53.444Z"
   },
   {
    "duration": 11,
    "start_time": "2024-12-19T03:42:53.470Z"
   },
   {
    "duration": 4,
    "start_time": "2024-12-19T03:42:53.483Z"
   },
   {
    "duration": 13,
    "start_time": "2024-12-19T03:42:53.488Z"
   },
   {
    "duration": 11,
    "start_time": "2024-12-19T03:42:53.503Z"
   },
   {
    "duration": 5,
    "start_time": "2024-12-19T03:42:53.543Z"
   },
   {
    "duration": 10,
    "start_time": "2024-12-19T03:42:53.549Z"
   },
   {
    "duration": 7,
    "start_time": "2024-12-19T03:42:53.560Z"
   },
   {
    "duration": 4,
    "start_time": "2024-12-19T03:42:53.570Z"
   },
   {
    "duration": 11,
    "start_time": "2024-12-19T03:42:53.575Z"
   },
   {
    "duration": 7,
    "start_time": "2024-12-19T03:42:53.587Z"
   },
   {
    "duration": 7,
    "start_time": "2024-12-19T03:42:53.595Z"
   },
   {
    "duration": 49,
    "start_time": "2024-12-19T03:42:53.603Z"
   },
   {
    "duration": 5,
    "start_time": "2024-12-19T03:42:53.654Z"
   },
   {
    "duration": 3,
    "start_time": "2024-12-19T03:42:53.662Z"
   },
   {
    "duration": 6,
    "start_time": "2024-12-19T03:42:53.667Z"
   },
   {
    "duration": 18,
    "start_time": "2024-12-19T03:42:53.674Z"
   },
   {
    "duration": 3,
    "start_time": "2024-12-19T03:42:53.693Z"
   },
   {
    "duration": 3,
    "start_time": "2024-12-19T03:42:53.698Z"
   },
   {
    "duration": 4,
    "start_time": "2024-12-19T03:42:53.742Z"
   },
   {
    "duration": 3,
    "start_time": "2024-12-19T03:42:53.748Z"
   },
   {
    "duration": 2,
    "start_time": "2024-12-19T03:42:53.753Z"
   },
   {
    "duration": 5,
    "start_time": "2024-12-19T03:42:53.756Z"
   },
   {
    "duration": 8,
    "start_time": "2024-12-19T03:42:53.762Z"
   },
   {
    "duration": 4,
    "start_time": "2024-12-19T03:42:53.771Z"
   },
   {
    "duration": 7,
    "start_time": "2024-12-19T03:42:53.777Z"
   },
   {
    "duration": 3,
    "start_time": "2024-12-19T03:42:53.788Z"
   },
   {
    "duration": 3,
    "start_time": "2024-12-19T03:42:53.793Z"
   },
   {
    "duration": 12,
    "start_time": "2024-12-19T03:42:53.842Z"
   },
   {
    "duration": 2,
    "start_time": "2024-12-19T03:42:53.856Z"
   },
   {
    "duration": 3,
    "start_time": "2024-12-19T03:42:53.860Z"
   },
   {
    "duration": 2,
    "start_time": "2024-12-19T03:42:53.865Z"
   },
   {
    "duration": 3,
    "start_time": "2024-12-19T03:42:53.868Z"
   },
   {
    "duration": 2,
    "start_time": "2024-12-19T03:42:53.872Z"
   },
   {
    "duration": 2,
    "start_time": "2024-12-19T03:42:53.877Z"
   },
   {
    "duration": 2,
    "start_time": "2024-12-19T03:42:53.881Z"
   },
   {
    "duration": 2,
    "start_time": "2024-12-19T03:42:53.885Z"
   },
   {
    "duration": 3,
    "start_time": "2024-12-19T03:42:53.888Z"
   },
   {
    "duration": 2,
    "start_time": "2024-12-19T03:42:53.892Z"
   },
   {
    "duration": 739,
    "start_time": "2024-12-19T03:48:46.010Z"
   },
   {
    "duration": 25,
    "start_time": "2024-12-19T03:48:46.751Z"
   },
   {
    "duration": 12,
    "start_time": "2024-12-19T03:48:46.781Z"
   },
   {
    "duration": 4,
    "start_time": "2024-12-19T03:48:46.795Z"
   },
   {
    "duration": 13,
    "start_time": "2024-12-19T03:48:46.800Z"
   },
   {
    "duration": 38,
    "start_time": "2024-12-19T03:48:46.815Z"
   },
   {
    "duration": 5,
    "start_time": "2024-12-19T03:48:46.854Z"
   },
   {
    "duration": 8,
    "start_time": "2024-12-19T03:48:46.860Z"
   },
   {
    "duration": 6,
    "start_time": "2024-12-19T03:48:46.871Z"
   },
   {
    "duration": 4,
    "start_time": "2024-12-19T03:48:46.878Z"
   },
   {
    "duration": 10,
    "start_time": "2024-12-19T03:48:46.884Z"
   },
   {
    "duration": 8,
    "start_time": "2024-12-19T03:48:46.895Z"
   },
   {
    "duration": 46,
    "start_time": "2024-12-19T03:48:46.904Z"
   },
   {
    "duration": 11,
    "start_time": "2024-12-19T03:48:46.953Z"
   },
   {
    "duration": 4,
    "start_time": "2024-12-19T03:48:46.966Z"
   },
   {
    "duration": 3,
    "start_time": "2024-12-19T03:48:46.972Z"
   },
   {
    "duration": 6,
    "start_time": "2024-12-19T03:48:46.977Z"
   },
   {
    "duration": 17,
    "start_time": "2024-12-19T03:48:46.986Z"
   },
   {
    "duration": 38,
    "start_time": "2024-12-19T03:48:47.004Z"
   },
   {
    "duration": 5,
    "start_time": "2024-12-19T03:48:47.044Z"
   },
   {
    "duration": 4,
    "start_time": "2024-12-19T03:48:47.050Z"
   },
   {
    "duration": 4,
    "start_time": "2024-12-19T03:48:47.056Z"
   },
   {
    "duration": 3,
    "start_time": "2024-12-19T03:48:47.062Z"
   },
   {
    "duration": 4,
    "start_time": "2024-12-19T03:48:47.067Z"
   },
   {
    "duration": 8,
    "start_time": "2024-12-19T03:48:47.072Z"
   },
   {
    "duration": 5,
    "start_time": "2024-12-19T03:48:47.082Z"
   },
   {
    "duration": 8,
    "start_time": "2024-12-19T03:48:47.091Z"
   },
   {
    "duration": 45,
    "start_time": "2024-12-19T03:48:47.100Z"
   },
   {
    "duration": 4,
    "start_time": "2024-12-19T03:48:47.147Z"
   },
   {
    "duration": 12,
    "start_time": "2024-12-19T03:48:47.152Z"
   },
   {
    "duration": 2,
    "start_time": "2024-12-19T03:48:47.166Z"
   },
   {
    "duration": 3,
    "start_time": "2024-12-19T03:48:47.169Z"
   },
   {
    "duration": 2,
    "start_time": "2024-12-19T03:48:47.174Z"
   },
   {
    "duration": 2,
    "start_time": "2024-12-19T03:48:47.178Z"
   },
   {
    "duration": 3,
    "start_time": "2024-12-19T03:48:47.182Z"
   },
   {
    "duration": 2,
    "start_time": "2024-12-19T03:48:47.186Z"
   },
   {
    "duration": 3,
    "start_time": "2024-12-19T03:48:47.190Z"
   },
   {
    "duration": 48,
    "start_time": "2024-12-19T03:48:47.194Z"
   },
   {
    "duration": 3,
    "start_time": "2024-12-19T03:48:47.243Z"
   },
   {
    "duration": 2,
    "start_time": "2024-12-19T03:48:47.248Z"
   },
   {
    "duration": 4,
    "start_time": "2024-12-19T03:59:34.799Z"
   },
   {
    "duration": 16,
    "start_time": "2024-12-19T03:59:37.185Z"
   },
   {
    "duration": 2,
    "start_time": "2024-12-19T04:06:58.105Z"
   },
   {
    "duration": 137,
    "start_time": "2024-12-19T04:08:57.452Z"
   },
   {
    "duration": 122,
    "start_time": "2024-12-19T04:09:02.214Z"
   },
   {
    "duration": 3,
    "start_time": "2024-12-19T04:10:17.552Z"
   },
   {
    "duration": 10,
    "start_time": "2024-12-19T04:10:24.195Z"
   },
   {
    "duration": 5,
    "start_time": "2024-12-19T04:10:35.899Z"
   },
   {
    "duration": 837,
    "start_time": "2024-12-19T04:14:44.562Z"
   },
   {
    "duration": 133,
    "start_time": "2024-12-19T04:15:17.927Z"
   },
   {
    "duration": 134,
    "start_time": "2024-12-19T04:15:32.566Z"
   },
   {
    "duration": 29,
    "start_time": "2024-12-19T04:16:28.555Z"
   },
   {
    "duration": 263,
    "start_time": "2024-12-19T04:16:36.966Z"
   },
   {
    "duration": 219,
    "start_time": "2024-12-19T04:16:50.787Z"
   },
   {
    "duration": 49,
    "start_time": "2024-12-19T04:17:15.625Z"
   },
   {
    "duration": 13,
    "start_time": "2024-12-19T04:17:23.721Z"
   },
   {
    "duration": 5,
    "start_time": "2024-12-19T04:18:46.994Z"
   },
   {
    "duration": 105,
    "start_time": "2024-12-19T04:19:24.764Z"
   },
   {
    "duration": 122,
    "start_time": "2024-12-19T04:19:34.719Z"
   },
   {
    "duration": 235,
    "start_time": "2024-12-19T04:19:57.185Z"
   },
   {
    "duration": 139,
    "start_time": "2024-12-19T04:21:00.713Z"
   },
   {
    "duration": 4,
    "start_time": "2024-12-19T04:22:03.698Z"
   },
   {
    "duration": 5,
    "start_time": "2024-12-19T04:22:07.055Z"
   },
   {
    "duration": 2694,
    "start_time": "2024-12-20T00:04:37.212Z"
   },
   {
    "duration": 38,
    "start_time": "2024-12-20T00:04:39.910Z"
   },
   {
    "duration": 13,
    "start_time": "2024-12-20T00:04:39.949Z"
   },
   {
    "duration": 4,
    "start_time": "2024-12-20T00:04:39.966Z"
   },
   {
    "duration": 19,
    "start_time": "2024-12-20T00:04:39.972Z"
   },
   {
    "duration": 29,
    "start_time": "2024-12-20T00:04:39.993Z"
   },
   {
    "duration": 4,
    "start_time": "2024-12-20T00:04:40.025Z"
   },
   {
    "duration": 8,
    "start_time": "2024-12-20T00:04:40.031Z"
   },
   {
    "duration": 5,
    "start_time": "2024-12-20T00:04:40.041Z"
   },
   {
    "duration": 4,
    "start_time": "2024-12-20T00:04:40.048Z"
   },
   {
    "duration": 11,
    "start_time": "2024-12-20T00:04:40.053Z"
   },
   {
    "duration": 6,
    "start_time": "2024-12-20T00:04:40.066Z"
   },
   {
    "duration": 41,
    "start_time": "2024-12-20T00:04:40.075Z"
   },
   {
    "duration": 16,
    "start_time": "2024-12-20T00:04:40.118Z"
   },
   {
    "duration": 5,
    "start_time": "2024-12-20T00:04:40.135Z"
   },
   {
    "duration": 3,
    "start_time": "2024-12-20T00:04:40.141Z"
   },
   {
    "duration": 6,
    "start_time": "2024-12-20T00:04:40.146Z"
   },
   {
    "duration": 54,
    "start_time": "2024-12-20T00:04:40.154Z"
   },
   {
    "duration": 4,
    "start_time": "2024-12-20T00:04:40.211Z"
   },
   {
    "duration": 4,
    "start_time": "2024-12-20T00:04:40.216Z"
   },
   {
    "duration": 4,
    "start_time": "2024-12-20T00:04:40.222Z"
   },
   {
    "duration": 4,
    "start_time": "2024-12-20T00:04:40.227Z"
   },
   {
    "duration": 3,
    "start_time": "2024-12-20T00:04:40.232Z"
   },
   {
    "duration": 3,
    "start_time": "2024-12-20T00:04:40.236Z"
   },
   {
    "duration": 4,
    "start_time": "2024-12-20T00:04:40.241Z"
   },
   {
    "duration": 8,
    "start_time": "2024-12-20T00:04:40.247Z"
   },
   {
    "duration": 4,
    "start_time": "2024-12-20T00:04:40.257Z"
   },
   {
    "duration": 48,
    "start_time": "2024-12-20T00:04:40.262Z"
   },
   {
    "duration": 15,
    "start_time": "2024-12-20T00:04:40.312Z"
   },
   {
    "duration": 3,
    "start_time": "2024-12-20T00:04:40.329Z"
   },
   {
    "duration": 18,
    "start_time": "2024-12-20T00:04:40.334Z"
   },
   {
    "duration": 5,
    "start_time": "2024-12-20T00:04:40.353Z"
   },
   {
    "duration": 5,
    "start_time": "2024-12-20T00:04:40.362Z"
   },
   {
    "duration": 183,
    "start_time": "2024-12-20T00:04:40.370Z"
   },
   {
    "duration": 2,
    "start_time": "2024-12-20T00:04:40.555Z"
   },
   {
    "duration": 2,
    "start_time": "2024-12-20T00:04:40.559Z"
   },
   {
    "duration": 4,
    "start_time": "2024-12-20T00:04:40.563Z"
   },
   {
    "duration": 2,
    "start_time": "2024-12-20T00:04:40.569Z"
   },
   {
    "duration": 3,
    "start_time": "2024-12-20T00:04:40.573Z"
   },
   {
    "duration": 28,
    "start_time": "2024-12-20T00:04:40.581Z"
   },
   {
    "duration": 3,
    "start_time": "2024-12-20T00:04:40.611Z"
   },
   {
    "duration": 3,
    "start_time": "2024-12-20T00:04:40.615Z"
   },
   {
    "duration": 3,
    "start_time": "2024-12-20T00:04:40.620Z"
   },
   {
    "duration": 3,
    "start_time": "2024-12-20T00:04:40.624Z"
   },
   {
    "duration": 4,
    "start_time": "2024-12-20T00:09:46.662Z"
   },
   {
    "duration": 160,
    "start_time": "2024-12-20T00:09:47.604Z"
   },
   {
    "duration": 5,
    "start_time": "2024-12-20T00:12:40.385Z"
   },
   {
    "duration": 7,
    "start_time": "2024-12-20T00:12:46.240Z"
   },
   {
    "duration": 11,
    "start_time": "2024-12-20T00:13:47.325Z"
   },
   {
    "duration": 10,
    "start_time": "2024-12-20T00:13:54.402Z"
   },
   {
    "duration": 9,
    "start_time": "2024-12-20T00:13:58.658Z"
   },
   {
    "duration": 6,
    "start_time": "2024-12-20T00:15:20.622Z"
   },
   {
    "duration": 10,
    "start_time": "2024-12-20T00:15:29.861Z"
   },
   {
    "duration": 65,
    "start_time": "2024-12-20T00:25:23.604Z"
   },
   {
    "duration": 222,
    "start_time": "2024-12-20T00:28:36.959Z"
   },
   {
    "duration": 496,
    "start_time": "2024-12-20T00:28:44.770Z"
   },
   {
    "duration": 74,
    "start_time": "2024-12-20T00:32:57.341Z"
   },
   {
    "duration": 17,
    "start_time": "2024-12-20T00:33:02.211Z"
   },
   {
    "duration": 38,
    "start_time": "2024-12-20T00:33:05.027Z"
   },
   {
    "duration": 11,
    "start_time": "2024-12-20T00:33:37.025Z"
   },
   {
    "duration": 563,
    "start_time": "2024-12-20T00:33:58.046Z"
   },
   {
    "duration": 374,
    "start_time": "2024-12-20T00:34:35.603Z"
   },
   {
    "duration": 8,
    "start_time": "2024-12-20T00:44:34.844Z"
   },
   {
    "duration": 9,
    "start_time": "2024-12-20T00:47:57.959Z"
   },
   {
    "duration": 8,
    "start_time": "2024-12-20T00:49:01.510Z"
   },
   {
    "duration": 320,
    "start_time": "2024-12-20T00:49:30.260Z"
   },
   {
    "duration": 7,
    "start_time": "2024-12-20T00:49:41.988Z"
   },
   {
    "duration": 6,
    "start_time": "2024-12-20T00:49:54.990Z"
   },
   {
    "duration": 20,
    "start_time": "2024-12-20T00:50:06.823Z"
   },
   {
    "duration": 17,
    "start_time": "2024-12-20T00:50:10.088Z"
   },
   {
    "duration": 6,
    "start_time": "2024-12-20T00:50:51.587Z"
   },
   {
    "duration": 5,
    "start_time": "2024-12-20T00:51:34.279Z"
   },
   {
    "duration": 8,
    "start_time": "2024-12-20T00:51:38.400Z"
   },
   {
    "duration": 3,
    "start_time": "2024-12-20T00:52:25.569Z"
   },
   {
    "duration": 5,
    "start_time": "2024-12-20T00:59:16.830Z"
   },
   {
    "duration": 4,
    "start_time": "2024-12-20T00:59:39.957Z"
   },
   {
    "duration": 299,
    "start_time": "2024-12-20T01:00:30.025Z"
   },
   {
    "duration": 47,
    "start_time": "2024-12-20T01:01:15.423Z"
   },
   {
    "duration": 63,
    "start_time": "2024-12-20T01:01:36.961Z"
   },
   {
    "duration": 14,
    "start_time": "2024-12-20T01:03:51.796Z"
   },
   {
    "duration": 184,
    "start_time": "2024-12-20T01:04:03.111Z"
   },
   {
    "duration": 33,
    "start_time": "2024-12-20T01:39:00.226Z"
   },
   {
    "duration": 18,
    "start_time": "2024-12-20T01:39:25.820Z"
   },
   {
    "duration": 33,
    "start_time": "2024-12-20T01:44:21.275Z"
   },
   {
    "duration": 18,
    "start_time": "2024-12-20T01:44:27.371Z"
   },
   {
    "duration": 18,
    "start_time": "2024-12-20T01:59:31.174Z"
   },
   {
    "duration": 18,
    "start_time": "2024-12-20T01:59:43.242Z"
   },
   {
    "duration": 24,
    "start_time": "2024-12-20T02:01:18.242Z"
   },
   {
    "duration": 20,
    "start_time": "2024-12-20T02:03:34.180Z"
   },
   {
    "duration": 4,
    "start_time": "2024-12-20T02:16:04.657Z"
   },
   {
    "duration": 15,
    "start_time": "2024-12-20T02:16:30.188Z"
   },
   {
    "duration": 87,
    "start_time": "2024-12-20T02:17:17.121Z"
   },
   {
    "duration": 90,
    "start_time": "2024-12-20T02:17:24.851Z"
   },
   {
    "duration": 91,
    "start_time": "2024-12-20T02:18:49.495Z"
   },
   {
    "duration": 5,
    "start_time": "2024-12-20T02:23:39.062Z"
   },
   {
    "duration": 6,
    "start_time": "2024-12-20T02:24:21.191Z"
   },
   {
    "duration": 9,
    "start_time": "2024-12-20T02:24:29.436Z"
   },
   {
    "duration": 5,
    "start_time": "2024-12-20T02:24:55.996Z"
   },
   {
    "duration": 604,
    "start_time": "2024-12-20T02:24:58.507Z"
   },
   {
    "duration": 10,
    "start_time": "2024-12-20T02:25:10.377Z"
   },
   {
    "duration": 11,
    "start_time": "2024-12-20T02:25:32.174Z"
   },
   {
    "duration": 10,
    "start_time": "2024-12-20T02:25:42.679Z"
   },
   {
    "duration": 9,
    "start_time": "2024-12-20T02:28:20.767Z"
   },
   {
    "duration": 9,
    "start_time": "2024-12-20T02:28:27.929Z"
   },
   {
    "duration": 10,
    "start_time": "2024-12-20T02:28:33.174Z"
   },
   {
    "duration": 69,
    "start_time": "2024-12-20T02:35:02.501Z"
   },
   {
    "duration": 87,
    "start_time": "2024-12-20T02:35:13.930Z"
   },
   {
    "duration": 2541,
    "start_time": "2024-12-21T20:46:50.414Z"
   },
   {
    "duration": 37,
    "start_time": "2024-12-21T20:46:52.958Z"
   },
   {
    "duration": 11,
    "start_time": "2024-12-21T20:46:52.997Z"
   },
   {
    "duration": 4,
    "start_time": "2024-12-21T20:46:53.010Z"
   },
   {
    "duration": 13,
    "start_time": "2024-12-21T20:46:53.016Z"
   },
   {
    "duration": 12,
    "start_time": "2024-12-21T20:46:53.030Z"
   },
   {
    "duration": 3,
    "start_time": "2024-12-21T20:46:53.044Z"
   },
   {
    "duration": 28,
    "start_time": "2024-12-21T20:46:53.048Z"
   },
   {
    "duration": 7,
    "start_time": "2024-12-21T20:46:53.078Z"
   },
   {
    "duration": 3,
    "start_time": "2024-12-21T20:46:53.088Z"
   },
   {
    "duration": 10,
    "start_time": "2024-12-21T20:46:53.092Z"
   },
   {
    "duration": 6,
    "start_time": "2024-12-21T20:46:53.104Z"
   },
   {
    "duration": 6,
    "start_time": "2024-12-21T20:46:53.112Z"
   },
   {
    "duration": 53,
    "start_time": "2024-12-21T20:46:53.120Z"
   },
   {
    "duration": 4,
    "start_time": "2024-12-21T20:46:53.175Z"
   },
   {
    "duration": 4,
    "start_time": "2024-12-21T20:46:53.180Z"
   },
   {
    "duration": 6,
    "start_time": "2024-12-21T20:46:53.185Z"
   },
   {
    "duration": 17,
    "start_time": "2024-12-21T20:46:53.193Z"
   },
   {
    "duration": 3,
    "start_time": "2024-12-21T20:46:53.212Z"
   },
   {
    "duration": 4,
    "start_time": "2024-12-21T20:46:53.217Z"
   },
   {
    "duration": 5,
    "start_time": "2024-12-21T20:46:53.222Z"
   },
   {
    "duration": 4,
    "start_time": "2024-12-21T20:46:53.270Z"
   },
   {
    "duration": 3,
    "start_time": "2024-12-21T20:46:53.275Z"
   },
   {
    "duration": 2,
    "start_time": "2024-12-21T20:46:53.280Z"
   },
   {
    "duration": 5,
    "start_time": "2024-12-21T20:46:53.284Z"
   },
   {
    "duration": 8,
    "start_time": "2024-12-21T20:46:53.290Z"
   },
   {
    "duration": 3,
    "start_time": "2024-12-21T20:46:53.301Z"
   },
   {
    "duration": 2,
    "start_time": "2024-12-21T20:46:53.309Z"
   },
   {
    "duration": 12,
    "start_time": "2024-12-21T20:46:53.313Z"
   },
   {
    "duration": 45,
    "start_time": "2024-12-21T20:46:53.327Z"
   },
   {
    "duration": 15,
    "start_time": "2024-12-21T20:46:53.374Z"
   },
   {
    "duration": 4,
    "start_time": "2024-12-21T20:46:53.391Z"
   },
   {
    "duration": 4,
    "start_time": "2024-12-21T20:46:53.397Z"
   },
   {
    "duration": 177,
    "start_time": "2024-12-21T20:46:53.403Z"
   },
   {
    "duration": 388,
    "start_time": "2024-12-21T20:46:53.582Z"
   },
   {
    "duration": 8,
    "start_time": "2024-12-21T20:46:53.972Z"
   },
   {
    "duration": 3,
    "start_time": "2024-12-21T20:46:53.982Z"
   },
   {
    "duration": 2,
    "start_time": "2024-12-21T20:46:53.987Z"
   },
   {
    "duration": 198,
    "start_time": "2024-12-21T20:46:53.990Z"
   },
   {
    "duration": 20,
    "start_time": "2024-12-21T20:46:54.190Z"
   },
   {
    "duration": 3,
    "start_time": "2024-12-21T20:46:54.211Z"
   },
   {
    "duration": 4,
    "start_time": "2024-12-21T20:46:54.215Z"
   },
   {
    "duration": 412,
    "start_time": "2024-12-21T20:46:54.220Z"
   },
   {
    "duration": 37,
    "start_time": "2024-12-21T20:46:54.634Z"
   },
   {
    "duration": 117,
    "start_time": "2024-12-21T20:46:54.673Z"
   },
   {
    "duration": 2,
    "start_time": "2024-12-21T20:46:54.792Z"
   },
   {
    "duration": 3,
    "start_time": "2024-12-21T20:46:54.795Z"
   },
   {
    "duration": 3,
    "start_time": "2024-12-21T20:46:54.799Z"
   },
   {
    "duration": 2,
    "start_time": "2024-12-21T20:46:54.805Z"
   },
   {
    "duration": 2,
    "start_time": "2024-12-21T20:46:54.809Z"
   },
   {
    "duration": 2,
    "start_time": "2024-12-21T20:46:54.813Z"
   },
   {
    "duration": 685,
    "start_time": "2024-12-21T20:47:46.981Z"
   },
   {
    "duration": 5,
    "start_time": "2024-12-21T20:48:06.762Z"
   },
   {
    "duration": 16,
    "start_time": "2024-12-21T20:48:09.434Z"
   },
   {
    "duration": 825,
    "start_time": "2024-12-21T20:48:21.703Z"
   },
   {
    "duration": 26,
    "start_time": "2024-12-21T20:48:22.530Z"
   },
   {
    "duration": 16,
    "start_time": "2024-12-21T20:48:22.558Z"
   },
   {
    "duration": 4,
    "start_time": "2024-12-21T20:48:22.575Z"
   },
   {
    "duration": 13,
    "start_time": "2024-12-21T20:48:22.582Z"
   },
   {
    "duration": 11,
    "start_time": "2024-12-21T20:48:22.597Z"
   },
   {
    "duration": 4,
    "start_time": "2024-12-21T20:48:22.610Z"
   },
   {
    "duration": 8,
    "start_time": "2024-12-21T20:48:22.615Z"
   },
   {
    "duration": 45,
    "start_time": "2024-12-21T20:48:22.625Z"
   },
   {
    "duration": 4,
    "start_time": "2024-12-21T20:48:22.672Z"
   },
   {
    "duration": 11,
    "start_time": "2024-12-21T20:48:22.679Z"
   },
   {
    "duration": 6,
    "start_time": "2024-12-21T20:48:22.691Z"
   },
   {
    "duration": 8,
    "start_time": "2024-12-21T20:48:22.698Z"
   },
   {
    "duration": 11,
    "start_time": "2024-12-21T20:48:22.709Z"
   },
   {
    "duration": 4,
    "start_time": "2024-12-21T20:48:22.721Z"
   },
   {
    "duration": 4,
    "start_time": "2024-12-21T20:48:22.727Z"
   },
   {
    "duration": 42,
    "start_time": "2024-12-21T20:48:22.732Z"
   },
   {
    "duration": 17,
    "start_time": "2024-12-21T20:48:22.776Z"
   },
   {
    "duration": 3,
    "start_time": "2024-12-21T20:48:22.795Z"
   },
   {
    "duration": 3,
    "start_time": "2024-12-21T20:48:22.801Z"
   },
   {
    "duration": 4,
    "start_time": "2024-12-21T20:48:22.806Z"
   },
   {
    "duration": 3,
    "start_time": "2024-12-21T20:48:22.812Z"
   },
   {
    "duration": 3,
    "start_time": "2024-12-21T20:48:22.816Z"
   },
   {
    "duration": 3,
    "start_time": "2024-12-21T20:48:22.820Z"
   },
   {
    "duration": 50,
    "start_time": "2024-12-21T20:48:22.824Z"
   },
   {
    "duration": 7,
    "start_time": "2024-12-21T20:48:22.876Z"
   },
   {
    "duration": 3,
    "start_time": "2024-12-21T20:48:22.885Z"
   },
   {
    "duration": 3,
    "start_time": "2024-12-21T20:48:22.890Z"
   },
   {
    "duration": 12,
    "start_time": "2024-12-21T20:48:22.894Z"
   },
   {
    "duration": 4,
    "start_time": "2024-12-21T20:48:22.908Z"
   },
   {
    "duration": 15,
    "start_time": "2024-12-21T20:48:22.914Z"
   },
   {
    "duration": 40,
    "start_time": "2024-12-21T20:48:22.931Z"
   },
   {
    "duration": 5,
    "start_time": "2024-12-21T20:48:22.973Z"
   },
   {
    "duration": 165,
    "start_time": "2024-12-21T20:48:22.980Z"
   },
   {
    "duration": 403,
    "start_time": "2024-12-21T20:48:23.147Z"
   },
   {
    "duration": 8,
    "start_time": "2024-12-21T20:48:23.552Z"
   },
   {
    "duration": 3,
    "start_time": "2024-12-21T20:48:23.563Z"
   },
   {
    "duration": 3,
    "start_time": "2024-12-21T20:48:23.568Z"
   },
   {
    "duration": 238,
    "start_time": "2024-12-21T20:48:23.572Z"
   },
   {
    "duration": 21,
    "start_time": "2024-12-21T20:48:23.812Z"
   },
   {
    "duration": 2,
    "start_time": "2024-12-21T20:48:23.838Z"
   },
   {
    "duration": 4,
    "start_time": "2024-12-21T20:48:23.841Z"
   },
   {
    "duration": 340,
    "start_time": "2024-12-21T20:48:23.847Z"
   },
   {
    "duration": 10,
    "start_time": "2024-12-21T20:48:24.189Z"
   },
   {
    "duration": 203,
    "start_time": "2024-12-21T20:48:24.200Z"
   },
   {
    "duration": 3,
    "start_time": "2024-12-21T20:48:24.405Z"
   },
   {
    "duration": 2,
    "start_time": "2024-12-21T20:48:24.409Z"
   },
   {
    "duration": 2,
    "start_time": "2024-12-21T20:48:24.413Z"
   },
   {
    "duration": 2,
    "start_time": "2024-12-21T20:48:24.417Z"
   },
   {
    "duration": 3,
    "start_time": "2024-12-21T20:48:24.421Z"
   },
   {
    "duration": 2,
    "start_time": "2024-12-21T20:48:24.425Z"
   },
   {
    "duration": 19,
    "start_time": "2024-12-21T20:48:40.718Z"
   },
   {
    "duration": 3,
    "start_time": "2024-12-21T20:50:48.905Z"
   },
   {
    "duration": 2,
    "start_time": "2024-12-21T23:22:48.742Z"
   },
   {
    "duration": 63,
    "start_time": "2024-12-21T23:25:08.777Z"
   },
   {
    "duration": 614,
    "start_time": "2024-12-21T23:25:46.372Z"
   },
   {
    "duration": 53,
    "start_time": "2024-12-21T23:26:02.336Z"
   },
   {
    "duration": 61,
    "start_time": "2024-12-21T23:26:51.986Z"
   },
   {
    "duration": 4,
    "start_time": "2024-12-21T23:27:02.739Z"
   },
   {
    "duration": 9,
    "start_time": "2024-12-21T23:27:07.668Z"
   },
   {
    "duration": 411,
    "start_time": "2024-12-21T23:40:08.986Z"
   },
   {
    "duration": 392,
    "start_time": "2024-12-21T23:40:41.178Z"
   },
   {
    "duration": 125,
    "start_time": "2024-12-21T23:43:37.415Z"
   },
   {
    "duration": 18,
    "start_time": "2024-12-21T23:44:31.642Z"
   },
   {
    "duration": 97,
    "start_time": "2024-12-21T23:44:36.191Z"
   },
   {
    "duration": 49,
    "start_time": "2024-12-21T23:45:11.213Z"
   },
   {
    "duration": 133,
    "start_time": "2024-12-21T23:45:14.979Z"
   },
   {
    "duration": 125,
    "start_time": "2024-12-22T00:34:20.245Z"
   },
   {
    "duration": 127,
    "start_time": "2024-12-22T00:34:30.607Z"
   },
   {
    "duration": 13,
    "start_time": "2024-12-22T00:37:59.978Z"
   },
   {
    "duration": 14,
    "start_time": "2024-12-22T00:38:58.704Z"
   },
   {
    "duration": 18,
    "start_time": "2024-12-22T00:39:04.225Z"
   },
   {
    "duration": 448,
    "start_time": "2024-12-22T00:52:50.286Z"
   },
   {
    "duration": 863,
    "start_time": "2024-12-22T00:53:03.323Z"
   },
   {
    "duration": 24,
    "start_time": "2024-12-22T00:53:04.189Z"
   },
   {
    "duration": 12,
    "start_time": "2024-12-22T00:53:04.214Z"
   },
   {
    "duration": 4,
    "start_time": "2024-12-22T00:53:04.227Z"
   },
   {
    "duration": 13,
    "start_time": "2024-12-22T00:53:04.233Z"
   },
   {
    "duration": 31,
    "start_time": "2024-12-22T00:53:04.248Z"
   },
   {
    "duration": 4,
    "start_time": "2024-12-22T00:53:04.281Z"
   },
   {
    "duration": 7,
    "start_time": "2024-12-22T00:53:04.286Z"
   },
   {
    "duration": 5,
    "start_time": "2024-12-22T00:53:04.296Z"
   },
   {
    "duration": 3,
    "start_time": "2024-12-22T00:53:04.303Z"
   },
   {
    "duration": 10,
    "start_time": "2024-12-22T00:53:04.308Z"
   },
   {
    "duration": 5,
    "start_time": "2024-12-22T00:53:04.320Z"
   },
   {
    "duration": 45,
    "start_time": "2024-12-22T00:53:04.326Z"
   },
   {
    "duration": 12,
    "start_time": "2024-12-22T00:53:04.375Z"
   },
   {
    "duration": 4,
    "start_time": "2024-12-22T00:53:04.388Z"
   },
   {
    "duration": 3,
    "start_time": "2024-12-22T00:53:04.394Z"
   },
   {
    "duration": 7,
    "start_time": "2024-12-22T00:53:04.398Z"
   },
   {
    "duration": 17,
    "start_time": "2024-12-22T00:53:04.407Z"
   },
   {
    "duration": 3,
    "start_time": "2024-12-22T00:53:04.426Z"
   },
   {
    "duration": 41,
    "start_time": "2024-12-22T00:53:04.431Z"
   },
   {
    "duration": 3,
    "start_time": "2024-12-22T00:53:04.474Z"
   },
   {
    "duration": 3,
    "start_time": "2024-12-22T00:53:04.479Z"
   },
   {
    "duration": 2,
    "start_time": "2024-12-22T00:53:04.483Z"
   },
   {
    "duration": 2,
    "start_time": "2024-12-22T00:53:04.487Z"
   },
   {
    "duration": 5,
    "start_time": "2024-12-22T00:53:04.491Z"
   },
   {
    "duration": 7,
    "start_time": "2024-12-22T00:53:04.498Z"
   },
   {
    "duration": 4,
    "start_time": "2024-12-22T00:53:04.506Z"
   },
   {
    "duration": 3,
    "start_time": "2024-12-22T00:53:04.512Z"
   },
   {
    "duration": 60,
    "start_time": "2024-12-22T00:53:04.517Z"
   },
   {
    "duration": 18,
    "start_time": "2024-12-22T00:53:04.578Z"
   },
   {
    "duration": 5,
    "start_time": "2024-12-22T00:53:04.597Z"
   },
   {
    "duration": 4,
    "start_time": "2024-12-22T00:53:04.604Z"
   },
   {
    "duration": 173,
    "start_time": "2024-12-22T00:53:04.610Z"
   },
   {
    "duration": 449,
    "start_time": "2024-12-22T00:53:04.785Z"
   },
   {
    "duration": 8,
    "start_time": "2024-12-22T00:53:05.236Z"
   },
   {
    "duration": 4,
    "start_time": "2024-12-22T00:53:05.245Z"
   },
   {
    "duration": 2,
    "start_time": "2024-12-22T00:53:05.251Z"
   },
   {
    "duration": 188,
    "start_time": "2024-12-22T00:53:05.258Z"
   },
   {
    "duration": 24,
    "start_time": "2024-12-22T00:53:05.448Z"
   },
   {
    "duration": 2,
    "start_time": "2024-12-22T00:53:05.474Z"
   },
   {
    "duration": 3,
    "start_time": "2024-12-22T00:53:05.482Z"
   },
   {
    "duration": 413,
    "start_time": "2024-12-22T00:53:05.486Z"
   },
   {
    "duration": 11,
    "start_time": "2024-12-22T00:53:05.901Z"
   },
   {
    "duration": 135,
    "start_time": "2024-12-22T00:53:05.914Z"
   },
   {
    "duration": 722,
    "start_time": "2024-12-22T00:53:06.070Z"
   },
   {
    "duration": 0,
    "start_time": "2024-12-22T00:53:06.793Z"
   },
   {
    "duration": 0,
    "start_time": "2024-12-22T00:53:06.794Z"
   },
   {
    "duration": 0,
    "start_time": "2024-12-22T00:53:06.795Z"
   },
   {
    "duration": 0,
    "start_time": "2024-12-22T00:53:06.796Z"
   },
   {
    "duration": 0,
    "start_time": "2024-12-22T00:53:06.798Z"
   },
   {
    "duration": 381,
    "start_time": "2024-12-22T00:58:17.615Z"
   },
   {
    "duration": 29,
    "start_time": "2024-12-22T00:59:47.885Z"
   },
   {
    "duration": 25,
    "start_time": "2024-12-22T01:00:30.830Z"
   },
   {
    "duration": 4,
    "start_time": "2024-12-22T01:00:42.392Z"
   },
   {
    "duration": 18,
    "start_time": "2024-12-22T01:00:48.165Z"
   },
   {
    "duration": 29,
    "start_time": "2024-12-22T01:01:09.317Z"
   },
   {
    "duration": 127,
    "start_time": "2024-12-22T01:02:44.576Z"
   },
   {
    "duration": 129,
    "start_time": "2024-12-22T01:03:01.380Z"
   },
   {
    "duration": 325,
    "start_time": "2024-12-22T01:06:48.865Z"
   },
   {
    "duration": 49,
    "start_time": "2024-12-22T01:06:54.217Z"
   },
   {
    "duration": 124,
    "start_time": "2024-12-22T01:07:18.788Z"
   },
   {
    "duration": 124,
    "start_time": "2024-12-22T01:08:09.862Z"
   },
   {
    "duration": 4,
    "start_time": "2024-12-22T01:38:49.369Z"
   },
   {
    "duration": 7,
    "start_time": "2024-12-22T01:39:22.619Z"
   },
   {
    "duration": 19,
    "start_time": "2024-12-22T01:39:26.944Z"
   },
   {
    "duration": 110,
    "start_time": "2024-12-22T01:41:16.504Z"
   },
   {
    "duration": 78,
    "start_time": "2024-12-22T01:42:11.899Z"
   },
   {
    "duration": 863,
    "start_time": "2024-12-22T01:43:33.967Z"
   },
   {
    "duration": 25,
    "start_time": "2024-12-22T01:43:34.833Z"
   },
   {
    "duration": 17,
    "start_time": "2024-12-22T01:43:34.859Z"
   },
   {
    "duration": 5,
    "start_time": "2024-12-22T01:43:34.877Z"
   },
   {
    "duration": 13,
    "start_time": "2024-12-22T01:43:34.885Z"
   },
   {
    "duration": 12,
    "start_time": "2024-12-22T01:43:34.899Z"
   },
   {
    "duration": 3,
    "start_time": "2024-12-22T01:43:34.913Z"
   },
   {
    "duration": 7,
    "start_time": "2024-12-22T01:43:34.918Z"
   },
   {
    "duration": 44,
    "start_time": "2024-12-22T01:43:34.926Z"
   },
   {
    "duration": 19,
    "start_time": "2024-12-22T01:43:34.972Z"
   },
   {
    "duration": 27,
    "start_time": "2024-12-22T01:43:34.993Z"
   },
   {
    "duration": 7,
    "start_time": "2024-12-22T01:43:35.022Z"
   },
   {
    "duration": 8,
    "start_time": "2024-12-22T01:43:35.031Z"
   },
   {
    "duration": 12,
    "start_time": "2024-12-22T01:43:35.043Z"
   },
   {
    "duration": 4,
    "start_time": "2024-12-22T01:43:35.056Z"
   },
   {
    "duration": 4,
    "start_time": "2024-12-22T01:43:35.061Z"
   },
   {
    "duration": 6,
    "start_time": "2024-12-22T01:43:35.069Z"
   },
   {
    "duration": 17,
    "start_time": "2024-12-22T01:43:35.077Z"
   },
   {
    "duration": 2,
    "start_time": "2024-12-22T01:43:35.096Z"
   },
   {
    "duration": 4,
    "start_time": "2024-12-22T01:43:35.100Z"
   },
   {
    "duration": 4,
    "start_time": "2024-12-22T01:43:35.105Z"
   },
   {
    "duration": 3,
    "start_time": "2024-12-22T01:43:35.111Z"
   },
   {
    "duration": 3,
    "start_time": "2024-12-22T01:43:35.115Z"
   },
   {
    "duration": 2,
    "start_time": "2024-12-22T01:43:35.119Z"
   },
   {
    "duration": 49,
    "start_time": "2024-12-22T01:43:35.123Z"
   },
   {
    "duration": 8,
    "start_time": "2024-12-22T01:43:35.173Z"
   },
   {
    "duration": 4,
    "start_time": "2024-12-22T01:43:35.182Z"
   },
   {
    "duration": 4,
    "start_time": "2024-12-22T01:43:35.188Z"
   },
   {
    "duration": 12,
    "start_time": "2024-12-22T01:43:35.193Z"
   },
   {
    "duration": 16,
    "start_time": "2024-12-22T01:43:35.207Z"
   },
   {
    "duration": 4,
    "start_time": "2024-12-22T01:43:35.225Z"
   },
   {
    "duration": 41,
    "start_time": "2024-12-22T01:43:35.231Z"
   },
   {
    "duration": 153,
    "start_time": "2024-12-22T01:43:35.274Z"
   },
   {
    "duration": 445,
    "start_time": "2024-12-22T01:43:35.429Z"
   },
   {
    "duration": 8,
    "start_time": "2024-12-22T01:43:35.876Z"
   },
   {
    "duration": 4,
    "start_time": "2024-12-22T01:43:35.886Z"
   },
   {
    "duration": 2,
    "start_time": "2024-12-22T01:43:35.892Z"
   },
   {
    "duration": 215,
    "start_time": "2024-12-22T01:43:35.896Z"
   },
   {
    "duration": 20,
    "start_time": "2024-12-22T01:43:36.113Z"
   },
   {
    "duration": 139,
    "start_time": "2024-12-22T01:43:36.136Z"
   },
   {
    "duration": 4,
    "start_time": "2024-12-22T01:43:36.280Z"
   },
   {
    "duration": 422,
    "start_time": "2024-12-22T01:43:36.286Z"
   },
   {
    "duration": 11,
    "start_time": "2024-12-22T01:43:36.710Z"
   },
   {
    "duration": 168,
    "start_time": "2024-12-22T01:43:36.722Z"
   },
   {
    "duration": 79,
    "start_time": "2024-12-22T01:43:36.892Z"
   },
   {
    "duration": 16,
    "start_time": "2024-12-22T01:43:36.973Z"
   },
   {
    "duration": 162,
    "start_time": "2024-12-22T01:43:36.990Z"
   },
   {
    "duration": 2,
    "start_time": "2024-12-22T01:43:37.154Z"
   },
   {
    "duration": 23,
    "start_time": "2024-12-22T01:43:37.158Z"
   },
   {
    "duration": 2,
    "start_time": "2024-12-22T01:43:37.184Z"
   },
   {
    "duration": 74,
    "start_time": "2024-12-22T01:44:44.408Z"
   },
   {
    "duration": 551,
    "start_time": "2024-12-22T01:45:08.633Z"
   },
   {
    "duration": 66,
    "start_time": "2024-12-22T01:45:35.715Z"
   },
   {
    "duration": 11,
    "start_time": "2024-12-22T01:45:39.077Z"
   },
   {
    "duration": 11,
    "start_time": "2024-12-22T01:45:45.777Z"
   },
   {
    "duration": 10,
    "start_time": "2024-12-22T01:46:16.273Z"
   },
   {
    "duration": 11,
    "start_time": "2024-12-22T01:46:35.329Z"
   },
   {
    "duration": 57,
    "start_time": "2024-12-22T01:46:44.879Z"
   },
   {
    "duration": 58,
    "start_time": "2024-12-22T01:46:53.531Z"
   },
   {
    "duration": 45,
    "start_time": "2024-12-22T01:47:03.407Z"
   },
   {
    "duration": 129,
    "start_time": "2024-12-22T01:47:08.568Z"
   },
   {
    "duration": 58,
    "start_time": "2024-12-22T01:47:43.524Z"
   },
   {
    "duration": 250,
    "start_time": "2024-12-22T01:48:14.351Z"
   },
   {
    "duration": 50,
    "start_time": "2024-12-22T01:48:24.058Z"
   },
   {
    "duration": 49,
    "start_time": "2024-12-22T01:48:26.258Z"
   },
   {
    "duration": 4,
    "start_time": "2024-12-22T01:52:21.962Z"
   },
   {
    "duration": 4,
    "start_time": "2024-12-22T01:53:42.422Z"
   },
   {
    "duration": 843,
    "start_time": "2024-12-22T01:56:02.525Z"
   },
   {
    "duration": 24,
    "start_time": "2024-12-22T01:56:03.370Z"
   },
   {
    "duration": 11,
    "start_time": "2024-12-22T01:56:03.396Z"
   },
   {
    "duration": 4,
    "start_time": "2024-12-22T01:56:03.409Z"
   },
   {
    "duration": 12,
    "start_time": "2024-12-22T01:56:03.415Z"
   },
   {
    "duration": 11,
    "start_time": "2024-12-22T01:56:03.429Z"
   },
   {
    "duration": 29,
    "start_time": "2024-12-22T01:56:03.442Z"
   },
   {
    "duration": 8,
    "start_time": "2024-12-22T01:56:03.473Z"
   },
   {
    "duration": 6,
    "start_time": "2024-12-22T01:56:03.482Z"
   },
   {
    "duration": 3,
    "start_time": "2024-12-22T01:56:03.492Z"
   },
   {
    "duration": 10,
    "start_time": "2024-12-22T01:56:03.496Z"
   },
   {
    "duration": 7,
    "start_time": "2024-12-22T01:56:03.507Z"
   },
   {
    "duration": 7,
    "start_time": "2024-12-22T01:56:03.515Z"
   },
   {
    "duration": 53,
    "start_time": "2024-12-22T01:56:03.524Z"
   },
   {
    "duration": 4,
    "start_time": "2024-12-22T01:56:03.579Z"
   },
   {
    "duration": 3,
    "start_time": "2024-12-22T01:56:03.585Z"
   },
   {
    "duration": 6,
    "start_time": "2024-12-22T01:56:03.589Z"
   },
   {
    "duration": 18,
    "start_time": "2024-12-22T01:56:03.597Z"
   },
   {
    "duration": 3,
    "start_time": "2024-12-22T01:56:03.616Z"
   },
   {
    "duration": 4,
    "start_time": "2024-12-22T01:56:03.621Z"
   },
   {
    "duration": 44,
    "start_time": "2024-12-22T01:56:03.626Z"
   },
   {
    "duration": 3,
    "start_time": "2024-12-22T01:56:03.671Z"
   },
   {
    "duration": 2,
    "start_time": "2024-12-22T01:56:03.677Z"
   },
   {
    "duration": 2,
    "start_time": "2024-12-22T01:56:03.681Z"
   },
   {
    "duration": 6,
    "start_time": "2024-12-22T01:56:03.684Z"
   },
   {
    "duration": 7,
    "start_time": "2024-12-22T01:56:03.692Z"
   },
   {
    "duration": 3,
    "start_time": "2024-12-22T01:56:03.701Z"
   },
   {
    "duration": 3,
    "start_time": "2024-12-22T01:56:03.709Z"
   },
   {
    "duration": 13,
    "start_time": "2024-12-22T01:56:03.714Z"
   },
   {
    "duration": 58,
    "start_time": "2024-12-22T01:56:03.728Z"
   },
   {
    "duration": 5,
    "start_time": "2024-12-22T01:56:03.788Z"
   },
   {
    "duration": 4,
    "start_time": "2024-12-22T01:56:03.795Z"
   },
   {
    "duration": 170,
    "start_time": "2024-12-22T01:56:03.801Z"
   },
   {
    "duration": 462,
    "start_time": "2024-12-22T01:56:03.973Z"
   },
   {
    "duration": 7,
    "start_time": "2024-12-22T01:56:04.437Z"
   },
   {
    "duration": 4,
    "start_time": "2024-12-22T01:56:04.446Z"
   },
   {
    "duration": 2,
    "start_time": "2024-12-22T01:56:04.452Z"
   },
   {
    "duration": 188,
    "start_time": "2024-12-22T01:56:04.456Z"
   },
   {
    "duration": 29,
    "start_time": "2024-12-22T01:56:04.646Z"
   },
   {
    "duration": 131,
    "start_time": "2024-12-22T01:56:04.677Z"
   },
   {
    "duration": 8,
    "start_time": "2024-12-22T01:56:04.810Z"
   },
   {
    "duration": 400,
    "start_time": "2024-12-22T01:56:04.819Z"
   },
   {
    "duration": 9,
    "start_time": "2024-12-22T01:56:05.220Z"
   },
   {
    "duration": 147,
    "start_time": "2024-12-22T01:56:05.231Z"
   },
   {
    "duration": 57,
    "start_time": "2024-12-22T01:56:05.379Z"
   },
   {
    "duration": 4,
    "start_time": "2024-12-22T01:56:05.438Z"
   },
   {
    "duration": 72,
    "start_time": "2024-12-22T01:56:05.443Z"
   },
   {
    "duration": 4,
    "start_time": "2024-12-22T01:56:05.516Z"
   },
   {
    "duration": 15,
    "start_time": "2024-12-22T01:56:05.522Z"
   },
   {
    "duration": 165,
    "start_time": "2024-12-22T01:56:05.538Z"
   },
   {
    "duration": 3,
    "start_time": "2024-12-22T01:56:05.704Z"
   },
   {
    "duration": 3,
    "start_time": "2024-12-22T01:56:05.708Z"
   },
   {
    "duration": 4,
    "start_time": "2024-12-22T01:56:05.712Z"
   },
   {
    "duration": 2534,
    "start_time": "2024-12-22T19:29:54.254Z"
   },
   {
    "duration": 37,
    "start_time": "2024-12-22T19:29:56.791Z"
   },
   {
    "duration": 11,
    "start_time": "2024-12-22T19:29:56.830Z"
   },
   {
    "duration": 4,
    "start_time": "2024-12-22T19:29:56.843Z"
   },
   {
    "duration": 14,
    "start_time": "2024-12-22T19:29:56.849Z"
   },
   {
    "duration": 12,
    "start_time": "2024-12-22T19:29:56.864Z"
   },
   {
    "duration": 4,
    "start_time": "2024-12-22T19:29:56.878Z"
   },
   {
    "duration": 7,
    "start_time": "2024-12-22T19:29:56.883Z"
   },
   {
    "duration": 34,
    "start_time": "2024-12-22T19:29:56.892Z"
   },
   {
    "duration": 3,
    "start_time": "2024-12-22T19:29:56.929Z"
   },
   {
    "duration": 9,
    "start_time": "2024-12-22T19:29:56.934Z"
   },
   {
    "duration": 7,
    "start_time": "2024-12-22T19:29:56.944Z"
   },
   {
    "duration": 8,
    "start_time": "2024-12-22T19:29:56.952Z"
   },
   {
    "duration": 12,
    "start_time": "2024-12-22T19:29:56.961Z"
   },
   {
    "duration": 4,
    "start_time": "2024-12-22T19:29:56.974Z"
   },
   {
    "duration": 3,
    "start_time": "2024-12-22T19:29:56.980Z"
   },
   {
    "duration": 5,
    "start_time": "2024-12-22T19:29:57.025Z"
   },
   {
    "duration": 17,
    "start_time": "2024-12-22T19:29:57.031Z"
   },
   {
    "duration": 4,
    "start_time": "2024-12-22T19:29:57.051Z"
   },
   {
    "duration": 3,
    "start_time": "2024-12-22T19:29:57.057Z"
   },
   {
    "duration": 4,
    "start_time": "2024-12-22T19:29:57.061Z"
   },
   {
    "duration": 3,
    "start_time": "2024-12-22T19:29:57.067Z"
   },
   {
    "duration": 2,
    "start_time": "2024-12-22T19:29:57.072Z"
   },
   {
    "duration": 3,
    "start_time": "2024-12-22T19:29:57.075Z"
   },
   {
    "duration": 43,
    "start_time": "2024-12-22T19:29:57.081Z"
   },
   {
    "duration": 8,
    "start_time": "2024-12-22T19:29:57.126Z"
   },
   {
    "duration": 4,
    "start_time": "2024-12-22T19:29:57.136Z"
   },
   {
    "duration": 3,
    "start_time": "2024-12-22T19:29:57.144Z"
   },
   {
    "duration": 12,
    "start_time": "2024-12-22T19:29:57.148Z"
   },
   {
    "duration": 16,
    "start_time": "2024-12-22T19:29:57.162Z"
   },
   {
    "duration": 4,
    "start_time": "2024-12-22T19:29:57.180Z"
   },
   {
    "duration": 4,
    "start_time": "2024-12-22T19:29:57.224Z"
   },
   {
    "duration": 160,
    "start_time": "2024-12-22T19:29:57.230Z"
   },
   {
    "duration": 405,
    "start_time": "2024-12-22T19:29:57.391Z"
   },
   {
    "duration": 8,
    "start_time": "2024-12-22T19:29:57.798Z"
   },
   {
    "duration": 4,
    "start_time": "2024-12-22T19:29:57.808Z"
   },
   {
    "duration": 3,
    "start_time": "2024-12-22T19:29:57.814Z"
   },
   {
    "duration": 187,
    "start_time": "2024-12-22T19:29:57.825Z"
   },
   {
    "duration": 27,
    "start_time": "2024-12-22T19:29:58.014Z"
   },
   {
    "duration": 143,
    "start_time": "2024-12-22T19:29:58.042Z"
   },
   {
    "duration": 5,
    "start_time": "2024-12-22T19:29:58.187Z"
   },
   {
    "duration": 402,
    "start_time": "2024-12-22T19:29:58.195Z"
   },
   {
    "duration": 30,
    "start_time": "2024-12-22T19:29:58.598Z"
   },
   {
    "duration": 113,
    "start_time": "2024-12-22T19:29:58.629Z"
   },
   {
    "duration": 57,
    "start_time": "2024-12-22T19:29:58.744Z"
   },
   {
    "duration": 23,
    "start_time": "2024-12-22T19:29:58.803Z"
   },
   {
    "duration": 132,
    "start_time": "2024-12-22T19:29:58.828Z"
   },
   {
    "duration": 4,
    "start_time": "2024-12-22T19:29:58.962Z"
   },
   {
    "duration": 14,
    "start_time": "2024-12-22T19:29:58.967Z"
   },
   {
    "duration": 149,
    "start_time": "2024-12-22T19:29:58.982Z"
   },
   {
    "duration": 2,
    "start_time": "2024-12-22T19:29:59.133Z"
   },
   {
    "duration": 3,
    "start_time": "2024-12-22T19:29:59.137Z"
   },
   {
    "duration": 4,
    "start_time": "2024-12-22T19:29:59.142Z"
   },
   {
    "duration": 4,
    "start_time": "2024-12-22T19:46:46.025Z"
   },
   {
    "duration": 4,
    "start_time": "2024-12-22T19:47:02.523Z"
   },
   {
    "duration": 836,
    "start_time": "2024-12-22T19:47:06.280Z"
   },
   {
    "duration": 26,
    "start_time": "2024-12-22T19:47:07.118Z"
   },
   {
    "duration": 12,
    "start_time": "2024-12-22T19:47:07.145Z"
   },
   {
    "duration": 4,
    "start_time": "2024-12-22T19:47:07.160Z"
   },
   {
    "duration": 14,
    "start_time": "2024-12-22T19:47:07.165Z"
   },
   {
    "duration": 11,
    "start_time": "2024-12-22T19:47:07.180Z"
   },
   {
    "duration": 4,
    "start_time": "2024-12-22T19:47:07.224Z"
   },
   {
    "duration": 7,
    "start_time": "2024-12-22T19:47:07.230Z"
   },
   {
    "duration": 6,
    "start_time": "2024-12-22T19:47:07.238Z"
   },
   {
    "duration": 5,
    "start_time": "2024-12-22T19:47:07.247Z"
   },
   {
    "duration": 10,
    "start_time": "2024-12-22T19:47:07.253Z"
   },
   {
    "duration": 6,
    "start_time": "2024-12-22T19:47:07.264Z"
   },
   {
    "duration": 7,
    "start_time": "2024-12-22T19:47:07.272Z"
   },
   {
    "duration": 55,
    "start_time": "2024-12-22T19:47:07.280Z"
   },
   {
    "duration": 4,
    "start_time": "2024-12-22T19:47:07.336Z"
   },
   {
    "duration": 3,
    "start_time": "2024-12-22T19:47:07.341Z"
   },
   {
    "duration": 6,
    "start_time": "2024-12-22T19:47:07.346Z"
   },
   {
    "duration": 18,
    "start_time": "2024-12-22T19:47:07.354Z"
   },
   {
    "duration": 2,
    "start_time": "2024-12-22T19:47:07.374Z"
   },
   {
    "duration": 49,
    "start_time": "2024-12-22T19:47:07.378Z"
   },
   {
    "duration": 5,
    "start_time": "2024-12-22T19:47:07.428Z"
   },
   {
    "duration": 3,
    "start_time": "2024-12-22T19:47:07.435Z"
   },
   {
    "duration": 2,
    "start_time": "2024-12-22T19:47:07.440Z"
   },
   {
    "duration": 3,
    "start_time": "2024-12-22T19:47:07.444Z"
   },
   {
    "duration": 5,
    "start_time": "2024-12-22T19:47:07.448Z"
   },
   {
    "duration": 12,
    "start_time": "2024-12-22T19:47:07.454Z"
   },
   {
    "duration": 4,
    "start_time": "2024-12-22T19:47:07.467Z"
   },
   {
    "duration": 5,
    "start_time": "2024-12-22T19:47:07.531Z"
   },
   {
    "duration": 8,
    "start_time": "2024-12-22T19:47:07.538Z"
   },
   {
    "duration": 4,
    "start_time": "2024-12-22T19:47:07.548Z"
   },
   {
    "duration": 3,
    "start_time": "2024-12-22T19:47:07.553Z"
   },
   {
    "duration": 12,
    "start_time": "2024-12-22T19:47:07.558Z"
   },
   {
    "duration": 17,
    "start_time": "2024-12-22T19:47:07.571Z"
   },
   {
    "duration": 37,
    "start_time": "2024-12-22T19:47:07.590Z"
   },
   {
    "duration": 5,
    "start_time": "2024-12-22T19:47:07.629Z"
   },
   {
    "duration": 177,
    "start_time": "2024-12-22T19:47:07.637Z"
   },
   {
    "duration": 444,
    "start_time": "2024-12-22T19:47:07.816Z"
   },
   {
    "duration": 7,
    "start_time": "2024-12-22T19:47:08.261Z"
   },
   {
    "duration": 4,
    "start_time": "2024-12-22T19:47:08.270Z"
   },
   {
    "duration": 2,
    "start_time": "2024-12-22T19:47:08.276Z"
   },
   {
    "duration": 211,
    "start_time": "2024-12-22T19:47:08.280Z"
   },
   {
    "duration": 21,
    "start_time": "2024-12-22T19:47:08.492Z"
   },
   {
    "duration": 135,
    "start_time": "2024-12-22T19:47:08.525Z"
   },
   {
    "duration": 4,
    "start_time": "2024-12-22T19:47:08.661Z"
   },
   {
    "duration": 403,
    "start_time": "2024-12-22T19:47:08.667Z"
   },
   {
    "duration": 53,
    "start_time": "2024-12-22T19:47:09.072Z"
   },
   {
    "duration": 147,
    "start_time": "2024-12-22T19:47:09.126Z"
   },
   {
    "duration": 93,
    "start_time": "2024-12-22T19:47:09.274Z"
   },
   {
    "duration": 4,
    "start_time": "2024-12-22T19:47:09.369Z"
   },
   {
    "duration": 81,
    "start_time": "2024-12-22T19:47:09.375Z"
   },
   {
    "duration": 4,
    "start_time": "2024-12-22T19:47:09.458Z"
   },
   {
    "duration": 19,
    "start_time": "2024-12-22T19:47:09.464Z"
   },
   {
    "duration": 180,
    "start_time": "2024-12-22T19:47:09.484Z"
   },
   {
    "duration": 3,
    "start_time": "2024-12-22T19:47:09.666Z"
   },
   {
    "duration": 2,
    "start_time": "2024-12-22T19:47:09.671Z"
   },
   {
    "duration": 2,
    "start_time": "2024-12-22T19:47:09.675Z"
   },
   {
    "duration": 12,
    "start_time": "2024-12-22T20:09:08.402Z"
   },
   {
    "duration": 889,
    "start_time": "2024-12-22T20:09:12.649Z"
   },
   {
    "duration": 26,
    "start_time": "2024-12-22T20:09:13.540Z"
   },
   {
    "duration": 11,
    "start_time": "2024-12-22T20:09:13.570Z"
   },
   {
    "duration": 4,
    "start_time": "2024-12-22T20:09:13.583Z"
   },
   {
    "duration": 41,
    "start_time": "2024-12-22T20:09:13.589Z"
   },
   {
    "duration": 12,
    "start_time": "2024-12-22T20:09:13.632Z"
   },
   {
    "duration": 4,
    "start_time": "2024-12-22T20:09:13.647Z"
   },
   {
    "duration": 9,
    "start_time": "2024-12-22T20:09:13.653Z"
   },
   {
    "duration": 6,
    "start_time": "2024-12-22T20:09:13.665Z"
   },
   {
    "duration": 4,
    "start_time": "2024-12-22T20:09:13.673Z"
   },
   {
    "duration": 56,
    "start_time": "2024-12-22T20:09:13.678Z"
   },
   {
    "duration": 6,
    "start_time": "2024-12-22T20:09:13.736Z"
   },
   {
    "duration": 8,
    "start_time": "2024-12-22T20:09:13.744Z"
   },
   {
    "duration": 12,
    "start_time": "2024-12-22T20:09:13.755Z"
   },
   {
    "duration": 4,
    "start_time": "2024-12-22T20:09:13.768Z"
   },
   {
    "duration": 4,
    "start_time": "2024-12-22T20:09:13.773Z"
   },
   {
    "duration": 48,
    "start_time": "2024-12-22T20:09:13.779Z"
   },
   {
    "duration": 19,
    "start_time": "2024-12-22T20:09:13.829Z"
   },
   {
    "duration": 7,
    "start_time": "2024-12-22T20:09:13.851Z"
   },
   {
    "duration": 8,
    "start_time": "2024-12-22T20:09:13.860Z"
   },
   {
    "duration": 5,
    "start_time": "2024-12-22T20:09:13.871Z"
   },
   {
    "duration": 4,
    "start_time": "2024-12-22T20:09:13.878Z"
   },
   {
    "duration": 2,
    "start_time": "2024-12-22T20:09:13.884Z"
   },
   {
    "duration": 37,
    "start_time": "2024-12-22T20:09:13.888Z"
   },
   {
    "duration": 5,
    "start_time": "2024-12-22T20:09:13.926Z"
   },
   {
    "duration": 12,
    "start_time": "2024-12-22T20:09:13.933Z"
   },
   {
    "duration": 4,
    "start_time": "2024-12-22T20:09:13.949Z"
   },
   {
    "duration": 5,
    "start_time": "2024-12-22T20:09:13.955Z"
   },
   {
    "duration": 7,
    "start_time": "2024-12-22T20:09:13.961Z"
   },
   {
    "duration": 4,
    "start_time": "2024-12-22T20:09:13.971Z"
   },
   {
    "duration": 4,
    "start_time": "2024-12-22T20:09:14.024Z"
   },
   {
    "duration": 12,
    "start_time": "2024-12-22T20:09:14.030Z"
   },
   {
    "duration": 17,
    "start_time": "2024-12-22T20:09:14.044Z"
   },
   {
    "duration": 4,
    "start_time": "2024-12-22T20:09:14.063Z"
   },
   {
    "duration": 4,
    "start_time": "2024-12-22T20:09:14.069Z"
   },
   {
    "duration": 190,
    "start_time": "2024-12-22T20:09:14.075Z"
   },
   {
    "duration": 438,
    "start_time": "2024-12-22T20:09:14.267Z"
   },
   {
    "duration": 19,
    "start_time": "2024-12-22T20:09:14.707Z"
   },
   {
    "duration": 4,
    "start_time": "2024-12-22T20:09:14.728Z"
   },
   {
    "duration": 3,
    "start_time": "2024-12-22T20:09:14.734Z"
   },
   {
    "duration": 209,
    "start_time": "2024-12-22T20:09:14.738Z"
   },
   {
    "duration": 21,
    "start_time": "2024-12-22T20:09:14.948Z"
   },
   {
    "duration": 140,
    "start_time": "2024-12-22T20:09:14.971Z"
   },
   {
    "duration": 11,
    "start_time": "2024-12-22T20:09:15.113Z"
   },
   {
    "duration": 417,
    "start_time": "2024-12-22T20:09:15.125Z"
   },
   {
    "duration": 11,
    "start_time": "2024-12-22T20:09:15.543Z"
   },
   {
    "duration": 135,
    "start_time": "2024-12-22T20:09:15.555Z"
   },
   {
    "duration": 64,
    "start_time": "2024-12-22T20:09:15.724Z"
   },
   {
    "duration": 5,
    "start_time": "2024-12-22T20:09:15.789Z"
   },
   {
    "duration": 82,
    "start_time": "2024-12-22T20:09:15.795Z"
   },
   {
    "duration": 4,
    "start_time": "2024-12-22T20:09:15.879Z"
   },
   {
    "duration": 48,
    "start_time": "2024-12-22T20:09:15.885Z"
   },
   {
    "duration": 153,
    "start_time": "2024-12-22T20:09:15.935Z"
   },
   {
    "duration": 2,
    "start_time": "2024-12-22T20:09:16.090Z"
   },
   {
    "duration": 2,
    "start_time": "2024-12-22T20:09:16.094Z"
   },
   {
    "duration": 2,
    "start_time": "2024-12-22T20:09:16.098Z"
   },
   {
    "duration": 5,
    "start_time": "2024-12-22T20:25:42.204Z"
   },
   {
    "duration": 4,
    "start_time": "2024-12-22T20:25:45.263Z"
   },
   {
    "duration": 827,
    "start_time": "2024-12-22T20:26:27.614Z"
   },
   {
    "duration": 25,
    "start_time": "2024-12-22T20:26:28.443Z"
   },
   {
    "duration": 11,
    "start_time": "2024-12-22T20:26:28.470Z"
   },
   {
    "duration": 4,
    "start_time": "2024-12-22T20:26:28.485Z"
   },
   {
    "duration": 43,
    "start_time": "2024-12-22T20:26:28.491Z"
   },
   {
    "duration": 11,
    "start_time": "2024-12-22T20:26:28.536Z"
   },
   {
    "duration": 4,
    "start_time": "2024-12-22T20:26:28.549Z"
   },
   {
    "duration": 6,
    "start_time": "2024-12-22T20:26:28.555Z"
   },
   {
    "duration": 6,
    "start_time": "2024-12-22T20:26:28.563Z"
   },
   {
    "duration": 3,
    "start_time": "2024-12-22T20:26:28.573Z"
   },
   {
    "duration": 52,
    "start_time": "2024-12-22T20:26:28.578Z"
   },
   {
    "duration": 7,
    "start_time": "2024-12-22T20:26:28.631Z"
   },
   {
    "duration": 7,
    "start_time": "2024-12-22T20:26:28.640Z"
   },
   {
    "duration": 12,
    "start_time": "2024-12-22T20:26:28.649Z"
   },
   {
    "duration": 5,
    "start_time": "2024-12-22T20:26:28.662Z"
   },
   {
    "duration": 3,
    "start_time": "2024-12-22T20:26:28.669Z"
   },
   {
    "duration": 6,
    "start_time": "2024-12-22T20:26:28.674Z"
   },
   {
    "duration": 18,
    "start_time": "2024-12-22T20:26:28.724Z"
   },
   {
    "duration": 3,
    "start_time": "2024-12-22T20:26:28.744Z"
   },
   {
    "duration": 4,
    "start_time": "2024-12-22T20:26:28.749Z"
   },
   {
    "duration": 4,
    "start_time": "2024-12-22T20:26:28.755Z"
   },
   {
    "duration": 3,
    "start_time": "2024-12-22T20:26:28.761Z"
   },
   {
    "duration": 2,
    "start_time": "2024-12-22T20:26:28.766Z"
   },
   {
    "duration": 2,
    "start_time": "2024-12-22T20:26:28.770Z"
   },
   {
    "duration": 53,
    "start_time": "2024-12-22T20:26:28.774Z"
   },
   {
    "duration": 14,
    "start_time": "2024-12-22T20:26:28.829Z"
   },
   {
    "duration": 4,
    "start_time": "2024-12-22T20:26:28.844Z"
   },
   {
    "duration": 6,
    "start_time": "2024-12-22T20:26:28.852Z"
   },
   {
    "duration": 4,
    "start_time": "2024-12-22T20:26:28.860Z"
   },
   {
    "duration": 7,
    "start_time": "2024-12-22T20:26:28.865Z"
   },
   {
    "duration": 54,
    "start_time": "2024-12-22T20:26:28.873Z"
   },
   {
    "duration": 8,
    "start_time": "2024-12-22T20:26:28.929Z"
   },
   {
    "duration": 4,
    "start_time": "2024-12-22T20:26:28.939Z"
   },
   {
    "duration": 3,
    "start_time": "2024-12-22T20:26:28.945Z"
   },
   {
    "duration": 13,
    "start_time": "2024-12-22T20:26:28.950Z"
   },
   {
    "duration": 18,
    "start_time": "2024-12-22T20:26:28.965Z"
   },
   {
    "duration": 41,
    "start_time": "2024-12-22T20:26:28.984Z"
   },
   {
    "duration": 5,
    "start_time": "2024-12-22T20:26:29.027Z"
   },
   {
    "duration": 169,
    "start_time": "2024-12-22T20:26:29.034Z"
   },
   {
    "duration": 435,
    "start_time": "2024-12-22T20:26:29.205Z"
   },
   {
    "duration": 8,
    "start_time": "2024-12-22T20:26:29.641Z"
   },
   {
    "duration": 4,
    "start_time": "2024-12-22T20:26:29.651Z"
   },
   {
    "duration": 2,
    "start_time": "2024-12-22T20:26:29.657Z"
   },
   {
    "duration": 217,
    "start_time": "2024-12-22T20:26:29.660Z"
   },
   {
    "duration": 20,
    "start_time": "2024-12-22T20:26:29.879Z"
   },
   {
    "duration": 146,
    "start_time": "2024-12-22T20:26:29.901Z"
   },
   {
    "duration": 4,
    "start_time": "2024-12-22T20:26:30.048Z"
   },
   {
    "duration": 409,
    "start_time": "2024-12-22T20:26:30.054Z"
   },
   {
    "duration": 11,
    "start_time": "2024-12-22T20:26:30.465Z"
   },
   {
    "duration": 174,
    "start_time": "2024-12-22T20:26:30.478Z"
   },
   {
    "duration": 76,
    "start_time": "2024-12-22T20:26:30.653Z"
   },
   {
    "duration": 4,
    "start_time": "2024-12-22T20:26:30.730Z"
   },
   {
    "duration": 49,
    "start_time": "2024-12-22T20:26:30.736Z"
   },
   {
    "duration": 3,
    "start_time": "2024-12-22T20:26:30.787Z"
   },
   {
    "duration": 49,
    "start_time": "2024-12-22T20:26:30.792Z"
   },
   {
    "duration": 161,
    "start_time": "2024-12-22T20:26:30.843Z"
   },
   {
    "duration": 2,
    "start_time": "2024-12-22T20:26:31.006Z"
   },
   {
    "duration": 2,
    "start_time": "2024-12-22T20:26:31.024Z"
   },
   {
    "duration": 2,
    "start_time": "2024-12-22T20:26:31.028Z"
   },
   {
    "duration": 912,
    "start_time": "2024-12-22T20:29:30.189Z"
   },
   {
    "duration": 34,
    "start_time": "2024-12-22T20:29:31.104Z"
   },
   {
    "duration": 12,
    "start_time": "2024-12-22T20:29:31.139Z"
   },
   {
    "duration": 4,
    "start_time": "2024-12-22T20:29:31.155Z"
   },
   {
    "duration": 15,
    "start_time": "2024-12-22T20:29:31.161Z"
   },
   {
    "duration": 18,
    "start_time": "2024-12-22T20:29:31.178Z"
   },
   {
    "duration": 5,
    "start_time": "2024-12-22T20:29:31.224Z"
   },
   {
    "duration": 7,
    "start_time": "2024-12-22T20:29:31.232Z"
   },
   {
    "duration": 6,
    "start_time": "2024-12-22T20:29:31.242Z"
   },
   {
    "duration": 3,
    "start_time": "2024-12-22T20:29:31.252Z"
   },
   {
    "duration": 10,
    "start_time": "2024-12-22T20:29:31.257Z"
   },
   {
    "duration": 6,
    "start_time": "2024-12-22T20:29:31.268Z"
   },
   {
    "duration": 51,
    "start_time": "2024-12-22T20:29:31.276Z"
   },
   {
    "duration": 12,
    "start_time": "2024-12-22T20:29:31.329Z"
   },
   {
    "duration": 4,
    "start_time": "2024-12-22T20:29:31.342Z"
   },
   {
    "duration": 3,
    "start_time": "2024-12-22T20:29:31.348Z"
   },
   {
    "duration": 6,
    "start_time": "2024-12-22T20:29:31.353Z"
   },
   {
    "duration": 18,
    "start_time": "2024-12-22T20:29:31.360Z"
   },
   {
    "duration": 45,
    "start_time": "2024-12-22T20:29:31.379Z"
   },
   {
    "duration": 4,
    "start_time": "2024-12-22T20:29:31.426Z"
   },
   {
    "duration": 4,
    "start_time": "2024-12-22T20:29:31.432Z"
   },
   {
    "duration": 4,
    "start_time": "2024-12-22T20:29:31.437Z"
   },
   {
    "duration": 3,
    "start_time": "2024-12-22T20:29:31.442Z"
   },
   {
    "duration": 3,
    "start_time": "2024-12-22T20:29:31.446Z"
   },
   {
    "duration": 5,
    "start_time": "2024-12-22T20:29:31.450Z"
   },
   {
    "duration": 12,
    "start_time": "2024-12-22T20:29:31.457Z"
   },
   {
    "duration": 53,
    "start_time": "2024-12-22T20:29:31.471Z"
   },
   {
    "duration": 5,
    "start_time": "2024-12-22T20:29:31.530Z"
   },
   {
    "duration": 443,
    "start_time": "2024-12-22T20:29:31.537Z"
   },
   {
    "duration": 0,
    "start_time": "2024-12-22T20:29:31.982Z"
   },
   {
    "duration": 0,
    "start_time": "2024-12-22T20:29:31.983Z"
   },
   {
    "duration": 1,
    "start_time": "2024-12-22T20:29:31.984Z"
   },
   {
    "duration": 0,
    "start_time": "2024-12-22T20:29:31.986Z"
   },
   {
    "duration": 0,
    "start_time": "2024-12-22T20:29:31.987Z"
   },
   {
    "duration": 0,
    "start_time": "2024-12-22T20:29:31.988Z"
   },
   {
    "duration": 0,
    "start_time": "2024-12-22T20:29:31.989Z"
   },
   {
    "duration": 0,
    "start_time": "2024-12-22T20:29:31.990Z"
   },
   {
    "duration": 0,
    "start_time": "2024-12-22T20:29:31.991Z"
   },
   {
    "duration": 0,
    "start_time": "2024-12-22T20:29:31.992Z"
   },
   {
    "duration": 0,
    "start_time": "2024-12-22T20:29:31.993Z"
   },
   {
    "duration": 0,
    "start_time": "2024-12-22T20:29:31.994Z"
   },
   {
    "duration": 0,
    "start_time": "2024-12-22T20:29:31.995Z"
   },
   {
    "duration": 0,
    "start_time": "2024-12-22T20:29:31.996Z"
   },
   {
    "duration": 0,
    "start_time": "2024-12-22T20:29:31.997Z"
   },
   {
    "duration": 0,
    "start_time": "2024-12-22T20:29:31.998Z"
   },
   {
    "duration": 1,
    "start_time": "2024-12-22T20:29:31.998Z"
   },
   {
    "duration": 0,
    "start_time": "2024-12-22T20:29:32.023Z"
   },
   {
    "duration": 0,
    "start_time": "2024-12-22T20:29:32.024Z"
   },
   {
    "duration": 0,
    "start_time": "2024-12-22T20:29:32.026Z"
   },
   {
    "duration": 0,
    "start_time": "2024-12-22T20:29:32.027Z"
   },
   {
    "duration": 0,
    "start_time": "2024-12-22T20:29:32.028Z"
   },
   {
    "duration": 0,
    "start_time": "2024-12-22T20:29:32.029Z"
   },
   {
    "duration": 0,
    "start_time": "2024-12-22T20:29:32.030Z"
   },
   {
    "duration": 0,
    "start_time": "2024-12-22T20:29:32.032Z"
   },
   {
    "duration": 0,
    "start_time": "2024-12-22T20:29:32.033Z"
   },
   {
    "duration": 0,
    "start_time": "2024-12-22T20:29:32.034Z"
   },
   {
    "duration": 0,
    "start_time": "2024-12-22T20:29:32.035Z"
   },
   {
    "duration": 0,
    "start_time": "2024-12-22T20:29:32.036Z"
   },
   {
    "duration": 4,
    "start_time": "2024-12-22T20:30:27.320Z"
   },
   {
    "duration": 5,
    "start_time": "2024-12-22T20:31:10.730Z"
   },
   {
    "duration": 16,
    "start_time": "2024-12-22T20:31:14.386Z"
   },
   {
    "duration": 823,
    "start_time": "2024-12-22T20:31:18.711Z"
   },
   {
    "duration": 24,
    "start_time": "2024-12-22T20:31:19.536Z"
   },
   {
    "duration": 12,
    "start_time": "2024-12-22T20:31:19.561Z"
   },
   {
    "duration": 4,
    "start_time": "2024-12-22T20:31:19.575Z"
   },
   {
    "duration": 43,
    "start_time": "2024-12-22T20:31:19.582Z"
   },
   {
    "duration": 10,
    "start_time": "2024-12-22T20:31:19.627Z"
   },
   {
    "duration": 4,
    "start_time": "2024-12-22T20:31:19.639Z"
   },
   {
    "duration": 8,
    "start_time": "2024-12-22T20:31:19.645Z"
   },
   {
    "duration": 5,
    "start_time": "2024-12-22T20:31:19.654Z"
   },
   {
    "duration": 5,
    "start_time": "2024-12-22T20:31:19.661Z"
   },
   {
    "duration": 10,
    "start_time": "2024-12-22T20:31:19.667Z"
   },
   {
    "duration": 49,
    "start_time": "2024-12-22T20:31:19.679Z"
   },
   {
    "duration": 7,
    "start_time": "2024-12-22T20:31:19.730Z"
   },
   {
    "duration": 14,
    "start_time": "2024-12-22T20:31:19.740Z"
   },
   {
    "duration": 3,
    "start_time": "2024-12-22T20:31:19.756Z"
   },
   {
    "duration": 3,
    "start_time": "2024-12-22T20:31:19.761Z"
   },
   {
    "duration": 7,
    "start_time": "2024-12-22T20:31:19.765Z"
   },
   {
    "duration": 56,
    "start_time": "2024-12-22T20:31:19.773Z"
   },
   {
    "duration": 3,
    "start_time": "2024-12-22T20:31:19.831Z"
   },
   {
    "duration": 4,
    "start_time": "2024-12-22T20:31:19.836Z"
   },
   {
    "duration": 5,
    "start_time": "2024-12-22T20:31:19.841Z"
   },
   {
    "duration": 4,
    "start_time": "2024-12-22T20:31:19.847Z"
   },
   {
    "duration": 3,
    "start_time": "2024-12-22T20:31:19.853Z"
   },
   {
    "duration": 3,
    "start_time": "2024-12-22T20:31:19.857Z"
   },
   {
    "duration": 4,
    "start_time": "2024-12-22T20:31:19.861Z"
   },
   {
    "duration": 62,
    "start_time": "2024-12-22T20:31:19.867Z"
   },
   {
    "duration": 3,
    "start_time": "2024-12-22T20:31:19.931Z"
   },
   {
    "duration": 5,
    "start_time": "2024-12-22T20:31:19.936Z"
   },
   {
    "duration": 6,
    "start_time": "2024-12-22T20:31:19.943Z"
   },
   {
    "duration": 13,
    "start_time": "2024-12-22T20:31:19.950Z"
   },
   {
    "duration": 4,
    "start_time": "2024-12-22T20:31:19.965Z"
   },
   {
    "duration": 6,
    "start_time": "2024-12-22T20:31:19.971Z"
   },
   {
    "duration": 47,
    "start_time": "2024-12-22T20:31:19.979Z"
   },
   {
    "duration": 3,
    "start_time": "2024-12-22T20:31:20.028Z"
   },
   {
    "duration": 12,
    "start_time": "2024-12-22T20:31:20.033Z"
   },
   {
    "duration": 17,
    "start_time": "2024-12-22T20:31:20.047Z"
   },
   {
    "duration": 4,
    "start_time": "2024-12-22T20:31:20.066Z"
   },
   {
    "duration": 4,
    "start_time": "2024-12-22T20:31:20.072Z"
   },
   {
    "duration": 155,
    "start_time": "2024-12-22T20:31:20.124Z"
   },
   {
    "duration": 434,
    "start_time": "2024-12-22T20:31:20.280Z"
   },
   {
    "duration": 7,
    "start_time": "2024-12-22T20:31:20.726Z"
   },
   {
    "duration": 4,
    "start_time": "2024-12-22T20:31:20.734Z"
   },
   {
    "duration": 3,
    "start_time": "2024-12-22T20:31:20.740Z"
   },
   {
    "duration": 204,
    "start_time": "2024-12-22T20:31:20.744Z"
   },
   {
    "duration": 20,
    "start_time": "2024-12-22T20:31:20.950Z"
   },
   {
    "duration": 144,
    "start_time": "2024-12-22T20:31:20.971Z"
   },
   {
    "duration": 9,
    "start_time": "2024-12-22T20:31:21.117Z"
   },
   {
    "duration": 410,
    "start_time": "2024-12-22T20:31:21.127Z"
   },
   {
    "duration": 7,
    "start_time": "2024-12-22T20:31:21.539Z"
   },
   {
    "duration": 218,
    "start_time": "2024-12-22T20:31:21.548Z"
   },
   {
    "duration": 78,
    "start_time": "2024-12-22T20:31:21.768Z"
   },
   {
    "duration": 4,
    "start_time": "2024-12-22T20:31:21.848Z"
   },
   {
    "duration": 87,
    "start_time": "2024-12-22T20:31:21.854Z"
   },
   {
    "duration": 4,
    "start_time": "2024-12-22T20:31:21.943Z"
   },
   {
    "duration": 14,
    "start_time": "2024-12-22T20:31:21.949Z"
   },
   {
    "duration": 162,
    "start_time": "2024-12-22T20:31:21.964Z"
   },
   {
    "duration": 2,
    "start_time": "2024-12-22T20:31:22.128Z"
   },
   {
    "duration": 2,
    "start_time": "2024-12-22T20:31:22.132Z"
   },
   {
    "duration": 3,
    "start_time": "2024-12-22T20:31:22.136Z"
   },
   {
    "duration": 3,
    "start_time": "2024-12-22T20:42:44.884Z"
   },
   {
    "duration": 5,
    "start_time": "2024-12-22T20:42:53.721Z"
   },
   {
    "duration": 896,
    "start_time": "2024-12-22T20:43:01.830Z"
   },
   {
    "duration": 26,
    "start_time": "2024-12-22T20:43:02.728Z"
   },
   {
    "duration": 12,
    "start_time": "2024-12-22T20:43:02.755Z"
   },
   {
    "duration": 4,
    "start_time": "2024-12-22T20:43:02.769Z"
   },
   {
    "duration": 13,
    "start_time": "2024-12-22T20:43:02.775Z"
   },
   {
    "duration": 40,
    "start_time": "2024-12-22T20:43:02.789Z"
   },
   {
    "duration": 4,
    "start_time": "2024-12-22T20:43:02.831Z"
   },
   {
    "duration": 9,
    "start_time": "2024-12-22T20:43:02.837Z"
   },
   {
    "duration": 14,
    "start_time": "2024-12-22T20:43:02.848Z"
   },
   {
    "duration": 4,
    "start_time": "2024-12-22T20:43:02.867Z"
   },
   {
    "duration": 11,
    "start_time": "2024-12-22T20:43:02.872Z"
   },
   {
    "duration": 40,
    "start_time": "2024-12-22T20:43:02.884Z"
   },
   {
    "duration": 8,
    "start_time": "2024-12-22T20:43:02.926Z"
   },
   {
    "duration": 12,
    "start_time": "2024-12-22T20:43:02.936Z"
   },
   {
    "duration": 4,
    "start_time": "2024-12-22T20:43:02.949Z"
   },
   {
    "duration": 3,
    "start_time": "2024-12-22T20:43:02.954Z"
   },
   {
    "duration": 8,
    "start_time": "2024-12-22T20:43:02.959Z"
   },
   {
    "duration": 62,
    "start_time": "2024-12-22T20:43:02.969Z"
   },
   {
    "duration": 4,
    "start_time": "2024-12-22T20:43:03.032Z"
   },
   {
    "duration": 4,
    "start_time": "2024-12-22T20:43:03.038Z"
   },
   {
    "duration": 4,
    "start_time": "2024-12-22T20:43:03.044Z"
   },
   {
    "duration": 4,
    "start_time": "2024-12-22T20:43:03.049Z"
   },
   {
    "duration": 3,
    "start_time": "2024-12-22T20:43:03.054Z"
   },
   {
    "duration": 3,
    "start_time": "2024-12-22T20:43:03.058Z"
   },
   {
    "duration": 4,
    "start_time": "2024-12-22T20:43:03.063Z"
   },
   {
    "duration": 56,
    "start_time": "2024-12-22T20:43:03.069Z"
   },
   {
    "duration": 3,
    "start_time": "2024-12-22T20:43:03.127Z"
   },
   {
    "duration": 5,
    "start_time": "2024-12-22T20:43:03.134Z"
   },
   {
    "duration": 6,
    "start_time": "2024-12-22T20:43:03.142Z"
   },
   {
    "duration": 13,
    "start_time": "2024-12-22T20:43:03.149Z"
   },
   {
    "duration": 3,
    "start_time": "2024-12-22T20:43:03.164Z"
   },
   {
    "duration": 5,
    "start_time": "2024-12-22T20:43:03.169Z"
   },
   {
    "duration": 6,
    "start_time": "2024-12-22T20:43:03.224Z"
   },
   {
    "duration": 7,
    "start_time": "2024-12-22T20:43:03.232Z"
   },
   {
    "duration": 4,
    "start_time": "2024-12-22T20:43:03.241Z"
   },
   {
    "duration": 3,
    "start_time": "2024-12-22T20:43:03.246Z"
   },
   {
    "duration": 12,
    "start_time": "2024-12-22T20:43:03.250Z"
   },
   {
    "duration": 17,
    "start_time": "2024-12-22T20:43:03.264Z"
   },
   {
    "duration": 45,
    "start_time": "2024-12-22T20:43:03.282Z"
   },
   {
    "duration": 4,
    "start_time": "2024-12-22T20:43:03.329Z"
   },
   {
    "duration": 172,
    "start_time": "2024-12-22T20:43:03.335Z"
   },
   {
    "duration": 424,
    "start_time": "2024-12-22T20:43:03.509Z"
   },
   {
    "duration": 7,
    "start_time": "2024-12-22T20:43:03.934Z"
   },
   {
    "duration": 4,
    "start_time": "2024-12-22T20:43:03.943Z"
   },
   {
    "duration": 3,
    "start_time": "2024-12-22T20:43:03.948Z"
   },
   {
    "duration": 209,
    "start_time": "2024-12-22T20:43:03.953Z"
   },
   {
    "duration": 21,
    "start_time": "2024-12-22T20:43:04.164Z"
   },
   {
    "duration": 146,
    "start_time": "2024-12-22T20:43:04.186Z"
   },
   {
    "duration": 4,
    "start_time": "2024-12-22T20:43:04.334Z"
   },
   {
    "duration": 419,
    "start_time": "2024-12-22T20:43:04.340Z"
   },
   {
    "duration": 7,
    "start_time": "2024-12-22T20:43:04.761Z"
   },
   {
    "duration": 188,
    "start_time": "2024-12-22T20:43:04.770Z"
   },
   {
    "duration": 82,
    "start_time": "2024-12-22T20:43:04.960Z"
   },
   {
    "duration": 4,
    "start_time": "2024-12-22T20:43:05.044Z"
   },
   {
    "duration": 83,
    "start_time": "2024-12-22T20:43:05.049Z"
   },
   {
    "duration": 5,
    "start_time": "2024-12-22T20:43:05.133Z"
   },
   {
    "duration": 14,
    "start_time": "2024-12-22T20:43:05.139Z"
   },
   {
    "duration": 161,
    "start_time": "2024-12-22T20:43:05.154Z"
   },
   {
    "duration": 2,
    "start_time": "2024-12-22T20:43:05.324Z"
   },
   {
    "duration": 2,
    "start_time": "2024-12-22T20:43:05.328Z"
   },
   {
    "duration": 2,
    "start_time": "2024-12-22T20:43:05.332Z"
   },
   {
    "duration": 288,
    "start_time": "2024-12-22T20:43:28.162Z"
   },
   {
    "duration": 16,
    "start_time": "2024-12-22T20:43:36.168Z"
   },
   {
    "duration": 20,
    "start_time": "2024-12-22T20:43:47.129Z"
   },
   {
    "duration": 5,
    "start_time": "2024-12-22T20:43:56.453Z"
   },
   {
    "duration": 4,
    "start_time": "2024-12-22T20:44:22.289Z"
   },
   {
    "duration": 4,
    "start_time": "2024-12-22T20:44:23.450Z"
   },
   {
    "duration": 994,
    "start_time": "2024-12-22T20:44:27.966Z"
   },
   {
    "duration": 25,
    "start_time": "2024-12-22T20:44:28.963Z"
   },
   {
    "duration": 14,
    "start_time": "2024-12-22T20:44:28.990Z"
   },
   {
    "duration": 18,
    "start_time": "2024-12-22T20:44:29.007Z"
   },
   {
    "duration": 18,
    "start_time": "2024-12-22T20:44:29.027Z"
   },
   {
    "duration": 14,
    "start_time": "2024-12-22T20:44:29.047Z"
   },
   {
    "duration": 5,
    "start_time": "2024-12-22T20:44:29.063Z"
   },
   {
    "duration": 8,
    "start_time": "2024-12-22T20:44:29.070Z"
   },
   {
    "duration": 45,
    "start_time": "2024-12-22T20:44:29.080Z"
   },
   {
    "duration": 4,
    "start_time": "2024-12-22T20:44:29.130Z"
   },
   {
    "duration": 12,
    "start_time": "2024-12-22T20:44:29.136Z"
   },
   {
    "duration": 7,
    "start_time": "2024-12-22T20:44:29.149Z"
   },
   {
    "duration": 7,
    "start_time": "2024-12-22T20:44:29.157Z"
   },
   {
    "duration": 12,
    "start_time": "2024-12-22T20:44:29.166Z"
   },
   {
    "duration": 47,
    "start_time": "2024-12-22T20:44:29.179Z"
   },
   {
    "duration": 4,
    "start_time": "2024-12-22T20:44:29.228Z"
   },
   {
    "duration": 7,
    "start_time": "2024-12-22T20:44:29.234Z"
   },
   {
    "duration": 26,
    "start_time": "2024-12-22T20:44:29.243Z"
   },
   {
    "duration": 3,
    "start_time": "2024-12-22T20:44:29.272Z"
   },
   {
    "duration": 47,
    "start_time": "2024-12-22T20:44:29.277Z"
   },
   {
    "duration": 5,
    "start_time": "2024-12-22T20:44:29.325Z"
   },
   {
    "duration": 3,
    "start_time": "2024-12-22T20:44:29.332Z"
   },
   {
    "duration": 2,
    "start_time": "2024-12-22T20:44:29.337Z"
   },
   {
    "duration": 2,
    "start_time": "2024-12-22T20:44:29.340Z"
   },
   {
    "duration": 5,
    "start_time": "2024-12-22T20:44:29.344Z"
   },
   {
    "duration": 13,
    "start_time": "2024-12-22T20:44:29.350Z"
   },
   {
    "duration": 5,
    "start_time": "2024-12-22T20:44:29.364Z"
   },
   {
    "duration": 51,
    "start_time": "2024-12-22T20:44:29.375Z"
   },
   {
    "duration": 6,
    "start_time": "2024-12-22T20:44:29.429Z"
   },
   {
    "duration": 20,
    "start_time": "2024-12-22T20:44:29.436Z"
   },
   {
    "duration": 4,
    "start_time": "2024-12-22T20:44:29.457Z"
   },
   {
    "duration": 6,
    "start_time": "2024-12-22T20:44:29.462Z"
   },
   {
    "duration": 6,
    "start_time": "2024-12-22T20:44:29.470Z"
   },
   {
    "duration": 47,
    "start_time": "2024-12-22T20:44:29.477Z"
   },
   {
    "duration": 6,
    "start_time": "2024-12-22T20:44:29.526Z"
   },
   {
    "duration": 3,
    "start_time": "2024-12-22T20:44:29.534Z"
   },
   {
    "duration": 12,
    "start_time": "2024-12-22T20:44:29.539Z"
   },
   {
    "duration": 17,
    "start_time": "2024-12-22T20:44:29.553Z"
   },
   {
    "duration": 4,
    "start_time": "2024-12-22T20:44:29.572Z"
   },
   {
    "duration": 46,
    "start_time": "2024-12-22T20:44:29.578Z"
   },
   {
    "duration": 167,
    "start_time": "2024-12-22T20:44:29.625Z"
   },
   {
    "duration": 438,
    "start_time": "2024-12-22T20:44:29.794Z"
   },
   {
    "duration": 10,
    "start_time": "2024-12-22T20:44:30.234Z"
   },
   {
    "duration": 5,
    "start_time": "2024-12-22T20:44:30.245Z"
   },
   {
    "duration": 2,
    "start_time": "2024-12-22T20:44:30.252Z"
   },
   {
    "duration": 210,
    "start_time": "2024-12-22T20:44:30.256Z"
   },
   {
    "duration": 21,
    "start_time": "2024-12-22T20:44:30.468Z"
   },
   {
    "duration": 164,
    "start_time": "2024-12-22T20:44:30.491Z"
   },
   {
    "duration": 4,
    "start_time": "2024-12-22T20:44:30.658Z"
   },
   {
    "duration": 461,
    "start_time": "2024-12-22T20:44:30.663Z"
   },
   {
    "duration": 10,
    "start_time": "2024-12-22T20:44:31.126Z"
   },
   {
    "duration": 193,
    "start_time": "2024-12-22T20:44:31.138Z"
   },
   {
    "duration": 119,
    "start_time": "2024-12-22T20:44:31.333Z"
   },
   {
    "duration": 4,
    "start_time": "2024-12-22T20:44:31.454Z"
   },
   {
    "duration": 79,
    "start_time": "2024-12-22T20:44:31.460Z"
   },
   {
    "duration": 5,
    "start_time": "2024-12-22T20:44:31.541Z"
   },
   {
    "duration": 21,
    "start_time": "2024-12-22T20:44:31.547Z"
   },
   {
    "duration": 174,
    "start_time": "2024-12-22T20:44:31.572Z"
   },
   {
    "duration": 3,
    "start_time": "2024-12-22T20:44:31.747Z"
   },
   {
    "duration": 2,
    "start_time": "2024-12-22T20:44:31.752Z"
   },
   {
    "duration": 3,
    "start_time": "2024-12-22T20:44:31.756Z"
   },
   {
    "duration": 7,
    "start_time": "2024-12-22T20:45:45.382Z"
   },
   {
    "duration": 4,
    "start_time": "2024-12-22T20:47:00.354Z"
   },
   {
    "duration": 846,
    "start_time": "2024-12-22T20:47:08.382Z"
   },
   {
    "duration": 23,
    "start_time": "2024-12-22T20:47:09.232Z"
   },
   {
    "duration": 12,
    "start_time": "2024-12-22T20:47:09.256Z"
   },
   {
    "duration": 4,
    "start_time": "2024-12-22T20:47:09.270Z"
   },
   {
    "duration": 13,
    "start_time": "2024-12-22T20:47:09.276Z"
   },
   {
    "duration": 36,
    "start_time": "2024-12-22T20:47:09.291Z"
   },
   {
    "duration": 5,
    "start_time": "2024-12-22T20:47:09.329Z"
   },
   {
    "duration": 8,
    "start_time": "2024-12-22T20:47:09.336Z"
   },
   {
    "duration": 5,
    "start_time": "2024-12-22T20:47:09.346Z"
   },
   {
    "duration": 3,
    "start_time": "2024-12-22T20:47:09.355Z"
   },
   {
    "duration": 10,
    "start_time": "2024-12-22T20:47:09.359Z"
   },
   {
    "duration": 55,
    "start_time": "2024-12-22T20:47:09.371Z"
   },
   {
    "duration": 9,
    "start_time": "2024-12-22T20:47:09.427Z"
   },
   {
    "duration": 12,
    "start_time": "2024-12-22T20:47:09.437Z"
   },
   {
    "duration": 4,
    "start_time": "2024-12-22T20:47:09.450Z"
   },
   {
    "duration": 3,
    "start_time": "2024-12-22T20:47:09.455Z"
   },
   {
    "duration": 6,
    "start_time": "2024-12-22T20:47:09.460Z"
   },
   {
    "duration": 57,
    "start_time": "2024-12-22T20:47:09.468Z"
   },
   {
    "duration": 3,
    "start_time": "2024-12-22T20:47:09.527Z"
   },
   {
    "duration": 8,
    "start_time": "2024-12-22T20:47:09.531Z"
   },
   {
    "duration": 4,
    "start_time": "2024-12-22T20:47:09.540Z"
   },
   {
    "duration": 3,
    "start_time": "2024-12-22T20:47:09.546Z"
   },
   {
    "duration": 3,
    "start_time": "2024-12-22T20:47:09.550Z"
   },
   {
    "duration": 3,
    "start_time": "2024-12-22T20:47:09.555Z"
   },
   {
    "duration": 5,
    "start_time": "2024-12-22T20:47:09.559Z"
   },
   {
    "duration": 58,
    "start_time": "2024-12-22T20:47:09.566Z"
   },
   {
    "duration": 4,
    "start_time": "2024-12-22T20:47:09.625Z"
   },
   {
    "duration": 5,
    "start_time": "2024-12-22T20:47:09.636Z"
   },
   {
    "duration": 5,
    "start_time": "2024-12-22T20:47:09.643Z"
   },
   {
    "duration": 13,
    "start_time": "2024-12-22T20:47:09.650Z"
   },
   {
    "duration": 4,
    "start_time": "2024-12-22T20:47:09.664Z"
   },
   {
    "duration": 5,
    "start_time": "2024-12-22T20:47:09.670Z"
   },
   {
    "duration": 50,
    "start_time": "2024-12-22T20:47:09.677Z"
   },
   {
    "duration": 7,
    "start_time": "2024-12-22T20:47:09.729Z"
   },
   {
    "duration": 5,
    "start_time": "2024-12-22T20:47:09.738Z"
   },
   {
    "duration": 3,
    "start_time": "2024-12-22T20:47:09.745Z"
   },
   {
    "duration": 12,
    "start_time": "2024-12-22T20:47:09.750Z"
   },
   {
    "duration": 18,
    "start_time": "2024-12-22T20:47:09.764Z"
   },
   {
    "duration": 4,
    "start_time": "2024-12-22T20:47:09.824Z"
   },
   {
    "duration": 5,
    "start_time": "2024-12-22T20:47:09.830Z"
   },
   {
    "duration": 174,
    "start_time": "2024-12-22T20:47:09.836Z"
   },
   {
    "duration": 432,
    "start_time": "2024-12-22T20:47:10.012Z"
   },
   {
    "duration": 8,
    "start_time": "2024-12-22T20:47:10.446Z"
   },
   {
    "duration": 4,
    "start_time": "2024-12-22T20:47:10.456Z"
   },
   {
    "duration": 2,
    "start_time": "2024-12-22T20:47:10.462Z"
   },
   {
    "duration": 209,
    "start_time": "2024-12-22T20:47:10.466Z"
   },
   {
    "duration": 20,
    "start_time": "2024-12-22T20:47:10.677Z"
   },
   {
    "duration": 141,
    "start_time": "2024-12-22T20:47:10.699Z"
   },
   {
    "duration": 4,
    "start_time": "2024-12-22T20:47:10.842Z"
   },
   {
    "duration": 414,
    "start_time": "2024-12-22T20:47:10.848Z"
   },
   {
    "duration": 7,
    "start_time": "2024-12-22T20:47:11.263Z"
   },
   {
    "duration": 174,
    "start_time": "2024-12-22T20:47:11.272Z"
   },
   {
    "duration": 94,
    "start_time": "2024-12-22T20:47:11.448Z"
   },
   {
    "duration": 4,
    "start_time": "2024-12-22T20:47:11.544Z"
   },
   {
    "duration": 95,
    "start_time": "2024-12-22T20:47:11.549Z"
   },
   {
    "duration": 4,
    "start_time": "2024-12-22T20:47:11.646Z"
   },
   {
    "duration": 20,
    "start_time": "2024-12-22T20:47:11.652Z"
   },
   {
    "duration": 172,
    "start_time": "2024-12-22T20:47:11.673Z"
   },
   {
    "duration": 2,
    "start_time": "2024-12-22T20:47:11.847Z"
   },
   {
    "duration": 3,
    "start_time": "2024-12-22T20:47:11.851Z"
   },
   {
    "duration": 2,
    "start_time": "2024-12-22T20:47:11.856Z"
   },
   {
    "duration": 3,
    "start_time": "2024-12-22T20:47:45.324Z"
   },
   {
    "duration": 15,
    "start_time": "2024-12-22T20:48:24.743Z"
   },
   {
    "duration": 893,
    "start_time": "2024-12-22T20:48:32.439Z"
   },
   {
    "duration": 24,
    "start_time": "2024-12-22T20:48:33.334Z"
   },
   {
    "duration": 13,
    "start_time": "2024-12-22T20:48:33.359Z"
   },
   {
    "duration": 4,
    "start_time": "2024-12-22T20:48:33.374Z"
   },
   {
    "duration": 14,
    "start_time": "2024-12-22T20:48:33.380Z"
   },
   {
    "duration": 11,
    "start_time": "2024-12-22T20:48:33.424Z"
   },
   {
    "duration": 4,
    "start_time": "2024-12-22T20:48:33.437Z"
   },
   {
    "duration": 7,
    "start_time": "2024-12-22T20:48:33.442Z"
   },
   {
    "duration": 5,
    "start_time": "2024-12-22T20:48:33.451Z"
   },
   {
    "duration": 3,
    "start_time": "2024-12-22T20:48:33.461Z"
   },
   {
    "duration": 11,
    "start_time": "2024-12-22T20:48:33.466Z"
   },
   {
    "duration": 51,
    "start_time": "2024-12-22T20:48:33.478Z"
   },
   {
    "duration": 7,
    "start_time": "2024-12-22T20:48:33.531Z"
   },
   {
    "duration": 12,
    "start_time": "2024-12-22T20:48:33.541Z"
   },
   {
    "duration": 4,
    "start_time": "2024-12-22T20:48:33.555Z"
   },
   {
    "duration": 3,
    "start_time": "2024-12-22T20:48:33.562Z"
   },
   {
    "duration": 9,
    "start_time": "2024-12-22T20:48:33.567Z"
   },
   {
    "duration": 60,
    "start_time": "2024-12-22T20:48:33.579Z"
   },
   {
    "duration": 2,
    "start_time": "2024-12-22T20:48:33.641Z"
   },
   {
    "duration": 5,
    "start_time": "2024-12-22T20:48:33.645Z"
   },
   {
    "duration": 4,
    "start_time": "2024-12-22T20:48:33.651Z"
   },
   {
    "duration": 3,
    "start_time": "2024-12-22T20:48:33.657Z"
   },
   {
    "duration": 3,
    "start_time": "2024-12-22T20:48:33.661Z"
   },
   {
    "duration": 2,
    "start_time": "2024-12-22T20:48:33.666Z"
   },
   {
    "duration": 5,
    "start_time": "2024-12-22T20:48:33.669Z"
   },
   {
    "duration": 59,
    "start_time": "2024-12-22T20:48:33.676Z"
   },
   {
    "duration": 4,
    "start_time": "2024-12-22T20:48:33.737Z"
   },
   {
    "duration": 6,
    "start_time": "2024-12-22T20:48:33.746Z"
   },
   {
    "duration": 5,
    "start_time": "2024-12-22T20:48:33.755Z"
   },
   {
    "duration": 14,
    "start_time": "2024-12-22T20:48:33.761Z"
   },
   {
    "duration": 4,
    "start_time": "2024-12-22T20:48:33.776Z"
   },
   {
    "duration": 43,
    "start_time": "2024-12-22T20:48:33.781Z"
   },
   {
    "duration": 5,
    "start_time": "2024-12-22T20:48:33.826Z"
   },
   {
    "duration": 7,
    "start_time": "2024-12-22T20:48:33.832Z"
   },
   {
    "duration": 6,
    "start_time": "2024-12-22T20:48:33.840Z"
   },
   {
    "duration": 4,
    "start_time": "2024-12-22T20:48:33.848Z"
   },
   {
    "duration": 16,
    "start_time": "2024-12-22T20:48:33.854Z"
   },
   {
    "duration": 67,
    "start_time": "2024-12-22T20:48:33.871Z"
   },
   {
    "duration": 5,
    "start_time": "2024-12-22T20:48:33.939Z"
   },
   {
    "duration": 4,
    "start_time": "2024-12-22T20:48:33.945Z"
   },
   {
    "duration": 173,
    "start_time": "2024-12-22T20:48:33.951Z"
   },
   {
    "duration": 437,
    "start_time": "2024-12-22T20:48:34.126Z"
   },
   {
    "duration": 7,
    "start_time": "2024-12-22T20:48:34.565Z"
   },
   {
    "duration": 4,
    "start_time": "2024-12-22T20:48:34.574Z"
   },
   {
    "duration": 7,
    "start_time": "2024-12-22T20:48:34.580Z"
   },
   {
    "duration": 211,
    "start_time": "2024-12-22T20:48:34.589Z"
   },
   {
    "duration": 24,
    "start_time": "2024-12-22T20:48:34.802Z"
   },
   {
    "duration": 140,
    "start_time": "2024-12-22T20:48:34.829Z"
   },
   {
    "duration": 4,
    "start_time": "2024-12-22T20:48:34.971Z"
   },
   {
    "duration": 412,
    "start_time": "2024-12-22T20:48:34.977Z"
   },
   {
    "duration": 7,
    "start_time": "2024-12-22T20:48:35.391Z"
   },
   {
    "duration": 177,
    "start_time": "2024-12-22T20:48:35.399Z"
   },
   {
    "duration": 90,
    "start_time": "2024-12-22T20:48:35.577Z"
   },
   {
    "duration": 4,
    "start_time": "2024-12-22T20:48:35.669Z"
   },
   {
    "duration": 90,
    "start_time": "2024-12-22T20:48:35.674Z"
   },
   {
    "duration": 4,
    "start_time": "2024-12-22T20:48:35.766Z"
   },
   {
    "duration": 14,
    "start_time": "2024-12-22T20:48:35.772Z"
   },
   {
    "duration": 170,
    "start_time": "2024-12-22T20:48:35.787Z"
   },
   {
    "duration": 2,
    "start_time": "2024-12-22T20:48:35.959Z"
   },
   {
    "duration": 3,
    "start_time": "2024-12-22T20:48:35.963Z"
   },
   {
    "duration": 3,
    "start_time": "2024-12-22T20:48:35.967Z"
   },
   {
    "duration": 859,
    "start_time": "2024-12-22T20:55:42.572Z"
   },
   {
    "duration": 25,
    "start_time": "2024-12-22T20:55:43.433Z"
   },
   {
    "duration": 14,
    "start_time": "2024-12-22T20:55:43.459Z"
   },
   {
    "duration": 4,
    "start_time": "2024-12-22T20:55:43.475Z"
   },
   {
    "duration": 15,
    "start_time": "2024-12-22T20:55:43.481Z"
   },
   {
    "duration": 35,
    "start_time": "2024-12-22T20:55:43.498Z"
   },
   {
    "duration": 5,
    "start_time": "2024-12-22T20:55:43.534Z"
   },
   {
    "duration": 7,
    "start_time": "2024-12-22T20:55:43.540Z"
   },
   {
    "duration": 5,
    "start_time": "2024-12-22T20:55:43.549Z"
   },
   {
    "duration": 4,
    "start_time": "2024-12-22T20:55:43.558Z"
   },
   {
    "duration": 12,
    "start_time": "2024-12-22T20:55:43.563Z"
   },
   {
    "duration": 51,
    "start_time": "2024-12-22T20:55:43.577Z"
   },
   {
    "duration": 7,
    "start_time": "2024-12-22T20:55:43.630Z"
   },
   {
    "duration": 11,
    "start_time": "2024-12-22T20:55:43.639Z"
   },
   {
    "duration": 4,
    "start_time": "2024-12-22T20:55:43.652Z"
   },
   {
    "duration": 4,
    "start_time": "2024-12-22T20:55:43.657Z"
   },
   {
    "duration": 6,
    "start_time": "2024-12-22T20:55:43.663Z"
   },
   {
    "duration": 62,
    "start_time": "2024-12-22T20:55:43.671Z"
   },
   {
    "duration": 3,
    "start_time": "2024-12-22T20:55:43.736Z"
   },
   {
    "duration": 4,
    "start_time": "2024-12-22T20:55:43.740Z"
   },
   {
    "duration": 4,
    "start_time": "2024-12-22T20:55:43.746Z"
   },
   {
    "duration": 4,
    "start_time": "2024-12-22T20:55:43.752Z"
   },
   {
    "duration": 3,
    "start_time": "2024-12-22T20:55:43.758Z"
   },
   {
    "duration": 2,
    "start_time": "2024-12-22T20:55:43.763Z"
   },
   {
    "duration": 5,
    "start_time": "2024-12-22T20:55:43.767Z"
   },
   {
    "duration": 61,
    "start_time": "2024-12-22T20:55:43.774Z"
   },
   {
    "duration": 4,
    "start_time": "2024-12-22T20:55:43.837Z"
   },
   {
    "duration": 5,
    "start_time": "2024-12-22T20:55:43.846Z"
   },
   {
    "duration": 9,
    "start_time": "2024-12-22T20:55:43.852Z"
   },
   {
    "duration": 21,
    "start_time": "2024-12-22T20:55:43.863Z"
   },
   {
    "duration": 41,
    "start_time": "2024-12-22T20:55:43.886Z"
   },
   {
    "duration": 5,
    "start_time": "2024-12-22T20:55:43.929Z"
   },
   {
    "duration": 5,
    "start_time": "2024-12-22T20:55:43.936Z"
   },
   {
    "duration": 7,
    "start_time": "2024-12-22T20:55:43.942Z"
   },
   {
    "duration": 6,
    "start_time": "2024-12-22T20:55:43.950Z"
   },
   {
    "duration": 3,
    "start_time": "2024-12-22T20:55:43.958Z"
   },
   {
    "duration": 13,
    "start_time": "2024-12-22T20:55:43.963Z"
   },
   {
    "duration": 62,
    "start_time": "2024-12-22T20:55:43.977Z"
   },
   {
    "duration": 5,
    "start_time": "2024-12-22T20:55:44.041Z"
   },
   {
    "duration": 5,
    "start_time": "2024-12-22T20:55:44.047Z"
   },
   {
    "duration": 179,
    "start_time": "2024-12-22T20:55:44.054Z"
   },
   {
    "duration": 443,
    "start_time": "2024-12-22T20:55:44.235Z"
   },
   {
    "duration": 7,
    "start_time": "2024-12-22T20:55:44.680Z"
   },
   {
    "duration": 4,
    "start_time": "2024-12-22T20:55:44.689Z"
   },
   {
    "duration": 2,
    "start_time": "2024-12-22T20:55:44.695Z"
   },
   {
    "duration": 213,
    "start_time": "2024-12-22T20:55:44.699Z"
   },
   {
    "duration": 25,
    "start_time": "2024-12-22T20:55:44.914Z"
   },
   {
    "duration": 137,
    "start_time": "2024-12-22T20:55:44.941Z"
   },
   {
    "duration": 5,
    "start_time": "2024-12-22T20:55:45.079Z"
   },
   {
    "duration": 441,
    "start_time": "2024-12-22T20:55:45.086Z"
   },
   {
    "duration": 7,
    "start_time": "2024-12-22T20:55:45.529Z"
   },
   {
    "duration": 148,
    "start_time": "2024-12-22T20:55:45.538Z"
   },
   {
    "duration": 89,
    "start_time": "2024-12-22T20:55:45.688Z"
   },
   {
    "duration": 5,
    "start_time": "2024-12-22T20:55:45.778Z"
   },
   {
    "duration": 81,
    "start_time": "2024-12-22T20:55:45.784Z"
   },
   {
    "duration": 4,
    "start_time": "2024-12-22T20:55:45.866Z"
   },
   {
    "duration": 56,
    "start_time": "2024-12-22T20:55:45.872Z"
   },
   {
    "duration": 147,
    "start_time": "2024-12-22T20:55:45.930Z"
   },
   {
    "duration": 3,
    "start_time": "2024-12-22T20:55:46.078Z"
   },
   {
    "duration": 3,
    "start_time": "2024-12-22T20:55:46.082Z"
   },
   {
    "duration": 2,
    "start_time": "2024-12-22T20:55:46.087Z"
   },
   {
    "duration": 14,
    "start_time": "2024-12-22T21:08:01.457Z"
   },
   {
    "duration": 14,
    "start_time": "2024-12-22T21:08:14.663Z"
   },
   {
    "duration": 283,
    "start_time": "2024-12-22T21:08:29.316Z"
   },
   {
    "duration": 15,
    "start_time": "2024-12-22T21:16:44.074Z"
   },
   {
    "duration": 4,
    "start_time": "2024-12-22T21:17:08.997Z"
   },
   {
    "duration": 167,
    "start_time": "2024-12-22T21:18:26.508Z"
   },
   {
    "duration": 36,
    "start_time": "2024-12-22T21:18:34.093Z"
   },
   {
    "duration": 9,
    "start_time": "2024-12-22T21:25:55.205Z"
   },
   {
    "duration": 3,
    "start_time": "2024-12-22T21:31:37.248Z"
   },
   {
    "duration": 5,
    "start_time": "2024-12-22T21:31:44.616Z"
   },
   {
    "duration": 5,
    "start_time": "2024-12-22T21:32:02.827Z"
   },
   {
    "duration": 5,
    "start_time": "2024-12-22T21:32:28.712Z"
   },
   {
    "duration": 5,
    "start_time": "2024-12-22T21:32:36.732Z"
   },
   {
    "duration": 154,
    "start_time": "2024-12-22T21:32:53.557Z"
   },
   {
    "duration": 12,
    "start_time": "2024-12-22T21:36:12.502Z"
   },
   {
    "duration": 12,
    "start_time": "2024-12-22T21:36:21.784Z"
   },
   {
    "duration": 18,
    "start_time": "2024-12-22T21:36:29.886Z"
   },
   {
    "duration": 9882,
    "start_time": "2024-12-22T22:06:26.775Z"
   },
   {
    "duration": 151,
    "start_time": "2024-12-22T22:07:00.660Z"
   },
   {
    "duration": 9952,
    "start_time": "2024-12-22T22:07:17.287Z"
   },
   {
    "duration": 151,
    "start_time": "2024-12-22T22:07:38.966Z"
   },
   {
    "duration": 137,
    "start_time": "2024-12-22T22:08:07.929Z"
   },
   {
    "duration": 5,
    "start_time": "2024-12-22T22:08:29.347Z"
   },
   {
    "duration": 135,
    "start_time": "2024-12-22T22:08:32.209Z"
   },
   {
    "duration": 300,
    "start_time": "2024-12-22T22:09:43.751Z"
   },
   {
    "duration": 358,
    "start_time": "2024-12-22T22:09:50.590Z"
   },
   {
    "duration": 806,
    "start_time": "2024-12-22T22:10:09.224Z"
   },
   {
    "duration": 141,
    "start_time": "2024-12-22T22:10:33.049Z"
   },
   {
    "duration": 176,
    "start_time": "2024-12-22T22:14:22.599Z"
   },
   {
    "duration": 180,
    "start_time": "2024-12-22T22:14:35.422Z"
   },
   {
    "duration": 5,
    "start_time": "2024-12-22T22:15:57.543Z"
   },
   {
    "duration": 140,
    "start_time": "2024-12-22T22:18:19.953Z"
   },
   {
    "duration": 182,
    "start_time": "2024-12-22T22:24:14.534Z"
   },
   {
    "duration": 16,
    "start_time": "2024-12-22T22:26:19.032Z"
   },
   {
    "duration": 4,
    "start_time": "2024-12-22T22:26:21.673Z"
   },
   {
    "duration": 132,
    "start_time": "2024-12-22T22:26:22.957Z"
   },
   {
    "duration": 4,
    "start_time": "2024-12-22T22:26:39.664Z"
   },
   {
    "duration": 47,
    "start_time": "2024-12-22T22:26:46.110Z"
   },
   {
    "duration": 8,
    "start_time": "2024-12-22T22:27:14.038Z"
   },
   {
    "duration": 47,
    "start_time": "2024-12-22T22:27:24.211Z"
   },
   {
    "duration": 40,
    "start_time": "2024-12-22T22:27:35.894Z"
   },
   {
    "duration": 4,
    "start_time": "2024-12-22T22:27:40.035Z"
   },
   {
    "duration": 36,
    "start_time": "2024-12-22T22:28:44.009Z"
   },
   {
    "duration": 4,
    "start_time": "2024-12-22T22:28:46.385Z"
   },
   {
    "duration": 8,
    "start_time": "2024-12-22T22:29:09.906Z"
   },
   {
    "duration": 128,
    "start_time": "2024-12-22T22:29:26.573Z"
   },
   {
    "duration": 136,
    "start_time": "2024-12-22T22:29:35.816Z"
   },
   {
    "duration": 10,
    "start_time": "2024-12-22T22:32:26.201Z"
   },
   {
    "duration": 4,
    "start_time": "2024-12-22T22:38:52.850Z"
   },
   {
    "duration": 17,
    "start_time": "2024-12-22T22:38:59.364Z"
   },
   {
    "duration": 4,
    "start_time": "2024-12-22T22:39:29.726Z"
   },
   {
    "duration": 516,
    "start_time": "2024-12-22T22:48:59.498Z"
   },
   {
    "duration": 45,
    "start_time": "2024-12-22T22:49:29.533Z"
   },
   {
    "duration": 5,
    "start_time": "2024-12-22T22:49:38.588Z"
   },
   {
    "duration": 46,
    "start_time": "2024-12-22T22:49:43.278Z"
   },
   {
    "duration": 286,
    "start_time": "2024-12-22T22:50:01.079Z"
   },
   {
    "duration": 5,
    "start_time": "2024-12-22T22:50:11.106Z"
   },
   {
    "duration": 18,
    "start_time": "2024-12-22T22:50:16.222Z"
   },
   {
    "duration": 7,
    "start_time": "2024-12-22T22:50:22.900Z"
   },
   {
    "duration": 16,
    "start_time": "2024-12-22T22:50:31.614Z"
   },
   {
    "duration": 13,
    "start_time": "2024-12-22T22:51:03.753Z"
   },
   {
    "duration": 9,
    "start_time": "2024-12-22T22:57:01.593Z"
   },
   {
    "duration": 6,
    "start_time": "2024-12-22T22:58:57.587Z"
   },
   {
    "duration": 11,
    "start_time": "2024-12-22T22:59:02.002Z"
   },
   {
    "duration": 6,
    "start_time": "2024-12-22T22:59:16.268Z"
   },
   {
    "duration": 7,
    "start_time": "2024-12-22T22:59:19.005Z"
   },
   {
    "duration": 18,
    "start_time": "2024-12-22T22:59:27.536Z"
   },
   {
    "duration": 9,
    "start_time": "2024-12-22T23:01:08.044Z"
   },
   {
    "duration": 20,
    "start_time": "2024-12-22T23:01:44.000Z"
   },
   {
    "duration": 9,
    "start_time": "2024-12-22T23:02:02.637Z"
   },
   {
    "duration": 9,
    "start_time": "2024-12-22T23:03:05.642Z"
   },
   {
    "duration": 7,
    "start_time": "2024-12-22T23:03:29.904Z"
   },
   {
    "duration": 28,
    "start_time": "2024-12-22T23:03:35.879Z"
   },
   {
    "duration": 10,
    "start_time": "2024-12-22T23:04:08.645Z"
   },
   {
    "duration": 10,
    "start_time": "2024-12-22T23:04:32.468Z"
   },
   {
    "duration": 10,
    "start_time": "2024-12-22T23:04:54.766Z"
   },
   {
    "duration": 327,
    "start_time": "2024-12-22T23:17:38.732Z"
   },
   {
    "duration": 314,
    "start_time": "2024-12-22T23:17:45.263Z"
   },
   {
    "duration": 252,
    "start_time": "2024-12-22T23:17:54.273Z"
   },
   {
    "duration": 257,
    "start_time": "2024-12-22T23:18:59.247Z"
   },
   {
    "duration": 228,
    "start_time": "2024-12-22T23:22:16.068Z"
   },
   {
    "duration": 244,
    "start_time": "2024-12-22T23:22:45.447Z"
   },
   {
    "duration": 492,
    "start_time": "2024-12-22T23:23:06.991Z"
   },
   {
    "duration": 227,
    "start_time": "2024-12-22T23:23:15.586Z"
   },
   {
    "duration": 229,
    "start_time": "2024-12-22T23:24:15.703Z"
   },
   {
    "duration": 246,
    "start_time": "2024-12-22T23:24:21.118Z"
   },
   {
    "duration": 226,
    "start_time": "2024-12-22T23:24:25.368Z"
   },
   {
    "duration": 224,
    "start_time": "2024-12-22T23:27:06.407Z"
   },
   {
    "duration": 347,
    "start_time": "2024-12-22T23:27:31.530Z"
   },
   {
    "duration": 63,
    "start_time": "2024-12-22T23:33:54.330Z"
   },
   {
    "duration": 4,
    "start_time": "2024-12-22T23:36:46.508Z"
   },
   {
    "duration": 5,
    "start_time": "2024-12-22T23:37:54.754Z"
   },
   {
    "duration": 11,
    "start_time": "2024-12-22T23:38:00.126Z"
   },
   {
    "duration": 5,
    "start_time": "2024-12-22T23:38:43.006Z"
   },
   {
    "duration": 13,
    "start_time": "2024-12-22T23:38:45.854Z"
   },
   {
    "duration": 6,
    "start_time": "2024-12-22T23:38:50.528Z"
   },
   {
    "duration": 7,
    "start_time": "2024-12-22T23:41:05.023Z"
   },
   {
    "duration": 22,
    "start_time": "2024-12-22T23:41:12.159Z"
   },
   {
    "duration": 7,
    "start_time": "2024-12-22T23:41:19.307Z"
   },
   {
    "duration": 4,
    "start_time": "2024-12-22T23:47:42.266Z"
   },
   {
    "duration": 5,
    "start_time": "2024-12-22T23:48:12.749Z"
   },
   {
    "duration": 7,
    "start_time": "2024-12-22T23:49:27.523Z"
   },
   {
    "duration": 139,
    "start_time": "2024-12-22T23:54:31.933Z"
   },
   {
    "duration": 154,
    "start_time": "2024-12-22T23:54:50.980Z"
   },
   {
    "duration": 331,
    "start_time": "2024-12-22T23:55:54.096Z"
   },
   {
    "duration": 86,
    "start_time": "2024-12-22T23:56:01.279Z"
   },
   {
    "duration": 20,
    "start_time": "2024-12-22T23:56:10.269Z"
   },
   {
    "duration": 19,
    "start_time": "2024-12-22T23:56:15.322Z"
   },
   {
    "duration": 45,
    "start_time": "2024-12-22T23:56:26.752Z"
   },
   {
    "duration": 138,
    "start_time": "2024-12-22T23:56:32.439Z"
   },
   {
    "duration": 5,
    "start_time": "2024-12-22T23:57:12.896Z"
   },
   {
    "duration": 137,
    "start_time": "2024-12-22T23:57:16.931Z"
   },
   {
    "duration": 147,
    "start_time": "2024-12-22T23:58:50.702Z"
   },
   {
    "duration": 6,
    "start_time": "2024-12-23T00:03:57.681Z"
   },
   {
    "duration": 47,
    "start_time": "2024-12-23T00:04:09.857Z"
   },
   {
    "duration": 4,
    "start_time": "2024-12-23T00:06:16.695Z"
   },
   {
    "duration": 5,
    "start_time": "2024-12-23T00:06:34.144Z"
   },
   {
    "duration": 142,
    "start_time": "2024-12-23T00:08:32.313Z"
   },
   {
    "duration": 147,
    "start_time": "2024-12-23T00:10:12.021Z"
   },
   {
    "duration": 131,
    "start_time": "2024-12-23T00:11:30.346Z"
   },
   {
    "duration": 359,
    "start_time": "2024-12-23T00:12:07.122Z"
   },
   {
    "duration": 121,
    "start_time": "2024-12-23T00:12:15.735Z"
   },
   {
    "duration": 138,
    "start_time": "2024-12-23T00:13:08.126Z"
   },
   {
    "duration": 130,
    "start_time": "2024-12-23T00:13:15.017Z"
   },
   {
    "duration": 13,
    "start_time": "2024-12-23T00:13:32.118Z"
   },
   {
    "duration": 14,
    "start_time": "2024-12-23T00:13:37.894Z"
   },
   {
    "duration": 14,
    "start_time": "2024-12-23T00:13:42.862Z"
   },
   {
    "duration": 90,
    "start_time": "2024-12-23T00:14:01.766Z"
   },
   {
    "duration": 125,
    "start_time": "2024-12-23T00:14:20.769Z"
   },
   {
    "duration": 91,
    "start_time": "2024-12-23T00:14:26.024Z"
   },
   {
    "duration": 92,
    "start_time": "2024-12-23T00:14:33.468Z"
   },
   {
    "duration": 130,
    "start_time": "2024-12-23T00:14:46.830Z"
   },
   {
    "duration": 134,
    "start_time": "2024-12-23T00:15:07.264Z"
   },
   {
    "duration": 135,
    "start_time": "2024-12-23T00:15:15.293Z"
   },
   {
    "duration": 132,
    "start_time": "2024-12-23T00:15:31.439Z"
   },
   {
    "duration": 139,
    "start_time": "2024-12-23T00:15:40.299Z"
   },
   {
    "duration": 137,
    "start_time": "2024-12-23T00:15:51.100Z"
   },
   {
    "duration": 119,
    "start_time": "2024-12-23T00:16:04.989Z"
   },
   {
    "duration": 137,
    "start_time": "2024-12-23T00:26:10.037Z"
   },
   {
    "duration": 260,
    "start_time": "2024-12-23T00:26:30.102Z"
   },
   {
    "duration": 135,
    "start_time": "2024-12-23T00:26:56.678Z"
   },
   {
    "duration": 144,
    "start_time": "2024-12-23T00:27:04.836Z"
   },
   {
    "duration": 190,
    "start_time": "2024-12-23T00:27:35.684Z"
   },
   {
    "duration": 147,
    "start_time": "2024-12-23T00:28:14.165Z"
   },
   {
    "duration": 157,
    "start_time": "2024-12-23T00:29:51.233Z"
   },
   {
    "duration": 144,
    "start_time": "2024-12-23T00:30:02.105Z"
   },
   {
    "duration": 7,
    "start_time": "2024-12-23T00:39:01.934Z"
   },
   {
    "duration": 877,
    "start_time": "2024-12-23T00:48:07.060Z"
   },
   {
    "duration": 25,
    "start_time": "2024-12-23T00:48:07.939Z"
   },
   {
    "duration": 11,
    "start_time": "2024-12-23T00:48:07.965Z"
   },
   {
    "duration": 3,
    "start_time": "2024-12-23T00:48:07.978Z"
   },
   {
    "duration": 14,
    "start_time": "2024-12-23T00:48:07.984Z"
   },
   {
    "duration": 33,
    "start_time": "2024-12-23T00:48:07.999Z"
   },
   {
    "duration": 5,
    "start_time": "2024-12-23T00:48:08.034Z"
   },
   {
    "duration": 7,
    "start_time": "2024-12-23T00:48:08.041Z"
   },
   {
    "duration": 5,
    "start_time": "2024-12-23T00:48:08.049Z"
   },
   {
    "duration": 4,
    "start_time": "2024-12-23T00:48:08.056Z"
   },
   {
    "duration": 10,
    "start_time": "2024-12-23T00:48:08.061Z"
   },
   {
    "duration": 6,
    "start_time": "2024-12-23T00:48:08.073Z"
   },
   {
    "duration": 48,
    "start_time": "2024-12-23T00:48:08.080Z"
   },
   {
    "duration": 11,
    "start_time": "2024-12-23T00:48:08.133Z"
   },
   {
    "duration": 5,
    "start_time": "2024-12-23T00:48:08.146Z"
   },
   {
    "duration": 4,
    "start_time": "2024-12-23T00:48:08.152Z"
   },
   {
    "duration": 6,
    "start_time": "2024-12-23T00:48:08.157Z"
   },
   {
    "duration": 19,
    "start_time": "2024-12-23T00:48:08.164Z"
   },
   {
    "duration": 3,
    "start_time": "2024-12-23T00:48:08.185Z"
   },
   {
    "duration": 39,
    "start_time": "2024-12-23T00:48:08.189Z"
   },
   {
    "duration": 4,
    "start_time": "2024-12-23T00:48:08.230Z"
   },
   {
    "duration": 4,
    "start_time": "2024-12-23T00:48:08.236Z"
   },
   {
    "duration": 4,
    "start_time": "2024-12-23T00:48:08.241Z"
   },
   {
    "duration": 12,
    "start_time": "2024-12-23T00:48:08.247Z"
   },
   {
    "duration": 4,
    "start_time": "2024-12-23T00:48:08.261Z"
   },
   {
    "duration": 4,
    "start_time": "2024-12-23T00:48:08.267Z"
   },
   {
    "duration": 5,
    "start_time": "2024-12-23T00:48:08.273Z"
   },
   {
    "duration": 58,
    "start_time": "2024-12-23T00:48:08.279Z"
   },
   {
    "duration": 4,
    "start_time": "2024-12-23T00:48:08.338Z"
   },
   {
    "duration": 6,
    "start_time": "2024-12-23T00:48:08.344Z"
   },
   {
    "duration": 5,
    "start_time": "2024-12-23T00:48:08.353Z"
   },
   {
    "duration": 7,
    "start_time": "2024-12-23T00:48:08.360Z"
   },
   {
    "duration": 6,
    "start_time": "2024-12-23T00:48:08.369Z"
   },
   {
    "duration": 4,
    "start_time": "2024-12-23T00:48:08.376Z"
   },
   {
    "duration": 48,
    "start_time": "2024-12-23T00:48:08.382Z"
   },
   {
    "duration": 17,
    "start_time": "2024-12-23T00:48:08.432Z"
   },
   {
    "duration": 4,
    "start_time": "2024-12-23T00:48:08.451Z"
   },
   {
    "duration": 4,
    "start_time": "2024-12-23T00:48:08.457Z"
   },
   {
    "duration": 190,
    "start_time": "2024-12-23T00:48:08.463Z"
   },
   {
    "duration": 212,
    "start_time": "2024-12-23T00:48:08.656Z"
   },
   {
    "duration": 7,
    "start_time": "2024-12-23T00:48:08.874Z"
   },
   {
    "duration": 4,
    "start_time": "2024-12-23T00:48:08.883Z"
   },
   {
    "duration": 197,
    "start_time": "2024-12-23T00:48:08.889Z"
   },
   {
    "duration": 20,
    "start_time": "2024-12-23T00:48:09.087Z"
   },
   {
    "duration": 16,
    "start_time": "2024-12-23T00:48:09.109Z"
   },
   {
    "duration": 19,
    "start_time": "2024-12-23T00:48:09.126Z"
   },
   {
    "duration": 4,
    "start_time": "2024-12-23T00:48:09.147Z"
   },
   {
    "duration": 150,
    "start_time": "2024-12-23T00:48:09.153Z"
   },
   {
    "duration": 131,
    "start_time": "2024-12-23T00:48:09.305Z"
   },
   {
    "duration": 4,
    "start_time": "2024-12-23T00:48:09.438Z"
   },
   {
    "duration": 368,
    "start_time": "2024-12-23T00:48:09.444Z"
   },
   {
    "duration": 15,
    "start_time": "2024-12-23T00:48:09.813Z"
   },
   {
    "duration": 48,
    "start_time": "2024-12-23T00:48:09.830Z"
   },
   {
    "duration": 46,
    "start_time": "2024-12-23T00:48:09.880Z"
   },
   {
    "duration": 4,
    "start_time": "2024-12-23T00:48:09.928Z"
   },
   {
    "duration": 4,
    "start_time": "2024-12-23T00:48:09.933Z"
   },
   {
    "duration": 7,
    "start_time": "2024-12-23T00:48:09.938Z"
   },
   {
    "duration": 261,
    "start_time": "2024-12-23T00:48:09.946Z"
   },
   {
    "duration": 350,
    "start_time": "2024-12-23T00:48:10.209Z"
   },
   {
    "duration": 152,
    "start_time": "2024-12-23T00:48:10.561Z"
   },
   {
    "duration": 4,
    "start_time": "2024-12-23T00:48:10.715Z"
   },
   {
    "duration": 9,
    "start_time": "2024-12-23T00:48:10.724Z"
   },
   {
    "duration": 6,
    "start_time": "2024-12-23T00:48:10.734Z"
   },
   {
    "duration": 882,
    "start_time": "2024-12-23T00:50:21.444Z"
   },
   {
    "duration": 24,
    "start_time": "2024-12-23T00:50:22.328Z"
   },
   {
    "duration": 11,
    "start_time": "2024-12-23T00:50:22.353Z"
   },
   {
    "duration": 4,
    "start_time": "2024-12-23T00:50:22.366Z"
   },
   {
    "duration": 14,
    "start_time": "2024-12-23T00:50:22.372Z"
   },
   {
    "duration": 38,
    "start_time": "2024-12-23T00:50:22.387Z"
   },
   {
    "duration": 4,
    "start_time": "2024-12-23T00:50:22.427Z"
   },
   {
    "duration": 8,
    "start_time": "2024-12-23T00:50:22.433Z"
   },
   {
    "duration": 6,
    "start_time": "2024-12-23T00:50:22.442Z"
   },
   {
    "duration": 3,
    "start_time": "2024-12-23T00:50:22.451Z"
   },
   {
    "duration": 10,
    "start_time": "2024-12-23T00:50:22.456Z"
   },
   {
    "duration": 6,
    "start_time": "2024-12-23T00:50:22.468Z"
   },
   {
    "duration": 8,
    "start_time": "2024-12-23T00:50:22.476Z"
   },
   {
    "duration": 12,
    "start_time": "2024-12-23T00:50:22.524Z"
   },
   {
    "duration": 4,
    "start_time": "2024-12-23T00:50:22.537Z"
   },
   {
    "duration": 3,
    "start_time": "2024-12-23T00:50:22.543Z"
   },
   {
    "duration": 7,
    "start_time": "2024-12-23T00:50:22.547Z"
   },
   {
    "duration": 17,
    "start_time": "2024-12-23T00:50:22.556Z"
   },
   {
    "duration": 3,
    "start_time": "2024-12-23T00:50:22.575Z"
   },
   {
    "duration": 4,
    "start_time": "2024-12-23T00:50:22.580Z"
   },
   {
    "duration": 42,
    "start_time": "2024-12-23T00:50:22.585Z"
   },
   {
    "duration": 3,
    "start_time": "2024-12-23T00:50:22.629Z"
   },
   {
    "duration": 4,
    "start_time": "2024-12-23T00:50:22.633Z"
   },
   {
    "duration": 12,
    "start_time": "2024-12-23T00:50:22.639Z"
   },
   {
    "duration": 4,
    "start_time": "2024-12-23T00:50:22.653Z"
   },
   {
    "duration": 6,
    "start_time": "2024-12-23T00:50:22.658Z"
   },
   {
    "duration": 5,
    "start_time": "2024-12-23T00:50:22.665Z"
   },
   {
    "duration": 53,
    "start_time": "2024-12-23T00:50:22.675Z"
   },
   {
    "duration": 4,
    "start_time": "2024-12-23T00:50:22.729Z"
   },
   {
    "duration": 5,
    "start_time": "2024-12-23T00:50:22.734Z"
   },
   {
    "duration": 5,
    "start_time": "2024-12-23T00:50:22.741Z"
   },
   {
    "duration": 7,
    "start_time": "2024-12-23T00:50:22.748Z"
   },
   {
    "duration": 6,
    "start_time": "2024-12-23T00:50:22.757Z"
   },
   {
    "duration": 4,
    "start_time": "2024-12-23T00:50:22.765Z"
   },
   {
    "duration": 55,
    "start_time": "2024-12-23T00:50:22.770Z"
   },
   {
    "duration": 19,
    "start_time": "2024-12-23T00:50:22.827Z"
   },
   {
    "duration": 5,
    "start_time": "2024-12-23T00:50:22.847Z"
   },
   {
    "duration": 4,
    "start_time": "2024-12-23T00:50:22.854Z"
   },
   {
    "duration": 183,
    "start_time": "2024-12-23T00:50:22.860Z"
   },
   {
    "duration": 215,
    "start_time": "2024-12-23T00:50:23.045Z"
   },
   {
    "duration": 7,
    "start_time": "2024-12-23T00:50:23.262Z"
   },
   {
    "duration": 4,
    "start_time": "2024-12-23T00:50:23.270Z"
   },
   {
    "duration": 190,
    "start_time": "2024-12-23T00:50:23.276Z"
   },
   {
    "duration": 21,
    "start_time": "2024-12-23T00:50:23.467Z"
   },
   {
    "duration": 4,
    "start_time": "2024-12-23T00:50:23.490Z"
   },
   {
    "duration": 34,
    "start_time": "2024-12-23T00:50:23.496Z"
   },
   {
    "duration": 4,
    "start_time": "2024-12-23T00:50:23.531Z"
   },
   {
    "duration": 148,
    "start_time": "2024-12-23T00:50:23.537Z"
   },
   {
    "duration": 130,
    "start_time": "2024-12-23T00:50:23.687Z"
   },
   {
    "duration": 9,
    "start_time": "2024-12-23T00:50:23.819Z"
   },
   {
    "duration": 361,
    "start_time": "2024-12-23T00:50:23.829Z"
   },
   {
    "duration": 6,
    "start_time": "2024-12-23T00:50:24.192Z"
   },
   {
    "duration": 70,
    "start_time": "2024-12-23T00:50:24.200Z"
   },
   {
    "duration": 7,
    "start_time": "2024-12-23T00:50:24.272Z"
   },
   {
    "duration": 45,
    "start_time": "2024-12-23T00:50:24.280Z"
   },
   {
    "duration": 4,
    "start_time": "2024-12-23T00:50:24.327Z"
   },
   {
    "duration": 7,
    "start_time": "2024-12-23T00:50:24.332Z"
   },
   {
    "duration": 245,
    "start_time": "2024-12-23T00:50:24.340Z"
   },
   {
    "duration": 339,
    "start_time": "2024-12-23T00:50:24.587Z"
   },
   {
    "duration": 152,
    "start_time": "2024-12-23T00:50:24.928Z"
   },
   {
    "duration": 3,
    "start_time": "2024-12-23T00:50:25.081Z"
   },
   {
    "duration": 7,
    "start_time": "2024-12-23T00:50:25.085Z"
   },
   {
    "duration": 6,
    "start_time": "2024-12-23T00:50:25.094Z"
   },
   {
    "duration": 869,
    "start_time": "2024-12-23T00:52:25.264Z"
   },
   {
    "duration": 24,
    "start_time": "2024-12-23T00:52:26.136Z"
   },
   {
    "duration": 13,
    "start_time": "2024-12-23T00:52:26.162Z"
   },
   {
    "duration": 4,
    "start_time": "2024-12-23T00:52:26.177Z"
   },
   {
    "duration": 14,
    "start_time": "2024-12-23T00:52:26.184Z"
   },
   {
    "duration": 34,
    "start_time": "2024-12-23T00:52:26.200Z"
   },
   {
    "duration": 5,
    "start_time": "2024-12-23T00:52:26.236Z"
   },
   {
    "duration": 9,
    "start_time": "2024-12-23T00:52:26.242Z"
   },
   {
    "duration": 283,
    "start_time": "2024-12-23T00:52:26.253Z"
   },
   {
    "duration": 0,
    "start_time": "2024-12-23T00:52:26.539Z"
   },
   {
    "duration": 0,
    "start_time": "2024-12-23T00:52:26.540Z"
   },
   {
    "duration": 0,
    "start_time": "2024-12-23T00:52:26.542Z"
   },
   {
    "duration": 0,
    "start_time": "2024-12-23T00:52:26.543Z"
   },
   {
    "duration": 0,
    "start_time": "2024-12-23T00:52:26.544Z"
   },
   {
    "duration": 0,
    "start_time": "2024-12-23T00:52:26.545Z"
   },
   {
    "duration": 0,
    "start_time": "2024-12-23T00:52:26.546Z"
   },
   {
    "duration": 0,
    "start_time": "2024-12-23T00:52:26.547Z"
   },
   {
    "duration": 0,
    "start_time": "2024-12-23T00:52:26.548Z"
   },
   {
    "duration": 0,
    "start_time": "2024-12-23T00:52:26.549Z"
   },
   {
    "duration": 0,
    "start_time": "2024-12-23T00:52:26.550Z"
   },
   {
    "duration": 0,
    "start_time": "2024-12-23T00:52:26.550Z"
   },
   {
    "duration": 0,
    "start_time": "2024-12-23T00:52:26.551Z"
   },
   {
    "duration": 0,
    "start_time": "2024-12-23T00:52:26.555Z"
   },
   {
    "duration": 0,
    "start_time": "2024-12-23T00:52:26.557Z"
   },
   {
    "duration": 0,
    "start_time": "2024-12-23T00:52:26.558Z"
   },
   {
    "duration": 0,
    "start_time": "2024-12-23T00:52:26.560Z"
   },
   {
    "duration": 0,
    "start_time": "2024-12-23T00:52:26.561Z"
   },
   {
    "duration": 0,
    "start_time": "2024-12-23T00:52:26.562Z"
   },
   {
    "duration": 0,
    "start_time": "2024-12-23T00:52:26.564Z"
   },
   {
    "duration": 0,
    "start_time": "2024-12-23T00:52:26.566Z"
   },
   {
    "duration": 0,
    "start_time": "2024-12-23T00:52:26.567Z"
   },
   {
    "duration": 0,
    "start_time": "2024-12-23T00:52:26.568Z"
   },
   {
    "duration": 0,
    "start_time": "2024-12-23T00:52:26.569Z"
   },
   {
    "duration": 0,
    "start_time": "2024-12-23T00:52:26.570Z"
   },
   {
    "duration": 0,
    "start_time": "2024-12-23T00:52:26.571Z"
   },
   {
    "duration": 0,
    "start_time": "2024-12-23T00:52:26.572Z"
   },
   {
    "duration": 0,
    "start_time": "2024-12-23T00:52:26.624Z"
   },
   {
    "duration": 0,
    "start_time": "2024-12-23T00:52:26.625Z"
   },
   {
    "duration": 0,
    "start_time": "2024-12-23T00:52:26.626Z"
   },
   {
    "duration": 0,
    "start_time": "2024-12-23T00:52:26.628Z"
   },
   {
    "duration": 0,
    "start_time": "2024-12-23T00:52:26.629Z"
   },
   {
    "duration": 0,
    "start_time": "2024-12-23T00:52:26.630Z"
   },
   {
    "duration": 0,
    "start_time": "2024-12-23T00:52:26.632Z"
   },
   {
    "duration": 0,
    "start_time": "2024-12-23T00:52:26.633Z"
   },
   {
    "duration": 0,
    "start_time": "2024-12-23T00:52:26.635Z"
   },
   {
    "duration": 0,
    "start_time": "2024-12-23T00:52:26.636Z"
   },
   {
    "duration": 0,
    "start_time": "2024-12-23T00:52:26.637Z"
   },
   {
    "duration": 0,
    "start_time": "2024-12-23T00:52:26.638Z"
   },
   {
    "duration": 0,
    "start_time": "2024-12-23T00:52:26.640Z"
   },
   {
    "duration": 0,
    "start_time": "2024-12-23T00:52:26.641Z"
   },
   {
    "duration": 0,
    "start_time": "2024-12-23T00:52:26.642Z"
   },
   {
    "duration": 0,
    "start_time": "2024-12-23T00:52:26.643Z"
   },
   {
    "duration": 0,
    "start_time": "2024-12-23T00:52:26.644Z"
   },
   {
    "duration": 0,
    "start_time": "2024-12-23T00:52:26.645Z"
   },
   {
    "duration": 0,
    "start_time": "2024-12-23T00:52:26.647Z"
   },
   {
    "duration": 0,
    "start_time": "2024-12-23T00:52:26.648Z"
   },
   {
    "duration": 0,
    "start_time": "2024-12-23T00:52:26.650Z"
   },
   {
    "duration": 0,
    "start_time": "2024-12-23T00:52:26.650Z"
   },
   {
    "duration": 0,
    "start_time": "2024-12-23T00:52:26.651Z"
   },
   {
    "duration": 0,
    "start_time": "2024-12-23T00:52:26.653Z"
   },
   {
    "duration": 0,
    "start_time": "2024-12-23T00:52:26.654Z"
   },
   {
    "duration": 0,
    "start_time": "2024-12-23T00:52:26.655Z"
   },
   {
    "duration": 0,
    "start_time": "2024-12-23T00:52:26.656Z"
   },
   {
    "duration": 0,
    "start_time": "2024-12-23T00:52:26.657Z"
   },
   {
    "duration": 13,
    "start_time": "2024-12-23T00:52:37.617Z"
   },
   {
    "duration": 831,
    "start_time": "2024-12-23T00:52:41.999Z"
   },
   {
    "duration": 24,
    "start_time": "2024-12-23T00:52:42.833Z"
   },
   {
    "duration": 11,
    "start_time": "2024-12-23T00:52:42.858Z"
   },
   {
    "duration": 8,
    "start_time": "2024-12-23T00:52:42.871Z"
   },
   {
    "duration": 16,
    "start_time": "2024-12-23T00:52:42.880Z"
   },
   {
    "duration": 28,
    "start_time": "2024-12-23T00:52:42.898Z"
   },
   {
    "duration": 4,
    "start_time": "2024-12-23T00:52:42.927Z"
   },
   {
    "duration": 7,
    "start_time": "2024-12-23T00:52:42.932Z"
   },
   {
    "duration": 12,
    "start_time": "2024-12-23T00:52:42.941Z"
   },
   {
    "duration": 6,
    "start_time": "2024-12-23T00:52:42.956Z"
   },
   {
    "duration": 3,
    "start_time": "2024-12-23T00:52:42.964Z"
   },
   {
    "duration": 10,
    "start_time": "2024-12-23T00:52:42.968Z"
   },
   {
    "duration": 47,
    "start_time": "2024-12-23T00:52:42.980Z"
   },
   {
    "duration": 8,
    "start_time": "2024-12-23T00:52:43.028Z"
   },
   {
    "duration": 12,
    "start_time": "2024-12-23T00:52:43.038Z"
   },
   {
    "duration": 4,
    "start_time": "2024-12-23T00:52:43.052Z"
   },
   {
    "duration": 5,
    "start_time": "2024-12-23T00:52:43.058Z"
   },
   {
    "duration": 10,
    "start_time": "2024-12-23T00:52:43.065Z"
   },
   {
    "duration": 17,
    "start_time": "2024-12-23T00:52:43.077Z"
   },
   {
    "duration": 29,
    "start_time": "2024-12-23T00:52:43.096Z"
   },
   {
    "duration": 4,
    "start_time": "2024-12-23T00:52:43.127Z"
   },
   {
    "duration": 4,
    "start_time": "2024-12-23T00:52:43.133Z"
   },
   {
    "duration": 4,
    "start_time": "2024-12-23T00:52:43.139Z"
   },
   {
    "duration": 5,
    "start_time": "2024-12-23T00:52:43.144Z"
   },
   {
    "duration": 16,
    "start_time": "2024-12-23T00:52:43.151Z"
   },
   {
    "duration": 4,
    "start_time": "2024-12-23T00:52:43.169Z"
   },
   {
    "duration": 8,
    "start_time": "2024-12-23T00:52:43.175Z"
   },
   {
    "duration": 4,
    "start_time": "2024-12-23T00:52:43.226Z"
   },
   {
    "duration": 14,
    "start_time": "2024-12-23T00:52:43.232Z"
   },
   {
    "duration": 4,
    "start_time": "2024-12-23T00:52:43.248Z"
   },
   {
    "duration": 4,
    "start_time": "2024-12-23T00:52:43.253Z"
   },
   {
    "duration": 5,
    "start_time": "2024-12-23T00:52:43.259Z"
   },
   {
    "duration": 7,
    "start_time": "2024-12-23T00:52:43.266Z"
   },
   {
    "duration": 7,
    "start_time": "2024-12-23T00:52:43.274Z"
   },
   {
    "duration": 44,
    "start_time": "2024-12-23T00:52:43.282Z"
   },
   {
    "duration": 12,
    "start_time": "2024-12-23T00:52:43.328Z"
   },
   {
    "duration": 17,
    "start_time": "2024-12-23T00:52:43.342Z"
   },
   {
    "duration": 4,
    "start_time": "2024-12-23T00:52:43.361Z"
   },
   {
    "duration": 4,
    "start_time": "2024-12-23T00:52:43.366Z"
   },
   {
    "duration": 188,
    "start_time": "2024-12-23T00:52:43.372Z"
   },
   {
    "duration": 227,
    "start_time": "2024-12-23T00:52:43.562Z"
   },
   {
    "duration": 7,
    "start_time": "2024-12-23T00:52:43.791Z"
   },
   {
    "duration": 4,
    "start_time": "2024-12-23T00:52:43.800Z"
   },
   {
    "duration": 192,
    "start_time": "2024-12-23T00:52:43.805Z"
   },
   {
    "duration": 28,
    "start_time": "2024-12-23T00:52:43.999Z"
   },
   {
    "duration": 5,
    "start_time": "2024-12-23T00:52:44.029Z"
   },
   {
    "duration": 17,
    "start_time": "2024-12-23T00:52:44.036Z"
   },
   {
    "duration": 4,
    "start_time": "2024-12-23T00:52:44.055Z"
   },
   {
    "duration": 165,
    "start_time": "2024-12-23T00:52:44.061Z"
   },
   {
    "duration": 129,
    "start_time": "2024-12-23T00:52:44.228Z"
   },
   {
    "duration": 4,
    "start_time": "2024-12-23T00:52:44.359Z"
   },
   {
    "duration": 361,
    "start_time": "2024-12-23T00:52:44.365Z"
   },
   {
    "duration": 7,
    "start_time": "2024-12-23T00:52:44.728Z"
   },
   {
    "duration": 95,
    "start_time": "2024-12-23T00:52:44.736Z"
   },
   {
    "duration": 6,
    "start_time": "2024-12-23T00:52:44.833Z"
   },
   {
    "duration": 5,
    "start_time": "2024-12-23T00:52:44.840Z"
   },
   {
    "duration": 3,
    "start_time": "2024-12-23T00:52:44.847Z"
   },
   {
    "duration": 6,
    "start_time": "2024-12-23T00:52:44.852Z"
   },
   {
    "duration": 258,
    "start_time": "2024-12-23T00:52:44.860Z"
   },
   {
    "duration": 345,
    "start_time": "2024-12-23T00:52:45.124Z"
   },
   {
    "duration": 160,
    "start_time": "2024-12-23T00:52:45.471Z"
   },
   {
    "duration": 3,
    "start_time": "2024-12-23T00:52:45.632Z"
   },
   {
    "duration": 7,
    "start_time": "2024-12-23T00:52:45.636Z"
   },
   {
    "duration": 6,
    "start_time": "2024-12-23T00:52:45.644Z"
   },
   {
    "duration": 8,
    "start_time": "2024-12-23T00:54:11.925Z"
   },
   {
    "duration": 9,
    "start_time": "2024-12-23T00:54:24.048Z"
   },
   {
    "duration": 887,
    "start_time": "2024-12-23T00:54:34.628Z"
   },
   {
    "duration": 29,
    "start_time": "2024-12-23T00:54:35.517Z"
   },
   {
    "duration": 11,
    "start_time": "2024-12-23T00:54:35.548Z"
   },
   {
    "duration": 5,
    "start_time": "2024-12-23T00:54:35.560Z"
   },
   {
    "duration": 12,
    "start_time": "2024-12-23T00:54:35.568Z"
   },
   {
    "duration": 12,
    "start_time": "2024-12-23T00:54:35.581Z"
   },
   {
    "duration": 31,
    "start_time": "2024-12-23T00:54:35.594Z"
   },
   {
    "duration": 11,
    "start_time": "2024-12-23T00:54:35.627Z"
   },
   {
    "duration": 8,
    "start_time": "2024-12-23T00:54:35.639Z"
   },
   {
    "duration": 7,
    "start_time": "2024-12-23T00:54:35.648Z"
   },
   {
    "duration": 5,
    "start_time": "2024-12-23T00:54:35.657Z"
   },
   {
    "duration": 3,
    "start_time": "2024-12-23T00:54:35.664Z"
   },
   {
    "duration": 10,
    "start_time": "2024-12-23T00:54:35.669Z"
   },
   {
    "duration": 42,
    "start_time": "2024-12-23T00:54:35.683Z"
   },
   {
    "duration": 7,
    "start_time": "2024-12-23T00:54:35.727Z"
   },
   {
    "duration": 11,
    "start_time": "2024-12-23T00:54:35.736Z"
   },
   {
    "duration": 4,
    "start_time": "2024-12-23T00:54:35.749Z"
   },
   {
    "duration": 3,
    "start_time": "2024-12-23T00:54:35.754Z"
   },
   {
    "duration": 7,
    "start_time": "2024-12-23T00:54:35.759Z"
   },
   {
    "duration": 17,
    "start_time": "2024-12-23T00:54:35.767Z"
   },
   {
    "duration": 41,
    "start_time": "2024-12-23T00:54:35.785Z"
   },
   {
    "duration": 5,
    "start_time": "2024-12-23T00:54:35.827Z"
   },
   {
    "duration": 4,
    "start_time": "2024-12-23T00:54:35.834Z"
   },
   {
    "duration": 3,
    "start_time": "2024-12-23T00:54:35.840Z"
   },
   {
    "duration": 4,
    "start_time": "2024-12-23T00:54:35.844Z"
   },
   {
    "duration": 13,
    "start_time": "2024-12-23T00:54:35.849Z"
   },
   {
    "duration": 4,
    "start_time": "2024-12-23T00:54:35.864Z"
   },
   {
    "duration": 6,
    "start_time": "2024-12-23T00:54:35.869Z"
   },
   {
    "duration": 50,
    "start_time": "2024-12-23T00:54:35.877Z"
   },
   {
    "duration": 13,
    "start_time": "2024-12-23T00:54:35.928Z"
   },
   {
    "duration": 4,
    "start_time": "2024-12-23T00:54:35.943Z"
   },
   {
    "duration": 5,
    "start_time": "2024-12-23T00:54:35.948Z"
   },
   {
    "duration": 4,
    "start_time": "2024-12-23T00:54:35.955Z"
   },
   {
    "duration": 7,
    "start_time": "2024-12-23T00:54:35.961Z"
   },
   {
    "duration": 6,
    "start_time": "2024-12-23T00:54:35.969Z"
   },
   {
    "duration": 4,
    "start_time": "2024-12-23T00:54:35.976Z"
   },
   {
    "duration": 48,
    "start_time": "2024-12-23T00:54:35.982Z"
   },
   {
    "duration": 22,
    "start_time": "2024-12-23T00:54:36.031Z"
   },
   {
    "duration": 5,
    "start_time": "2024-12-23T00:54:36.055Z"
   },
   {
    "duration": 7,
    "start_time": "2024-12-23T00:54:36.061Z"
   },
   {
    "duration": 185,
    "start_time": "2024-12-23T00:54:36.073Z"
   },
   {
    "duration": 220,
    "start_time": "2024-12-23T00:54:36.260Z"
   },
   {
    "duration": 6,
    "start_time": "2024-12-23T00:54:36.482Z"
   },
   {
    "duration": 4,
    "start_time": "2024-12-23T00:54:36.490Z"
   },
   {
    "duration": 187,
    "start_time": "2024-12-23T00:54:36.495Z"
   },
   {
    "duration": 20,
    "start_time": "2024-12-23T00:54:36.684Z"
   },
   {
    "duration": 5,
    "start_time": "2024-12-23T00:54:36.706Z"
   },
   {
    "duration": 20,
    "start_time": "2024-12-23T00:54:36.724Z"
   },
   {
    "duration": 6,
    "start_time": "2024-12-23T00:54:36.745Z"
   },
   {
    "duration": 153,
    "start_time": "2024-12-23T00:54:36.752Z"
   },
   {
    "duration": 123,
    "start_time": "2024-12-23T00:54:36.906Z"
   },
   {
    "duration": 4,
    "start_time": "2024-12-23T00:54:37.031Z"
   },
   {
    "duration": 359,
    "start_time": "2024-12-23T00:54:37.037Z"
   },
   {
    "duration": 7,
    "start_time": "2024-12-23T00:54:37.397Z"
   },
   {
    "duration": 103,
    "start_time": "2024-12-23T00:54:37.424Z"
   },
   {
    "duration": 6,
    "start_time": "2024-12-23T00:54:37.534Z"
   },
   {
    "duration": 5,
    "start_time": "2024-12-23T00:54:37.542Z"
   },
   {
    "duration": 3,
    "start_time": "2024-12-23T00:54:37.549Z"
   },
   {
    "duration": 6,
    "start_time": "2024-12-23T00:54:37.554Z"
   },
   {
    "duration": 272,
    "start_time": "2024-12-23T00:54:37.562Z"
   },
   {
    "duration": 343,
    "start_time": "2024-12-23T00:54:37.835Z"
   },
   {
    "duration": 151,
    "start_time": "2024-12-23T00:54:38.180Z"
   },
   {
    "duration": 2,
    "start_time": "2024-12-23T00:54:38.333Z"
   },
   {
    "duration": 7,
    "start_time": "2024-12-23T00:54:38.337Z"
   },
   {
    "duration": 7,
    "start_time": "2024-12-23T00:54:38.345Z"
   },
   {
    "duration": 10,
    "start_time": "2024-12-23T00:54:48.154Z"
   },
   {
    "duration": 843,
    "start_time": "2024-12-23T00:55:21.093Z"
   },
   {
    "duration": 24,
    "start_time": "2024-12-23T00:55:21.938Z"
   },
   {
    "duration": 11,
    "start_time": "2024-12-23T00:55:21.964Z"
   },
   {
    "duration": 4,
    "start_time": "2024-12-23T00:55:21.976Z"
   },
   {
    "duration": 13,
    "start_time": "2024-12-23T00:55:21.983Z"
   },
   {
    "duration": 38,
    "start_time": "2024-12-23T00:55:21.997Z"
   },
   {
    "duration": 4,
    "start_time": "2024-12-23T00:55:22.038Z"
   },
   {
    "duration": 11,
    "start_time": "2024-12-23T00:55:22.044Z"
   },
   {
    "duration": 8,
    "start_time": "2024-12-23T00:55:22.057Z"
   },
   {
    "duration": 7,
    "start_time": "2024-12-23T00:55:22.067Z"
   },
   {
    "duration": 6,
    "start_time": "2024-12-23T00:55:22.075Z"
   },
   {
    "duration": 3,
    "start_time": "2024-12-23T00:55:22.083Z"
   },
   {
    "duration": 45,
    "start_time": "2024-12-23T00:55:22.088Z"
   },
   {
    "duration": 6,
    "start_time": "2024-12-23T00:55:22.137Z"
   },
   {
    "duration": 9,
    "start_time": "2024-12-23T00:55:22.145Z"
   },
   {
    "duration": 7,
    "start_time": "2024-12-23T00:55:22.155Z"
   },
   {
    "duration": 11,
    "start_time": "2024-12-23T00:55:22.163Z"
   },
   {
    "duration": 3,
    "start_time": "2024-12-23T00:55:22.176Z"
   },
   {
    "duration": 3,
    "start_time": "2024-12-23T00:55:22.181Z"
   },
   {
    "duration": 7,
    "start_time": "2024-12-23T00:55:22.223Z"
   },
   {
    "duration": 30,
    "start_time": "2024-12-23T00:55:22.232Z"
   },
   {
    "duration": 3,
    "start_time": "2024-12-23T00:55:22.264Z"
   },
   {
    "duration": 5,
    "start_time": "2024-12-23T00:55:22.269Z"
   },
   {
    "duration": 4,
    "start_time": "2024-12-23T00:55:22.277Z"
   },
   {
    "duration": 3,
    "start_time": "2024-12-23T00:55:22.282Z"
   },
   {
    "duration": 5,
    "start_time": "2024-12-23T00:55:22.287Z"
   },
   {
    "duration": 36,
    "start_time": "2024-12-23T00:55:22.294Z"
   },
   {
    "duration": 4,
    "start_time": "2024-12-23T00:55:22.331Z"
   },
   {
    "duration": 6,
    "start_time": "2024-12-23T00:55:22.336Z"
   },
   {
    "duration": 5,
    "start_time": "2024-12-23T00:55:22.343Z"
   },
   {
    "duration": 13,
    "start_time": "2024-12-23T00:55:22.349Z"
   },
   {
    "duration": 3,
    "start_time": "2024-12-23T00:55:22.365Z"
   },
   {
    "duration": 5,
    "start_time": "2024-12-23T00:55:22.370Z"
   },
   {
    "duration": 4,
    "start_time": "2024-12-23T00:55:22.377Z"
   },
   {
    "duration": 8,
    "start_time": "2024-12-23T00:55:22.423Z"
   },
   {
    "duration": 6,
    "start_time": "2024-12-23T00:55:22.432Z"
   },
   {
    "duration": 4,
    "start_time": "2024-12-23T00:55:22.439Z"
   },
   {
    "duration": 12,
    "start_time": "2024-12-23T00:55:22.446Z"
   },
   {
    "duration": 18,
    "start_time": "2024-12-23T00:55:22.459Z"
   },
   {
    "duration": 4,
    "start_time": "2024-12-23T00:55:22.478Z"
   },
   {
    "duration": 4,
    "start_time": "2024-12-23T00:55:22.526Z"
   },
   {
    "duration": 165,
    "start_time": "2024-12-23T00:55:22.531Z"
   },
   {
    "duration": 215,
    "start_time": "2024-12-23T00:55:22.698Z"
   },
   {
    "duration": 6,
    "start_time": "2024-12-23T00:55:22.915Z"
   },
   {
    "duration": 3,
    "start_time": "2024-12-23T00:55:22.923Z"
   },
   {
    "duration": 203,
    "start_time": "2024-12-23T00:55:22.928Z"
   },
   {
    "duration": 20,
    "start_time": "2024-12-23T00:55:23.133Z"
   },
   {
    "duration": 4,
    "start_time": "2024-12-23T00:55:23.155Z"
   },
   {
    "duration": 19,
    "start_time": "2024-12-23T00:55:23.161Z"
   },
   {
    "duration": 5,
    "start_time": "2024-12-23T00:55:23.181Z"
   },
   {
    "duration": 169,
    "start_time": "2024-12-23T00:55:23.187Z"
   },
   {
    "duration": 130,
    "start_time": "2024-12-23T00:55:23.358Z"
   },
   {
    "duration": 3,
    "start_time": "2024-12-23T00:55:23.490Z"
   },
   {
    "duration": 358,
    "start_time": "2024-12-23T00:55:23.496Z"
   },
   {
    "duration": 8,
    "start_time": "2024-12-23T00:55:23.856Z"
   },
   {
    "duration": 94,
    "start_time": "2024-12-23T00:55:23.866Z"
   },
   {
    "duration": 6,
    "start_time": "2024-12-23T00:55:23.961Z"
   },
   {
    "duration": 4,
    "start_time": "2024-12-23T00:55:23.969Z"
   },
   {
    "duration": 5,
    "start_time": "2024-12-23T00:55:23.974Z"
   },
   {
    "duration": 6,
    "start_time": "2024-12-23T00:55:23.981Z"
   },
   {
    "duration": 281,
    "start_time": "2024-12-23T00:55:23.988Z"
   },
   {
    "duration": 343,
    "start_time": "2024-12-23T00:55:24.271Z"
   },
   {
    "duration": 146,
    "start_time": "2024-12-23T00:55:24.616Z"
   },
   {
    "duration": 2,
    "start_time": "2024-12-23T00:55:24.764Z"
   },
   {
    "duration": 7,
    "start_time": "2024-12-23T00:55:24.768Z"
   },
   {
    "duration": 6,
    "start_time": "2024-12-23T00:55:24.777Z"
   },
   {
    "duration": 279,
    "start_time": "2024-12-23T00:58:32.552Z"
   },
   {
    "duration": 10,
    "start_time": "2024-12-23T00:58:38.272Z"
   },
   {
    "duration": 9,
    "start_time": "2024-12-23T00:59:04.265Z"
   },
   {
    "duration": 14,
    "start_time": "2024-12-23T00:59:07.497Z"
   },
   {
    "duration": 9,
    "start_time": "2024-12-23T00:59:16.281Z"
   },
   {
    "duration": 445,
    "start_time": "2024-12-23T01:00:37.564Z"
   },
   {
    "duration": 9,
    "start_time": "2024-12-23T01:00:40.950Z"
   },
   {
    "duration": 9,
    "start_time": "2024-12-23T01:00:45.565Z"
   },
   {
    "duration": 9,
    "start_time": "2024-12-23T01:00:58.372Z"
   },
   {
    "duration": 11,
    "start_time": "2024-12-23T01:01:09.139Z"
   },
   {
    "duration": 10,
    "start_time": "2024-12-23T01:01:20.473Z"
   },
   {
    "duration": 888,
    "start_time": "2024-12-23T01:01:25.237Z"
   },
   {
    "duration": 24,
    "start_time": "2024-12-23T01:01:26.128Z"
   },
   {
    "duration": 11,
    "start_time": "2024-12-23T01:01:26.153Z"
   },
   {
    "duration": 4,
    "start_time": "2024-12-23T01:01:26.166Z"
   },
   {
    "duration": 12,
    "start_time": "2024-12-23T01:01:26.173Z"
   },
   {
    "duration": 36,
    "start_time": "2024-12-23T01:01:26.187Z"
   },
   {
    "duration": 4,
    "start_time": "2024-12-23T01:01:26.225Z"
   },
   {
    "duration": 14,
    "start_time": "2024-12-23T01:01:26.231Z"
   },
   {
    "duration": 10,
    "start_time": "2024-12-23T01:01:26.247Z"
   },
   {
    "duration": 8,
    "start_time": "2024-12-23T01:01:26.258Z"
   },
   {
    "duration": 7,
    "start_time": "2024-12-23T01:01:26.268Z"
   },
   {
    "duration": 7,
    "start_time": "2024-12-23T01:01:26.277Z"
   },
   {
    "duration": 11,
    "start_time": "2024-12-23T01:01:26.323Z"
   },
   {
    "duration": 7,
    "start_time": "2024-12-23T01:01:26.337Z"
   },
   {
    "duration": 6,
    "start_time": "2024-12-23T01:01:26.345Z"
   },
   {
    "duration": 4,
    "start_time": "2024-12-23T01:01:26.352Z"
   },
   {
    "duration": 11,
    "start_time": "2024-12-23T01:01:26.357Z"
   },
   {
    "duration": 6,
    "start_time": "2024-12-23T01:01:26.369Z"
   },
   {
    "duration": 9,
    "start_time": "2024-12-23T01:01:26.376Z"
   },
   {
    "duration": 42,
    "start_time": "2024-12-23T01:01:26.387Z"
   },
   {
    "duration": 11,
    "start_time": "2024-12-23T01:01:26.431Z"
   },
   {
    "duration": 5,
    "start_time": "2024-12-23T01:01:26.444Z"
   },
   {
    "duration": 3,
    "start_time": "2024-12-23T01:01:26.450Z"
   },
   {
    "duration": 5,
    "start_time": "2024-12-23T01:01:26.455Z"
   },
   {
    "duration": 16,
    "start_time": "2024-12-23T01:01:26.462Z"
   },
   {
    "duration": 2,
    "start_time": "2024-12-23T01:01:26.480Z"
   },
   {
    "duration": 40,
    "start_time": "2024-12-23T01:01:26.484Z"
   },
   {
    "duration": 4,
    "start_time": "2024-12-23T01:01:26.526Z"
   },
   {
    "duration": 4,
    "start_time": "2024-12-23T01:01:26.532Z"
   },
   {
    "duration": 7,
    "start_time": "2024-12-23T01:01:26.537Z"
   },
   {
    "duration": 12,
    "start_time": "2024-12-23T01:01:26.546Z"
   },
   {
    "duration": 4,
    "start_time": "2024-12-23T01:01:26.560Z"
   },
   {
    "duration": 6,
    "start_time": "2024-12-23T01:01:26.565Z"
   },
   {
    "duration": 4,
    "start_time": "2024-12-23T01:01:26.573Z"
   },
   {
    "duration": 54,
    "start_time": "2024-12-23T01:01:26.579Z"
   },
   {
    "duration": 3,
    "start_time": "2024-12-23T01:01:26.636Z"
   },
   {
    "duration": 6,
    "start_time": "2024-12-23T01:01:26.640Z"
   },
   {
    "duration": 4,
    "start_time": "2024-12-23T01:01:26.648Z"
   },
   {
    "duration": 6,
    "start_time": "2024-12-23T01:01:26.654Z"
   },
   {
    "duration": 7,
    "start_time": "2024-12-23T01:01:26.662Z"
   },
   {
    "duration": 4,
    "start_time": "2024-12-23T01:01:26.674Z"
   },
   {
    "duration": 46,
    "start_time": "2024-12-23T01:01:26.679Z"
   },
   {
    "duration": 17,
    "start_time": "2024-12-23T01:01:26.727Z"
   },
   {
    "duration": 6,
    "start_time": "2024-12-23T01:01:26.746Z"
   },
   {
    "duration": 4,
    "start_time": "2024-12-23T01:01:26.754Z"
   },
   {
    "duration": 181,
    "start_time": "2024-12-23T01:01:26.760Z"
   },
   {
    "duration": 217,
    "start_time": "2024-12-23T01:01:26.943Z"
   },
   {
    "duration": 7,
    "start_time": "2024-12-23T01:01:27.162Z"
   },
   {
    "duration": 4,
    "start_time": "2024-12-23T01:01:27.170Z"
   },
   {
    "duration": 192,
    "start_time": "2024-12-23T01:01:27.176Z"
   },
   {
    "duration": 22,
    "start_time": "2024-12-23T01:01:27.371Z"
   },
   {
    "duration": 5,
    "start_time": "2024-12-23T01:01:27.395Z"
   },
   {
    "duration": 34,
    "start_time": "2024-12-23T01:01:27.402Z"
   },
   {
    "duration": 4,
    "start_time": "2024-12-23T01:01:27.438Z"
   },
   {
    "duration": 166,
    "start_time": "2024-12-23T01:01:27.444Z"
   },
   {
    "duration": 140,
    "start_time": "2024-12-23T01:01:27.612Z"
   },
   {
    "duration": 4,
    "start_time": "2024-12-23T01:01:27.754Z"
   },
   {
    "duration": 370,
    "start_time": "2024-12-23T01:01:27.759Z"
   },
   {
    "duration": 6,
    "start_time": "2024-12-23T01:01:28.131Z"
   },
   {
    "duration": 90,
    "start_time": "2024-12-23T01:01:28.139Z"
   },
   {
    "duration": 5,
    "start_time": "2024-12-23T01:01:28.231Z"
   },
   {
    "duration": 4,
    "start_time": "2024-12-23T01:01:28.238Z"
   },
   {
    "duration": 4,
    "start_time": "2024-12-23T01:01:28.245Z"
   },
   {
    "duration": 8,
    "start_time": "2024-12-23T01:01:28.250Z"
   },
   {
    "duration": 260,
    "start_time": "2024-12-23T01:01:28.259Z"
   },
   {
    "duration": 344,
    "start_time": "2024-12-23T01:01:28.524Z"
   },
   {
    "duration": 155,
    "start_time": "2024-12-23T01:01:28.870Z"
   },
   {
    "duration": 2,
    "start_time": "2024-12-23T01:01:29.027Z"
   },
   {
    "duration": 7,
    "start_time": "2024-12-23T01:01:29.031Z"
   },
   {
    "duration": 6,
    "start_time": "2024-12-23T01:01:29.040Z"
   },
   {
    "duration": 282,
    "start_time": "2024-12-23T01:01:43.980Z"
   },
   {
    "duration": 19,
    "start_time": "2024-12-23T01:01:47.850Z"
   },
   {
    "duration": 8,
    "start_time": "2024-12-23T01:02:52.702Z"
   },
   {
    "duration": 19,
    "start_time": "2024-12-23T01:03:00.259Z"
   },
   {
    "duration": 923,
    "start_time": "2024-12-23T01:03:51.829Z"
   },
   {
    "duration": 25,
    "start_time": "2024-12-23T01:03:52.755Z"
   },
   {
    "duration": 12,
    "start_time": "2024-12-23T01:03:52.782Z"
   },
   {
    "duration": 4,
    "start_time": "2024-12-23T01:03:52.796Z"
   },
   {
    "duration": 33,
    "start_time": "2024-12-23T01:03:52.803Z"
   },
   {
    "duration": 11,
    "start_time": "2024-12-23T01:03:52.838Z"
   },
   {
    "duration": 6,
    "start_time": "2024-12-23T01:03:52.851Z"
   },
   {
    "duration": 13,
    "start_time": "2024-12-23T01:03:52.858Z"
   },
   {
    "duration": 7,
    "start_time": "2024-12-23T01:03:52.873Z"
   },
   {
    "duration": 5,
    "start_time": "2024-12-23T01:03:52.882Z"
   },
   {
    "duration": 38,
    "start_time": "2024-12-23T01:03:52.889Z"
   },
   {
    "duration": 10,
    "start_time": "2024-12-23T01:03:52.929Z"
   },
   {
    "duration": 6,
    "start_time": "2024-12-23T01:03:52.941Z"
   },
   {
    "duration": 9,
    "start_time": "2024-12-23T01:03:52.951Z"
   },
   {
    "duration": 7,
    "start_time": "2024-12-23T01:03:52.962Z"
   },
   {
    "duration": 12,
    "start_time": "2024-12-23T01:03:52.971Z"
   },
   {
    "duration": 41,
    "start_time": "2024-12-23T01:03:52.985Z"
   },
   {
    "duration": 4,
    "start_time": "2024-12-23T01:03:53.029Z"
   },
   {
    "duration": 6,
    "start_time": "2024-12-23T01:03:53.034Z"
   },
   {
    "duration": 18,
    "start_time": "2024-12-23T01:03:53.042Z"
   },
   {
    "duration": 3,
    "start_time": "2024-12-23T01:03:53.061Z"
   },
   {
    "duration": 4,
    "start_time": "2024-12-23T01:03:53.066Z"
   },
   {
    "duration": 5,
    "start_time": "2024-12-23T01:03:53.071Z"
   },
   {
    "duration": 3,
    "start_time": "2024-12-23T01:03:53.077Z"
   },
   {
    "duration": 5,
    "start_time": "2024-12-23T01:03:53.125Z"
   },
   {
    "duration": 13,
    "start_time": "2024-12-23T01:03:53.132Z"
   },
   {
    "duration": 5,
    "start_time": "2024-12-23T01:03:53.147Z"
   },
   {
    "duration": 6,
    "start_time": "2024-12-23T01:03:53.153Z"
   },
   {
    "duration": 5,
    "start_time": "2024-12-23T01:03:53.161Z"
   },
   {
    "duration": 15,
    "start_time": "2024-12-23T01:03:53.168Z"
   },
   {
    "duration": 40,
    "start_time": "2024-12-23T01:03:53.184Z"
   },
   {
    "duration": 6,
    "start_time": "2024-12-23T01:03:53.226Z"
   },
   {
    "duration": 4,
    "start_time": "2024-12-23T01:03:53.234Z"
   },
   {
    "duration": 8,
    "start_time": "2024-12-23T01:03:53.240Z"
   },
   {
    "duration": 6,
    "start_time": "2024-12-23T01:03:53.249Z"
   },
   {
    "duration": 4,
    "start_time": "2024-12-23T01:03:53.256Z"
   },
   {
    "duration": 15,
    "start_time": "2024-12-23T01:03:53.261Z"
   },
   {
    "duration": 59,
    "start_time": "2024-12-23T01:03:53.278Z"
   },
   {
    "duration": 4,
    "start_time": "2024-12-23T01:03:53.339Z"
   },
   {
    "duration": 5,
    "start_time": "2024-12-23T01:03:53.345Z"
   },
   {
    "duration": 184,
    "start_time": "2024-12-23T01:03:53.355Z"
   },
   {
    "duration": 239,
    "start_time": "2024-12-23T01:03:53.541Z"
   },
   {
    "duration": 7,
    "start_time": "2024-12-23T01:03:53.783Z"
   },
   {
    "duration": 4,
    "start_time": "2024-12-23T01:03:53.792Z"
   },
   {
    "duration": 193,
    "start_time": "2024-12-23T01:03:53.798Z"
   },
   {
    "duration": 31,
    "start_time": "2024-12-23T01:03:53.993Z"
   },
   {
    "duration": 4,
    "start_time": "2024-12-23T01:03:54.026Z"
   },
   {
    "duration": 19,
    "start_time": "2024-12-23T01:03:54.032Z"
   },
   {
    "duration": 5,
    "start_time": "2024-12-23T01:03:54.053Z"
   },
   {
    "duration": 162,
    "start_time": "2024-12-23T01:03:54.059Z"
   },
   {
    "duration": 132,
    "start_time": "2024-12-23T01:03:54.224Z"
   },
   {
    "duration": 4,
    "start_time": "2024-12-23T01:03:54.358Z"
   },
   {
    "duration": 383,
    "start_time": "2024-12-23T01:03:54.364Z"
   },
   {
    "duration": 6,
    "start_time": "2024-12-23T01:03:54.749Z"
   },
   {
    "duration": 101,
    "start_time": "2024-12-23T01:03:54.757Z"
   },
   {
    "duration": 6,
    "start_time": "2024-12-23T01:03:54.860Z"
   },
   {
    "duration": 4,
    "start_time": "2024-12-23T01:03:54.868Z"
   },
   {
    "duration": 4,
    "start_time": "2024-12-23T01:03:54.874Z"
   },
   {
    "duration": 7,
    "start_time": "2024-12-23T01:03:54.880Z"
   },
   {
    "duration": 276,
    "start_time": "2024-12-23T01:03:54.889Z"
   },
   {
    "duration": 349,
    "start_time": "2024-12-23T01:03:55.167Z"
   },
   {
    "duration": 153,
    "start_time": "2024-12-23T01:03:55.523Z"
   },
   {
    "duration": 3,
    "start_time": "2024-12-23T01:03:55.678Z"
   },
   {
    "duration": 10,
    "start_time": "2024-12-23T01:03:55.682Z"
   },
   {
    "duration": 9,
    "start_time": "2024-12-23T01:03:55.695Z"
   },
   {
    "duration": 2,
    "start_time": "2024-12-23T01:25:13.005Z"
   },
   {
    "duration": 5,
    "start_time": "2024-12-23T01:26:40.635Z"
   },
   {
    "duration": 8,
    "start_time": "2024-12-23T01:27:14.163Z"
   },
   {
    "duration": 6,
    "start_time": "2024-12-23T01:27:28.787Z"
   },
   {
    "duration": 6,
    "start_time": "2024-12-23T01:27:39.770Z"
   },
   {
    "duration": 188,
    "start_time": "2024-12-23T01:33:44.273Z"
   },
   {
    "duration": 7,
    "start_time": "2024-12-23T01:33:48.742Z"
   },
   {
    "duration": 6,
    "start_time": "2024-12-23T01:34:02.675Z"
   },
   {
    "duration": 6,
    "start_time": "2024-12-23T01:35:27.383Z"
   },
   {
    "duration": 6,
    "start_time": "2024-12-23T01:35:37.950Z"
   },
   {
    "duration": 5,
    "start_time": "2024-12-23T01:35:52.701Z"
   },
   {
    "duration": 6,
    "start_time": "2024-12-23T01:37:04.544Z"
   },
   {
    "duration": 6,
    "start_time": "2024-12-23T01:37:15.973Z"
   },
   {
    "duration": 6,
    "start_time": "2024-12-23T01:37:20.316Z"
   },
   {
    "duration": 7,
    "start_time": "2024-12-23T01:38:03.296Z"
   },
   {
    "duration": 832,
    "start_time": "2024-12-23T01:39:41.492Z"
   },
   {
    "duration": 25,
    "start_time": "2024-12-23T01:39:42.326Z"
   },
   {
    "duration": 10,
    "start_time": "2024-12-23T01:39:42.353Z"
   },
   {
    "duration": 4,
    "start_time": "2024-12-23T01:39:42.365Z"
   },
   {
    "duration": 13,
    "start_time": "2024-12-23T01:39:42.371Z"
   },
   {
    "duration": 11,
    "start_time": "2024-12-23T01:39:42.385Z"
   },
   {
    "duration": 29,
    "start_time": "2024-12-23T01:39:42.398Z"
   },
   {
    "duration": 11,
    "start_time": "2024-12-23T01:39:42.428Z"
   },
   {
    "duration": 7,
    "start_time": "2024-12-23T01:39:42.441Z"
   },
   {
    "duration": 4,
    "start_time": "2024-12-23T01:39:42.451Z"
   },
   {
    "duration": 3,
    "start_time": "2024-12-23T01:39:42.457Z"
   },
   {
    "duration": 10,
    "start_time": "2024-12-23T01:39:42.462Z"
   },
   {
    "duration": 5,
    "start_time": "2024-12-23T01:39:42.474Z"
   },
   {
    "duration": 46,
    "start_time": "2024-12-23T01:39:42.481Z"
   },
   {
    "duration": 8,
    "start_time": "2024-12-23T01:39:42.530Z"
   },
   {
    "duration": 11,
    "start_time": "2024-12-23T01:39:42.540Z"
   },
   {
    "duration": 4,
    "start_time": "2024-12-23T01:39:42.553Z"
   },
   {
    "duration": 3,
    "start_time": "2024-12-23T01:39:42.558Z"
   },
   {
    "duration": 6,
    "start_time": "2024-12-23T01:39:42.563Z"
   },
   {
    "duration": 55,
    "start_time": "2024-12-23T01:39:42.570Z"
   },
   {
    "duration": 3,
    "start_time": "2024-12-23T01:39:42.627Z"
   },
   {
    "duration": 5,
    "start_time": "2024-12-23T01:39:42.631Z"
   },
   {
    "duration": 4,
    "start_time": "2024-12-23T01:39:42.638Z"
   },
   {
    "duration": 3,
    "start_time": "2024-12-23T01:39:42.643Z"
   },
   {
    "duration": 4,
    "start_time": "2024-12-23T01:39:42.648Z"
   },
   {
    "duration": 12,
    "start_time": "2024-12-23T01:39:42.653Z"
   },
   {
    "duration": 3,
    "start_time": "2024-12-23T01:39:42.667Z"
   },
   {
    "duration": 7,
    "start_time": "2024-12-23T01:39:42.676Z"
   },
   {
    "duration": 5,
    "start_time": "2024-12-23T01:39:42.725Z"
   },
   {
    "duration": 14,
    "start_time": "2024-12-23T01:39:42.731Z"
   },
   {
    "duration": 4,
    "start_time": "2024-12-23T01:39:42.747Z"
   },
   {
    "duration": 5,
    "start_time": "2024-12-23T01:39:42.752Z"
   },
   {
    "duration": 5,
    "start_time": "2024-12-23T01:39:42.758Z"
   },
   {
    "duration": 7,
    "start_time": "2024-12-23T01:39:42.765Z"
   },
   {
    "duration": 6,
    "start_time": "2024-12-23T01:39:42.773Z"
   },
   {
    "duration": 42,
    "start_time": "2024-12-23T01:39:42.782Z"
   },
   {
    "duration": 12,
    "start_time": "2024-12-23T01:39:42.826Z"
   },
   {
    "duration": 17,
    "start_time": "2024-12-23T01:39:42.839Z"
   },
   {
    "duration": 5,
    "start_time": "2024-12-23T01:39:42.857Z"
   },
   {
    "duration": 4,
    "start_time": "2024-12-23T01:39:42.864Z"
   },
   {
    "duration": 184,
    "start_time": "2024-12-23T01:39:42.870Z"
   },
   {
    "duration": 218,
    "start_time": "2024-12-23T01:39:43.055Z"
   },
   {
    "duration": 7,
    "start_time": "2024-12-23T01:39:43.274Z"
   },
   {
    "duration": 5,
    "start_time": "2024-12-23T01:39:43.282Z"
   },
   {
    "duration": 180,
    "start_time": "2024-12-23T01:39:43.290Z"
   },
   {
    "duration": 19,
    "start_time": "2024-12-23T01:39:43.472Z"
   },
   {
    "duration": 5,
    "start_time": "2024-12-23T01:39:43.493Z"
   },
   {
    "duration": 39,
    "start_time": "2024-12-23T01:39:43.500Z"
   },
   {
    "duration": 5,
    "start_time": "2024-12-23T01:39:43.540Z"
   },
   {
    "duration": 152,
    "start_time": "2024-12-23T01:39:43.547Z"
   },
   {
    "duration": 125,
    "start_time": "2024-12-23T01:39:43.701Z"
   },
   {
    "duration": 4,
    "start_time": "2024-12-23T01:39:43.827Z"
   },
   {
    "duration": 363,
    "start_time": "2024-12-23T01:39:43.833Z"
   },
   {
    "duration": 6,
    "start_time": "2024-12-23T01:39:44.198Z"
   },
   {
    "duration": 57,
    "start_time": "2024-12-23T01:39:44.224Z"
   },
   {
    "duration": 45,
    "start_time": "2024-12-23T01:39:44.283Z"
   },
   {
    "duration": 4,
    "start_time": "2024-12-23T01:39:44.329Z"
   },
   {
    "duration": 4,
    "start_time": "2024-12-23T01:39:44.336Z"
   },
   {
    "duration": 7,
    "start_time": "2024-12-23T01:39:44.341Z"
   },
   {
    "duration": 267,
    "start_time": "2024-12-23T01:39:44.349Z"
   },
   {
    "duration": 338,
    "start_time": "2024-12-23T01:39:44.619Z"
   },
   {
    "duration": 148,
    "start_time": "2024-12-23T01:39:44.959Z"
   },
   {
    "duration": 6,
    "start_time": "2024-12-23T01:39:45.109Z"
   },
   {
    "duration": 12,
    "start_time": "2024-12-23T01:39:45.117Z"
   },
   {
    "duration": 6,
    "start_time": "2024-12-23T01:39:45.130Z"
   },
   {
    "duration": 5,
    "start_time": "2024-12-23T01:39:45.137Z"
   },
   {
    "duration": 6,
    "start_time": "2024-12-23T01:39:45.144Z"
   },
   {
    "duration": 5,
    "start_time": "2024-12-23T01:39:45.151Z"
   },
   {
    "duration": 6,
    "start_time": "2024-12-23T01:39:45.157Z"
   },
   {
    "duration": 6,
    "start_time": "2024-12-23T01:39:45.165Z"
   },
   {
    "duration": 53,
    "start_time": "2024-12-23T01:39:45.172Z"
   },
   {
    "duration": 6,
    "start_time": "2024-12-23T01:39:45.227Z"
   },
   {
    "duration": 5,
    "start_time": "2024-12-23T01:39:45.235Z"
   },
   {
    "duration": 6,
    "start_time": "2024-12-23T01:39:45.242Z"
   },
   {
    "duration": 7,
    "start_time": "2024-12-23T01:39:45.249Z"
   },
   {
    "duration": 5,
    "start_time": "2024-12-23T01:39:45.258Z"
   },
   {
    "duration": 6,
    "start_time": "2024-12-23T01:44:18.337Z"
   },
   {
    "duration": 6,
    "start_time": "2024-12-23T01:44:22.622Z"
   },
   {
    "duration": 2854,
    "start_time": "2024-12-23T05:25:59.946Z"
   },
   {
    "duration": 70,
    "start_time": "2024-12-23T05:26:02.802Z"
   },
   {
    "duration": 12,
    "start_time": "2024-12-23T05:26:02.873Z"
   },
   {
    "duration": 58,
    "start_time": "2024-12-23T05:26:02.887Z"
   },
   {
    "duration": 26,
    "start_time": "2024-12-23T05:26:02.948Z"
   },
   {
    "duration": 70,
    "start_time": "2024-12-23T05:26:02.975Z"
   },
   {
    "duration": 4,
    "start_time": "2024-12-23T05:26:03.047Z"
   },
   {
    "duration": 13,
    "start_time": "2024-12-23T05:26:03.053Z"
   },
   {
    "duration": 7,
    "start_time": "2024-12-23T05:26:03.067Z"
   },
   {
    "duration": 7,
    "start_time": "2024-12-23T05:26:03.076Z"
   },
   {
    "duration": 60,
    "start_time": "2024-12-23T05:26:03.084Z"
   },
   {
    "duration": 11,
    "start_time": "2024-12-23T05:26:03.146Z"
   },
   {
    "duration": 6,
    "start_time": "2024-12-23T05:26:03.158Z"
   },
   {
    "duration": 9,
    "start_time": "2024-12-23T05:26:03.167Z"
   },
   {
    "duration": 8,
    "start_time": "2024-12-23T05:26:03.177Z"
   },
   {
    "duration": 11,
    "start_time": "2024-12-23T05:26:03.244Z"
   },
   {
    "duration": 5,
    "start_time": "2024-12-23T05:26:03.256Z"
   },
   {
    "duration": 3,
    "start_time": "2024-12-23T05:26:03.262Z"
   },
   {
    "duration": 8,
    "start_time": "2024-12-23T05:26:03.267Z"
   },
   {
    "duration": 68,
    "start_time": "2024-12-23T05:26:03.276Z"
   },
   {
    "duration": 3,
    "start_time": "2024-12-23T05:26:03.345Z"
   },
   {
    "duration": 3,
    "start_time": "2024-12-23T05:26:03.350Z"
   },
   {
    "duration": 4,
    "start_time": "2024-12-23T05:26:03.355Z"
   },
   {
    "duration": 3,
    "start_time": "2024-12-23T05:26:03.361Z"
   },
   {
    "duration": 4,
    "start_time": "2024-12-23T05:26:03.365Z"
   },
   {
    "duration": 12,
    "start_time": "2024-12-23T05:26:03.371Z"
   },
   {
    "duration": 59,
    "start_time": "2024-12-23T05:26:03.384Z"
   },
   {
    "duration": 6,
    "start_time": "2024-12-23T05:26:03.445Z"
   },
   {
    "duration": 5,
    "start_time": "2024-12-23T05:26:03.453Z"
   },
   {
    "duration": 14,
    "start_time": "2024-12-23T05:26:03.460Z"
   },
   {
    "duration": 4,
    "start_time": "2024-12-23T05:26:03.475Z"
   },
   {
    "duration": 5,
    "start_time": "2024-12-23T05:26:03.480Z"
   },
   {
    "duration": 59,
    "start_time": "2024-12-23T05:26:03.487Z"
   },
   {
    "duration": 10,
    "start_time": "2024-12-23T05:26:03.548Z"
   },
   {
    "duration": 6,
    "start_time": "2024-12-23T05:26:03.559Z"
   },
   {
    "duration": 4,
    "start_time": "2024-12-23T05:26:03.566Z"
   },
   {
    "duration": 12,
    "start_time": "2024-12-23T05:26:03.573Z"
   },
   {
    "duration": 29,
    "start_time": "2024-12-23T05:26:03.644Z"
   },
   {
    "duration": 5,
    "start_time": "2024-12-23T05:26:03.675Z"
   },
   {
    "duration": 5,
    "start_time": "2024-12-23T05:26:03.682Z"
   },
   {
    "duration": 234,
    "start_time": "2024-12-23T05:26:03.742Z"
   },
   {
    "duration": 177,
    "start_time": "2024-12-23T05:26:03.978Z"
   },
   {
    "duration": 8,
    "start_time": "2024-12-23T05:26:04.157Z"
   },
   {
    "duration": 4,
    "start_time": "2024-12-23T05:26:04.166Z"
   },
   {
    "duration": 187,
    "start_time": "2024-12-23T05:26:04.172Z"
   },
   {
    "duration": 28,
    "start_time": "2024-12-23T05:26:04.360Z"
   },
   {
    "duration": 5,
    "start_time": "2024-12-23T05:26:04.390Z"
   },
   {
    "duration": 18,
    "start_time": "2024-12-23T05:26:04.397Z"
   },
   {
    "duration": 4,
    "start_time": "2024-12-23T05:26:04.416Z"
   },
   {
    "duration": 162,
    "start_time": "2024-12-23T05:26:04.422Z"
   },
   {
    "duration": 131,
    "start_time": "2024-12-23T05:26:04.586Z"
   },
   {
    "duration": 4,
    "start_time": "2024-12-23T05:26:04.718Z"
   },
   {
    "duration": 366,
    "start_time": "2024-12-23T05:26:04.725Z"
   },
   {
    "duration": 7,
    "start_time": "2024-12-23T05:26:05.092Z"
   },
   {
    "duration": 92,
    "start_time": "2024-12-23T05:26:05.101Z"
   },
   {
    "duration": 6,
    "start_time": "2024-12-23T05:26:05.195Z"
   },
   {
    "duration": 44,
    "start_time": "2024-12-23T05:26:05.203Z"
   },
   {
    "duration": 3,
    "start_time": "2024-12-23T05:26:05.249Z"
   },
   {
    "duration": 7,
    "start_time": "2024-12-23T05:26:05.254Z"
   },
   {
    "duration": 252,
    "start_time": "2024-12-23T05:26:05.262Z"
   },
   {
    "duration": 336,
    "start_time": "2024-12-23T05:26:05.516Z"
   },
   {
    "duration": 156,
    "start_time": "2024-12-23T05:26:05.854Z"
   },
   {
    "duration": 6,
    "start_time": "2024-12-23T05:26:06.012Z"
   },
   {
    "duration": 5,
    "start_time": "2024-12-23T05:26:06.021Z"
   },
   {
    "duration": 5,
    "start_time": "2024-12-23T05:26:06.042Z"
   },
   {
    "duration": 5,
    "start_time": "2024-12-23T05:26:06.049Z"
   },
   {
    "duration": 7,
    "start_time": "2024-12-23T05:26:06.055Z"
   },
   {
    "duration": 5,
    "start_time": "2024-12-23T05:26:06.065Z"
   },
   {
    "duration": 5,
    "start_time": "2024-12-23T05:26:06.072Z"
   },
   {
    "duration": 5,
    "start_time": "2024-12-23T05:26:06.079Z"
   },
   {
    "duration": 6,
    "start_time": "2024-12-23T05:26:06.085Z"
   },
   {
    "duration": 5,
    "start_time": "2024-12-23T05:26:06.093Z"
   },
   {
    "duration": 115,
    "start_time": "2024-12-23T05:26:06.099Z"
   },
   {
    "duration": 5,
    "start_time": "2024-12-23T05:26:06.216Z"
   },
   {
    "duration": 21,
    "start_time": "2024-12-23T05:26:06.224Z"
   },
   {
    "duration": 6,
    "start_time": "2024-12-23T05:26:06.246Z"
   },
   {
    "duration": 14,
    "start_time": "2024-12-23T05:39:51.803Z"
   },
   {
    "duration": 15,
    "start_time": "2024-12-23T05:39:56.997Z"
   },
   {
    "duration": 2594,
    "start_time": "2024-12-23T13:11:01.949Z"
   },
   {
    "duration": 33,
    "start_time": "2024-12-23T13:11:04.545Z"
   },
   {
    "duration": 11,
    "start_time": "2024-12-23T13:11:04.580Z"
   },
   {
    "duration": 4,
    "start_time": "2024-12-23T13:11:04.593Z"
   },
   {
    "duration": 26,
    "start_time": "2024-12-23T13:11:04.599Z"
   },
   {
    "duration": 10,
    "start_time": "2024-12-23T13:11:04.627Z"
   },
   {
    "duration": 4,
    "start_time": "2024-12-23T13:11:04.639Z"
   },
   {
    "duration": 12,
    "start_time": "2024-12-23T13:11:04.644Z"
   },
   {
    "duration": 7,
    "start_time": "2024-12-23T13:11:04.657Z"
   },
   {
    "duration": 5,
    "start_time": "2024-12-23T13:11:04.667Z"
   },
   {
    "duration": 3,
    "start_time": "2024-12-23T13:11:04.674Z"
   },
   {
    "duration": 46,
    "start_time": "2024-12-23T13:11:04.679Z"
   },
   {
    "duration": 6,
    "start_time": "2024-12-23T13:11:04.727Z"
   },
   {
    "duration": 10,
    "start_time": "2024-12-23T13:11:04.734Z"
   },
   {
    "duration": 8,
    "start_time": "2024-12-23T13:11:04.745Z"
   },
   {
    "duration": 11,
    "start_time": "2024-12-23T13:11:04.755Z"
   },
   {
    "duration": 4,
    "start_time": "2024-12-23T13:11:04.767Z"
   },
   {
    "duration": 4,
    "start_time": "2024-12-23T13:11:04.773Z"
   },
   {
    "duration": 47,
    "start_time": "2024-12-23T13:11:04.779Z"
   },
   {
    "duration": 17,
    "start_time": "2024-12-23T13:11:04.828Z"
   },
   {
    "duration": 3,
    "start_time": "2024-12-23T13:11:04.847Z"
   },
   {
    "duration": 4,
    "start_time": "2024-12-23T13:11:04.852Z"
   },
   {
    "duration": 5,
    "start_time": "2024-12-23T13:11:04.857Z"
   },
   {
    "duration": 3,
    "start_time": "2024-12-23T13:11:04.863Z"
   },
   {
    "duration": 4,
    "start_time": "2024-12-23T13:11:04.869Z"
   },
   {
    "duration": 49,
    "start_time": "2024-12-23T13:11:04.875Z"
   },
   {
    "duration": 6,
    "start_time": "2024-12-23T13:11:04.925Z"
   },
   {
    "duration": 5,
    "start_time": "2024-12-23T13:11:04.935Z"
   },
   {
    "duration": 4,
    "start_time": "2024-12-23T13:11:04.942Z"
   },
   {
    "duration": 13,
    "start_time": "2024-12-23T13:11:04.948Z"
   },
   {
    "duration": 3,
    "start_time": "2024-12-23T13:11:04.963Z"
   },
   {
    "duration": 4,
    "start_time": "2024-12-23T13:11:04.968Z"
   },
   {
    "duration": 7,
    "start_time": "2024-12-23T13:11:04.974Z"
   },
   {
    "duration": 44,
    "start_time": "2024-12-23T13:11:04.983Z"
   },
   {
    "duration": 9,
    "start_time": "2024-12-23T13:11:05.029Z"
   },
   {
    "duration": 9,
    "start_time": "2024-12-23T13:11:05.039Z"
   },
   {
    "duration": 18,
    "start_time": "2024-12-23T13:11:05.050Z"
   },
   {
    "duration": 18,
    "start_time": "2024-12-23T13:11:05.069Z"
   },
   {
    "duration": 5,
    "start_time": "2024-12-23T13:11:05.088Z"
   },
   {
    "duration": 5,
    "start_time": "2024-12-23T13:11:05.094Z"
   },
   {
    "duration": 190,
    "start_time": "2024-12-23T13:11:05.101Z"
   },
   {
    "duration": 168,
    "start_time": "2024-12-23T13:11:05.292Z"
   },
   {
    "duration": 8,
    "start_time": "2024-12-23T13:11:05.462Z"
   },
   {
    "duration": 4,
    "start_time": "2024-12-23T13:11:05.473Z"
   },
   {
    "duration": 182,
    "start_time": "2024-12-23T13:11:05.479Z"
   },
   {
    "duration": 20,
    "start_time": "2024-12-23T13:11:05.663Z"
   },
   {
    "duration": 4,
    "start_time": "2024-12-23T13:11:05.685Z"
   },
   {
    "duration": 39,
    "start_time": "2024-12-23T13:11:05.690Z"
   },
   {
    "duration": 4,
    "start_time": "2024-12-23T13:11:05.731Z"
   },
   {
    "duration": 194,
    "start_time": "2024-12-23T13:11:05.737Z"
   },
   {
    "duration": 129,
    "start_time": "2024-12-23T13:11:05.932Z"
   },
   {
    "duration": 6,
    "start_time": "2024-12-23T13:11:06.063Z"
   },
   {
    "duration": 305,
    "start_time": "2024-12-23T13:11:06.071Z"
   },
   {
    "duration": 7,
    "start_time": "2024-12-23T13:11:06.378Z"
   },
   {
    "duration": 79,
    "start_time": "2024-12-23T13:11:06.386Z"
   },
   {
    "duration": 5,
    "start_time": "2024-12-23T13:11:06.467Z"
   },
   {
    "duration": 4,
    "start_time": "2024-12-23T13:11:06.474Z"
   },
   {
    "duration": 4,
    "start_time": "2024-12-23T13:11:06.480Z"
   },
   {
    "duration": 44,
    "start_time": "2024-12-23T13:11:06.485Z"
   },
   {
    "duration": 233,
    "start_time": "2024-12-23T13:11:06.531Z"
   },
   {
    "duration": 396,
    "start_time": "2024-12-23T13:11:06.766Z"
   },
   {
    "duration": 159,
    "start_time": "2024-12-23T13:11:07.164Z"
   },
   {
    "duration": 7,
    "start_time": "2024-12-23T13:11:07.325Z"
   },
   {
    "duration": 5,
    "start_time": "2024-12-23T13:11:07.334Z"
   },
   {
    "duration": 6,
    "start_time": "2024-12-23T13:11:07.341Z"
   },
   {
    "duration": 6,
    "start_time": "2024-12-23T13:11:07.348Z"
   },
   {
    "duration": 6,
    "start_time": "2024-12-23T13:11:07.356Z"
   },
   {
    "duration": 5,
    "start_time": "2024-12-23T13:11:07.363Z"
   },
   {
    "duration": 5,
    "start_time": "2024-12-23T13:11:07.370Z"
   },
   {
    "duration": 52,
    "start_time": "2024-12-23T13:11:07.376Z"
   },
   {
    "duration": 5,
    "start_time": "2024-12-23T13:11:07.430Z"
   },
   {
    "duration": 6,
    "start_time": "2024-12-23T13:11:07.436Z"
   },
   {
    "duration": 6,
    "start_time": "2024-12-23T13:11:07.443Z"
   },
   {
    "duration": 6,
    "start_time": "2024-12-23T13:11:07.450Z"
   },
   {
    "duration": 6,
    "start_time": "2024-12-23T13:11:07.457Z"
   },
   {
    "duration": 5,
    "start_time": "2024-12-23T13:11:07.465Z"
   },
   {
    "duration": 59,
    "start_time": "2024-12-23T13:11:07.472Z"
   },
   {
    "duration": 13,
    "start_time": "2024-12-23T13:11:07.533Z"
   },
   {
    "duration": 166,
    "start_time": "2024-12-24T16:55:19.159Z"
   },
   {
    "duration": 2661,
    "start_time": "2024-12-24T16:56:07.418Z"
   },
   {
    "duration": 42,
    "start_time": "2024-12-24T16:56:10.081Z"
   },
   {
    "duration": 13,
    "start_time": "2024-12-24T16:56:10.125Z"
   },
   {
    "duration": 5,
    "start_time": "2024-12-24T16:56:10.142Z"
   },
   {
    "duration": 14,
    "start_time": "2024-12-24T16:56:10.148Z"
   },
   {
    "duration": 12,
    "start_time": "2024-12-24T16:56:10.163Z"
   },
   {
    "duration": 5,
    "start_time": "2024-12-24T16:56:10.187Z"
   },
   {
    "duration": 12,
    "start_time": "2024-12-24T16:56:10.193Z"
   },
   {
    "duration": 8,
    "start_time": "2024-12-24T16:56:10.207Z"
   },
   {
    "duration": 5,
    "start_time": "2024-12-24T16:56:10.218Z"
   },
   {
    "duration": 4,
    "start_time": "2024-12-24T16:56:10.224Z"
   },
   {
    "duration": 10,
    "start_time": "2024-12-24T16:56:10.229Z"
   },
   {
    "duration": 46,
    "start_time": "2024-12-24T16:56:10.241Z"
   },
   {
    "duration": 9,
    "start_time": "2024-12-24T16:56:10.289Z"
   },
   {
    "duration": 7,
    "start_time": "2024-12-24T16:56:10.300Z"
   },
   {
    "duration": 2,
    "start_time": "2024-12-24T16:56:10.309Z"
   },
   {
    "duration": 4,
    "start_time": "2024-12-24T16:56:10.313Z"
   },
   {
    "duration": 4,
    "start_time": "2024-12-24T16:56:10.319Z"
   },
   {
    "duration": 3,
    "start_time": "2024-12-24T16:56:10.325Z"
   },
   {
    "duration": 4,
    "start_time": "2024-12-24T16:56:10.330Z"
   },
   {
    "duration": 57,
    "start_time": "2024-12-24T16:56:10.336Z"
   },
   {
    "duration": 5,
    "start_time": "2024-12-24T16:56:10.395Z"
   },
   {
    "duration": 6,
    "start_time": "2024-12-24T16:56:10.401Z"
   },
   {
    "duration": 5,
    "start_time": "2024-12-24T16:56:10.409Z"
   },
   {
    "duration": 14,
    "start_time": "2024-12-24T16:56:10.416Z"
   },
   {
    "duration": 4,
    "start_time": "2024-12-24T16:56:10.431Z"
   },
   {
    "duration": 5,
    "start_time": "2024-12-24T16:56:10.436Z"
   },
   {
    "duration": 5,
    "start_time": "2024-12-24T16:56:10.486Z"
   },
   {
    "duration": 7,
    "start_time": "2024-12-24T16:56:10.493Z"
   },
   {
    "duration": 6,
    "start_time": "2024-12-24T16:56:10.502Z"
   },
   {
    "duration": 4,
    "start_time": "2024-12-24T16:56:10.510Z"
   },
   {
    "duration": 13,
    "start_time": "2024-12-24T16:56:10.515Z"
   },
   {
    "duration": 18,
    "start_time": "2024-12-24T16:56:10.529Z"
   },
   {
    "duration": 39,
    "start_time": "2024-12-24T16:56:10.549Z"
   },
   {
    "duration": 5,
    "start_time": "2024-12-24T16:56:10.589Z"
   },
   {
    "duration": 175,
    "start_time": "2024-12-24T16:56:10.596Z"
   },
   {
    "duration": 194,
    "start_time": "2024-12-24T16:56:10.773Z"
   },
   {
    "duration": 9,
    "start_time": "2024-12-24T16:56:10.970Z"
   },
   {
    "duration": 7,
    "start_time": "2024-12-24T16:56:10.980Z"
   },
   {
    "duration": 197,
    "start_time": "2024-12-24T16:56:10.989Z"
   },
   {
    "duration": 21,
    "start_time": "2024-12-24T16:56:11.189Z"
   },
   {
    "duration": 4,
    "start_time": "2024-12-24T16:56:11.212Z"
   },
   {
    "duration": 19,
    "start_time": "2024-12-24T16:56:11.219Z"
   },
   {
    "duration": 4,
    "start_time": "2024-12-24T16:56:11.240Z"
   },
   {
    "duration": 171,
    "start_time": "2024-12-24T16:56:11.245Z"
   },
   {
    "duration": 196,
    "start_time": "2024-12-24T16:56:11.418Z"
   },
   {
    "duration": 4,
    "start_time": "2024-12-24T16:56:11.616Z"
   },
   {
    "duration": 329,
    "start_time": "2024-12-24T16:56:11.622Z"
   },
   {
    "duration": 7,
    "start_time": "2024-12-24T16:56:11.953Z"
   },
   {
    "duration": 77,
    "start_time": "2024-12-24T16:56:11.962Z"
   },
   {
    "duration": 45,
    "start_time": "2024-12-24T16:56:12.041Z"
   },
   {
    "duration": 5,
    "start_time": "2024-12-24T16:56:12.088Z"
   },
   {
    "duration": 4,
    "start_time": "2024-12-24T16:56:12.095Z"
   },
   {
    "duration": 6,
    "start_time": "2024-12-24T16:56:12.101Z"
   },
   {
    "duration": 267,
    "start_time": "2024-12-24T16:56:12.109Z"
   },
   {
    "duration": 436,
    "start_time": "2024-12-24T16:56:12.378Z"
   },
   {
    "duration": 156,
    "start_time": "2024-12-24T16:56:12.818Z"
   },
   {
    "duration": 11,
    "start_time": "2024-12-24T16:56:12.976Z"
   },
   {
    "duration": 6,
    "start_time": "2024-12-24T16:56:12.989Z"
   },
   {
    "duration": 5,
    "start_time": "2024-12-24T16:56:12.997Z"
   },
   {
    "duration": 6,
    "start_time": "2024-12-24T16:56:13.003Z"
   },
   {
    "duration": 5,
    "start_time": "2024-12-24T16:56:13.011Z"
   },
   {
    "duration": 7,
    "start_time": "2024-12-24T16:56:13.018Z"
   },
   {
    "duration": 6,
    "start_time": "2024-12-24T16:56:13.027Z"
   },
   {
    "duration": 54,
    "start_time": "2024-12-24T16:56:13.034Z"
   },
   {
    "duration": 7,
    "start_time": "2024-12-24T16:56:13.090Z"
   },
   {
    "duration": 7,
    "start_time": "2024-12-24T16:56:13.098Z"
   },
   {
    "duration": 10,
    "start_time": "2024-12-24T16:56:13.106Z"
   },
   {
    "duration": 8,
    "start_time": "2024-12-24T16:56:13.118Z"
   },
   {
    "duration": 7,
    "start_time": "2024-12-24T16:56:13.128Z"
   },
   {
    "duration": 13,
    "start_time": "2024-12-24T16:56:13.138Z"
   },
   {
    "duration": 47,
    "start_time": "2024-12-24T16:56:13.153Z"
   },
   {
    "duration": 13,
    "start_time": "2024-12-24T16:56:13.202Z"
   },
   {
    "duration": 6,
    "start_time": "2024-12-24T16:57:45.144Z"
   },
   {
    "duration": 1004,
    "start_time": "2024-12-24T16:57:50.204Z"
   },
   {
    "duration": 26,
    "start_time": "2024-12-24T16:57:51.210Z"
   },
   {
    "duration": 14,
    "start_time": "2024-12-24T16:57:51.237Z"
   },
   {
    "duration": 6,
    "start_time": "2024-12-24T16:57:51.253Z"
   },
   {
    "duration": 16,
    "start_time": "2024-12-24T16:57:51.286Z"
   },
   {
    "duration": 13,
    "start_time": "2024-12-24T16:57:51.304Z"
   },
   {
    "duration": 5,
    "start_time": "2024-12-24T16:57:51.319Z"
   },
   {
    "duration": 13,
    "start_time": "2024-12-24T16:57:51.327Z"
   },
   {
    "duration": 45,
    "start_time": "2024-12-24T16:57:51.342Z"
   },
   {
    "duration": 8,
    "start_time": "2024-12-24T16:57:51.388Z"
   },
   {
    "duration": 3,
    "start_time": "2024-12-24T16:57:51.399Z"
   },
   {
    "duration": 11,
    "start_time": "2024-12-24T16:57:51.406Z"
   },
   {
    "duration": 7,
    "start_time": "2024-12-24T16:57:51.420Z"
   },
   {
    "duration": 11,
    "start_time": "2024-12-24T16:57:51.431Z"
   },
   {
    "duration": 47,
    "start_time": "2024-12-24T16:57:51.444Z"
   },
   {
    "duration": 7,
    "start_time": "2024-12-24T16:57:51.493Z"
   },
   {
    "duration": 5,
    "start_time": "2024-12-24T16:57:51.502Z"
   },
   {
    "duration": 6,
    "start_time": "2024-12-24T16:57:51.511Z"
   },
   {
    "duration": 5,
    "start_time": "2024-12-24T16:57:51.519Z"
   },
   {
    "duration": 6,
    "start_time": "2024-12-24T16:57:51.527Z"
   },
   {
    "duration": 59,
    "start_time": "2024-12-24T16:57:51.535Z"
   },
   {
    "duration": 4,
    "start_time": "2024-12-24T16:57:51.596Z"
   },
   {
    "duration": 6,
    "start_time": "2024-12-24T16:57:51.603Z"
   },
   {
    "duration": 6,
    "start_time": "2024-12-24T16:57:51.611Z"
   },
   {
    "duration": 18,
    "start_time": "2024-12-24T16:57:51.619Z"
   },
   {
    "duration": 4,
    "start_time": "2024-12-24T16:57:51.639Z"
   },
   {
    "duration": 42,
    "start_time": "2024-12-24T16:57:51.646Z"
   },
   {
    "duration": 6,
    "start_time": "2024-12-24T16:57:51.691Z"
   },
   {
    "duration": 8,
    "start_time": "2024-12-24T16:57:51.699Z"
   },
   {
    "duration": 8,
    "start_time": "2024-12-24T16:57:51.709Z"
   },
   {
    "duration": 4,
    "start_time": "2024-12-24T16:57:51.720Z"
   },
   {
    "duration": 13,
    "start_time": "2024-12-24T16:57:51.726Z"
   },
   {
    "duration": 65,
    "start_time": "2024-12-24T16:57:51.741Z"
   },
   {
    "duration": 5,
    "start_time": "2024-12-24T16:57:51.808Z"
   },
   {
    "duration": 5,
    "start_time": "2024-12-24T16:57:51.815Z"
   },
   {
    "duration": 194,
    "start_time": "2024-12-24T16:57:51.821Z"
   },
   {
    "duration": 250,
    "start_time": "2024-12-24T16:57:52.017Z"
   },
   {
    "duration": 8,
    "start_time": "2024-12-24T16:57:52.269Z"
   },
   {
    "duration": 5,
    "start_time": "2024-12-24T16:57:52.281Z"
   },
   {
    "duration": 209,
    "start_time": "2024-12-24T16:57:52.289Z"
   },
   {
    "duration": 23,
    "start_time": "2024-12-24T16:57:52.505Z"
   },
   {
    "duration": 5,
    "start_time": "2024-12-24T16:57:52.530Z"
   },
   {
    "duration": 22,
    "start_time": "2024-12-24T16:57:52.537Z"
   },
   {
    "duration": 5,
    "start_time": "2024-12-24T16:57:52.587Z"
   },
   {
    "duration": 157,
    "start_time": "2024-12-24T16:57:52.594Z"
   },
   {
    "duration": 154,
    "start_time": "2024-12-24T16:57:52.753Z"
   },
   {
    "duration": 9,
    "start_time": "2024-12-24T16:57:52.910Z"
   },
   {
    "duration": 431,
    "start_time": "2024-12-24T16:57:52.922Z"
   },
   {
    "duration": 8,
    "start_time": "2024-12-24T16:57:53.355Z"
   },
   {
    "duration": 85,
    "start_time": "2024-12-24T16:57:53.365Z"
   },
   {
    "duration": 8,
    "start_time": "2024-12-24T16:57:53.487Z"
   },
   {
    "duration": 7,
    "start_time": "2024-12-24T16:57:53.498Z"
   },
   {
    "duration": 5,
    "start_time": "2024-12-24T16:57:53.507Z"
   },
   {
    "duration": 9,
    "start_time": "2024-12-24T16:57:53.514Z"
   },
   {
    "duration": 317,
    "start_time": "2024-12-24T16:57:53.525Z"
   },
   {
    "duration": 374,
    "start_time": "2024-12-24T16:57:53.844Z"
   },
   {
    "duration": 174,
    "start_time": "2024-12-24T16:57:54.220Z"
   },
   {
    "duration": 8,
    "start_time": "2024-12-24T16:57:54.396Z"
   },
   {
    "duration": 6,
    "start_time": "2024-12-24T16:57:54.406Z"
   },
   {
    "duration": 7,
    "start_time": "2024-12-24T16:57:54.414Z"
   },
   {
    "duration": 8,
    "start_time": "2024-12-24T16:57:54.423Z"
   },
   {
    "duration": 6,
    "start_time": "2024-12-24T16:57:54.434Z"
   },
   {
    "duration": 6,
    "start_time": "2024-12-24T16:57:54.442Z"
   },
   {
    "duration": 6,
    "start_time": "2024-12-24T16:57:54.487Z"
   },
   {
    "duration": 7,
    "start_time": "2024-12-24T16:57:54.495Z"
   },
   {
    "duration": 6,
    "start_time": "2024-12-24T16:57:54.504Z"
   },
   {
    "duration": 6,
    "start_time": "2024-12-24T16:57:54.512Z"
   },
   {
    "duration": 6,
    "start_time": "2024-12-24T16:57:54.521Z"
   },
   {
    "duration": 7,
    "start_time": "2024-12-24T16:57:54.529Z"
   },
   {
    "duration": 53,
    "start_time": "2024-12-24T16:57:54.537Z"
   },
   {
    "duration": 7,
    "start_time": "2024-12-24T16:57:54.592Z"
   },
   {
    "duration": 12,
    "start_time": "2024-12-24T16:57:54.601Z"
   },
   {
    "duration": 14,
    "start_time": "2024-12-24T16:57:54.615Z"
   },
   {
    "duration": 3,
    "start_time": "2024-12-24T17:09:44.793Z"
   },
   {
    "duration": 5,
    "start_time": "2024-12-24T17:09:53.768Z"
   },
   {
    "duration": 904,
    "start_time": "2024-12-24T17:09:59.125Z"
   },
   {
    "duration": 25,
    "start_time": "2024-12-24T17:10:00.031Z"
   },
   {
    "duration": 12,
    "start_time": "2024-12-24T17:10:00.059Z"
   },
   {
    "duration": 17,
    "start_time": "2024-12-24T17:10:00.072Z"
   },
   {
    "duration": 14,
    "start_time": "2024-12-24T17:10:00.092Z"
   },
   {
    "duration": 12,
    "start_time": "2024-12-24T17:10:00.108Z"
   },
   {
    "duration": 4,
    "start_time": "2024-12-24T17:10:00.122Z"
   },
   {
    "duration": 13,
    "start_time": "2024-12-24T17:10:00.128Z"
   },
   {
    "duration": 45,
    "start_time": "2024-12-24T17:10:00.143Z"
   },
   {
    "duration": 7,
    "start_time": "2024-12-24T17:10:00.190Z"
   },
   {
    "duration": 4,
    "start_time": "2024-12-24T17:10:00.198Z"
   },
   {
    "duration": 10,
    "start_time": "2024-12-24T17:10:00.204Z"
   },
   {
    "duration": 7,
    "start_time": "2024-12-24T17:10:00.215Z"
   },
   {
    "duration": 8,
    "start_time": "2024-12-24T17:10:00.225Z"
   },
   {
    "duration": 6,
    "start_time": "2024-12-24T17:10:00.235Z"
   },
   {
    "duration": 45,
    "start_time": "2024-12-24T17:10:00.243Z"
   },
   {
    "duration": 4,
    "start_time": "2024-12-24T17:10:00.290Z"
   },
   {
    "duration": 3,
    "start_time": "2024-12-24T17:10:00.295Z"
   },
   {
    "duration": 4,
    "start_time": "2024-12-24T17:10:00.300Z"
   },
   {
    "duration": 5,
    "start_time": "2024-12-24T17:10:00.306Z"
   },
   {
    "duration": 5,
    "start_time": "2024-12-24T17:10:00.313Z"
   },
   {
    "duration": 4,
    "start_time": "2024-12-24T17:10:00.319Z"
   },
   {
    "duration": 5,
    "start_time": "2024-12-24T17:10:00.325Z"
   },
   {
    "duration": 4,
    "start_time": "2024-12-24T17:10:00.332Z"
   },
   {
    "duration": 52,
    "start_time": "2024-12-24T17:10:00.338Z"
   },
   {
    "duration": 6,
    "start_time": "2024-12-24T17:10:00.391Z"
   },
   {
    "duration": 4,
    "start_time": "2024-12-24T17:10:00.399Z"
   },
   {
    "duration": 14,
    "start_time": "2024-12-24T17:10:00.404Z"
   },
   {
    "duration": 19,
    "start_time": "2024-12-24T17:10:00.420Z"
   },
   {
    "duration": 5,
    "start_time": "2024-12-24T17:10:00.440Z"
   },
   {
    "duration": 42,
    "start_time": "2024-12-24T17:10:00.446Z"
   },
   {
    "duration": 173,
    "start_time": "2024-12-24T17:10:00.490Z"
   },
   {
    "duration": 254,
    "start_time": "2024-12-24T17:10:00.665Z"
   },
   {
    "duration": 8,
    "start_time": "2024-12-24T17:10:00.921Z"
   },
   {
    "duration": 4,
    "start_time": "2024-12-24T17:10:00.930Z"
   },
   {
    "duration": 194,
    "start_time": "2024-12-24T17:10:00.936Z"
   },
   {
    "duration": 23,
    "start_time": "2024-12-24T17:10:01.132Z"
   },
   {
    "duration": 4,
    "start_time": "2024-12-24T17:10:01.157Z"
   },
   {
    "duration": 39,
    "start_time": "2024-12-24T17:10:01.164Z"
   },
   {
    "duration": 5,
    "start_time": "2024-12-24T17:10:01.205Z"
   },
   {
    "duration": 156,
    "start_time": "2024-12-24T17:10:01.216Z"
   },
   {
    "duration": 150,
    "start_time": "2024-12-24T17:10:01.375Z"
   },
   {
    "duration": 5,
    "start_time": "2024-12-24T17:10:01.526Z"
   },
   {
    "duration": 391,
    "start_time": "2024-12-24T17:10:01.533Z"
   },
   {
    "duration": 7,
    "start_time": "2024-12-24T17:10:01.926Z"
   },
   {
    "duration": 84,
    "start_time": "2024-12-24T17:10:01.935Z"
   },
   {
    "duration": 6,
    "start_time": "2024-12-24T17:10:02.020Z"
   },
   {
    "duration": 5,
    "start_time": "2024-12-24T17:10:02.028Z"
   },
   {
    "duration": 5,
    "start_time": "2024-12-24T17:10:02.034Z"
   },
   {
    "duration": 52,
    "start_time": "2024-12-24T17:10:02.041Z"
   },
   {
    "duration": 278,
    "start_time": "2024-12-24T17:10:02.096Z"
   },
   {
    "duration": 346,
    "start_time": "2024-12-24T17:10:02.376Z"
   },
   {
    "duration": 157,
    "start_time": "2024-12-24T17:10:02.724Z"
   },
   {
    "duration": 9,
    "start_time": "2024-12-24T17:10:02.883Z"
   },
   {
    "duration": 6,
    "start_time": "2024-12-24T17:10:02.894Z"
   },
   {
    "duration": 6,
    "start_time": "2024-12-24T17:10:02.901Z"
   },
   {
    "duration": 5,
    "start_time": "2024-12-24T17:10:02.909Z"
   },
   {
    "duration": 5,
    "start_time": "2024-12-24T17:10:02.916Z"
   },
   {
    "duration": 7,
    "start_time": "2024-12-24T17:10:02.923Z"
   },
   {
    "duration": 6,
    "start_time": "2024-12-24T17:10:02.931Z"
   },
   {
    "duration": 51,
    "start_time": "2024-12-24T17:10:02.941Z"
   },
   {
    "duration": 6,
    "start_time": "2024-12-24T17:10:02.994Z"
   },
   {
    "duration": 6,
    "start_time": "2024-12-24T17:10:03.002Z"
   },
   {
    "duration": 6,
    "start_time": "2024-12-24T17:10:03.010Z"
   },
   {
    "duration": 7,
    "start_time": "2024-12-24T17:10:03.017Z"
   },
   {
    "duration": 7,
    "start_time": "2024-12-24T17:10:03.025Z"
   },
   {
    "duration": 6,
    "start_time": "2024-12-24T17:10:03.033Z"
   },
   {
    "duration": 56,
    "start_time": "2024-12-24T17:10:03.041Z"
   },
   {
    "duration": 20,
    "start_time": "2024-12-24T17:10:03.099Z"
   },
   {
    "duration": 1018,
    "start_time": "2024-12-24T17:13:37.868Z"
   },
   {
    "duration": 26,
    "start_time": "2024-12-24T17:13:38.889Z"
   },
   {
    "duration": 15,
    "start_time": "2024-12-24T17:13:38.917Z"
   },
   {
    "duration": 4,
    "start_time": "2024-12-24T17:13:38.934Z"
   },
   {
    "duration": 15,
    "start_time": "2024-12-24T17:13:38.941Z"
   },
   {
    "duration": 13,
    "start_time": "2024-12-24T17:13:38.987Z"
   },
   {
    "duration": 6,
    "start_time": "2024-12-24T17:13:39.003Z"
   },
   {
    "duration": 16,
    "start_time": "2024-12-24T17:13:39.011Z"
   },
   {
    "duration": 11,
    "start_time": "2024-12-24T17:13:39.029Z"
   },
   {
    "duration": 47,
    "start_time": "2024-12-24T17:13:39.042Z"
   },
   {
    "duration": 5,
    "start_time": "2024-12-24T17:13:39.094Z"
   },
   {
    "duration": 11,
    "start_time": "2024-12-24T17:13:39.102Z"
   },
   {
    "duration": 8,
    "start_time": "2024-12-24T17:13:39.115Z"
   },
   {
    "duration": 9,
    "start_time": "2024-12-24T17:13:39.127Z"
   },
   {
    "duration": 7,
    "start_time": "2024-12-24T17:13:39.138Z"
   },
   {
    "duration": 41,
    "start_time": "2024-12-24T17:13:39.147Z"
   },
   {
    "duration": 4,
    "start_time": "2024-12-24T17:13:39.191Z"
   },
   {
    "duration": 4,
    "start_time": "2024-12-24T17:13:39.197Z"
   },
   {
    "duration": 6,
    "start_time": "2024-12-24T17:13:39.203Z"
   },
   {
    "duration": 6,
    "start_time": "2024-12-24T17:13:39.211Z"
   },
   {
    "duration": 6,
    "start_time": "2024-12-24T17:13:39.220Z"
   },
   {
    "duration": 6,
    "start_time": "2024-12-24T17:13:39.228Z"
   },
   {
    "duration": 6,
    "start_time": "2024-12-24T17:13:39.236Z"
   },
   {
    "duration": 6,
    "start_time": "2024-12-24T17:13:39.288Z"
   },
   {
    "duration": 8,
    "start_time": "2024-12-24T17:13:39.296Z"
   },
   {
    "duration": 7,
    "start_time": "2024-12-24T17:13:39.306Z"
   },
   {
    "duration": 5,
    "start_time": "2024-12-24T17:13:39.315Z"
   },
   {
    "duration": 15,
    "start_time": "2024-12-24T17:13:39.322Z"
   },
   {
    "duration": 62,
    "start_time": "2024-12-24T17:13:39.339Z"
   },
   {
    "duration": 5,
    "start_time": "2024-12-24T17:13:39.403Z"
   },
   {
    "duration": 6,
    "start_time": "2024-12-24T17:13:39.411Z"
   },
   {
    "duration": 208,
    "start_time": "2024-12-24T17:13:39.419Z"
   },
   {
    "duration": 257,
    "start_time": "2024-12-24T17:13:39.630Z"
   },
   {
    "duration": 9,
    "start_time": "2024-12-24T17:13:39.890Z"
   },
   {
    "duration": 4,
    "start_time": "2024-12-24T17:13:39.901Z"
   },
   {
    "duration": 236,
    "start_time": "2024-12-24T17:13:39.907Z"
   },
   {
    "duration": 24,
    "start_time": "2024-12-24T17:13:40.146Z"
   },
   {
    "duration": 6,
    "start_time": "2024-12-24T17:13:40.188Z"
   },
   {
    "duration": 21,
    "start_time": "2024-12-24T17:13:40.196Z"
   },
   {
    "duration": 5,
    "start_time": "2024-12-24T17:13:40.220Z"
   },
   {
    "duration": 179,
    "start_time": "2024-12-24T17:13:40.232Z"
   },
   {
    "duration": 150,
    "start_time": "2024-12-24T17:13:40.414Z"
   },
   {
    "duration": 5,
    "start_time": "2024-12-24T17:13:40.566Z"
   },
   {
    "duration": 449,
    "start_time": "2024-12-24T17:13:40.573Z"
   },
   {
    "duration": 8,
    "start_time": "2024-12-24T17:13:41.023Z"
   },
   {
    "duration": 107,
    "start_time": "2024-12-24T17:13:41.033Z"
   },
   {
    "duration": 10,
    "start_time": "2024-12-24T17:13:41.143Z"
   },
   {
    "duration": 36,
    "start_time": "2024-12-24T17:13:41.156Z"
   },
   {
    "duration": 5,
    "start_time": "2024-12-24T17:13:41.194Z"
   },
   {
    "duration": 9,
    "start_time": "2024-12-24T17:13:41.201Z"
   },
   {
    "duration": 318,
    "start_time": "2024-12-24T17:13:41.213Z"
   },
   {
    "duration": 386,
    "start_time": "2024-12-24T17:13:41.534Z"
   },
   {
    "duration": 170,
    "start_time": "2024-12-24T17:13:41.923Z"
   },
   {
    "duration": 8,
    "start_time": "2024-12-24T17:13:42.095Z"
   },
   {
    "duration": 6,
    "start_time": "2024-12-24T17:13:42.106Z"
   },
   {
    "duration": 9,
    "start_time": "2024-12-24T17:13:42.114Z"
   },
   {
    "duration": 7,
    "start_time": "2024-12-24T17:13:42.124Z"
   },
   {
    "duration": 7,
    "start_time": "2024-12-24T17:13:42.133Z"
   },
   {
    "duration": 50,
    "start_time": "2024-12-24T17:13:42.142Z"
   },
   {
    "duration": 8,
    "start_time": "2024-12-24T17:13:42.195Z"
   },
   {
    "duration": 9,
    "start_time": "2024-12-24T17:13:42.206Z"
   },
   {
    "duration": 7,
    "start_time": "2024-12-24T17:13:42.217Z"
   },
   {
    "duration": 8,
    "start_time": "2024-12-24T17:13:42.226Z"
   },
   {
    "duration": 7,
    "start_time": "2024-12-24T17:13:42.236Z"
   },
   {
    "duration": 7,
    "start_time": "2024-12-24T17:13:42.286Z"
   },
   {
    "duration": 9,
    "start_time": "2024-12-24T17:13:42.296Z"
   },
   {
    "duration": 7,
    "start_time": "2024-12-24T17:13:42.308Z"
   },
   {
    "duration": 13,
    "start_time": "2024-12-24T17:13:42.317Z"
   },
   {
    "duration": 60,
    "start_time": "2024-12-24T17:13:42.332Z"
   },
   {
    "duration": 500,
    "start_time": "2024-12-24T17:22:03.037Z"
   },
   {
    "duration": 393,
    "start_time": "2024-12-24T17:22:07.682Z"
   },
   {
    "duration": 421,
    "start_time": "2024-12-24T17:22:57.325Z"
   },
   {
    "duration": 497,
    "start_time": "2024-12-24T17:23:01.345Z"
   },
   {
    "duration": 348,
    "start_time": "2024-12-24T17:23:06.991Z"
   },
   {
    "duration": 338,
    "start_time": "2024-12-24T17:23:10.364Z"
   },
   {
    "duration": 2548,
    "start_time": "2024-12-25T20:50:07.585Z"
   },
   {
    "duration": 36,
    "start_time": "2024-12-25T20:50:10.135Z"
   },
   {
    "duration": 12,
    "start_time": "2024-12-25T20:50:10.173Z"
   },
   {
    "duration": 4,
    "start_time": "2024-12-25T20:50:10.187Z"
   },
   {
    "duration": 22,
    "start_time": "2024-12-25T20:50:10.193Z"
   },
   {
    "duration": 11,
    "start_time": "2024-12-25T20:50:10.217Z"
   },
   {
    "duration": 5,
    "start_time": "2024-12-25T20:50:10.230Z"
   },
   {
    "duration": 12,
    "start_time": "2024-12-25T20:50:10.236Z"
   },
   {
    "duration": 7,
    "start_time": "2024-12-25T20:50:10.250Z"
   },
   {
    "duration": 7,
    "start_time": "2024-12-25T20:50:10.259Z"
   },
   {
    "duration": 4,
    "start_time": "2024-12-25T20:50:10.267Z"
   },
   {
    "duration": 11,
    "start_time": "2024-12-25T20:50:10.310Z"
   },
   {
    "duration": 6,
    "start_time": "2024-12-25T20:50:10.322Z"
   },
   {
    "duration": 8,
    "start_time": "2024-12-25T20:50:10.330Z"
   },
   {
    "duration": 5,
    "start_time": "2024-12-25T20:50:10.340Z"
   },
   {
    "duration": 5,
    "start_time": "2024-12-25T20:50:10.346Z"
   },
   {
    "duration": 4,
    "start_time": "2024-12-25T20:50:10.352Z"
   },
   {
    "duration": 4,
    "start_time": "2024-12-25T20:50:10.357Z"
   },
   {
    "duration": 4,
    "start_time": "2024-12-25T20:50:10.362Z"
   },
   {
    "duration": 5,
    "start_time": "2024-12-25T20:50:10.409Z"
   },
   {
    "duration": 4,
    "start_time": "2024-12-25T20:50:10.415Z"
   },
   {
    "duration": 3,
    "start_time": "2024-12-25T20:50:10.421Z"
   },
   {
    "duration": 4,
    "start_time": "2024-12-25T20:50:10.426Z"
   },
   {
    "duration": 5,
    "start_time": "2024-12-25T20:50:10.431Z"
   },
   {
    "duration": 7,
    "start_time": "2024-12-25T20:50:10.437Z"
   },
   {
    "duration": 6,
    "start_time": "2024-12-25T20:50:10.445Z"
   },
   {
    "duration": 4,
    "start_time": "2024-12-25T20:50:10.452Z"
   },
   {
    "duration": 54,
    "start_time": "2024-12-25T20:50:10.461Z"
   },
   {
    "duration": 18,
    "start_time": "2024-12-25T20:50:10.517Z"
   },
   {
    "duration": 4,
    "start_time": "2024-12-25T20:50:10.536Z"
   },
   {
    "duration": 4,
    "start_time": "2024-12-25T20:50:10.542Z"
   },
   {
    "duration": 188,
    "start_time": "2024-12-25T20:50:10.547Z"
   },
   {
    "duration": 401,
    "start_time": "2024-12-25T20:50:10.737Z"
   },
   {
    "duration": 7,
    "start_time": "2024-12-25T20:50:11.140Z"
   },
   {
    "duration": 4,
    "start_time": "2024-12-25T20:50:11.149Z"
   },
   {
    "duration": 195,
    "start_time": "2024-12-25T20:50:11.155Z"
   },
   {
    "duration": 22,
    "start_time": "2024-12-25T20:50:11.352Z"
   },
   {
    "duration": 4,
    "start_time": "2024-12-25T20:50:11.376Z"
   },
   {
    "duration": 35,
    "start_time": "2024-12-25T20:50:11.382Z"
   },
   {
    "duration": 4,
    "start_time": "2024-12-25T20:50:11.419Z"
   },
   {
    "duration": 146,
    "start_time": "2024-12-25T20:50:11.425Z"
   },
   {
    "duration": 130,
    "start_time": "2024-12-25T20:50:11.573Z"
   },
   {
    "duration": 5,
    "start_time": "2024-12-25T20:50:11.705Z"
   },
   {
    "duration": 384,
    "start_time": "2024-12-25T20:50:11.711Z"
   },
   {
    "duration": 16,
    "start_time": "2024-12-25T20:50:12.097Z"
   },
   {
    "duration": 50,
    "start_time": "2024-12-25T20:50:12.115Z"
   },
   {
    "duration": 46,
    "start_time": "2024-12-25T20:50:12.167Z"
   },
   {
    "duration": 5,
    "start_time": "2024-12-25T20:50:12.215Z"
   },
   {
    "duration": 4,
    "start_time": "2024-12-25T20:50:12.222Z"
   },
   {
    "duration": 7,
    "start_time": "2024-12-25T20:50:12.227Z"
   },
   {
    "duration": 285,
    "start_time": "2024-12-25T20:50:12.235Z"
   },
   {
    "duration": 345,
    "start_time": "2024-12-25T20:50:12.522Z"
   },
   {
    "duration": 146,
    "start_time": "2024-12-25T20:50:12.869Z"
   },
   {
    "duration": 6,
    "start_time": "2024-12-25T20:50:13.017Z"
   },
   {
    "duration": 6,
    "start_time": "2024-12-25T20:50:13.024Z"
   },
   {
    "duration": 5,
    "start_time": "2024-12-25T20:50:13.032Z"
   },
   {
    "duration": 6,
    "start_time": "2024-12-25T20:50:13.038Z"
   },
   {
    "duration": 5,
    "start_time": "2024-12-25T20:50:13.045Z"
   },
   {
    "duration": 7,
    "start_time": "2024-12-25T20:50:13.052Z"
   },
   {
    "duration": 49,
    "start_time": "2024-12-25T20:50:13.060Z"
   },
   {
    "duration": 5,
    "start_time": "2024-12-25T20:50:13.110Z"
   },
   {
    "duration": 6,
    "start_time": "2024-12-25T20:50:13.117Z"
   },
   {
    "duration": 6,
    "start_time": "2024-12-25T20:50:13.124Z"
   },
   {
    "duration": 6,
    "start_time": "2024-12-25T20:50:13.131Z"
   },
   {
    "duration": 5,
    "start_time": "2024-12-25T20:50:13.138Z"
   },
   {
    "duration": 7,
    "start_time": "2024-12-25T20:50:13.145Z"
   },
   {
    "duration": 5,
    "start_time": "2024-12-25T20:50:13.154Z"
   },
   {
    "duration": 56,
    "start_time": "2024-12-25T20:50:13.160Z"
   },
   {
    "duration": 11,
    "start_time": "2024-12-25T20:50:13.218Z"
   },
   {
    "duration": 5,
    "start_time": "2024-12-25T20:51:07.925Z"
   },
   {
    "duration": 4,
    "start_time": "2024-12-25T20:51:15.894Z"
   },
   {
    "duration": 4,
    "start_time": "2024-12-25T20:53:08.823Z"
   },
   {
    "duration": 18,
    "start_time": "2024-12-25T20:53:15.458Z"
   },
   {
    "duration": 170,
    "start_time": "2024-12-25T20:54:47.970Z"
   },
   {
    "duration": 173,
    "start_time": "2024-12-25T20:55:05.837Z"
   },
   {
    "duration": 130,
    "start_time": "2024-12-25T21:16:26.488Z"
   },
   {
    "duration": 899,
    "start_time": "2024-12-25T21:17:47.612Z"
   },
   {
    "duration": 28,
    "start_time": "2024-12-25T21:17:48.513Z"
   },
   {
    "duration": 13,
    "start_time": "2024-12-25T21:17:48.543Z"
   },
   {
    "duration": 3,
    "start_time": "2024-12-25T21:17:48.559Z"
   },
   {
    "duration": 14,
    "start_time": "2024-12-25T21:17:48.564Z"
   },
   {
    "duration": 35,
    "start_time": "2024-12-25T21:17:48.580Z"
   },
   {
    "duration": 4,
    "start_time": "2024-12-25T21:17:48.617Z"
   },
   {
    "duration": 12,
    "start_time": "2024-12-25T21:17:48.623Z"
   },
   {
    "duration": 8,
    "start_time": "2024-12-25T21:17:48.636Z"
   },
   {
    "duration": 6,
    "start_time": "2024-12-25T21:17:48.647Z"
   },
   {
    "duration": 4,
    "start_time": "2024-12-25T21:17:48.654Z"
   },
   {
    "duration": 10,
    "start_time": "2024-12-25T21:17:48.659Z"
   },
   {
    "duration": 42,
    "start_time": "2024-12-25T21:17:48.671Z"
   },
   {
    "duration": 7,
    "start_time": "2024-12-25T21:17:48.715Z"
   },
   {
    "duration": 5,
    "start_time": "2024-12-25T21:17:48.723Z"
   },
   {
    "duration": 4,
    "start_time": "2024-12-25T21:17:48.730Z"
   },
   {
    "duration": 4,
    "start_time": "2024-12-25T21:17:48.735Z"
   },
   {
    "duration": 3,
    "start_time": "2024-12-25T21:17:48.741Z"
   },
   {
    "duration": 3,
    "start_time": "2024-12-25T21:17:48.746Z"
   },
   {
    "duration": 5,
    "start_time": "2024-12-25T21:17:48.751Z"
   },
   {
    "duration": 4,
    "start_time": "2024-12-25T21:17:48.757Z"
   },
   {
    "duration": 49,
    "start_time": "2024-12-25T21:17:48.762Z"
   },
   {
    "duration": 6,
    "start_time": "2024-12-25T21:17:48.812Z"
   },
   {
    "duration": 4,
    "start_time": "2024-12-25T21:17:48.819Z"
   },
   {
    "duration": 8,
    "start_time": "2024-12-25T21:17:48.825Z"
   },
   {
    "duration": 6,
    "start_time": "2024-12-25T21:17:48.835Z"
   },
   {
    "duration": 4,
    "start_time": "2024-12-25T21:17:48.842Z"
   },
   {
    "duration": 12,
    "start_time": "2024-12-25T21:17:48.851Z"
   },
   {
    "duration": 59,
    "start_time": "2024-12-25T21:17:48.865Z"
   },
   {
    "duration": 4,
    "start_time": "2024-12-25T21:17:48.926Z"
   },
   {
    "duration": 5,
    "start_time": "2024-12-25T21:17:48.932Z"
   },
   {
    "duration": 179,
    "start_time": "2024-12-25T21:17:48.939Z"
   },
   {
    "duration": 417,
    "start_time": "2024-12-25T21:17:49.120Z"
   },
   {
    "duration": 7,
    "start_time": "2024-12-25T21:17:49.539Z"
   },
   {
    "duration": 4,
    "start_time": "2024-12-25T21:17:49.547Z"
   },
   {
    "duration": 186,
    "start_time": "2024-12-25T21:17:49.553Z"
   },
   {
    "duration": 28,
    "start_time": "2024-12-25T21:17:49.741Z"
   },
   {
    "duration": 6,
    "start_time": "2024-12-25T21:17:49.772Z"
   },
   {
    "duration": 30,
    "start_time": "2024-12-25T21:17:49.780Z"
   },
   {
    "duration": 4,
    "start_time": "2024-12-25T21:17:49.812Z"
   },
   {
    "duration": 17,
    "start_time": "2024-12-25T21:17:49.817Z"
   },
   {
    "duration": 186,
    "start_time": "2024-12-25T21:17:49.835Z"
   },
   {
    "duration": 5,
    "start_time": "2024-12-25T21:17:50.022Z"
   },
   {
    "duration": 146,
    "start_time": "2024-12-25T21:17:50.028Z"
   },
   {
    "duration": 128,
    "start_time": "2024-12-25T21:17:50.175Z"
   },
   {
    "duration": 5,
    "start_time": "2024-12-25T21:17:50.305Z"
   },
   {
    "duration": 353,
    "start_time": "2024-12-25T21:17:50.312Z"
   },
   {
    "duration": 7,
    "start_time": "2024-12-25T21:17:50.667Z"
   },
   {
    "duration": 73,
    "start_time": "2024-12-25T21:17:50.675Z"
   },
   {
    "duration": 5,
    "start_time": "2024-12-25T21:17:50.750Z"
   },
   {
    "duration": 4,
    "start_time": "2024-12-25T21:17:50.757Z"
   },
   {
    "duration": 4,
    "start_time": "2024-12-25T21:17:50.763Z"
   },
   {
    "duration": 45,
    "start_time": "2024-12-25T21:17:50.769Z"
   },
   {
    "duration": 266,
    "start_time": "2024-12-25T21:17:50.815Z"
   },
   {
    "duration": 346,
    "start_time": "2024-12-25T21:17:51.083Z"
   },
   {
    "duration": 150,
    "start_time": "2024-12-25T21:17:51.431Z"
   },
   {
    "duration": 144,
    "start_time": "2024-12-25T21:17:51.582Z"
   },
   {
    "duration": 7,
    "start_time": "2024-12-25T21:17:51.727Z"
   },
   {
    "duration": 6,
    "start_time": "2024-12-25T21:17:51.735Z"
   },
   {
    "duration": 5,
    "start_time": "2024-12-25T21:17:51.742Z"
   },
   {
    "duration": 6,
    "start_time": "2024-12-25T21:17:51.749Z"
   },
   {
    "duration": 6,
    "start_time": "2024-12-25T21:17:51.756Z"
   },
   {
    "duration": 7,
    "start_time": "2024-12-25T21:17:51.764Z"
   },
   {
    "duration": 41,
    "start_time": "2024-12-25T21:17:51.772Z"
   },
   {
    "duration": 6,
    "start_time": "2024-12-25T21:17:51.815Z"
   },
   {
    "duration": 5,
    "start_time": "2024-12-25T21:17:51.822Z"
   },
   {
    "duration": 6,
    "start_time": "2024-12-25T21:17:51.829Z"
   },
   {
    "duration": 5,
    "start_time": "2024-12-25T21:17:51.838Z"
   },
   {
    "duration": 5,
    "start_time": "2024-12-25T21:17:51.845Z"
   },
   {
    "duration": 6,
    "start_time": "2024-12-25T21:17:51.853Z"
   },
   {
    "duration": 5,
    "start_time": "2024-12-25T21:17:51.862Z"
   },
   {
    "duration": 43,
    "start_time": "2024-12-25T21:17:51.869Z"
   },
   {
    "duration": 3,
    "start_time": "2024-12-25T21:17:51.913Z"
   },
   {
    "duration": 3,
    "start_time": "2024-12-25T21:54:29.644Z"
   },
   {
    "duration": 351,
    "start_time": "2024-12-25T21:55:21.098Z"
   },
   {
    "duration": 21,
    "start_time": "2024-12-25T21:55:33.097Z"
   },
   {
    "duration": 128,
    "start_time": "2024-12-25T21:55:36.568Z"
   },
   {
    "duration": 129,
    "start_time": "2024-12-25T21:55:50.724Z"
   },
   {
    "duration": 146,
    "start_time": "2024-12-25T22:02:10.386Z"
   },
   {
    "duration": 145,
    "start_time": "2024-12-25T22:02:33.873Z"
   },
   {
    "duration": 146,
    "start_time": "2024-12-25T22:02:51.764Z"
   },
   {
    "duration": 145,
    "start_time": "2024-12-25T22:03:30.377Z"
   },
   {
    "duration": 132,
    "start_time": "2024-12-25T22:03:44.372Z"
   },
   {
    "duration": 6,
    "start_time": "2024-12-25T22:05:24.127Z"
   },
   {
    "duration": 169,
    "start_time": "2024-12-25T22:22:55.461Z"
   },
   {
    "duration": 6,
    "start_time": "2024-12-25T22:42:27.994Z"
   },
   {
    "duration": 3,
    "start_time": "2024-12-25T22:51:15.714Z"
   },
   {
    "duration": 259,
    "start_time": "2024-12-25T22:51:19.071Z"
   },
   {
    "duration": 4,
    "start_time": "2024-12-25T22:51:21.122Z"
   },
   {
    "duration": 2,
    "start_time": "2024-12-25T22:51:32.241Z"
   },
   {
    "duration": 177,
    "start_time": "2024-12-25T22:51:57.026Z"
   },
   {
    "duration": 175,
    "start_time": "2024-12-25T22:52:59.108Z"
   },
   {
    "duration": 156,
    "start_time": "2024-12-26T00:34:46.579Z"
   },
   {
    "duration": 2573,
    "start_time": "2024-12-26T00:34:54.051Z"
   },
   {
    "duration": 37,
    "start_time": "2024-12-26T00:34:56.626Z"
   },
   {
    "duration": 11,
    "start_time": "2024-12-26T00:34:56.664Z"
   },
   {
    "duration": 4,
    "start_time": "2024-12-26T00:34:56.677Z"
   },
   {
    "duration": 14,
    "start_time": "2024-12-26T00:34:56.682Z"
   },
   {
    "duration": 10,
    "start_time": "2024-12-26T00:34:56.698Z"
   },
   {
    "duration": 4,
    "start_time": "2024-12-26T00:34:56.710Z"
   },
   {
    "duration": 11,
    "start_time": "2024-12-26T00:34:56.743Z"
   },
   {
    "duration": 7,
    "start_time": "2024-12-26T00:34:56.755Z"
   },
   {
    "duration": 5,
    "start_time": "2024-12-26T00:34:56.765Z"
   },
   {
    "duration": 3,
    "start_time": "2024-12-26T00:34:56.772Z"
   },
   {
    "duration": 10,
    "start_time": "2024-12-26T00:34:56.777Z"
   },
   {
    "duration": 6,
    "start_time": "2024-12-26T00:34:56.788Z"
   },
   {
    "duration": 7,
    "start_time": "2024-12-26T00:34:56.796Z"
   },
   {
    "duration": 5,
    "start_time": "2024-12-26T00:34:56.843Z"
   },
   {
    "duration": 3,
    "start_time": "2024-12-26T00:34:56.850Z"
   },
   {
    "duration": 4,
    "start_time": "2024-12-26T00:34:56.855Z"
   },
   {
    "duration": 3,
    "start_time": "2024-12-26T00:34:56.861Z"
   },
   {
    "duration": 4,
    "start_time": "2024-12-26T00:34:56.865Z"
   },
   {
    "duration": 5,
    "start_time": "2024-12-26T00:34:56.871Z"
   },
   {
    "duration": 3,
    "start_time": "2024-12-26T00:34:56.878Z"
   },
   {
    "duration": 3,
    "start_time": "2024-12-26T00:34:56.883Z"
   },
   {
    "duration": 5,
    "start_time": "2024-12-26T00:34:56.887Z"
   },
   {
    "duration": 52,
    "start_time": "2024-12-26T00:34:56.893Z"
   },
   {
    "duration": 7,
    "start_time": "2024-12-26T00:34:56.946Z"
   },
   {
    "duration": 8,
    "start_time": "2024-12-26T00:34:56.954Z"
   },
   {
    "duration": 4,
    "start_time": "2024-12-26T00:34:56.963Z"
   },
   {
    "duration": 12,
    "start_time": "2024-12-26T00:34:56.971Z"
   },
   {
    "duration": 17,
    "start_time": "2024-12-26T00:34:56.985Z"
   },
   {
    "duration": 4,
    "start_time": "2024-12-26T00:34:57.003Z"
   },
   {
    "duration": 4,
    "start_time": "2024-12-26T00:34:57.043Z"
   },
   {
    "duration": 172,
    "start_time": "2024-12-26T00:34:57.049Z"
   },
   {
    "duration": 348,
    "start_time": "2024-12-26T00:34:57.223Z"
   },
   {
    "duration": 8,
    "start_time": "2024-12-26T00:34:57.573Z"
   },
   {
    "duration": 4,
    "start_time": "2024-12-26T00:34:57.582Z"
   },
   {
    "duration": 191,
    "start_time": "2024-12-26T00:34:57.588Z"
   },
   {
    "duration": 20,
    "start_time": "2024-12-26T00:34:57.781Z"
   },
   {
    "duration": 5,
    "start_time": "2024-12-26T00:34:57.803Z"
   },
   {
    "duration": 38,
    "start_time": "2024-12-26T00:34:57.811Z"
   },
   {
    "duration": 3,
    "start_time": "2024-12-26T00:34:57.850Z"
   },
   {
    "duration": 17,
    "start_time": "2024-12-26T00:34:57.855Z"
   },
   {
    "duration": 247,
    "start_time": "2024-12-26T00:34:57.873Z"
   },
   {
    "duration": 189,
    "start_time": "2024-12-26T00:34:58.122Z"
   },
   {
    "duration": 5,
    "start_time": "2024-12-26T00:34:58.313Z"
   },
   {
    "duration": 4,
    "start_time": "2024-12-26T00:34:58.319Z"
   },
   {
    "duration": 308,
    "start_time": "2024-12-26T00:34:58.325Z"
   },
   {
    "duration": 6,
    "start_time": "2024-12-26T00:34:58.642Z"
   },
   {
    "duration": 104,
    "start_time": "2024-12-26T00:34:58.650Z"
   },
   {
    "duration": 7,
    "start_time": "2024-12-26T00:34:58.755Z"
   },
   {
    "duration": 5,
    "start_time": "2024-12-26T00:34:58.763Z"
   },
   {
    "duration": 4,
    "start_time": "2024-12-26T00:34:58.769Z"
   },
   {
    "duration": 6,
    "start_time": "2024-12-26T00:34:58.775Z"
   },
   {
    "duration": 338,
    "start_time": "2024-12-26T00:34:58.783Z"
   },
   {
    "duration": 365,
    "start_time": "2024-12-26T00:34:59.123Z"
   },
   {
    "duration": 4,
    "start_time": "2024-12-26T00:34:59.490Z"
   },
   {
    "duration": 147,
    "start_time": "2024-12-26T00:34:59.496Z"
   },
   {
    "duration": 6,
    "start_time": "2024-12-26T00:34:59.645Z"
   },
   {
    "duration": 5,
    "start_time": "2024-12-26T00:34:59.653Z"
   },
   {
    "duration": 6,
    "start_time": "2024-12-26T00:34:59.660Z"
   },
   {
    "duration": 6,
    "start_time": "2024-12-26T00:34:59.667Z"
   },
   {
    "duration": 5,
    "start_time": "2024-12-26T00:34:59.675Z"
   },
   {
    "duration": 6,
    "start_time": "2024-12-26T00:34:59.681Z"
   },
   {
    "duration": 5,
    "start_time": "2024-12-26T00:34:59.689Z"
   },
   {
    "duration": 48,
    "start_time": "2024-12-26T00:34:59.696Z"
   },
   {
    "duration": 6,
    "start_time": "2024-12-26T00:34:59.745Z"
   },
   {
    "duration": 5,
    "start_time": "2024-12-26T00:34:59.753Z"
   },
   {
    "duration": 5,
    "start_time": "2024-12-26T00:34:59.760Z"
   },
   {
    "duration": 5,
    "start_time": "2024-12-26T00:34:59.767Z"
   },
   {
    "duration": 6,
    "start_time": "2024-12-26T00:34:59.773Z"
   },
   {
    "duration": 7,
    "start_time": "2024-12-26T00:34:59.780Z"
   },
   {
    "duration": 6,
    "start_time": "2024-12-26T00:34:59.788Z"
   },
   {
    "duration": 49,
    "start_time": "2024-12-26T00:34:59.795Z"
   },
   {
    "duration": 4,
    "start_time": "2024-12-26T00:34:59.845Z"
   },
   {
    "duration": 167,
    "start_time": "2024-12-26T00:35:24.031Z"
   },
   {
    "duration": 3,
    "start_time": "2024-12-26T01:07:36.468Z"
   },
   {
    "duration": 4,
    "start_time": "2024-12-26T01:08:27.056Z"
   },
   {
    "duration": 5,
    "start_time": "2024-12-26T01:08:28.713Z"
   },
   {
    "duration": 104,
    "start_time": "2024-12-26T01:09:19.876Z"
   },
   {
    "duration": 4,
    "start_time": "2024-12-26T01:10:01.117Z"
   },
   {
    "duration": 110,
    "start_time": "2024-12-26T01:10:03.134Z"
   },
   {
    "duration": 5,
    "start_time": "2024-12-26T01:10:23.475Z"
   },
   {
    "duration": 114,
    "start_time": "2024-12-26T01:10:29.595Z"
   },
   {
    "duration": 116,
    "start_time": "2024-12-26T01:11:23.716Z"
   },
   {
    "duration": 116,
    "start_time": "2024-12-26T01:11:44.582Z"
   },
   {
    "duration": 5,
    "start_time": "2024-12-26T01:12:22.822Z"
   },
   {
    "duration": 5,
    "start_time": "2024-12-26T01:12:29.260Z"
   },
   {
    "duration": 116,
    "start_time": "2024-12-26T01:12:30.070Z"
   },
   {
    "duration": 4,
    "start_time": "2024-12-26T01:12:31.328Z"
   },
   {
    "duration": 114,
    "start_time": "2024-12-26T01:13:41.552Z"
   },
   {
    "duration": 4,
    "start_time": "2024-12-26T01:14:04.921Z"
   },
   {
    "duration": 137,
    "start_time": "2024-12-26T01:20:27.087Z"
   },
   {
    "duration": 5,
    "start_time": "2024-12-26T01:22:16.078Z"
   },
   {
    "duration": 4,
    "start_time": "2024-12-26T01:22:16.693Z"
   },
   {
    "duration": 120,
    "start_time": "2024-12-26T01:22:17.724Z"
   },
   {
    "duration": 4,
    "start_time": "2024-12-26T01:22:19.884Z"
   },
   {
    "duration": 116,
    "start_time": "2024-12-26T01:22:22.511Z"
   },
   {
    "duration": 58,
    "start_time": "2024-12-26T01:23:32.457Z"
   },
   {
    "duration": 49,
    "start_time": "2024-12-26T01:25:41.988Z"
   },
   {
    "duration": 54,
    "start_time": "2024-12-26T01:25:45.280Z"
   },
   {
    "duration": 51,
    "start_time": "2024-12-26T01:25:50.735Z"
   },
   {
    "duration": 54,
    "start_time": "2024-12-26T01:25:54.453Z"
   },
   {
    "duration": 3,
    "start_time": "2024-12-26T01:27:55.209Z"
   },
   {
    "duration": 109,
    "start_time": "2024-12-26T01:27:56.538Z"
   },
   {
    "duration": 5,
    "start_time": "2024-12-26T01:28:00.578Z"
   },
   {
    "duration": 3,
    "start_time": "2024-12-26T01:28:01.205Z"
   },
   {
    "duration": 107,
    "start_time": "2024-12-26T01:28:01.780Z"
   },
   {
    "duration": 3,
    "start_time": "2024-12-26T01:28:17.918Z"
   },
   {
    "duration": 115,
    "start_time": "2024-12-26T01:28:18.770Z"
   },
   {
    "duration": 4,
    "start_time": "2024-12-26T01:28:21.832Z"
   },
   {
    "duration": 114,
    "start_time": "2024-12-26T01:28:28.810Z"
   },
   {
    "duration": 4,
    "start_time": "2024-12-26T01:28:32.026Z"
   },
   {
    "duration": 3,
    "start_time": "2024-12-26T01:28:56.134Z"
   },
   {
    "duration": 108,
    "start_time": "2024-12-26T01:29:17.018Z"
   },
   {
    "duration": 5,
    "start_time": "2024-12-26T01:30:01.357Z"
   },
   {
    "duration": 111,
    "start_time": "2024-12-26T01:30:36.432Z"
   },
   {
    "duration": 108,
    "start_time": "2024-12-26T01:30:41.170Z"
   },
   {
    "duration": 109,
    "start_time": "2024-12-26T01:30:50.321Z"
   },
   {
    "duration": 106,
    "start_time": "2024-12-26T01:30:53.824Z"
   },
   {
    "duration": 5,
    "start_time": "2024-12-26T01:31:14.201Z"
   },
   {
    "duration": 4,
    "start_time": "2024-12-26T01:33:19.058Z"
   },
   {
    "duration": 102,
    "start_time": "2024-12-26T01:33:58.089Z"
   },
   {
    "duration": 4,
    "start_time": "2024-12-26T01:34:16.462Z"
   },
   {
    "duration": 103,
    "start_time": "2024-12-26T01:34:54.993Z"
   },
   {
    "duration": 193,
    "start_time": "2024-12-26T01:35:18.640Z"
   },
   {
    "duration": 4,
    "start_time": "2024-12-26T01:35:23.111Z"
   },
   {
    "duration": 942,
    "start_time": "2024-12-26T02:41:09.852Z"
   },
   {
    "duration": 34,
    "start_time": "2024-12-26T02:41:10.796Z"
   },
   {
    "duration": 11,
    "start_time": "2024-12-26T02:41:10.831Z"
   },
   {
    "duration": 4,
    "start_time": "2024-12-26T02:41:10.844Z"
   },
   {
    "duration": 12,
    "start_time": "2024-12-26T02:41:10.851Z"
   },
   {
    "duration": 24,
    "start_time": "2024-12-26T02:41:10.865Z"
   },
   {
    "duration": 4,
    "start_time": "2024-12-26T02:41:10.891Z"
   },
   {
    "duration": 13,
    "start_time": "2024-12-26T02:41:10.896Z"
   },
   {
    "duration": 7,
    "start_time": "2024-12-26T02:41:10.911Z"
   },
   {
    "duration": 5,
    "start_time": "2024-12-26T02:41:10.920Z"
   },
   {
    "duration": 4,
    "start_time": "2024-12-26T02:41:10.927Z"
   },
   {
    "duration": 10,
    "start_time": "2024-12-26T02:41:10.932Z"
   },
   {
    "duration": 6,
    "start_time": "2024-12-26T02:41:10.987Z"
   },
   {
    "duration": 7,
    "start_time": "2024-12-26T02:41:10.998Z"
   },
   {
    "duration": 6,
    "start_time": "2024-12-26T02:41:11.006Z"
   },
   {
    "duration": 4,
    "start_time": "2024-12-26T02:41:11.013Z"
   },
   {
    "duration": 5,
    "start_time": "2024-12-26T02:41:11.020Z"
   },
   {
    "duration": 3,
    "start_time": "2024-12-26T02:41:11.026Z"
   },
   {
    "duration": 4,
    "start_time": "2024-12-26T02:41:11.031Z"
   },
   {
    "duration": 5,
    "start_time": "2024-12-26T02:41:11.037Z"
   },
   {
    "duration": 44,
    "start_time": "2024-12-26T02:41:11.043Z"
   },
   {
    "duration": 4,
    "start_time": "2024-12-26T02:41:11.089Z"
   },
   {
    "duration": 5,
    "start_time": "2024-12-26T02:41:11.094Z"
   },
   {
    "duration": 4,
    "start_time": "2024-12-26T02:41:11.101Z"
   },
   {
    "duration": 6,
    "start_time": "2024-12-26T02:41:11.107Z"
   },
   {
    "duration": 5,
    "start_time": "2024-12-26T02:41:11.115Z"
   },
   {
    "duration": 4,
    "start_time": "2024-12-26T02:41:11.121Z"
   },
   {
    "duration": 12,
    "start_time": "2024-12-26T02:41:11.127Z"
   },
   {
    "duration": 61,
    "start_time": "2024-12-26T02:41:11.141Z"
   },
   {
    "duration": 5,
    "start_time": "2024-12-26T02:41:11.204Z"
   },
   {
    "duration": 4,
    "start_time": "2024-12-26T02:41:11.211Z"
   },
   {
    "duration": 173,
    "start_time": "2024-12-26T02:41:11.216Z"
   },
   {
    "duration": 404,
    "start_time": "2024-12-26T02:41:11.391Z"
   },
   {
    "duration": 7,
    "start_time": "2024-12-26T02:41:11.797Z"
   },
   {
    "duration": 4,
    "start_time": "2024-12-26T02:41:11.806Z"
   },
   {
    "duration": 188,
    "start_time": "2024-12-26T02:41:11.812Z"
   },
   {
    "duration": 20,
    "start_time": "2024-12-26T02:41:12.002Z"
   },
   {
    "duration": 5,
    "start_time": "2024-12-26T02:41:12.023Z"
   },
   {
    "duration": 18,
    "start_time": "2024-12-26T02:41:12.029Z"
   },
   {
    "duration": 3,
    "start_time": "2024-12-26T02:41:12.048Z"
   },
   {
    "duration": 45,
    "start_time": "2024-12-26T02:41:12.057Z"
   },
   {
    "duration": 180,
    "start_time": "2024-12-26T02:41:12.104Z"
   },
   {
    "duration": 175,
    "start_time": "2024-12-26T02:41:12.286Z"
   },
   {
    "duration": 5,
    "start_time": "2024-12-26T02:41:12.463Z"
   },
   {
    "duration": 3,
    "start_time": "2024-12-26T02:41:12.470Z"
   },
   {
    "duration": 129,
    "start_time": "2024-12-26T02:41:12.487Z"
   },
   {
    "duration": 4,
    "start_time": "2024-12-26T02:41:12.618Z"
   },
   {
    "duration": 131,
    "start_time": "2024-12-26T02:41:12.624Z"
   },
   {
    "duration": 5,
    "start_time": "2024-12-26T02:41:12.757Z"
   },
   {
    "duration": 3,
    "start_time": "2024-12-26T02:41:12.764Z"
   },
   {
    "duration": 126,
    "start_time": "2024-12-26T02:41:12.769Z"
   },
   {
    "duration": 4,
    "start_time": "2024-12-26T02:41:12.897Z"
   },
   {
    "duration": 185,
    "start_time": "2024-12-26T02:41:12.903Z"
   },
   {
    "duration": 5,
    "start_time": "2024-12-26T02:41:13.090Z"
   },
   {
    "duration": 3,
    "start_time": "2024-12-26T02:41:13.097Z"
   },
   {
    "duration": 134,
    "start_time": "2024-12-26T02:41:13.102Z"
   },
   {
    "duration": 5,
    "start_time": "2024-12-26T02:41:13.238Z"
   },
   {
    "duration": 123,
    "start_time": "2024-12-26T02:41:13.244Z"
   },
   {
    "duration": 5,
    "start_time": "2024-12-26T02:41:13.368Z"
   },
   {
    "duration": 335,
    "start_time": "2024-12-26T02:41:13.374Z"
   },
   {
    "duration": 93,
    "start_time": "2024-12-26T02:41:13.711Z"
   },
   {
    "duration": 4,
    "start_time": "2024-12-26T02:41:13.806Z"
   },
   {
    "duration": 210,
    "start_time": "2024-12-26T02:41:13.812Z"
   },
   {
    "duration": 7,
    "start_time": "2024-12-26T02:41:14.024Z"
   },
   {
    "duration": 5,
    "start_time": "2024-12-26T02:41:14.032Z"
   },
   {
    "duration": 5,
    "start_time": "2024-12-26T02:41:14.039Z"
   },
   {
    "duration": 6,
    "start_time": "2024-12-26T02:41:14.046Z"
   },
   {
    "duration": 34,
    "start_time": "2024-12-26T02:41:14.053Z"
   },
   {
    "duration": 6,
    "start_time": "2024-12-26T02:41:14.088Z"
   },
   {
    "duration": 5,
    "start_time": "2024-12-26T02:41:14.095Z"
   },
   {
    "duration": 6,
    "start_time": "2024-12-26T02:41:14.101Z"
   },
   {
    "duration": 6,
    "start_time": "2024-12-26T02:41:14.108Z"
   },
   {
    "duration": 5,
    "start_time": "2024-12-26T02:41:14.116Z"
   },
   {
    "duration": 7,
    "start_time": "2024-12-26T02:41:14.123Z"
   },
   {
    "duration": 5,
    "start_time": "2024-12-26T02:41:14.132Z"
   },
   {
    "duration": 51,
    "start_time": "2024-12-26T02:41:14.139Z"
   },
   {
    "duration": 291,
    "start_time": "2024-12-26T02:41:14.191Z"
   },
   {
    "duration": 0,
    "start_time": "2024-12-26T02:41:14.487Z"
   },
   {
    "duration": 0,
    "start_time": "2024-12-26T02:41:14.488Z"
   },
   {
    "duration": 0,
    "start_time": "2024-12-26T02:41:14.489Z"
   },
   {
    "duration": 168,
    "start_time": "2024-12-26T22:04:54.920Z"
   },
   {
    "duration": 2788,
    "start_time": "2024-12-26T22:05:00.640Z"
   },
   {
    "duration": 34,
    "start_time": "2024-12-26T22:05:03.430Z"
   },
   {
    "duration": 11,
    "start_time": "2024-12-26T22:05:03.466Z"
   },
   {
    "duration": 5,
    "start_time": "2024-12-26T22:05:03.479Z"
   },
   {
    "duration": 13,
    "start_time": "2024-12-26T22:05:03.486Z"
   },
   {
    "duration": 24,
    "start_time": "2024-12-26T22:05:03.501Z"
   },
   {
    "duration": 4,
    "start_time": "2024-12-26T22:05:03.527Z"
   },
   {
    "duration": 11,
    "start_time": "2024-12-26T22:05:03.533Z"
   },
   {
    "duration": 8,
    "start_time": "2024-12-26T22:05:03.545Z"
   },
   {
    "duration": 5,
    "start_time": "2024-12-26T22:05:03.556Z"
   },
   {
    "duration": 6,
    "start_time": "2024-12-26T22:05:03.562Z"
   },
   {
    "duration": 10,
    "start_time": "2024-12-26T22:05:03.569Z"
   },
   {
    "duration": 45,
    "start_time": "2024-12-26T22:05:03.581Z"
   },
   {
    "duration": 8,
    "start_time": "2024-12-26T22:05:03.628Z"
   },
   {
    "duration": 5,
    "start_time": "2024-12-26T22:05:03.638Z"
   },
   {
    "duration": 4,
    "start_time": "2024-12-26T22:05:03.645Z"
   },
   {
    "duration": 4,
    "start_time": "2024-12-26T22:05:03.651Z"
   },
   {
    "duration": 3,
    "start_time": "2024-12-26T22:05:03.657Z"
   },
   {
    "duration": 3,
    "start_time": "2024-12-26T22:05:03.662Z"
   },
   {
    "duration": 6,
    "start_time": "2024-12-26T22:05:03.666Z"
   },
   {
    "duration": 5,
    "start_time": "2024-12-26T22:05:03.673Z"
   },
   {
    "duration": 44,
    "start_time": "2024-12-26T22:05:03.680Z"
   },
   {
    "duration": 5,
    "start_time": "2024-12-26T22:05:03.726Z"
   },
   {
    "duration": 4,
    "start_time": "2024-12-26T22:05:03.733Z"
   },
   {
    "duration": 7,
    "start_time": "2024-12-26T22:05:03.739Z"
   },
   {
    "duration": 6,
    "start_time": "2024-12-26T22:05:03.748Z"
   },
   {
    "duration": 4,
    "start_time": "2024-12-26T22:05:03.756Z"
   },
   {
    "duration": 12,
    "start_time": "2024-12-26T22:05:03.765Z"
   },
   {
    "duration": 59,
    "start_time": "2024-12-26T22:05:03.779Z"
   },
   {
    "duration": 4,
    "start_time": "2024-12-26T22:05:03.840Z"
   },
   {
    "duration": 5,
    "start_time": "2024-12-26T22:05:03.845Z"
   },
   {
    "duration": 180,
    "start_time": "2024-12-26T22:05:03.852Z"
   },
   {
    "duration": 350,
    "start_time": "2024-12-26T22:05:04.035Z"
   },
   {
    "duration": 7,
    "start_time": "2024-12-26T22:05:04.387Z"
   },
   {
    "duration": 4,
    "start_time": "2024-12-26T22:05:04.396Z"
   },
   {
    "duration": 189,
    "start_time": "2024-12-26T22:05:04.402Z"
   },
   {
    "duration": 20,
    "start_time": "2024-12-26T22:05:04.593Z"
   },
   {
    "duration": 4,
    "start_time": "2024-12-26T22:05:04.625Z"
   },
   {
    "duration": 19,
    "start_time": "2024-12-26T22:05:04.631Z"
   },
   {
    "duration": 5,
    "start_time": "2024-12-26T22:05:04.652Z"
   },
   {
    "duration": 16,
    "start_time": "2024-12-26T22:05:04.660Z"
   },
   {
    "duration": 254,
    "start_time": "2024-12-26T22:05:04.678Z"
   },
   {
    "duration": 171,
    "start_time": "2024-12-26T22:05:04.935Z"
   },
   {
    "duration": 17,
    "start_time": "2024-12-26T22:05:05.108Z"
   },
   {
    "duration": 3,
    "start_time": "2024-12-26T22:05:05.126Z"
   },
   {
    "duration": 128,
    "start_time": "2024-12-26T22:05:05.130Z"
   },
   {
    "duration": 5,
    "start_time": "2024-12-26T22:05:05.259Z"
   },
   {
    "duration": 129,
    "start_time": "2024-12-26T22:05:05.265Z"
   },
   {
    "duration": 4,
    "start_time": "2024-12-26T22:05:05.396Z"
   },
   {
    "duration": 3,
    "start_time": "2024-12-26T22:05:05.402Z"
   },
   {
    "duration": 125,
    "start_time": "2024-12-26T22:05:05.407Z"
   },
   {
    "duration": 5,
    "start_time": "2024-12-26T22:05:05.534Z"
   },
   {
    "duration": 122,
    "start_time": "2024-12-26T22:05:05.540Z"
   },
   {
    "duration": 5,
    "start_time": "2024-12-26T22:05:05.664Z"
   },
   {
    "duration": 3,
    "start_time": "2024-12-26T22:05:05.671Z"
   },
   {
    "duration": 123,
    "start_time": "2024-12-26T22:05:05.676Z"
   },
   {
    "duration": 5,
    "start_time": "2024-12-26T22:05:05.800Z"
   },
   {
    "duration": 120,
    "start_time": "2024-12-26T22:05:05.806Z"
   },
   {
    "duration": 4,
    "start_time": "2024-12-26T22:05:05.928Z"
   },
   {
    "duration": 386,
    "start_time": "2024-12-26T22:05:05.934Z"
   },
   {
    "duration": 120,
    "start_time": "2024-12-26T22:05:06.324Z"
   },
   {
    "duration": 4,
    "start_time": "2024-12-26T22:05:06.446Z"
   },
   {
    "duration": 152,
    "start_time": "2024-12-26T22:05:06.452Z"
   },
   {
    "duration": 5,
    "start_time": "2024-12-26T22:05:06.606Z"
   },
   {
    "duration": 14,
    "start_time": "2024-12-26T22:05:06.614Z"
   },
   {
    "duration": 6,
    "start_time": "2024-12-26T22:05:06.630Z"
   },
   {
    "duration": 7,
    "start_time": "2024-12-26T22:05:06.637Z"
   },
   {
    "duration": 6,
    "start_time": "2024-12-26T22:05:06.646Z"
   },
   {
    "duration": 6,
    "start_time": "2024-12-26T22:05:06.653Z"
   },
   {
    "duration": 6,
    "start_time": "2024-12-26T22:05:06.661Z"
   },
   {
    "duration": 6,
    "start_time": "2024-12-26T22:05:06.668Z"
   },
   {
    "duration": 53,
    "start_time": "2024-12-26T22:05:06.675Z"
   },
   {
    "duration": 7,
    "start_time": "2024-12-26T22:05:06.729Z"
   },
   {
    "duration": 7,
    "start_time": "2024-12-26T22:05:06.738Z"
   },
   {
    "duration": 7,
    "start_time": "2024-12-26T22:05:06.747Z"
   },
   {
    "duration": 6,
    "start_time": "2024-12-26T22:05:06.757Z"
   },
   {
    "duration": 9,
    "start_time": "2024-12-26T22:05:06.765Z"
   },
   {
    "duration": 6,
    "start_time": "2024-12-26T22:05:06.776Z"
   },
   {
    "duration": 4,
    "start_time": "2024-12-26T22:05:06.824Z"
   },
   {
    "duration": 6,
    "start_time": "2024-12-26T22:05:06.832Z"
   },
   {
    "duration": 5,
    "start_time": "2024-12-26T22:15:45.515Z"
   },
   {
    "duration": 120,
    "start_time": "2024-12-26T22:15:46.724Z"
   },
   {
    "duration": 4,
    "start_time": "2024-12-26T22:15:53.560Z"
   },
   {
    "duration": 115,
    "start_time": "2024-12-26T22:16:09.728Z"
   },
   {
    "duration": 5,
    "start_time": "2024-12-26T22:16:11.124Z"
   },
   {
    "duration": 5,
    "start_time": "2024-12-26T22:16:48.103Z"
   },
   {
    "duration": 119,
    "start_time": "2024-12-26T22:16:48.799Z"
   },
   {
    "duration": 4,
    "start_time": "2024-12-26T22:16:55.111Z"
   },
   {
    "duration": 866,
    "start_time": "2024-12-26T22:16:59.959Z"
   },
   {
    "duration": 23,
    "start_time": "2024-12-26T22:17:00.827Z"
   },
   {
    "duration": 12,
    "start_time": "2024-12-26T22:17:00.852Z"
   },
   {
    "duration": 4,
    "start_time": "2024-12-26T22:17:00.865Z"
   },
   {
    "duration": 14,
    "start_time": "2024-12-26T22:17:00.871Z"
   },
   {
    "duration": 38,
    "start_time": "2024-12-26T22:17:00.886Z"
   },
   {
    "duration": 4,
    "start_time": "2024-12-26T22:17:00.926Z"
   },
   {
    "duration": 12,
    "start_time": "2024-12-26T22:17:00.931Z"
   },
   {
    "duration": 7,
    "start_time": "2024-12-26T22:17:00.945Z"
   },
   {
    "duration": 5,
    "start_time": "2024-12-26T22:17:00.955Z"
   },
   {
    "duration": 4,
    "start_time": "2024-12-26T22:17:00.961Z"
   },
   {
    "duration": 10,
    "start_time": "2024-12-26T22:17:00.967Z"
   },
   {
    "duration": 7,
    "start_time": "2024-12-26T22:17:00.978Z"
   },
   {
    "duration": 7,
    "start_time": "2024-12-26T22:17:01.025Z"
   },
   {
    "duration": 5,
    "start_time": "2024-12-26T22:17:01.033Z"
   },
   {
    "duration": 5,
    "start_time": "2024-12-26T22:17:01.040Z"
   },
   {
    "duration": 5,
    "start_time": "2024-12-26T22:17:01.046Z"
   },
   {
    "duration": 4,
    "start_time": "2024-12-26T22:17:01.052Z"
   },
   {
    "duration": 3,
    "start_time": "2024-12-26T22:17:01.059Z"
   },
   {
    "duration": 6,
    "start_time": "2024-12-26T22:17:01.063Z"
   },
   {
    "duration": 5,
    "start_time": "2024-12-26T22:17:01.070Z"
   },
   {
    "duration": 49,
    "start_time": "2024-12-26T22:17:01.076Z"
   },
   {
    "duration": 5,
    "start_time": "2024-12-26T22:17:01.126Z"
   },
   {
    "duration": 4,
    "start_time": "2024-12-26T22:17:01.133Z"
   },
   {
    "duration": 7,
    "start_time": "2024-12-26T22:17:01.139Z"
   },
   {
    "duration": 6,
    "start_time": "2024-12-26T22:17:01.147Z"
   },
   {
    "duration": 3,
    "start_time": "2024-12-26T22:17:01.155Z"
   },
   {
    "duration": 23,
    "start_time": "2024-12-26T22:17:01.164Z"
   },
   {
    "duration": 49,
    "start_time": "2024-12-26T22:17:01.189Z"
   },
   {
    "duration": 4,
    "start_time": "2024-12-26T22:17:01.240Z"
   },
   {
    "duration": 4,
    "start_time": "2024-12-26T22:17:01.246Z"
   },
   {
    "duration": 178,
    "start_time": "2024-12-26T22:17:01.252Z"
   },
   {
    "duration": 392,
    "start_time": "2024-12-26T22:17:01.432Z"
   },
   {
    "duration": 8,
    "start_time": "2024-12-26T22:17:01.826Z"
   },
   {
    "duration": 4,
    "start_time": "2024-12-26T22:17:01.836Z"
   },
   {
    "duration": 198,
    "start_time": "2024-12-26T22:17:01.842Z"
   },
   {
    "duration": 20,
    "start_time": "2024-12-26T22:17:02.042Z"
   },
   {
    "duration": 4,
    "start_time": "2024-12-26T22:17:02.064Z"
   },
   {
    "duration": 19,
    "start_time": "2024-12-26T22:17:02.070Z"
   },
   {
    "duration": 4,
    "start_time": "2024-12-26T22:17:02.090Z"
   },
   {
    "duration": 45,
    "start_time": "2024-12-26T22:17:02.096Z"
   },
   {
    "duration": 190,
    "start_time": "2024-12-26T22:17:02.143Z"
   },
   {
    "duration": 178,
    "start_time": "2024-12-26T22:17:02.335Z"
   },
   {
    "duration": 285,
    "start_time": "2024-12-26T22:17:02.515Z"
   },
   {
    "duration": 0,
    "start_time": "2024-12-26T22:17:02.801Z"
   },
   {
    "duration": 0,
    "start_time": "2024-12-26T22:17:02.802Z"
   },
   {
    "duration": 0,
    "start_time": "2024-12-26T22:17:02.803Z"
   },
   {
    "duration": 0,
    "start_time": "2024-12-26T22:17:02.804Z"
   },
   {
    "duration": 0,
    "start_time": "2024-12-26T22:17:02.805Z"
   },
   {
    "duration": 0,
    "start_time": "2024-12-26T22:17:02.807Z"
   },
   {
    "duration": 0,
    "start_time": "2024-12-26T22:17:02.808Z"
   },
   {
    "duration": 0,
    "start_time": "2024-12-26T22:17:02.824Z"
   },
   {
    "duration": 0,
    "start_time": "2024-12-26T22:17:02.825Z"
   },
   {
    "duration": 0,
    "start_time": "2024-12-26T22:17:02.826Z"
   },
   {
    "duration": 0,
    "start_time": "2024-12-26T22:17:02.827Z"
   },
   {
    "duration": 0,
    "start_time": "2024-12-26T22:17:02.829Z"
   },
   {
    "duration": 0,
    "start_time": "2024-12-26T22:17:02.830Z"
   },
   {
    "duration": 0,
    "start_time": "2024-12-26T22:17:02.831Z"
   },
   {
    "duration": 0,
    "start_time": "2024-12-26T22:17:02.832Z"
   },
   {
    "duration": 0,
    "start_time": "2024-12-26T22:17:02.833Z"
   },
   {
    "duration": 0,
    "start_time": "2024-12-26T22:17:02.834Z"
   },
   {
    "duration": 0,
    "start_time": "2024-12-26T22:17:02.835Z"
   },
   {
    "duration": 0,
    "start_time": "2024-12-26T22:17:02.836Z"
   },
   {
    "duration": 0,
    "start_time": "2024-12-26T22:17:02.837Z"
   },
   {
    "duration": 0,
    "start_time": "2024-12-26T22:17:02.838Z"
   },
   {
    "duration": 0,
    "start_time": "2024-12-26T22:17:02.839Z"
   },
   {
    "duration": 0,
    "start_time": "2024-12-26T22:17:02.840Z"
   },
   {
    "duration": 0,
    "start_time": "2024-12-26T22:17:02.842Z"
   },
   {
    "duration": 0,
    "start_time": "2024-12-26T22:17:02.843Z"
   },
   {
    "duration": 0,
    "start_time": "2024-12-26T22:17:02.844Z"
   },
   {
    "duration": 0,
    "start_time": "2024-12-26T22:17:02.845Z"
   },
   {
    "duration": 0,
    "start_time": "2024-12-26T22:17:02.847Z"
   },
   {
    "duration": 0,
    "start_time": "2024-12-26T22:17:02.848Z"
   },
   {
    "duration": 0,
    "start_time": "2024-12-26T22:17:02.850Z"
   },
   {
    "duration": 0,
    "start_time": "2024-12-26T22:17:02.851Z"
   },
   {
    "duration": 0,
    "start_time": "2024-12-26T22:17:02.853Z"
   },
   {
    "duration": 0,
    "start_time": "2024-12-26T22:17:02.854Z"
   },
   {
    "duration": 0,
    "start_time": "2024-12-26T22:17:02.856Z"
   },
   {
    "duration": 0,
    "start_time": "2024-12-26T22:17:02.857Z"
   },
   {
    "duration": 0,
    "start_time": "2024-12-26T22:17:02.858Z"
   },
   {
    "duration": 5,
    "start_time": "2024-12-26T22:17:26.906Z"
   },
   {
    "duration": 109,
    "start_time": "2024-12-26T22:17:28.749Z"
   },
   {
    "duration": 5,
    "start_time": "2024-12-26T22:17:31.105Z"
   },
   {
    "duration": 5,
    "start_time": "2024-12-26T22:17:34.518Z"
   },
   {
    "duration": 119,
    "start_time": "2024-12-26T22:17:35.712Z"
   },
   {
    "duration": 5,
    "start_time": "2024-12-26T22:17:37.351Z"
   },
   {
    "duration": 5,
    "start_time": "2024-12-26T22:18:50.672Z"
   },
   {
    "duration": 104,
    "start_time": "2024-12-26T22:18:51.246Z"
   },
   {
    "duration": 4,
    "start_time": "2024-12-26T22:18:53.013Z"
   },
   {
    "duration": 4,
    "start_time": "2024-12-26T22:19:40.920Z"
   },
   {
    "duration": 111,
    "start_time": "2024-12-26T22:19:41.498Z"
   },
   {
    "duration": 4,
    "start_time": "2024-12-26T22:19:43.456Z"
   },
   {
    "duration": 5,
    "start_time": "2024-12-26T22:20:00.432Z"
   },
   {
    "duration": 112,
    "start_time": "2024-12-26T22:20:02.003Z"
   },
   {
    "duration": 4,
    "start_time": "2024-12-26T22:20:03.572Z"
   },
   {
    "duration": 904,
    "start_time": "2024-12-26T22:20:08.834Z"
   },
   {
    "duration": 25,
    "start_time": "2024-12-26T22:20:09.741Z"
   },
   {
    "duration": 11,
    "start_time": "2024-12-26T22:20:09.767Z"
   },
   {
    "duration": 4,
    "start_time": "2024-12-26T22:20:09.780Z"
   },
   {
    "duration": 14,
    "start_time": "2024-12-26T22:20:09.786Z"
   },
   {
    "duration": 32,
    "start_time": "2024-12-26T22:20:09.801Z"
   },
   {
    "duration": 5,
    "start_time": "2024-12-26T22:20:09.834Z"
   },
   {
    "duration": 12,
    "start_time": "2024-12-26T22:20:09.841Z"
   },
   {
    "duration": 7,
    "start_time": "2024-12-26T22:20:09.854Z"
   },
   {
    "duration": 5,
    "start_time": "2024-12-26T22:20:09.866Z"
   },
   {
    "duration": 5,
    "start_time": "2024-12-26T22:20:09.872Z"
   },
   {
    "duration": 58,
    "start_time": "2024-12-26T22:20:09.878Z"
   },
   {
    "duration": 6,
    "start_time": "2024-12-26T22:20:09.938Z"
   },
   {
    "duration": 7,
    "start_time": "2024-12-26T22:20:09.945Z"
   },
   {
    "duration": 5,
    "start_time": "2024-12-26T22:20:09.954Z"
   },
   {
    "duration": 4,
    "start_time": "2024-12-26T22:20:09.960Z"
   },
   {
    "duration": 4,
    "start_time": "2024-12-26T22:20:09.966Z"
   },
   {
    "duration": 3,
    "start_time": "2024-12-26T22:20:09.972Z"
   },
   {
    "duration": 4,
    "start_time": "2024-12-26T22:20:09.977Z"
   },
   {
    "duration": 5,
    "start_time": "2024-12-26T22:20:09.983Z"
   },
   {
    "duration": 6,
    "start_time": "2024-12-26T22:20:10.024Z"
   },
   {
    "duration": 4,
    "start_time": "2024-12-26T22:20:10.032Z"
   },
   {
    "duration": 5,
    "start_time": "2024-12-26T22:20:10.038Z"
   },
   {
    "duration": 5,
    "start_time": "2024-12-26T22:20:10.045Z"
   },
   {
    "duration": 6,
    "start_time": "2024-12-26T22:20:10.052Z"
   },
   {
    "duration": 6,
    "start_time": "2024-12-26T22:20:10.059Z"
   },
   {
    "duration": 3,
    "start_time": "2024-12-26T22:20:10.067Z"
   },
   {
    "duration": 50,
    "start_time": "2024-12-26T22:20:10.075Z"
   },
   {
    "duration": 18,
    "start_time": "2024-12-26T22:20:10.126Z"
   },
   {
    "duration": 4,
    "start_time": "2024-12-26T22:20:10.146Z"
   },
   {
    "duration": 4,
    "start_time": "2024-12-26T22:20:10.152Z"
   },
   {
    "duration": 182,
    "start_time": "2024-12-26T22:20:10.158Z"
   },
   {
    "duration": 398,
    "start_time": "2024-12-26T22:20:10.342Z"
   },
   {
    "duration": 7,
    "start_time": "2024-12-26T22:20:10.742Z"
   },
   {
    "duration": 4,
    "start_time": "2024-12-26T22:20:10.751Z"
   },
   {
    "duration": 187,
    "start_time": "2024-12-26T22:20:10.756Z"
   },
   {
    "duration": 21,
    "start_time": "2024-12-26T22:20:10.945Z"
   },
   {
    "duration": 5,
    "start_time": "2024-12-26T22:20:10.968Z"
   },
   {
    "duration": 19,
    "start_time": "2024-12-26T22:20:10.974Z"
   },
   {
    "duration": 32,
    "start_time": "2024-12-26T22:20:10.994Z"
   },
   {
    "duration": 20,
    "start_time": "2024-12-26T22:20:11.028Z"
   },
   {
    "duration": 191,
    "start_time": "2024-12-26T22:20:11.051Z"
   },
   {
    "duration": 185,
    "start_time": "2024-12-26T22:20:11.244Z"
   },
   {
    "duration": 5,
    "start_time": "2024-12-26T22:20:11.431Z"
   },
   {
    "duration": 118,
    "start_time": "2024-12-26T22:20:11.439Z"
   },
   {
    "duration": 5,
    "start_time": "2024-12-26T22:20:11.559Z"
   },
   {
    "duration": 4,
    "start_time": "2024-12-26T22:20:11.566Z"
   },
   {
    "duration": 138,
    "start_time": "2024-12-26T22:20:11.572Z"
   },
   {
    "duration": 14,
    "start_time": "2024-12-26T22:20:11.712Z"
   },
   {
    "duration": 4,
    "start_time": "2024-12-26T22:20:11.728Z"
   },
   {
    "duration": 120,
    "start_time": "2024-12-26T22:20:11.733Z"
   },
   {
    "duration": 4,
    "start_time": "2024-12-26T22:20:11.855Z"
   },
   {
    "duration": 4,
    "start_time": "2024-12-26T22:20:11.861Z"
   },
   {
    "duration": 187,
    "start_time": "2024-12-26T22:20:11.867Z"
   },
   {
    "duration": 5,
    "start_time": "2024-12-26T22:20:12.057Z"
   },
   {
    "duration": 244,
    "start_time": "2024-12-26T22:20:12.064Z"
   },
   {
    "duration": 0,
    "start_time": "2024-12-26T22:20:12.310Z"
   },
   {
    "duration": 0,
    "start_time": "2024-12-26T22:20:12.311Z"
   },
   {
    "duration": 0,
    "start_time": "2024-12-26T22:20:12.312Z"
   },
   {
    "duration": 0,
    "start_time": "2024-12-26T22:20:12.324Z"
   },
   {
    "duration": 0,
    "start_time": "2024-12-26T22:20:12.325Z"
   },
   {
    "duration": 0,
    "start_time": "2024-12-26T22:20:12.327Z"
   },
   {
    "duration": 0,
    "start_time": "2024-12-26T22:20:12.329Z"
   },
   {
    "duration": 0,
    "start_time": "2024-12-26T22:20:12.330Z"
   },
   {
    "duration": 0,
    "start_time": "2024-12-26T22:20:12.331Z"
   },
   {
    "duration": 0,
    "start_time": "2024-12-26T22:20:12.332Z"
   },
   {
    "duration": 0,
    "start_time": "2024-12-26T22:20:12.334Z"
   },
   {
    "duration": 0,
    "start_time": "2024-12-26T22:20:12.334Z"
   },
   {
    "duration": 0,
    "start_time": "2024-12-26T22:20:12.336Z"
   },
   {
    "duration": 0,
    "start_time": "2024-12-26T22:20:12.337Z"
   },
   {
    "duration": 0,
    "start_time": "2024-12-26T22:20:12.338Z"
   },
   {
    "duration": 0,
    "start_time": "2024-12-26T22:20:12.339Z"
   },
   {
    "duration": 1,
    "start_time": "2024-12-26T22:20:12.340Z"
   },
   {
    "duration": 0,
    "start_time": "2024-12-26T22:20:12.342Z"
   },
   {
    "duration": 0,
    "start_time": "2024-12-26T22:20:12.344Z"
   },
   {
    "duration": 0,
    "start_time": "2024-12-26T22:20:12.346Z"
   },
   {
    "duration": 0,
    "start_time": "2024-12-26T22:20:12.348Z"
   },
   {
    "duration": 0,
    "start_time": "2024-12-26T22:20:12.350Z"
   },
   {
    "duration": 0,
    "start_time": "2024-12-26T22:20:12.351Z"
   },
   {
    "duration": 0,
    "start_time": "2024-12-26T22:20:12.353Z"
   },
   {
    "duration": 0,
    "start_time": "2024-12-26T22:20:12.354Z"
   },
   {
    "duration": 5,
    "start_time": "2024-12-26T22:22:19.078Z"
   },
   {
    "duration": 107,
    "start_time": "2024-12-26T22:22:19.694Z"
   },
   {
    "duration": 6,
    "start_time": "2024-12-26T22:22:21.138Z"
   },
   {
    "duration": 5,
    "start_time": "2024-12-26T22:22:52.980Z"
   },
   {
    "duration": 104,
    "start_time": "2024-12-26T22:22:53.635Z"
   },
   {
    "duration": 5,
    "start_time": "2024-12-26T22:22:59.634Z"
   },
   {
    "duration": 885,
    "start_time": "2024-12-26T22:24:31.437Z"
   },
   {
    "duration": 25,
    "start_time": "2024-12-26T22:24:32.324Z"
   },
   {
    "duration": 11,
    "start_time": "2024-12-26T22:24:32.350Z"
   },
   {
    "duration": 4,
    "start_time": "2024-12-26T22:24:32.363Z"
   },
   {
    "duration": 13,
    "start_time": "2024-12-26T22:24:32.369Z"
   },
   {
    "duration": 10,
    "start_time": "2024-12-26T22:24:32.384Z"
   },
   {
    "duration": 31,
    "start_time": "2024-12-26T22:24:32.396Z"
   },
   {
    "duration": 11,
    "start_time": "2024-12-26T22:24:32.430Z"
   },
   {
    "duration": 8,
    "start_time": "2024-12-26T22:24:32.442Z"
   },
   {
    "duration": 6,
    "start_time": "2024-12-26T22:24:32.451Z"
   },
   {
    "duration": 4,
    "start_time": "2024-12-26T22:24:32.458Z"
   },
   {
    "duration": 10,
    "start_time": "2024-12-26T22:24:32.463Z"
   },
   {
    "duration": 6,
    "start_time": "2024-12-26T22:24:32.475Z"
   },
   {
    "duration": 44,
    "start_time": "2024-12-26T22:24:32.484Z"
   },
   {
    "duration": 5,
    "start_time": "2024-12-26T22:24:32.530Z"
   },
   {
    "duration": 4,
    "start_time": "2024-12-26T22:24:32.536Z"
   },
   {
    "duration": 4,
    "start_time": "2024-12-26T22:24:32.542Z"
   },
   {
    "duration": 2,
    "start_time": "2024-12-26T22:24:32.548Z"
   },
   {
    "duration": 5,
    "start_time": "2024-12-26T22:24:32.553Z"
   },
   {
    "duration": 6,
    "start_time": "2024-12-26T22:24:32.559Z"
   },
   {
    "duration": 5,
    "start_time": "2024-12-26T22:24:32.566Z"
   },
   {
    "duration": 4,
    "start_time": "2024-12-26T22:24:32.572Z"
   },
   {
    "duration": 49,
    "start_time": "2024-12-26T22:24:32.577Z"
   },
   {
    "duration": 4,
    "start_time": "2024-12-26T22:24:32.628Z"
   },
   {
    "duration": 7,
    "start_time": "2024-12-26T22:24:32.634Z"
   },
   {
    "duration": 6,
    "start_time": "2024-12-26T22:24:32.642Z"
   },
   {
    "duration": 4,
    "start_time": "2024-12-26T22:24:32.649Z"
   },
   {
    "duration": 12,
    "start_time": "2024-12-26T22:24:32.655Z"
   },
   {
    "duration": 56,
    "start_time": "2024-12-26T22:24:32.669Z"
   },
   {
    "duration": 5,
    "start_time": "2024-12-26T22:24:32.726Z"
   },
   {
    "duration": 4,
    "start_time": "2024-12-26T22:24:32.733Z"
   },
   {
    "duration": 171,
    "start_time": "2024-12-26T22:24:32.739Z"
   },
   {
    "duration": 391,
    "start_time": "2024-12-26T22:24:32.912Z"
   },
   {
    "duration": 7,
    "start_time": "2024-12-26T22:24:33.307Z"
   },
   {
    "duration": 3,
    "start_time": "2024-12-26T22:24:33.316Z"
   },
   {
    "duration": 186,
    "start_time": "2024-12-26T22:24:33.321Z"
   },
   {
    "duration": 25,
    "start_time": "2024-12-26T22:24:33.509Z"
   },
   {
    "duration": 4,
    "start_time": "2024-12-26T22:24:33.536Z"
   },
   {
    "duration": 18,
    "start_time": "2024-12-26T22:24:33.543Z"
   },
   {
    "duration": 3,
    "start_time": "2024-12-26T22:24:33.563Z"
   },
   {
    "duration": 17,
    "start_time": "2024-12-26T22:24:33.572Z"
   },
   {
    "duration": 212,
    "start_time": "2024-12-26T22:24:33.590Z"
   },
   {
    "duration": 196,
    "start_time": "2024-12-26T22:24:33.804Z"
   },
   {
    "duration": 4,
    "start_time": "2024-12-26T22:24:34.002Z"
   },
   {
    "duration": 128,
    "start_time": "2024-12-26T22:24:34.008Z"
   },
   {
    "duration": 4,
    "start_time": "2024-12-26T22:24:34.138Z"
   },
   {
    "duration": 4,
    "start_time": "2024-12-26T22:24:34.144Z"
   },
   {
    "duration": 137,
    "start_time": "2024-12-26T22:24:34.150Z"
   },
   {
    "duration": 4,
    "start_time": "2024-12-26T22:24:34.289Z"
   },
   {
    "duration": 4,
    "start_time": "2024-12-26T22:24:34.295Z"
   },
   {
    "duration": 121,
    "start_time": "2024-12-26T22:24:34.300Z"
   },
   {
    "duration": 5,
    "start_time": "2024-12-26T22:24:34.424Z"
   },
   {
    "duration": 5,
    "start_time": "2024-12-26T22:24:34.431Z"
   },
   {
    "duration": 189,
    "start_time": "2024-12-26T22:24:34.437Z"
   },
   {
    "duration": 5,
    "start_time": "2024-12-26T22:24:34.627Z"
   },
   {
    "duration": 5,
    "start_time": "2024-12-26T22:24:34.633Z"
   },
   {
    "duration": 118,
    "start_time": "2024-12-26T22:24:34.639Z"
   },
   {
    "duration": 5,
    "start_time": "2024-12-26T22:24:34.759Z"
   },
   {
    "duration": 4,
    "start_time": "2024-12-26T22:24:34.765Z"
   },
   {
    "duration": 124,
    "start_time": "2024-12-26T22:24:34.771Z"
   },
   {
    "duration": 5,
    "start_time": "2024-12-26T22:24:34.897Z"
   },
   {
    "duration": 3,
    "start_time": "2024-12-26T22:24:34.904Z"
   },
   {
    "duration": 147,
    "start_time": "2024-12-26T22:24:34.909Z"
   },
   {
    "duration": 8,
    "start_time": "2024-12-26T22:24:35.058Z"
   },
   {
    "duration": 6,
    "start_time": "2024-12-26T22:24:35.068Z"
   },
   {
    "duration": 6,
    "start_time": "2024-12-26T22:24:35.076Z"
   },
   {
    "duration": 6,
    "start_time": "2024-12-26T22:24:35.084Z"
   },
   {
    "duration": 33,
    "start_time": "2024-12-26T22:24:35.093Z"
   },
   {
    "duration": 5,
    "start_time": "2024-12-26T22:24:35.128Z"
   },
   {
    "duration": 5,
    "start_time": "2024-12-26T22:24:35.134Z"
   },
   {
    "duration": 6,
    "start_time": "2024-12-26T22:24:35.141Z"
   },
   {
    "duration": 6,
    "start_time": "2024-12-26T22:24:35.148Z"
   },
   {
    "duration": 6,
    "start_time": "2024-12-26T22:24:35.156Z"
   },
   {
    "duration": 5,
    "start_time": "2024-12-26T22:24:35.164Z"
   },
   {
    "duration": 6,
    "start_time": "2024-12-26T22:24:35.171Z"
   },
   {
    "duration": 51,
    "start_time": "2024-12-26T22:24:35.178Z"
   },
   {
    "duration": 7,
    "start_time": "2024-12-26T22:24:35.231Z"
   },
   {
    "duration": 6,
    "start_time": "2024-12-26T22:24:35.239Z"
   },
   {
    "duration": 3,
    "start_time": "2024-12-26T22:24:35.247Z"
   },
   {
    "duration": 4,
    "start_time": "2024-12-26T22:24:35.251Z"
   },
   {
    "duration": 884,
    "start_time": "2024-12-27T03:13:41.958Z"
   },
   {
    "duration": 37,
    "start_time": "2024-12-27T03:13:42.844Z"
   },
   {
    "duration": 14,
    "start_time": "2024-12-27T03:13:42.883Z"
   },
   {
    "duration": 4,
    "start_time": "2024-12-27T03:13:42.899Z"
   },
   {
    "duration": 15,
    "start_time": "2024-12-27T03:13:42.905Z"
   },
   {
    "duration": 11,
    "start_time": "2024-12-27T03:13:42.922Z"
   },
   {
    "duration": 4,
    "start_time": "2024-12-27T03:13:42.935Z"
   },
   {
    "duration": 13,
    "start_time": "2024-12-27T03:13:42.940Z"
   },
   {
    "duration": 37,
    "start_time": "2024-12-27T03:13:42.954Z"
   },
   {
    "duration": 6,
    "start_time": "2024-12-27T03:13:42.994Z"
   },
   {
    "duration": 3,
    "start_time": "2024-12-27T03:13:43.002Z"
   },
   {
    "duration": 10,
    "start_time": "2024-12-27T03:13:43.007Z"
   },
   {
    "duration": 9,
    "start_time": "2024-12-27T03:13:43.019Z"
   },
   {
    "duration": 7,
    "start_time": "2024-12-27T03:13:43.030Z"
   },
   {
    "duration": 5,
    "start_time": "2024-12-27T03:13:43.039Z"
   },
   {
    "duration": 5,
    "start_time": "2024-12-27T03:13:43.086Z"
   },
   {
    "duration": 5,
    "start_time": "2024-12-27T03:13:43.093Z"
   },
   {
    "duration": 3,
    "start_time": "2024-12-27T03:13:43.100Z"
   },
   {
    "duration": 11,
    "start_time": "2024-12-27T03:13:43.105Z"
   },
   {
    "duration": 5,
    "start_time": "2024-12-27T03:13:43.118Z"
   },
   {
    "duration": 4,
    "start_time": "2024-12-27T03:13:43.124Z"
   },
   {
    "duration": 7,
    "start_time": "2024-12-27T03:13:43.130Z"
   },
   {
    "duration": 9,
    "start_time": "2024-12-27T03:13:43.139Z"
   },
   {
    "duration": 39,
    "start_time": "2024-12-27T03:13:43.150Z"
   },
   {
    "duration": 10,
    "start_time": "2024-12-27T03:13:43.192Z"
   },
   {
    "duration": 6,
    "start_time": "2024-12-27T03:13:43.204Z"
   },
   {
    "duration": 3,
    "start_time": "2024-12-27T03:13:43.212Z"
   },
   {
    "duration": 15,
    "start_time": "2024-12-27T03:13:43.221Z"
   },
   {
    "duration": 19,
    "start_time": "2024-12-27T03:13:43.237Z"
   },
   {
    "duration": 5,
    "start_time": "2024-12-27T03:13:43.287Z"
   },
   {
    "duration": 6,
    "start_time": "2024-12-27T03:13:43.294Z"
   },
   {
    "duration": 191,
    "start_time": "2024-12-27T03:13:43.301Z"
   },
   {
    "duration": 424,
    "start_time": "2024-12-27T03:13:43.494Z"
   },
   {
    "duration": 9,
    "start_time": "2024-12-27T03:13:43.920Z"
   },
   {
    "duration": 5,
    "start_time": "2024-12-27T03:13:43.930Z"
   },
   {
    "duration": 225,
    "start_time": "2024-12-27T03:13:43.936Z"
   },
   {
    "duration": 30,
    "start_time": "2024-12-27T03:13:44.163Z"
   },
   {
    "duration": 7,
    "start_time": "2024-12-27T03:13:44.194Z"
   },
   {
    "duration": 23,
    "start_time": "2024-12-27T03:13:44.202Z"
   },
   {
    "duration": 4,
    "start_time": "2024-12-27T03:13:44.226Z"
   },
   {
    "duration": 22,
    "start_time": "2024-12-27T03:13:44.232Z"
   },
   {
    "duration": 203,
    "start_time": "2024-12-27T03:13:44.257Z"
   },
   {
    "duration": 333,
    "start_time": "2024-12-27T03:13:44.462Z"
   },
   {
    "duration": 6,
    "start_time": "2024-12-27T03:13:44.797Z"
   },
   {
    "duration": 214,
    "start_time": "2024-12-27T03:13:44.805Z"
   },
   {
    "duration": 6,
    "start_time": "2024-12-27T03:13:45.021Z"
   },
   {
    "duration": 60,
    "start_time": "2024-12-27T03:13:45.029Z"
   },
   {
    "duration": 228,
    "start_time": "2024-12-27T03:13:45.091Z"
   },
   {
    "duration": 5,
    "start_time": "2024-12-27T03:13:45.321Z"
   },
   {
    "duration": 4,
    "start_time": "2024-12-27T03:13:45.327Z"
   },
   {
    "duration": 247,
    "start_time": "2024-12-27T03:13:45.386Z"
   },
   {
    "duration": 5,
    "start_time": "2024-12-27T03:13:45.687Z"
   },
   {
    "duration": 4,
    "start_time": "2024-12-27T03:13:45.694Z"
   },
   {
    "duration": 505,
    "start_time": "2024-12-27T03:13:45.700Z"
   },
   {
    "duration": 5,
    "start_time": "2024-12-27T03:13:46.207Z"
   },
   {
    "duration": 5,
    "start_time": "2024-12-27T03:13:46.214Z"
   },
   {
    "duration": 146,
    "start_time": "2024-12-27T03:13:46.220Z"
   },
   {
    "duration": 5,
    "start_time": "2024-12-27T03:13:46.368Z"
   },
   {
    "duration": 12,
    "start_time": "2024-12-27T03:13:46.375Z"
   },
   {
    "duration": 236,
    "start_time": "2024-12-27T03:13:46.388Z"
   },
   {
    "duration": 60,
    "start_time": "2024-12-27T03:13:46.626Z"
   },
   {
    "duration": 4,
    "start_time": "2024-12-27T03:13:46.689Z"
   },
   {
    "duration": 418,
    "start_time": "2024-12-27T03:13:46.695Z"
   },
   {
    "duration": 6,
    "start_time": "2024-12-27T03:13:47.115Z"
   },
   {
    "duration": 6,
    "start_time": "2024-12-27T03:13:47.123Z"
   },
   {
    "duration": 60,
    "start_time": "2024-12-27T03:13:47.131Z"
   },
   {
    "duration": 6,
    "start_time": "2024-12-27T03:13:47.193Z"
   },
   {
    "duration": 5,
    "start_time": "2024-12-27T03:13:47.201Z"
   },
   {
    "duration": 5,
    "start_time": "2024-12-27T03:13:47.208Z"
   },
   {
    "duration": 6,
    "start_time": "2024-12-27T03:13:47.215Z"
   },
   {
    "duration": 6,
    "start_time": "2024-12-27T03:13:47.222Z"
   },
   {
    "duration": 59,
    "start_time": "2024-12-27T03:13:47.231Z"
   },
   {
    "duration": 6,
    "start_time": "2024-12-27T03:13:47.292Z"
   },
   {
    "duration": 7,
    "start_time": "2024-12-27T03:13:47.300Z"
   },
   {
    "duration": 6,
    "start_time": "2024-12-27T03:13:47.309Z"
   },
   {
    "duration": 6,
    "start_time": "2024-12-27T03:13:47.317Z"
   },
   {
    "duration": 62,
    "start_time": "2024-12-27T03:13:47.325Z"
   },
   {
    "duration": 6,
    "start_time": "2024-12-27T03:13:47.389Z"
   },
   {
    "duration": 3,
    "start_time": "2024-12-27T03:13:47.397Z"
   },
   {
    "duration": 3,
    "start_time": "2024-12-27T03:13:47.402Z"
   },
   {
    "duration": 7,
    "start_time": "2024-12-27T03:14:05.688Z"
   },
   {
    "duration": 2559,
    "start_time": "2024-12-30T22:27:42.938Z"
   },
   {
    "duration": 35,
    "start_time": "2024-12-30T22:27:45.499Z"
   },
   {
    "duration": 12,
    "start_time": "2024-12-30T22:27:45.538Z"
   },
   {
    "duration": 4,
    "start_time": "2024-12-30T22:27:45.553Z"
   },
   {
    "duration": 16,
    "start_time": "2024-12-30T22:27:45.559Z"
   },
   {
    "duration": 14,
    "start_time": "2024-12-30T22:27:45.578Z"
   },
   {
    "duration": 5,
    "start_time": "2024-12-30T22:27:45.594Z"
   },
   {
    "duration": 43,
    "start_time": "2024-12-30T22:27:45.601Z"
   },
   {
    "duration": 7,
    "start_time": "2024-12-30T22:27:45.645Z"
   },
   {
    "duration": 5,
    "start_time": "2024-12-30T22:27:45.655Z"
   },
   {
    "duration": 4,
    "start_time": "2024-12-30T22:27:45.662Z"
   },
   {
    "duration": 10,
    "start_time": "2024-12-30T22:27:45.667Z"
   },
   {
    "duration": 5,
    "start_time": "2024-12-30T22:27:45.680Z"
   },
   {
    "duration": 8,
    "start_time": "2024-12-30T22:27:45.687Z"
   },
   {
    "duration": 5,
    "start_time": "2024-12-30T22:27:45.696Z"
   },
   {
    "duration": 42,
    "start_time": "2024-12-30T22:27:45.702Z"
   },
   {
    "duration": 3,
    "start_time": "2024-12-30T22:27:45.745Z"
   },
   {
    "duration": 3,
    "start_time": "2024-12-30T22:27:45.751Z"
   },
   {
    "duration": 3,
    "start_time": "2024-12-30T22:27:45.756Z"
   },
   {
    "duration": 4,
    "start_time": "2024-12-30T22:27:45.761Z"
   },
   {
    "duration": 4,
    "start_time": "2024-12-30T22:27:45.767Z"
   },
   {
    "duration": 4,
    "start_time": "2024-12-30T22:27:45.772Z"
   },
   {
    "duration": 5,
    "start_time": "2024-12-30T22:27:45.777Z"
   },
   {
    "duration": 5,
    "start_time": "2024-12-30T22:27:45.783Z"
   },
   {
    "duration": 56,
    "start_time": "2024-12-30T22:27:45.789Z"
   },
   {
    "duration": 6,
    "start_time": "2024-12-30T22:27:45.846Z"
   },
   {
    "duration": 4,
    "start_time": "2024-12-30T22:27:45.853Z"
   },
   {
    "duration": 12,
    "start_time": "2024-12-30T22:27:45.863Z"
   },
   {
    "duration": 18,
    "start_time": "2024-12-30T22:27:45.876Z"
   },
   {
    "duration": 4,
    "start_time": "2024-12-30T22:27:45.895Z"
   },
   {
    "duration": 4,
    "start_time": "2024-12-30T22:27:45.901Z"
   },
   {
    "duration": 162,
    "start_time": "2024-12-30T22:27:45.943Z"
   },
   {
    "duration": 353,
    "start_time": "2024-12-30T22:27:46.106Z"
   },
   {
    "duration": 10,
    "start_time": "2024-12-30T22:27:46.461Z"
   },
   {
    "duration": 5,
    "start_time": "2024-12-30T22:27:46.472Z"
   },
   {
    "duration": 187,
    "start_time": "2024-12-30T22:27:46.479Z"
   },
   {
    "duration": 19,
    "start_time": "2024-12-30T22:27:46.668Z"
   },
   {
    "duration": 4,
    "start_time": "2024-12-30T22:27:46.689Z"
   },
   {
    "duration": 17,
    "start_time": "2024-12-30T22:27:46.695Z"
   },
   {
    "duration": 3,
    "start_time": "2024-12-30T22:27:46.714Z"
   },
   {
    "duration": 17,
    "start_time": "2024-12-30T22:27:46.742Z"
   },
   {
    "duration": 234,
    "start_time": "2024-12-30T22:27:46.760Z"
   },
   {
    "duration": 173,
    "start_time": "2024-12-30T22:27:46.996Z"
   },
   {
    "duration": 4,
    "start_time": "2024-12-30T22:27:47.171Z"
   },
   {
    "duration": 123,
    "start_time": "2024-12-30T22:27:47.177Z"
   },
   {
    "duration": 4,
    "start_time": "2024-12-30T22:27:47.302Z"
   },
   {
    "duration": 5,
    "start_time": "2024-12-30T22:27:47.308Z"
   },
   {
    "duration": 136,
    "start_time": "2024-12-30T22:27:47.314Z"
   },
   {
    "duration": 4,
    "start_time": "2024-12-30T22:27:47.452Z"
   },
   {
    "duration": 5,
    "start_time": "2024-12-30T22:27:47.457Z"
   },
   {
    "duration": 119,
    "start_time": "2024-12-30T22:27:47.464Z"
   },
   {
    "duration": 4,
    "start_time": "2024-12-30T22:27:47.584Z"
   },
   {
    "duration": 4,
    "start_time": "2024-12-30T22:27:47.589Z"
   },
   {
    "duration": 132,
    "start_time": "2024-12-30T22:27:47.595Z"
   },
   {
    "duration": 4,
    "start_time": "2024-12-30T22:27:47.729Z"
   },
   {
    "duration": 11,
    "start_time": "2024-12-30T22:27:47.735Z"
   },
   {
    "duration": 122,
    "start_time": "2024-12-30T22:27:47.747Z"
   },
   {
    "duration": 7,
    "start_time": "2024-12-30T22:27:47.872Z"
   },
   {
    "duration": 4,
    "start_time": "2024-12-30T22:27:47.881Z"
   },
   {
    "duration": 119,
    "start_time": "2024-12-30T22:27:47.886Z"
   },
   {
    "duration": 6,
    "start_time": "2024-12-30T22:27:48.006Z"
   },
   {
    "duration": 4,
    "start_time": "2024-12-30T22:27:48.014Z"
   },
   {
    "duration": 149,
    "start_time": "2024-12-30T22:27:48.020Z"
   },
   {
    "duration": 5,
    "start_time": "2024-12-30T22:27:48.171Z"
   },
   {
    "duration": 5,
    "start_time": "2024-12-30T22:27:48.178Z"
   },
   {
    "duration": 5,
    "start_time": "2024-12-30T22:27:48.185Z"
   },
   {
    "duration": 5,
    "start_time": "2024-12-30T22:27:48.191Z"
   },
   {
    "duration": 6,
    "start_time": "2024-12-30T22:27:48.197Z"
   },
   {
    "duration": 40,
    "start_time": "2024-12-30T22:27:48.205Z"
   },
   {
    "duration": 5,
    "start_time": "2024-12-30T22:27:48.246Z"
   },
   {
    "duration": 5,
    "start_time": "2024-12-30T22:27:48.253Z"
   },
   {
    "duration": 6,
    "start_time": "2024-12-30T22:27:48.260Z"
   },
   {
    "duration": 6,
    "start_time": "2024-12-30T22:27:48.267Z"
   },
   {
    "duration": 5,
    "start_time": "2024-12-30T22:27:48.276Z"
   },
   {
    "duration": 6,
    "start_time": "2024-12-30T22:27:48.282Z"
   },
   {
    "duration": 5,
    "start_time": "2024-12-30T22:27:48.289Z"
   },
   {
    "duration": 46,
    "start_time": "2024-12-30T22:27:48.296Z"
   },
   {
    "duration": 7,
    "start_time": "2024-12-30T22:27:48.344Z"
   },
   {
    "duration": 3,
    "start_time": "2024-12-30T22:27:48.352Z"
   },
   {
    "duration": 3,
    "start_time": "2024-12-30T22:27:48.357Z"
   },
   {
    "duration": 2650,
    "start_time": "2025-01-23T05:12:08.854Z"
   },
   {
    "duration": 41,
    "start_time": "2025-01-23T05:12:11.507Z"
   },
   {
    "duration": 12,
    "start_time": "2025-01-23T05:12:11.549Z"
   },
   {
    "duration": 3,
    "start_time": "2025-01-23T05:12:11.564Z"
   },
   {
    "duration": 14,
    "start_time": "2025-01-23T05:12:11.569Z"
   },
   {
    "duration": 11,
    "start_time": "2025-01-23T05:12:11.585Z"
   },
   {
    "duration": 4,
    "start_time": "2025-01-23T05:12:11.598Z"
   },
   {
    "duration": 37,
    "start_time": "2025-01-23T05:12:11.604Z"
   },
   {
    "duration": 8,
    "start_time": "2025-01-23T05:12:11.643Z"
   },
   {
    "duration": 5,
    "start_time": "2025-01-23T05:12:11.654Z"
   },
   {
    "duration": 4,
    "start_time": "2025-01-23T05:12:11.661Z"
   },
   {
    "duration": 11,
    "start_time": "2025-01-23T05:12:11.667Z"
   },
   {
    "duration": 6,
    "start_time": "2025-01-23T05:12:11.680Z"
   },
   {
    "duration": 45,
    "start_time": "2025-01-23T05:12:11.687Z"
   },
   {
    "duration": 7,
    "start_time": "2025-01-23T05:12:11.734Z"
   },
   {
    "duration": 5,
    "start_time": "2025-01-23T05:12:11.742Z"
   },
   {
    "duration": 4,
    "start_time": "2025-01-23T05:12:11.749Z"
   },
   {
    "duration": 4,
    "start_time": "2025-01-23T05:12:11.755Z"
   },
   {
    "duration": 5,
    "start_time": "2025-01-23T05:12:11.761Z"
   },
   {
    "duration": 7,
    "start_time": "2025-01-23T05:12:11.767Z"
   },
   {
    "duration": 5,
    "start_time": "2025-01-23T05:12:11.779Z"
   },
   {
    "duration": 45,
    "start_time": "2025-01-23T05:12:11.786Z"
   },
   {
    "duration": 6,
    "start_time": "2025-01-23T05:12:11.833Z"
   },
   {
    "duration": 5,
    "start_time": "2025-01-23T05:12:11.840Z"
   },
   {
    "duration": 7,
    "start_time": "2025-01-23T05:12:11.847Z"
   },
   {
    "duration": 6,
    "start_time": "2025-01-23T05:12:11.855Z"
   },
   {
    "duration": 3,
    "start_time": "2025-01-23T05:12:11.863Z"
   },
   {
    "duration": 14,
    "start_time": "2025-01-23T05:12:11.872Z"
   },
   {
    "duration": 55,
    "start_time": "2025-01-23T05:12:11.888Z"
   },
   {
    "duration": 6,
    "start_time": "2025-01-23T05:12:11.945Z"
   },
   {
    "duration": 5,
    "start_time": "2025-01-23T05:12:11.953Z"
   },
   {
    "duration": 181,
    "start_time": "2025-01-23T05:12:11.964Z"
   },
   {
    "duration": 372,
    "start_time": "2025-01-23T05:12:12.147Z"
   },
   {
    "duration": 7,
    "start_time": "2025-01-23T05:12:12.522Z"
   },
   {
    "duration": 3,
    "start_time": "2025-01-23T05:12:12.531Z"
   },
   {
    "duration": 202,
    "start_time": "2025-01-23T05:12:12.536Z"
   },
   {
    "duration": 21,
    "start_time": "2025-01-23T05:12:12.740Z"
   },
   {
    "duration": 5,
    "start_time": "2025-01-23T05:12:12.762Z"
   },
   {
    "duration": 19,
    "start_time": "2025-01-23T05:12:12.769Z"
   },
   {
    "duration": 3,
    "start_time": "2025-01-23T05:12:12.791Z"
   },
   {
    "duration": 46,
    "start_time": "2025-01-23T05:12:12.796Z"
   },
   {
    "duration": 249,
    "start_time": "2025-01-23T05:12:12.844Z"
   },
   {
    "duration": 188,
    "start_time": "2025-01-23T05:12:13.095Z"
   },
   {
    "duration": 4,
    "start_time": "2025-01-23T05:12:13.285Z"
   },
   {
    "duration": 117,
    "start_time": "2025-01-23T05:12:13.291Z"
   },
   {
    "duration": 4,
    "start_time": "2025-01-23T05:12:13.410Z"
   },
   {
    "duration": 18,
    "start_time": "2025-01-23T05:12:13.416Z"
   },
   {
    "duration": 133,
    "start_time": "2025-01-23T05:12:13.436Z"
   },
   {
    "duration": 5,
    "start_time": "2025-01-23T05:12:13.571Z"
   },
   {
    "duration": 4,
    "start_time": "2025-01-23T05:12:13.578Z"
   },
   {
    "duration": 136,
    "start_time": "2025-01-23T05:12:13.583Z"
   },
   {
    "duration": 4,
    "start_time": "2025-01-23T05:12:13.721Z"
   },
   {
    "duration": 4,
    "start_time": "2025-01-23T05:12:13.731Z"
   },
   {
    "duration": 125,
    "start_time": "2025-01-23T05:12:13.736Z"
   },
   {
    "duration": 4,
    "start_time": "2025-01-23T05:12:13.863Z"
   },
   {
    "duration": 5,
    "start_time": "2025-01-23T05:12:13.869Z"
   },
   {
    "duration": 126,
    "start_time": "2025-01-23T05:12:13.875Z"
   },
   {
    "duration": 5,
    "start_time": "2025-01-23T05:12:14.003Z"
   },
   {
    "duration": 4,
    "start_time": "2025-01-23T05:12:14.010Z"
   },
   {
    "duration": 126,
    "start_time": "2025-01-23T05:12:14.015Z"
   },
   {
    "duration": 4,
    "start_time": "2025-01-23T05:12:14.143Z"
   },
   {
    "duration": 4,
    "start_time": "2025-01-23T05:12:14.149Z"
   },
   {
    "duration": 149,
    "start_time": "2025-01-23T05:12:14.155Z"
   },
   {
    "duration": 5,
    "start_time": "2025-01-23T05:12:14.306Z"
   },
   {
    "duration": 19,
    "start_time": "2025-01-23T05:12:14.313Z"
   },
   {
    "duration": 6,
    "start_time": "2025-01-23T05:12:14.333Z"
   },
   {
    "duration": 6,
    "start_time": "2025-01-23T05:12:14.341Z"
   },
   {
    "duration": 5,
    "start_time": "2025-01-23T05:12:14.348Z"
   },
   {
    "duration": 6,
    "start_time": "2025-01-23T05:12:14.355Z"
   },
   {
    "duration": 5,
    "start_time": "2025-01-23T05:12:14.363Z"
   },
   {
    "duration": 6,
    "start_time": "2025-01-23T05:12:14.370Z"
   },
   {
    "duration": 6,
    "start_time": "2025-01-23T05:12:14.377Z"
   },
   {
    "duration": 50,
    "start_time": "2025-01-23T05:12:14.385Z"
   },
   {
    "duration": 6,
    "start_time": "2025-01-23T05:12:14.436Z"
   },
   {
    "duration": 6,
    "start_time": "2025-01-23T05:12:14.443Z"
   },
   {
    "duration": 5,
    "start_time": "2025-01-23T05:12:14.451Z"
   },
   {
    "duration": 7,
    "start_time": "2025-01-23T05:12:14.458Z"
   },
   {
    "duration": 5,
    "start_time": "2025-01-23T05:12:14.466Z"
   },
   {
    "duration": 5,
    "start_time": "2025-01-23T05:12:14.473Z"
   },
   {
    "duration": 4,
    "start_time": "2025-01-23T05:12:14.479Z"
   }
  ],
  "kernelspec": {
   "display_name": "base",
   "language": "python",
   "name": "python3"
  },
  "language_info": {
   "codemirror_mode": {
    "name": "ipython",
    "version": 3
   },
   "file_extension": ".py",
   "mimetype": "text/x-python",
   "name": "python",
   "nbconvert_exporter": "python",
   "pygments_lexer": "ipython3",
   "version": "3.12.7"
  },
  "toc": {
   "base_numbering": 1,
   "nav_menu": {},
   "number_sections": true,
   "sideBar": true,
   "skip_h1_title": true,
   "title_cell": "Table of Contents",
   "title_sidebar": "Contents",
   "toc_cell": false,
   "toc_position": {
    "height": "calc(100% - 180px)",
    "left": "10px",
    "top": "150px",
    "width": "176.25px"
   },
   "toc_section_display": true,
   "toc_window_display": true
  }
 },
 "nbformat": 4,
 "nbformat_minor": 2
}
