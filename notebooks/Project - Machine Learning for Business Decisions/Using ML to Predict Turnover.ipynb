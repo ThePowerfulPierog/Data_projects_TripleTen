{
 "cells": [
  {
   "cell_type": "markdown",
   "metadata": {},
   "source": [
    "# Predicting Customer Turnover with Machine Learning Models"
   ]
  },
  {
   "cell_type": "markdown",
   "metadata": {},
   "source": [
    "## Introduction"
   ]
  },
  {
   "cell_type": "markdown",
   "metadata": {},
   "source": [
    "In this scenario we are working for Beta Bank. The bank has identified a problem: customers are leaving little by little, chipping away every month. The bankers figured out it’s cheaper to save the existing customers rather than to attract new ones.\n",
    "\n",
    "Our task is to predict whether a customer will leave the bank soon. Using the data on clients’ past behavior and termination of contracts with the bank, we must build a model that will accurately predict if a client is going to leave.  Our model must obtain an F1 score of at least 0.59 to pass.  We'll also measure the AUC-ROC metric of the final model.\n",
    "\n",
    "To complete this task, we'll first build and train a model without taking class balance into account.  Once our baseline is set, we'll attempt to fix the class imbalance and find a best model.  Finally, the model will be used on our test set."
   ]
  },
  {
   "cell_type": "markdown",
   "metadata": {},
   "source": [
    "We'll start by importing our necessary libraries and data:"
   ]
  },
  {
   "cell_type": "code",
   "execution_count": 1,
   "metadata": {},
   "outputs": [],
   "source": [
    "import numpy as np\n",
    "import pandas as pd\n",
    "from matplotlib import pyplot as plt\n",
    "import seaborn as sns\n",
    "from sklearn.model_selection import train_test_split\n",
    "from sklearn.tree import DecisionTreeClassifier\n",
    "from sklearn.ensemble import RandomForestClassifier\n",
    "from sklearn.linear_model import LogisticRegression\n",
    "from sklearn.preprocessing import StandardScaler\n",
    "from sklearn.metrics import f1_score, roc_curve, roc_auc_score, confusion_matrix, precision_score, recall_score, precision_recall_curve\n",
    "from sklearn.utils import shuffle"
   ]
  },
  {
   "cell_type": "code",
   "execution_count": null,
   "metadata": {},
   "outputs": [],
   "source": [
    "df = pd.read_csv('Churn.csv')"
   ]
  },
  {
   "cell_type": "markdown",
   "metadata": {},
   "source": [
    "## Data PreProcessing"
   ]
  },
  {
   "cell_type": "markdown",
   "metadata": {},
   "source": [
    "### First Look"
   ]
  },
  {
   "cell_type": "markdown",
   "metadata": {},
   "source": [
    "Now let's examine the data we have."
   ]
  },
  {
   "cell_type": "code",
   "execution_count": 3,
   "metadata": {},
   "outputs": [
    {
     "name": "stdout",
     "output_type": "stream",
     "text": [
      "<class 'pandas.core.frame.DataFrame'>\n",
      "RangeIndex: 10000 entries, 0 to 9999\n",
      "Data columns (total 14 columns):\n",
      " #   Column           Non-Null Count  Dtype  \n",
      "---  ------           --------------  -----  \n",
      " 0   RowNumber        10000 non-null  int64  \n",
      " 1   CustomerId       10000 non-null  int64  \n",
      " 2   Surname          10000 non-null  object \n",
      " 3   CreditScore      10000 non-null  int64  \n",
      " 4   Geography        10000 non-null  object \n",
      " 5   Gender           10000 non-null  object \n",
      " 6   Age              10000 non-null  int64  \n",
      " 7   Tenure           9091 non-null   float64\n",
      " 8   Balance          10000 non-null  float64\n",
      " 9   NumOfProducts    10000 non-null  int64  \n",
      " 10  HasCrCard        10000 non-null  int64  \n",
      " 11  IsActiveMember   10000 non-null  int64  \n",
      " 12  EstimatedSalary  10000 non-null  float64\n",
      " 13  Exited           10000 non-null  int64  \n",
      "dtypes: float64(3), int64(8), object(3)\n",
      "memory usage: 1.1+ MB\n"
     ]
    }
   ],
   "source": [
    "df.info()"
   ]
  },
  {
   "cell_type": "markdown",
   "metadata": {},
   "source": [
    "We notice that only one of our columns has missing values: `Tenure`.  Let's take a closure look at the information our DataFrame contains so that we may determine the best way to prepare our data."
   ]
  },
  {
   "cell_type": "code",
   "execution_count": 4,
   "metadata": {},
   "outputs": [
    {
     "data": {
      "text/html": [
       "<div>\n",
       "<style scoped>\n",
       "    .dataframe tbody tr th:only-of-type {\n",
       "        vertical-align: middle;\n",
       "    }\n",
       "\n",
       "    .dataframe tbody tr th {\n",
       "        vertical-align: top;\n",
       "    }\n",
       "\n",
       "    .dataframe thead th {\n",
       "        text-align: right;\n",
       "    }\n",
       "</style>\n",
       "<table border=\"1\" class=\"dataframe\">\n",
       "  <thead>\n",
       "    <tr style=\"text-align: right;\">\n",
       "      <th></th>\n",
       "      <th>RowNumber</th>\n",
       "      <th>CustomerId</th>\n",
       "      <th>Surname</th>\n",
       "      <th>CreditScore</th>\n",
       "      <th>Geography</th>\n",
       "      <th>Gender</th>\n",
       "      <th>Age</th>\n",
       "      <th>Tenure</th>\n",
       "      <th>Balance</th>\n",
       "      <th>NumOfProducts</th>\n",
       "      <th>HasCrCard</th>\n",
       "      <th>IsActiveMember</th>\n",
       "      <th>EstimatedSalary</th>\n",
       "      <th>Exited</th>\n",
       "    </tr>\n",
       "  </thead>\n",
       "  <tbody>\n",
       "    <tr>\n",
       "      <th>0</th>\n",
       "      <td>1</td>\n",
       "      <td>15634602</td>\n",
       "      <td>Hargrave</td>\n",
       "      <td>619</td>\n",
       "      <td>France</td>\n",
       "      <td>Female</td>\n",
       "      <td>42</td>\n",
       "      <td>2.0</td>\n",
       "      <td>0.00</td>\n",
       "      <td>1</td>\n",
       "      <td>1</td>\n",
       "      <td>1</td>\n",
       "      <td>101348.88</td>\n",
       "      <td>1</td>\n",
       "    </tr>\n",
       "    <tr>\n",
       "      <th>1</th>\n",
       "      <td>2</td>\n",
       "      <td>15647311</td>\n",
       "      <td>Hill</td>\n",
       "      <td>608</td>\n",
       "      <td>Spain</td>\n",
       "      <td>Female</td>\n",
       "      <td>41</td>\n",
       "      <td>1.0</td>\n",
       "      <td>83807.86</td>\n",
       "      <td>1</td>\n",
       "      <td>0</td>\n",
       "      <td>1</td>\n",
       "      <td>112542.58</td>\n",
       "      <td>0</td>\n",
       "    </tr>\n",
       "    <tr>\n",
       "      <th>2</th>\n",
       "      <td>3</td>\n",
       "      <td>15619304</td>\n",
       "      <td>Onio</td>\n",
       "      <td>502</td>\n",
       "      <td>France</td>\n",
       "      <td>Female</td>\n",
       "      <td>42</td>\n",
       "      <td>8.0</td>\n",
       "      <td>159660.80</td>\n",
       "      <td>3</td>\n",
       "      <td>1</td>\n",
       "      <td>0</td>\n",
       "      <td>113931.57</td>\n",
       "      <td>1</td>\n",
       "    </tr>\n",
       "    <tr>\n",
       "      <th>3</th>\n",
       "      <td>4</td>\n",
       "      <td>15701354</td>\n",
       "      <td>Boni</td>\n",
       "      <td>699</td>\n",
       "      <td>France</td>\n",
       "      <td>Female</td>\n",
       "      <td>39</td>\n",
       "      <td>1.0</td>\n",
       "      <td>0.00</td>\n",
       "      <td>2</td>\n",
       "      <td>0</td>\n",
       "      <td>0</td>\n",
       "      <td>93826.63</td>\n",
       "      <td>0</td>\n",
       "    </tr>\n",
       "    <tr>\n",
       "      <th>4</th>\n",
       "      <td>5</td>\n",
       "      <td>15737888</td>\n",
       "      <td>Mitchell</td>\n",
       "      <td>850</td>\n",
       "      <td>Spain</td>\n",
       "      <td>Female</td>\n",
       "      <td>43</td>\n",
       "      <td>2.0</td>\n",
       "      <td>125510.82</td>\n",
       "      <td>1</td>\n",
       "      <td>1</td>\n",
       "      <td>1</td>\n",
       "      <td>79084.10</td>\n",
       "      <td>0</td>\n",
       "    </tr>\n",
       "    <tr>\n",
       "      <th>5</th>\n",
       "      <td>6</td>\n",
       "      <td>15574012</td>\n",
       "      <td>Chu</td>\n",
       "      <td>645</td>\n",
       "      <td>Spain</td>\n",
       "      <td>Male</td>\n",
       "      <td>44</td>\n",
       "      <td>8.0</td>\n",
       "      <td>113755.78</td>\n",
       "      <td>2</td>\n",
       "      <td>1</td>\n",
       "      <td>0</td>\n",
       "      <td>149756.71</td>\n",
       "      <td>1</td>\n",
       "    </tr>\n",
       "    <tr>\n",
       "      <th>6</th>\n",
       "      <td>7</td>\n",
       "      <td>15592531</td>\n",
       "      <td>Bartlett</td>\n",
       "      <td>822</td>\n",
       "      <td>France</td>\n",
       "      <td>Male</td>\n",
       "      <td>50</td>\n",
       "      <td>7.0</td>\n",
       "      <td>0.00</td>\n",
       "      <td>2</td>\n",
       "      <td>1</td>\n",
       "      <td>1</td>\n",
       "      <td>10062.80</td>\n",
       "      <td>0</td>\n",
       "    </tr>\n",
       "    <tr>\n",
       "      <th>7</th>\n",
       "      <td>8</td>\n",
       "      <td>15656148</td>\n",
       "      <td>Obinna</td>\n",
       "      <td>376</td>\n",
       "      <td>Germany</td>\n",
       "      <td>Female</td>\n",
       "      <td>29</td>\n",
       "      <td>4.0</td>\n",
       "      <td>115046.74</td>\n",
       "      <td>4</td>\n",
       "      <td>1</td>\n",
       "      <td>0</td>\n",
       "      <td>119346.88</td>\n",
       "      <td>1</td>\n",
       "    </tr>\n",
       "    <tr>\n",
       "      <th>8</th>\n",
       "      <td>9</td>\n",
       "      <td>15792365</td>\n",
       "      <td>He</td>\n",
       "      <td>501</td>\n",
       "      <td>France</td>\n",
       "      <td>Male</td>\n",
       "      <td>44</td>\n",
       "      <td>4.0</td>\n",
       "      <td>142051.07</td>\n",
       "      <td>2</td>\n",
       "      <td>0</td>\n",
       "      <td>1</td>\n",
       "      <td>74940.50</td>\n",
       "      <td>0</td>\n",
       "    </tr>\n",
       "    <tr>\n",
       "      <th>9</th>\n",
       "      <td>10</td>\n",
       "      <td>15592389</td>\n",
       "      <td>H?</td>\n",
       "      <td>684</td>\n",
       "      <td>France</td>\n",
       "      <td>Male</td>\n",
       "      <td>27</td>\n",
       "      <td>2.0</td>\n",
       "      <td>134603.88</td>\n",
       "      <td>1</td>\n",
       "      <td>1</td>\n",
       "      <td>1</td>\n",
       "      <td>71725.73</td>\n",
       "      <td>0</td>\n",
       "    </tr>\n",
       "  </tbody>\n",
       "</table>\n",
       "</div>"
      ],
      "text/plain": [
       "   RowNumber  CustomerId   Surname  CreditScore Geography  Gender  Age  \\\n",
       "0          1    15634602  Hargrave          619    France  Female   42   \n",
       "1          2    15647311      Hill          608     Spain  Female   41   \n",
       "2          3    15619304      Onio          502    France  Female   42   \n",
       "3          4    15701354      Boni          699    France  Female   39   \n",
       "4          5    15737888  Mitchell          850     Spain  Female   43   \n",
       "5          6    15574012       Chu          645     Spain    Male   44   \n",
       "6          7    15592531  Bartlett          822    France    Male   50   \n",
       "7          8    15656148    Obinna          376   Germany  Female   29   \n",
       "8          9    15792365        He          501    France    Male   44   \n",
       "9         10    15592389        H?          684    France    Male   27   \n",
       "\n",
       "   Tenure    Balance  NumOfProducts  HasCrCard  IsActiveMember  \\\n",
       "0     2.0       0.00              1          1               1   \n",
       "1     1.0   83807.86              1          0               1   \n",
       "2     8.0  159660.80              3          1               0   \n",
       "3     1.0       0.00              2          0               0   \n",
       "4     2.0  125510.82              1          1               1   \n",
       "5     8.0  113755.78              2          1               0   \n",
       "6     7.0       0.00              2          1               1   \n",
       "7     4.0  115046.74              4          1               0   \n",
       "8     4.0  142051.07              2          0               1   \n",
       "9     2.0  134603.88              1          1               1   \n",
       "\n",
       "   EstimatedSalary  Exited  \n",
       "0        101348.88       1  \n",
       "1        112542.58       0  \n",
       "2        113931.57       1  \n",
       "3         93826.63       0  \n",
       "4         79084.10       0  \n",
       "5        149756.71       1  \n",
       "6         10062.80       0  \n",
       "7        119346.88       1  \n",
       "8         74940.50       0  \n",
       "9         71725.73       0  "
      ]
     },
     "execution_count": 4,
     "metadata": {},
     "output_type": "execute_result"
    }
   ],
   "source": [
    "df.head(10)"
   ]
  },
  {
   "cell_type": "markdown",
   "metadata": {},
   "source": [
    "We have 14 columns in our data set.  The `Exited` column is our target - the value we are trying to predict.   Our other columns contain a mix of identifying information and financial information about a customer.  Some of these columns may have an impact on whether a client leaves the bank, while others likely have no effect.  In order to produce the best model, we should remove the columns from our dataset that likely have no impact on the target.  The `RowNumber`, `CustomerId`, and `Surname` will all likely have no effect and will be excluded from our model.\n",
    "\n",
    "We're left with the following features that will be used to predict our target:\n",
    "- `CreditScore`\n",
    "- `Geography` — country of residence\n",
    "- `Gender`\n",
    "- `Age`\n",
    "- `Tenure` — period of maturation for a customer’s fixed deposit (years)\n",
    "- `Balance` — account balance\n",
    "- `NumOfProducts` — number of banking products used by the customer\n",
    "- `HasCrCard` — customer has a credit card\n",
    "- `IsActiveMember` — customer’s activeness\n",
    "- `EstimatedSalary` — estimated salary\n",
    "\n",
    "While most of these columns are numerical, there are two columns with strings that we'll need to address: `Geography` and `Gender`.  "
   ]
  },
  {
   "cell_type": "markdown",
   "metadata": {},
   "source": [
    "### Data Cleaning"
   ]
  },
  {
   "cell_type": "markdown",
   "metadata": {},
   "source": [
    "We'll quickly check for duplicated rows."
   ]
  },
  {
   "cell_type": "code",
   "execution_count": 5,
   "metadata": {
    "scrolled": false
   },
   "outputs": [
    {
     "data": {
      "text/plain": [
       "0"
      ]
     },
     "execution_count": 5,
     "metadata": {},
     "output_type": "execute_result"
    }
   ],
   "source": [
    "df.duplicated().sum()"
   ]
  },
  {
   "cell_type": "code",
   "execution_count": 6,
   "metadata": {},
   "outputs": [
    {
     "data": {
      "text/plain": [
       "0"
      ]
     },
     "execution_count": 6,
     "metadata": {},
     "output_type": "execute_result"
    }
   ],
   "source": [
    "df[\"CustomerId\"].duplicated().sum()"
   ]
  },
  {
   "cell_type": "markdown",
   "metadata": {},
   "source": [
    "Let's look at the missing values we have."
   ]
  },
  {
   "cell_type": "code",
   "execution_count": 7,
   "metadata": {
    "scrolled": true
   },
   "outputs": [
    {
     "data": {
      "text/plain": [
       "RowNumber            0\n",
       "CustomerId           0\n",
       "Surname              0\n",
       "CreditScore          0\n",
       "Geography            0\n",
       "Gender               0\n",
       "Age                  0\n",
       "Tenure             909\n",
       "Balance              0\n",
       "NumOfProducts        0\n",
       "HasCrCard            0\n",
       "IsActiveMember       0\n",
       "EstimatedSalary      0\n",
       "Exited               0\n",
       "dtype: int64"
      ]
     },
     "execution_count": 7,
     "metadata": {},
     "output_type": "execute_result"
    }
   ],
   "source": [
    "df.isnull().sum()"
   ]
  },
  {
   "cell_type": "code",
   "execution_count": 8,
   "metadata": {
    "scrolled": false
   },
   "outputs": [
    {
     "data": {
      "text/plain": [
       "1.0     952\n",
       "2.0     950\n",
       "8.0     933\n",
       "3.0     928\n",
       "5.0     927\n",
       "7.0     925\n",
       "NaN     909\n",
       "4.0     885\n",
       "9.0     882\n",
       "6.0     881\n",
       "10.0    446\n",
       "0.0     382\n",
       "Name: Tenure, dtype: int64"
      ]
     },
     "execution_count": 8,
     "metadata": {},
     "output_type": "execute_result"
    }
   ],
   "source": [
    "df.Tenure.value_counts(dropna=False)"
   ]
  },
  {
   "cell_type": "markdown",
   "metadata": {},
   "source": [
    "At even a quick glance, we can see that the values are quite evenly spread, with only values of 0 and 10 having significantly less instances than other values.  We'll fill our missing values with the median, so as not to reduce our already small dataset."
   ]
  },
  {
   "cell_type": "code",
   "execution_count": 9,
   "metadata": {},
   "outputs": [],
   "source": [
    "df[\"Tenure\"] = df[\"Tenure\"].fillna(df[\"Tenure\"].median())"
   ]
  },
  {
   "cell_type": "code",
   "execution_count": 10,
   "metadata": {},
   "outputs": [
    {
     "data": {
      "text/plain": [
       "5.0     1836\n",
       "1.0      952\n",
       "2.0      950\n",
       "8.0      933\n",
       "3.0      928\n",
       "7.0      925\n",
       "4.0      885\n",
       "9.0      882\n",
       "6.0      881\n",
       "10.0     446\n",
       "0.0      382\n",
       "Name: Tenure, dtype: int64"
      ]
     },
     "execution_count": 10,
     "metadata": {},
     "output_type": "execute_result"
    }
   ],
   "source": [
    "df.Tenure.value_counts(dropna=False)"
   ]
  },
  {
   "cell_type": "markdown",
   "metadata": {},
   "source": [
    "Next we'll reduce our dataset by dropping the columns of `RowNumber`, `CustomerId`, and `Surname`, as we won't need these for our model."
   ]
  },
  {
   "cell_type": "code",
   "execution_count": 11,
   "metadata": {},
   "outputs": [],
   "source": [
    "df.drop(['RowNumber', 'CustomerId', 'Surname'], axis=1, inplace=True)"
   ]
  },
  {
   "cell_type": "code",
   "execution_count": 12,
   "metadata": {},
   "outputs": [
    {
     "data": {
      "text/plain": [
       "Index(['CreditScore', 'Geography', 'Gender', 'Age', 'Tenure', 'Balance',\n",
       "       'NumOfProducts', 'HasCrCard', 'IsActiveMember', 'EstimatedSalary',\n",
       "       'Exited'],\n",
       "      dtype='object')"
      ]
     },
     "execution_count": 12,
     "metadata": {},
     "output_type": "execute_result"
    }
   ],
   "source": [
    "df.columns"
   ]
  },
  {
   "cell_type": "markdown",
   "metadata": {},
   "source": [
    "Next let's address our columns of strings by using One-Hot Encoding."
   ]
  },
  {
   "cell_type": "code",
   "execution_count": 13,
   "metadata": {},
   "outputs": [],
   "source": [
    "obj_columns = list(df.select_dtypes(include=['object']).columns)"
   ]
  },
  {
   "cell_type": "code",
   "execution_count": 14,
   "metadata": {
    "scrolled": true
   },
   "outputs": [
    {
     "data": {
      "text/plain": [
       "['Geography', 'Gender']"
      ]
     },
     "execution_count": 14,
     "metadata": {},
     "output_type": "execute_result"
    }
   ],
   "source": [
    "obj_columns"
   ]
  },
  {
   "cell_type": "markdown",
   "metadata": {},
   "source": [
    "Before we proceed with OHE, we'll first check how many values each column has.  If a column has many unique values, it may be better to use label encoding."
   ]
  },
  {
   "cell_type": "code",
   "execution_count": 15,
   "metadata": {},
   "outputs": [
    {
     "data": {
      "text/plain": [
       "3"
      ]
     },
     "metadata": {},
     "output_type": "display_data"
    },
    {
     "data": {
      "text/plain": [
       "2"
      ]
     },
     "execution_count": 15,
     "metadata": {},
     "output_type": "execute_result"
    }
   ],
   "source": [
    "display(df.Geography.nunique())\n",
    "df.Gender.nunique()"
   ]
  },
  {
   "cell_type": "markdown",
   "metadata": {},
   "source": [
    "Our columns of type `object` have only a small number of unique values, and our data is nominal (not ordinal), so OHE will suffice."
   ]
  },
  {
   "cell_type": "code",
   "execution_count": 16,
   "metadata": {},
   "outputs": [],
   "source": [
    "df = pd.get_dummies(df, drop_first=True)"
   ]
  },
  {
   "cell_type": "markdown",
   "metadata": {},
   "source": [
    "Let's examine our final DataFrame that we'll use to train our models."
   ]
  },
  {
   "cell_type": "code",
   "execution_count": 17,
   "metadata": {},
   "outputs": [
    {
     "data": {
      "text/html": [
       "<div>\n",
       "<style scoped>\n",
       "    .dataframe tbody tr th:only-of-type {\n",
       "        vertical-align: middle;\n",
       "    }\n",
       "\n",
       "    .dataframe tbody tr th {\n",
       "        vertical-align: top;\n",
       "    }\n",
       "\n",
       "    .dataframe thead th {\n",
       "        text-align: right;\n",
       "    }\n",
       "</style>\n",
       "<table border=\"1\" class=\"dataframe\">\n",
       "  <thead>\n",
       "    <tr style=\"text-align: right;\">\n",
       "      <th></th>\n",
       "      <th>CreditScore</th>\n",
       "      <th>Age</th>\n",
       "      <th>Tenure</th>\n",
       "      <th>Balance</th>\n",
       "      <th>NumOfProducts</th>\n",
       "      <th>HasCrCard</th>\n",
       "      <th>IsActiveMember</th>\n",
       "      <th>EstimatedSalary</th>\n",
       "      <th>Exited</th>\n",
       "      <th>Geography_Germany</th>\n",
       "      <th>Geography_Spain</th>\n",
       "      <th>Gender_Male</th>\n",
       "    </tr>\n",
       "  </thead>\n",
       "  <tbody>\n",
       "    <tr>\n",
       "      <th>0</th>\n",
       "      <td>619</td>\n",
       "      <td>42</td>\n",
       "      <td>2.0</td>\n",
       "      <td>0.00</td>\n",
       "      <td>1</td>\n",
       "      <td>1</td>\n",
       "      <td>1</td>\n",
       "      <td>101348.88</td>\n",
       "      <td>1</td>\n",
       "      <td>0</td>\n",
       "      <td>0</td>\n",
       "      <td>0</td>\n",
       "    </tr>\n",
       "    <tr>\n",
       "      <th>1</th>\n",
       "      <td>608</td>\n",
       "      <td>41</td>\n",
       "      <td>1.0</td>\n",
       "      <td>83807.86</td>\n",
       "      <td>1</td>\n",
       "      <td>0</td>\n",
       "      <td>1</td>\n",
       "      <td>112542.58</td>\n",
       "      <td>0</td>\n",
       "      <td>0</td>\n",
       "      <td>1</td>\n",
       "      <td>0</td>\n",
       "    </tr>\n",
       "    <tr>\n",
       "      <th>2</th>\n",
       "      <td>502</td>\n",
       "      <td>42</td>\n",
       "      <td>8.0</td>\n",
       "      <td>159660.80</td>\n",
       "      <td>3</td>\n",
       "      <td>1</td>\n",
       "      <td>0</td>\n",
       "      <td>113931.57</td>\n",
       "      <td>1</td>\n",
       "      <td>0</td>\n",
       "      <td>0</td>\n",
       "      <td>0</td>\n",
       "    </tr>\n",
       "    <tr>\n",
       "      <th>3</th>\n",
       "      <td>699</td>\n",
       "      <td>39</td>\n",
       "      <td>1.0</td>\n",
       "      <td>0.00</td>\n",
       "      <td>2</td>\n",
       "      <td>0</td>\n",
       "      <td>0</td>\n",
       "      <td>93826.63</td>\n",
       "      <td>0</td>\n",
       "      <td>0</td>\n",
       "      <td>0</td>\n",
       "      <td>0</td>\n",
       "    </tr>\n",
       "    <tr>\n",
       "      <th>4</th>\n",
       "      <td>850</td>\n",
       "      <td>43</td>\n",
       "      <td>2.0</td>\n",
       "      <td>125510.82</td>\n",
       "      <td>1</td>\n",
       "      <td>1</td>\n",
       "      <td>1</td>\n",
       "      <td>79084.10</td>\n",
       "      <td>0</td>\n",
       "      <td>0</td>\n",
       "      <td>1</td>\n",
       "      <td>0</td>\n",
       "    </tr>\n",
       "    <tr>\n",
       "      <th>...</th>\n",
       "      <td>...</td>\n",
       "      <td>...</td>\n",
       "      <td>...</td>\n",
       "      <td>...</td>\n",
       "      <td>...</td>\n",
       "      <td>...</td>\n",
       "      <td>...</td>\n",
       "      <td>...</td>\n",
       "      <td>...</td>\n",
       "      <td>...</td>\n",
       "      <td>...</td>\n",
       "      <td>...</td>\n",
       "    </tr>\n",
       "    <tr>\n",
       "      <th>9995</th>\n",
       "      <td>771</td>\n",
       "      <td>39</td>\n",
       "      <td>5.0</td>\n",
       "      <td>0.00</td>\n",
       "      <td>2</td>\n",
       "      <td>1</td>\n",
       "      <td>0</td>\n",
       "      <td>96270.64</td>\n",
       "      <td>0</td>\n",
       "      <td>0</td>\n",
       "      <td>0</td>\n",
       "      <td>1</td>\n",
       "    </tr>\n",
       "    <tr>\n",
       "      <th>9996</th>\n",
       "      <td>516</td>\n",
       "      <td>35</td>\n",
       "      <td>10.0</td>\n",
       "      <td>57369.61</td>\n",
       "      <td>1</td>\n",
       "      <td>1</td>\n",
       "      <td>1</td>\n",
       "      <td>101699.77</td>\n",
       "      <td>0</td>\n",
       "      <td>0</td>\n",
       "      <td>0</td>\n",
       "      <td>1</td>\n",
       "    </tr>\n",
       "    <tr>\n",
       "      <th>9997</th>\n",
       "      <td>709</td>\n",
       "      <td>36</td>\n",
       "      <td>7.0</td>\n",
       "      <td>0.00</td>\n",
       "      <td>1</td>\n",
       "      <td>0</td>\n",
       "      <td>1</td>\n",
       "      <td>42085.58</td>\n",
       "      <td>1</td>\n",
       "      <td>0</td>\n",
       "      <td>0</td>\n",
       "      <td>0</td>\n",
       "    </tr>\n",
       "    <tr>\n",
       "      <th>9998</th>\n",
       "      <td>772</td>\n",
       "      <td>42</td>\n",
       "      <td>3.0</td>\n",
       "      <td>75075.31</td>\n",
       "      <td>2</td>\n",
       "      <td>1</td>\n",
       "      <td>0</td>\n",
       "      <td>92888.52</td>\n",
       "      <td>1</td>\n",
       "      <td>1</td>\n",
       "      <td>0</td>\n",
       "      <td>1</td>\n",
       "    </tr>\n",
       "    <tr>\n",
       "      <th>9999</th>\n",
       "      <td>792</td>\n",
       "      <td>28</td>\n",
       "      <td>5.0</td>\n",
       "      <td>130142.79</td>\n",
       "      <td>1</td>\n",
       "      <td>1</td>\n",
       "      <td>0</td>\n",
       "      <td>38190.78</td>\n",
       "      <td>0</td>\n",
       "      <td>0</td>\n",
       "      <td>0</td>\n",
       "      <td>0</td>\n",
       "    </tr>\n",
       "  </tbody>\n",
       "</table>\n",
       "<p>10000 rows × 12 columns</p>\n",
       "</div>"
      ],
      "text/plain": [
       "      CreditScore  Age  Tenure    Balance  NumOfProducts  HasCrCard  \\\n",
       "0             619   42     2.0       0.00              1          1   \n",
       "1             608   41     1.0   83807.86              1          0   \n",
       "2             502   42     8.0  159660.80              3          1   \n",
       "3             699   39     1.0       0.00              2          0   \n",
       "4             850   43     2.0  125510.82              1          1   \n",
       "...           ...  ...     ...        ...            ...        ...   \n",
       "9995          771   39     5.0       0.00              2          1   \n",
       "9996          516   35    10.0   57369.61              1          1   \n",
       "9997          709   36     7.0       0.00              1          0   \n",
       "9998          772   42     3.0   75075.31              2          1   \n",
       "9999          792   28     5.0  130142.79              1          1   \n",
       "\n",
       "      IsActiveMember  EstimatedSalary  Exited  Geography_Germany  \\\n",
       "0                  1        101348.88       1                  0   \n",
       "1                  1        112542.58       0                  0   \n",
       "2                  0        113931.57       1                  0   \n",
       "3                  0         93826.63       0                  0   \n",
       "4                  1         79084.10       0                  0   \n",
       "...              ...              ...     ...                ...   \n",
       "9995               0         96270.64       0                  0   \n",
       "9996               1        101699.77       0                  0   \n",
       "9997               1         42085.58       1                  0   \n",
       "9998               0         92888.52       1                  1   \n",
       "9999               0         38190.78       0                  0   \n",
       "\n",
       "      Geography_Spain  Gender_Male  \n",
       "0                   0            0  \n",
       "1                   1            0  \n",
       "2                   0            0  \n",
       "3                   0            0  \n",
       "4                   1            0  \n",
       "...               ...          ...  \n",
       "9995                0            1  \n",
       "9996                0            1  \n",
       "9997                0            0  \n",
       "9998                0            1  \n",
       "9999                0            0  \n",
       "\n",
       "[10000 rows x 12 columns]"
      ]
     },
     "execution_count": 17,
     "metadata": {},
     "output_type": "execute_result"
    }
   ],
   "source": [
    "df"
   ]
  },
  {
   "cell_type": "markdown",
   "metadata": {},
   "source": [
    "## Visualizing our Data"
   ]
  },
  {
   "cell_type": "markdown",
   "metadata": {},
   "source": [
    "Before we make our first model, let's visualize a few of the columns in our dataset.  First is our Credit Score column."
   ]
  },
  {
   "cell_type": "markdown",
   "metadata": {},
   "source": [
    "### Credit Score"
   ]
  },
  {
   "cell_type": "code",
   "execution_count": 18,
   "metadata": {},
   "outputs": [
    {
     "data": {
      "image/png": "[encoded data removed]",
      "text/plain": [
       "<Figure size 1000x400 with 2 Axes>"
      ]
     },
     "metadata": {},
     "output_type": "display_data"
    }
   ],
   "source": [
    "fig, axes = plt.subplots(nrows=1, ncols=2, figsize=(10, 4))\n",
    "\n",
    "fig.suptitle(\"Visualizing Distribution of Credit Score\")\n",
    "\n",
    "axes[0].hist(df['CreditScore'], bins=45)\n",
    "axes[0].set_title('Histogram')\n",
    "axes[0].set_xlabel(\"Credit Score\")\n",
    "axes[0].set_ylabel(\"Frequency\")\n",
    "\n",
    "axes[1].boxplot(df['CreditScore'])\n",
    "axes[1].set_title('BoxPlot')\n",
    "axes[1].set_ylabel(\"Credit Score\")\n",
    "axes[1].set_xticklabels(\"\")\n",
    "\n",
    "\n",
    "plt.tight_layout()\n",
    "plt.show()"
   ]
  },
  {
   "cell_type": "code",
   "execution_count": 19,
   "metadata": {
    "scrolled": true
   },
   "outputs": [
    {
     "data": {
      "text/plain": [
       "count    10000.000000\n",
       "mean       650.528800\n",
       "std         96.653299\n",
       "min        350.000000\n",
       "25%        584.000000\n",
       "50%        652.000000\n",
       "75%        718.000000\n",
       "max        850.000000\n",
       "Name: CreditScore, dtype: float64"
      ]
     },
     "execution_count": 19,
     "metadata": {},
     "output_type": "execute_result"
    }
   ],
   "source": [
    "df.CreditScore.describe()"
   ]
  },
  {
   "cell_type": "code",
   "execution_count": 20,
   "metadata": {},
   "outputs": [
    {
     "data": {
      "text/plain": [
       "233"
      ]
     },
     "execution_count": 20,
     "metadata": {},
     "output_type": "execute_result"
    }
   ],
   "source": [
    "df.CreditScore.value_counts()[850]"
   ]
  },
  {
   "cell_type": "markdown",
   "metadata": {},
   "source": [
    "Our Credit Score column appears to be roughly distributed normally, with some outliers at the lower end and an interesting case at the maximum end.  We notice that the top most bin has a large number of occurances.  233 of these occurances are from customers that have the maximum possible CreditScore of 850 (FICO).  The credit scores are approximately centered around 650, with both the mean and median being very close to this value."
   ]
  },
  {
   "cell_type": "markdown",
   "metadata": {},
   "source": [
    "### Age"
   ]
  },
  {
   "cell_type": "markdown",
   "metadata": {},
   "source": [
    "We can use the same types of graphs to visualize our `Age` column.  Age has a lower number of discrete possiblities, so we can use a Histogram that has more bins than we might normally use to represent each possible value in our dataset."
   ]
  },
  {
   "cell_type": "code",
   "execution_count": 21,
   "metadata": {
    "scrolled": true
   },
   "outputs": [
    {
     "data": {
      "text/plain": [
       "74"
      ]
     },
     "execution_count": 21,
     "metadata": {},
     "output_type": "execute_result"
    }
   ],
   "source": [
    "df.Age.max() - df.Age.min()"
   ]
  },
  {
   "cell_type": "code",
   "execution_count": 22,
   "metadata": {},
   "outputs": [
    {
     "data": {
      "image/png": "[encoded data removed]",
      "text/plain": [
       "<Figure size 1000x400 with 2 Axes>"
      ]
     },
     "metadata": {},
     "output_type": "display_data"
    }
   ],
   "source": [
    "fig, axes = plt.subplots(nrows=1, ncols=2, figsize=(10, 4))\n",
    "\n",
    "fig.suptitle(\"Visualizing Distribution of Age\")\n",
    "\n",
    "axes[0].hist(df.Age, bins=74)\n",
    "axes[0].set_title('Histogram')\n",
    "axes[0].set_xlabel('Age (years)')\n",
    "axes[0].set_ylabel('Frequency')\n",
    "\n",
    "axes[1].boxplot(df.Age)\n",
    "axes[1].set_title('Boxplot')\n",
    "axes[1].set_xticklabels('')\n",
    "axes[1].set_ylabel('Age (years)')\n",
    "\n",
    "\n",
    "plt.tight_layout()\n",
    "plt.show()"
   ]
  },
  {
   "cell_type": "code",
   "execution_count": 23,
   "metadata": {},
   "outputs": [
    {
     "data": {
      "text/plain": [
       "count    10000.000000\n",
       "mean        38.921800\n",
       "std         10.487806\n",
       "min         18.000000\n",
       "25%         32.000000\n",
       "50%         37.000000\n",
       "75%         44.000000\n",
       "max         92.000000\n",
       "Name: Age, dtype: float64"
      ]
     },
     "execution_count": 23,
     "metadata": {},
     "output_type": "execute_result"
    }
   ],
   "source": [
    "df.Age.describe()"
   ]
  },
  {
   "cell_type": "markdown",
   "metadata": {},
   "source": [
    "Our Age column is slightly skewed to the right, with a center just under 40 years of age. Half of the bank's customers in this dataset are between 32 and 44 years of age (our IQR). Our data contains outliers in the upper range."
   ]
  },
  {
   "cell_type": "markdown",
   "metadata": {},
   "source": [
    "### Salary"
   ]
  },
  {
   "cell_type": "markdown",
   "metadata": {},
   "source": [
    "We'll examine our `EstimatedSalary` column the same way we examined our other two `Age` and `CreditScore` columns."
   ]
  },
  {
   "cell_type": "code",
   "execution_count": 24,
   "metadata": {},
   "outputs": [
    {
     "data": {
      "image/png": "[encoded data removed]",
      "text/plain": [
       "<Figure size 1000x400 with 2 Axes>"
      ]
     },
     "metadata": {},
     "output_type": "display_data"
    }
   ],
   "source": [
    "fig, axes = plt.subplots(nrows=1, ncols=2, figsize=(10, 4))\n",
    "\n",
    "fig.suptitle(\"Visualizing Distribution of Estimated Salaries\")\n",
    "\n",
    "axes[0].hist(df.EstimatedSalary, bins=50)\n",
    "axes[0].set_title('Histogram')\n",
    "axes[0].set_xlabel('Estimated Salary')\n",
    "axes[0].set_ylabel('Frequency')\n",
    "\n",
    "axes[1].boxplot(df.EstimatedSalary)\n",
    "axes[1].set_title('Boxplot')\n",
    "axes[1].set_xticklabels('')\n",
    "axes[1].set_ylabel('Estimated Salary')\n",
    "\n",
    "\n",
    "plt.tight_layout()\n",
    "plt.show()"
   ]
  },
  {
   "cell_type": "code",
   "execution_count": 25,
   "metadata": {
    "scrolled": true
   },
   "outputs": [
    {
     "data": {
      "text/plain": [
       "count     10000.000000\n",
       "mean     100090.239881\n",
       "std       57510.492818\n",
       "min          11.580000\n",
       "25%       51002.110000\n",
       "50%      100193.915000\n",
       "75%      149388.247500\n",
       "max      199992.480000\n",
       "Name: EstimatedSalary, dtype: float64"
      ]
     },
     "execution_count": 25,
     "metadata": {},
     "output_type": "execute_result"
    }
   ],
   "source": [
    "df.EstimatedSalary.describe()"
   ]
  },
  {
   "cell_type": "markdown",
   "metadata": {},
   "source": [
    "The `EstimatedSalary` column is more unique than the previous two columns we examined.  The values in this column are distribued almost uniformly.   This column is centered near 100,000.  These values seem a bit strange, as it is unlikely that anyone is making a salary of 11.58.  It's possible that the EstimatedSalary column may be a column we wish to ignore in a test case when creating models. "
   ]
  },
  {
   "cell_type": "markdown",
   "metadata": {},
   "source": [
    "## Class Balance "
   ]
  },
  {
   "cell_type": "markdown",
   "metadata": {},
   "source": [
    "Let's examine our class balance for the target."
   ]
  },
  {
   "cell_type": "code",
   "execution_count": 26,
   "metadata": {
    "scrolled": true
   },
   "outputs": [
    {
     "data": {
      "text/plain": [
       "0    7963\n",
       "1    2037\n",
       "Name: Exited, dtype: int64"
      ]
     },
     "execution_count": 26,
     "metadata": {},
     "output_type": "execute_result"
    }
   ],
   "source": [
    "df.Exited.value_counts()"
   ]
  },
  {
   "cell_type": "markdown",
   "metadata": {},
   "source": [
    "We'll save our ratio for later, as we'll need it for resampling."
   ]
  },
  {
   "cell_type": "code",
   "execution_count": 27,
   "metadata": {},
   "outputs": [],
   "source": [
    "ratio = 7237/1854"
   ]
  },
  {
   "cell_type": "code",
   "execution_count": 28,
   "metadata": {},
   "outputs": [
    {
     "data": {
      "image/png": "[encoded data removed]",
      "text/plain": [
       "<Figure size 1000x400 with 2 Axes>"
      ]
     },
     "metadata": {},
     "output_type": "display_data"
    }
   ],
   "source": [
    "fig, axes = plt.subplots(nrows=1, ncols=2, figsize=(10, 4))\n",
    "\n",
    "pie_colors = ['skyblue', 'lightcoral']\n",
    "axes[0].pie(df['Exited'].value_counts(), labels = df['Exited'].value_counts().index, autopct='%1.2f%%', startangle=90, colors=pie_colors)\n",
    "axes[0].set_title('Class Distribution Before Resampling (Pie Chart)')\n",
    "\n",
    "countplot_colors = sns.color_palette(pie_colors)\n",
    "sns.countplot(x='Exited', data=df, palette=countplot_colors, ax=axes[1])\n",
    "axes[1].set_title('Class Distribution Before Resampling (Count Plot)')\n",
    "\n",
    "\n",
    "plt.tight_layout()\n",
    "plt.show()\n"
   ]
  },
  {
   "cell_type": "markdown",
   "metadata": {},
   "source": [
    "We can see that our classes are not balanced.  In other words,  roughly 20% of our clients exited, while 80% remained.  Ideally, this spread would be closer to 50/50 to train our model."
   ]
  },
  {
   "cell_type": "markdown",
   "metadata": {},
   "source": [
    "Let's define a function that we can use to plot our piechart after resampling later."
   ]
  },
  {
   "cell_type": "code",
   "execution_count": 29,
   "metadata": {},
   "outputs": [],
   "source": [
    "def plot_resample_results(y_resampled, title):\n",
    "    plt.figure(figsize=(4, 4))\n",
    "    pd.Series(y_resampled).value_counts().plot.pie(autopct='%2.2f%%', startangle=90, colors=['skyblue', 'lightcoral'])\n",
    "    plt.title(title)\n",
    "    plt.show"
   ]
  },
  {
   "cell_type": "markdown",
   "metadata": {},
   "source": [
    "We'll first train our model without accounting for this imbalance."
   ]
  },
  {
   "cell_type": "markdown",
   "metadata": {},
   "source": [
    "## First Models"
   ]
  },
  {
   "cell_type": "markdown",
   "metadata": {},
   "source": [
    "### Data Preperation"
   ]
  },
  {
   "cell_type": "markdown",
   "metadata": {},
   "source": [
    "We start by identifying our target and features."
   ]
  },
  {
   "cell_type": "code",
   "execution_count": 30,
   "metadata": {},
   "outputs": [],
   "source": [
    "target = df['Exited']\n",
    "features = df.drop('Exited', axis=1)"
   ]
  },
  {
   "cell_type": "markdown",
   "metadata": {},
   "source": [
    "Next we split our data into training (60%), validation(20%), and test sets(20%)."
   ]
  },
  {
   "cell_type": "code",
   "execution_count": 31,
   "metadata": {},
   "outputs": [],
   "source": [
    "features_train, features_other, target_train, target_other = train_test_split(features, target, test_size=0.4, random_state=12345)\n",
    "features_valid, features_test, target_valid, target_test = train_test_split(features_other, target_other, test_size=0.5, random_state=12345)"
   ]
  },
  {
   "cell_type": "markdown",
   "metadata": {},
   "source": [
    "Finally, we scale our non-boolean columns."
   ]
  },
  {
   "cell_type": "code",
   "execution_count": 32,
   "metadata": {},
   "outputs": [
    {
     "data": {
      "text/html": [
       "<div>\n",
       "<style scoped>\n",
       "    .dataframe tbody tr th:only-of-type {\n",
       "        vertical-align: middle;\n",
       "    }\n",
       "\n",
       "    .dataframe tbody tr th {\n",
       "        vertical-align: top;\n",
       "    }\n",
       "\n",
       "    .dataframe thead th {\n",
       "        text-align: right;\n",
       "    }\n",
       "</style>\n",
       "<table border=\"1\" class=\"dataframe\">\n",
       "  <thead>\n",
       "    <tr style=\"text-align: right;\">\n",
       "      <th></th>\n",
       "      <th>CreditScore</th>\n",
       "      <th>Age</th>\n",
       "      <th>Tenure</th>\n",
       "      <th>Balance</th>\n",
       "      <th>NumOfProducts</th>\n",
       "      <th>HasCrCard</th>\n",
       "      <th>IsActiveMember</th>\n",
       "      <th>EstimatedSalary</th>\n",
       "      <th>Geography_Germany</th>\n",
       "      <th>Geography_Spain</th>\n",
       "      <th>Gender_Male</th>\n",
       "    </tr>\n",
       "  </thead>\n",
       "  <tbody>\n",
       "    <tr>\n",
       "      <th>7479</th>\n",
       "      <td>567</td>\n",
       "      <td>35</td>\n",
       "      <td>8.0</td>\n",
       "      <td>153137.74</td>\n",
       "      <td>1</td>\n",
       "      <td>1</td>\n",
       "      <td>0</td>\n",
       "      <td>88659.07</td>\n",
       "      <td>0</td>\n",
       "      <td>1</td>\n",
       "      <td>1</td>\n",
       "    </tr>\n",
       "    <tr>\n",
       "      <th>3411</th>\n",
       "      <td>711</td>\n",
       "      <td>37</td>\n",
       "      <td>8.0</td>\n",
       "      <td>113899.92</td>\n",
       "      <td>1</td>\n",
       "      <td>0</td>\n",
       "      <td>0</td>\n",
       "      <td>80215.20</td>\n",
       "      <td>0</td>\n",
       "      <td>0</td>\n",
       "      <td>0</td>\n",
       "    </tr>\n",
       "    <tr>\n",
       "      <th>6027</th>\n",
       "      <td>850</td>\n",
       "      <td>44</td>\n",
       "      <td>3.0</td>\n",
       "      <td>140393.65</td>\n",
       "      <td>2</td>\n",
       "      <td>0</td>\n",
       "      <td>1</td>\n",
       "      <td>186285.52</td>\n",
       "      <td>1</td>\n",
       "      <td>0</td>\n",
       "      <td>1</td>\n",
       "    </tr>\n",
       "    <tr>\n",
       "      <th>1247</th>\n",
       "      <td>512</td>\n",
       "      <td>24</td>\n",
       "      <td>6.0</td>\n",
       "      <td>0.00</td>\n",
       "      <td>2</td>\n",
       "      <td>1</td>\n",
       "      <td>0</td>\n",
       "      <td>37654.31</td>\n",
       "      <td>0</td>\n",
       "      <td>0</td>\n",
       "      <td>1</td>\n",
       "    </tr>\n",
       "    <tr>\n",
       "      <th>3716</th>\n",
       "      <td>665</td>\n",
       "      <td>27</td>\n",
       "      <td>2.0</td>\n",
       "      <td>147435.96</td>\n",
       "      <td>1</td>\n",
       "      <td>0</td>\n",
       "      <td>0</td>\n",
       "      <td>187508.06</td>\n",
       "      <td>1</td>\n",
       "      <td>0</td>\n",
       "      <td>0</td>\n",
       "    </tr>\n",
       "    <tr>\n",
       "      <th>...</th>\n",
       "      <td>...</td>\n",
       "      <td>...</td>\n",
       "      <td>...</td>\n",
       "      <td>...</td>\n",
       "      <td>...</td>\n",
       "      <td>...</td>\n",
       "      <td>...</td>\n",
       "      <td>...</td>\n",
       "      <td>...</td>\n",
       "      <td>...</td>\n",
       "      <td>...</td>\n",
       "    </tr>\n",
       "    <tr>\n",
       "      <th>4478</th>\n",
       "      <td>549</td>\n",
       "      <td>31</td>\n",
       "      <td>4.0</td>\n",
       "      <td>0.00</td>\n",
       "      <td>2</td>\n",
       "      <td>0</td>\n",
       "      <td>1</td>\n",
       "      <td>25684.85</td>\n",
       "      <td>0</td>\n",
       "      <td>0</td>\n",
       "      <td>1</td>\n",
       "    </tr>\n",
       "    <tr>\n",
       "      <th>4094</th>\n",
       "      <td>513</td>\n",
       "      <td>29</td>\n",
       "      <td>10.0</td>\n",
       "      <td>0.00</td>\n",
       "      <td>2</td>\n",
       "      <td>0</td>\n",
       "      <td>1</td>\n",
       "      <td>25514.77</td>\n",
       "      <td>0</td>\n",
       "      <td>0</td>\n",
       "      <td>1</td>\n",
       "    </tr>\n",
       "    <tr>\n",
       "      <th>3492</th>\n",
       "      <td>655</td>\n",
       "      <td>45</td>\n",
       "      <td>5.0</td>\n",
       "      <td>57327.04</td>\n",
       "      <td>1</td>\n",
       "      <td>0</td>\n",
       "      <td>1</td>\n",
       "      <td>47349.00</td>\n",
       "      <td>0</td>\n",
       "      <td>0</td>\n",
       "      <td>0</td>\n",
       "    </tr>\n",
       "    <tr>\n",
       "      <th>2177</th>\n",
       "      <td>667</td>\n",
       "      <td>24</td>\n",
       "      <td>4.0</td>\n",
       "      <td>0.00</td>\n",
       "      <td>2</td>\n",
       "      <td>0</td>\n",
       "      <td>1</td>\n",
       "      <td>34335.55</td>\n",
       "      <td>0</td>\n",
       "      <td>0</td>\n",
       "      <td>0</td>\n",
       "    </tr>\n",
       "    <tr>\n",
       "      <th>4578</th>\n",
       "      <td>691</td>\n",
       "      <td>38</td>\n",
       "      <td>1.0</td>\n",
       "      <td>0.00</td>\n",
       "      <td>2</td>\n",
       "      <td>0</td>\n",
       "      <td>0</td>\n",
       "      <td>44653.50</td>\n",
       "      <td>0</td>\n",
       "      <td>0</td>\n",
       "      <td>1</td>\n",
       "    </tr>\n",
       "  </tbody>\n",
       "</table>\n",
       "<p>6000 rows × 11 columns</p>\n",
       "</div>"
      ],
      "text/plain": [
       "      CreditScore  Age  Tenure    Balance  NumOfProducts  HasCrCard  \\\n",
       "7479          567   35     8.0  153137.74              1          1   \n",
       "3411          711   37     8.0  113899.92              1          0   \n",
       "6027          850   44     3.0  140393.65              2          0   \n",
       "1247          512   24     6.0       0.00              2          1   \n",
       "3716          665   27     2.0  147435.96              1          0   \n",
       "...           ...  ...     ...        ...            ...        ...   \n",
       "4478          549   31     4.0       0.00              2          0   \n",
       "4094          513   29    10.0       0.00              2          0   \n",
       "3492          655   45     5.0   57327.04              1          0   \n",
       "2177          667   24     4.0       0.00              2          0   \n",
       "4578          691   38     1.0       0.00              2          0   \n",
       "\n",
       "      IsActiveMember  EstimatedSalary  Geography_Germany  Geography_Spain  \\\n",
       "7479               0         88659.07                  0                1   \n",
       "3411               0         80215.20                  0                0   \n",
       "6027               1        186285.52                  1                0   \n",
       "1247               0         37654.31                  0                0   \n",
       "3716               0        187508.06                  1                0   \n",
       "...              ...              ...                ...              ...   \n",
       "4478               1         25684.85                  0                0   \n",
       "4094               1         25514.77                  0                0   \n",
       "3492               1         47349.00                  0                0   \n",
       "2177               1         34335.55                  0                0   \n",
       "4578               0         44653.50                  0                0   \n",
       "\n",
       "      Gender_Male  \n",
       "7479            1  \n",
       "3411            0  \n",
       "6027            1  \n",
       "1247            1  \n",
       "3716            0  \n",
       "...           ...  \n",
       "4478            1  \n",
       "4094            1  \n",
       "3492            0  \n",
       "2177            0  \n",
       "4578            1  \n",
       "\n",
       "[6000 rows x 11 columns]"
      ]
     },
     "execution_count": 32,
     "metadata": {},
     "output_type": "execute_result"
    }
   ],
   "source": [
    "features_train"
   ]
  },
  {
   "cell_type": "code",
   "execution_count": 33,
   "metadata": {
    "scrolled": true
   },
   "outputs": [
    {
     "name": "stderr",
     "output_type": "stream",
     "text": [
      "/tmp/ipykernel_100/2610552148.py:5: SettingWithCopyWarning: \n",
      "A value is trying to be set on a copy of a slice from a DataFrame.\n",
      "Try using .loc[row_indexer,col_indexer] = value instead\n",
      "\n",
      "See the caveats in the documentation: https://pandas.pydata.org/pandas-docs/stable/user_guide/indexing.html#returning-a-view-versus-a-copy\n",
      "  features_train[numeric] = scaler.transform(features_train[numeric])\n",
      "/opt/conda/envs/python3/lib/python3.9/site-packages/pandas/core/indexing.py:1738: SettingWithCopyWarning: \n",
      "A value is trying to be set on a copy of a slice from a DataFrame.\n",
      "Try using .loc[row_indexer,col_indexer] = value instead\n",
      "\n",
      "See the caveats in the documentation: https://pandas.pydata.org/pandas-docs/stable/user_guide/indexing.html#returning-a-view-versus-a-copy\n",
      "  self._setitem_single_column(loc, value[:, i].tolist(), pi)\n",
      "/tmp/ipykernel_100/2610552148.py:6: SettingWithCopyWarning: \n",
      "A value is trying to be set on a copy of a slice from a DataFrame.\n",
      "Try using .loc[row_indexer,col_indexer] = value instead\n",
      "\n",
      "See the caveats in the documentation: https://pandas.pydata.org/pandas-docs/stable/user_guide/indexing.html#returning-a-view-versus-a-copy\n",
      "  features_valid[numeric] = scaler.transform(features_valid[numeric])\n",
      "/opt/conda/envs/python3/lib/python3.9/site-packages/pandas/core/indexing.py:1738: SettingWithCopyWarning: \n",
      "A value is trying to be set on a copy of a slice from a DataFrame.\n",
      "Try using .loc[row_indexer,col_indexer] = value instead\n",
      "\n",
      "See the caveats in the documentation: https://pandas.pydata.org/pandas-docs/stable/user_guide/indexing.html#returning-a-view-versus-a-copy\n",
      "  self._setitem_single_column(loc, value[:, i].tolist(), pi)\n",
      "/tmp/ipykernel_100/2610552148.py:7: SettingWithCopyWarning: \n",
      "A value is trying to be set on a copy of a slice from a DataFrame.\n",
      "Try using .loc[row_indexer,col_indexer] = value instead\n",
      "\n",
      "See the caveats in the documentation: https://pandas.pydata.org/pandas-docs/stable/user_guide/indexing.html#returning-a-view-versus-a-copy\n",
      "  features_test[numeric] = scaler.transform(features_test[numeric])\n",
      "/opt/conda/envs/python3/lib/python3.9/site-packages/pandas/core/indexing.py:1738: SettingWithCopyWarning: \n",
      "A value is trying to be set on a copy of a slice from a DataFrame.\n",
      "Try using .loc[row_indexer,col_indexer] = value instead\n",
      "\n",
      "See the caveats in the documentation: https://pandas.pydata.org/pandas-docs/stable/user_guide/indexing.html#returning-a-view-versus-a-copy\n",
      "  self._setitem_single_column(loc, value[:, i].tolist(), pi)\n"
     ]
    }
   ],
   "source": [
    "#scale our numeric columns\n",
    "numeric = ['CreditScore', 'Age', 'Tenure', 'Balance', 'NumOfProducts', 'EstimatedSalary']\n",
    "scaler = StandardScaler()\n",
    "scaler.fit(features_train[numeric])\n",
    "features_train[numeric] = scaler.transform(features_train[numeric])\n",
    "features_valid[numeric] = scaler.transform(features_valid[numeric])\n",
    "features_test[numeric] = scaler.transform(features_test[numeric])"
   ]
  },
  {
   "cell_type": "markdown",
   "metadata": {},
   "source": [
    "Now that we have our data split and scaled appropriately, we can use our classification models.  For each type of model, we'll run a few variations to try and find the best hyperparameters to use."
   ]
  },
  {
   "cell_type": "markdown",
   "metadata": {},
   "source": [
    "### Decision Tree Models"
   ]
  },
  {
   "cell_type": "code",
   "execution_count": 34,
   "metadata": {},
   "outputs": [
    {
     "name": "stdout",
     "output_type": "stream",
     "text": [
      "F1 Score of the best model on the validation set (max_depth = 6): 0.5696969696969697\n"
     ]
    }
   ],
   "source": [
    "best_tree_model = None\n",
    "best_tree_score = 0\n",
    "best_tree_depth = 0\n",
    "\n",
    "for depth in range(1,11):\n",
    "    model = DecisionTreeClassifier(random_state=12345, max_depth=depth)\n",
    "    model.fit(features_train, target_train)\n",
    "    predicted_valid = model.predict(features_valid)\n",
    "    score = f1_score(target_valid, predicted_valid)\n",
    "    if score > best_tree_score:\n",
    "        best_tree_model = model\n",
    "        best_tree_score = score\n",
    "        best_tree_depth = depth\n",
    "\n",
    "print(f\"F1 Score of the best model on the validation set (max_depth = {best_tree_depth}): {best_tree_score}\")"
   ]
  },
  {
   "cell_type": "markdown",
   "metadata": {},
   "source": [
    "### Random Forest Models"
   ]
  },
  {
   "cell_type": "code",
   "execution_count": 35,
   "metadata": {},
   "outputs": [
    {
     "name": "stdout",
     "output_type": "stream",
     "text": [
      "F1 Score of the best model on the validation set (n_estimators = 10, max_depth = 10): 0.5891238670694864\n"
     ]
    }
   ],
   "source": [
    "best_forest_model = None\n",
    "best_forest_score = 0\n",
    "best_forest_est = 0\n",
    "best_forest_depth = 0\n",
    "\n",
    "for est in range(10, 51, 10):\n",
    "    for depth in range(1,11):\n",
    "        model = RandomForestClassifier(random_state=12345, n_estimators=est, max_depth=depth)\n",
    "        model.fit(features_train, target_train)\n",
    "        predicted_valid = model.predict(features_valid)\n",
    "        score = f1_score(target_valid, predicted_valid)\n",
    "        if score > best_forest_score:\n",
    "            best_forest_model = model\n",
    "            best_forest_score = score\n",
    "            best_forest_est = est\n",
    "            best_forest_depth = depth\n",
    "print(f\"F1 Score of the best model on the validation set (n_estimators = {best_forest_est}, max_depth = {best_forest_depth}): {best_forest_score}\")"
   ]
  },
  {
   "cell_type": "markdown",
   "metadata": {},
   "source": [
    "### Regression Model"
   ]
  },
  {
   "cell_type": "code",
   "execution_count": 36,
   "metadata": {},
   "outputs": [
    {
     "name": "stdout",
     "output_type": "stream",
     "text": [
      "F1 Score of the logistic regression model on the validation set: 0.33108108108108103\n"
     ]
    }
   ],
   "source": [
    "model = LogisticRegression(random_state=12345, solver='liblinear')\n",
    "model.fit(features_train, target_train)\n",
    "predicted_valid = model.predict(features_valid)\n",
    "regres_f1 = f1_score(target_valid, predicted_valid)\n",
    "print(\n",
    "    \"F1 Score of the logistic regression model on the validation set:\", regres_f1\n",
    ")"
   ]
  },
  {
   "cell_type": "markdown",
   "metadata": {},
   "source": [
    "### Comparison"
   ]
  },
  {
   "cell_type": "code",
   "execution_count": 37,
   "metadata": {},
   "outputs": [
    {
     "name": "stdout",
     "output_type": "stream",
     "text": [
      "F1 Score of the best model: 0.5697\n",
      "F1 Score of the best model: 0.58912\n",
      "F1 Score of the logistic regression model: 0.33108\n"
     ]
    }
   ],
   "source": [
    "print(f\"F1 Score of the best model: {best_tree_score:.5}\")\n",
    "print(f\"F1 Score of the best model: {best_forest_score:.5}\")\n",
    "print(f\"F1 Score of the logistic regression model: {regres_f1:.5}\")"
   ]
  },
  {
   "cell_type": "markdown",
   "metadata": {},
   "source": [
    "We can see that our DecisionTree and RandomForest models faired quite similarly, with the RandomForest coming out slightly on top.  Our RandomForestModel almost passes our F1 requirement of 0.59, but just misses the mark.  Our logistic regression model performed poorly in comparison."
   ]
  },
  {
   "cell_type": "markdown",
   "metadata": {},
   "source": [
    "## Impoving our Model"
   ]
  },
  {
   "cell_type": "markdown",
   "metadata": {},
   "source": [
    "### Upsampling"
   ]
  },
  {
   "cell_type": "markdown",
   "metadata": {},
   "source": [
    "One method we can to treat class imbalance it to use Upsampling, or Oversampling.  This strategy allows us to introduce more instances of the class that was underrepresented - in our case, a row where our target has a value of 1.  To do this we can define our own function.   "
   ]
  },
  {
   "cell_type": "code",
   "execution_count": 38,
   "metadata": {},
   "outputs": [],
   "source": [
    "def upsample(features, target, repeat):\n",
    "    features_zeros = features[target == 0]\n",
    "    features_ones = features[target == 1]\n",
    "    target_zeros = target[target == 0]\n",
    "    target_ones = target[target == 1]\n",
    "\n",
    "    features_upsampled = pd.concat([features_zeros] + [features_ones] * repeat)\n",
    "    target_upsampled = pd.concat([target_zeros] + [target_ones] * repeat)\n",
    "\n",
    "    features_upsampled, target_upsampled = shuffle(\n",
    "        features_upsampled, target_upsampled, random_state=12345\n",
    "    )\n",
    "\n",
    "    return features_upsampled, target_upsampled"
   ]
  },
  {
   "cell_type": "markdown",
   "metadata": {},
   "source": [
    "Now we upsample our data:"
   ]
  },
  {
   "cell_type": "code",
   "execution_count": 39,
   "metadata": {},
   "outputs": [],
   "source": [
    "#ftu = features_trainingset_upsampled\n",
    "ftu, ttu = upsample(features_train, target_train, int(ratio))"
   ]
  },
  {
   "cell_type": "code",
   "execution_count": 40,
   "metadata": {
    "scrolled": false
   },
   "outputs": [
    {
     "data": {
      "image/png": "[encoded data removed]",
      "text/plain": [
       "<Figure size 400x400 with 1 Axes>"
      ]
     },
     "metadata": {},
     "output_type": "display_data"
    }
   ],
   "source": [
    "plot_resample_results(ttu, \"title\")"
   ]
  },
  {
   "cell_type": "markdown",
   "metadata": {},
   "source": [
    "After Upsampling, we can see that our classes are more closely balanced.  However, a slight imbalance still exists.  Let's see how this impacts our models:"
   ]
  },
  {
   "cell_type": "markdown",
   "metadata": {},
   "source": [
    "#### Decision Tree Models"
   ]
  },
  {
   "cell_type": "code",
   "execution_count": 41,
   "metadata": {},
   "outputs": [
    {
     "name": "stdout",
     "output_type": "stream",
     "text": [
      "F1 Score of the best model on the validation set (max_depth = 5): 0.586374695863747\n"
     ]
    }
   ],
   "source": [
    "best_uptree_model = None\n",
    "best_uptree_score = 0\n",
    "best_uptree_depth = 0\n",
    "\n",
    "for depth in range(1,11):\n",
    "    model = DecisionTreeClassifier(random_state=12345, max_depth=depth)\n",
    "    model.fit(ftu, ttu)\n",
    "    predicted_valid = model.predict(features_valid)\n",
    "    score = f1_score(target_valid, predicted_valid)\n",
    "    if score > best_uptree_score:\n",
    "        best_uptree_model = model\n",
    "        best_uptree_score = score\n",
    "        best_uptree_depth = depth\n",
    "\n",
    "print(f\"F1 Score of the best model on the validation set (max_depth = {best_uptree_depth}): {best_uptree_score}\")"
   ]
  },
  {
   "cell_type": "markdown",
   "metadata": {},
   "source": [
    "#### Random Forest Models"
   ]
  },
  {
   "cell_type": "code",
   "execution_count": 42,
   "metadata": {},
   "outputs": [
    {
     "name": "stdout",
     "output_type": "stream",
     "text": [
      "F1 Score of the best model on the validation set (n_estimators = 40, max_depth = 6): 0.6364692218350754\n"
     ]
    }
   ],
   "source": [
    "best_upforest_model = None\n",
    "best_upforest_score = 0\n",
    "best_upforest_est = 0\n",
    "best_upforest_depth = 0\n",
    "\n",
    "for est in range(10, 51, 10):\n",
    "    for depth in range(1,11):\n",
    "        model = RandomForestClassifier(random_state=12345, n_estimators=est, max_depth=depth)\n",
    "        model.fit(ftu, ttu)\n",
    "        predicted_valid = model.predict(features_valid)\n",
    "        score = f1_score(target_valid, predicted_valid)\n",
    "        if score > best_upforest_score:\n",
    "            best_upforest_model = model\n",
    "            best_upforest_score = score\n",
    "            best_upforest_est = est\n",
    "            best_upforest_depth = depth\n",
    "print(f\"F1 Score of the best model on the validation set (n_estimators = {best_upforest_est}, max_depth = {best_upforest_depth}): {best_upforest_score}\")"
   ]
  },
  {
   "cell_type": "markdown",
   "metadata": {},
   "source": [
    "#### Regression Model"
   ]
  },
  {
   "cell_type": "code",
   "execution_count": 43,
   "metadata": {},
   "outputs": [
    {
     "name": "stdout",
     "output_type": "stream",
     "text": [
      "F1 Score of the logistic regression model on the validation set: 0.5\n"
     ]
    }
   ],
   "source": [
    "model = LogisticRegression(random_state=12345, solver='liblinear')\n",
    "model.fit(ftu, ttu)\n",
    "predicted_valid = model.predict(features_valid)\n",
    "upregres_f1 = f1_score(target_valid, predicted_valid)\n",
    "print(\n",
    "    \"F1 Score of the logistic regression model on the validation set:\", upregres_f1\n",
    ")"
   ]
  },
  {
   "cell_type": "markdown",
   "metadata": {},
   "source": [
    "#### Comparison"
   ]
  },
  {
   "cell_type": "code",
   "execution_count": 44,
   "metadata": {},
   "outputs": [
    {
     "name": "stdout",
     "output_type": "stream",
     "text": [
      "F1 Score of the best model: 0.58637\n",
      "F1 Score of the best model: 0.63647\n",
      "F1 Score of the logistic regression model: 0.5\n"
     ]
    }
   ],
   "source": [
    "print(f\"F1 Score of the best model: {best_uptree_score:.5}\")\n",
    "print(f\"F1 Score of the best model: {best_upforest_score:.5}\")\n",
    "print(f\"F1 Score of the logistic regression model: {upregres_f1:.5}\")"
   ]
  },
  {
   "cell_type": "markdown",
   "metadata": {},
   "source": [
    "- From oversampling, our DecisionTreeClassifier has improved, but not quite enough to pass our target of 0.59.  While small, the improvement is noticeable.  \n",
    "- Our RandomForestModel's F1 Score also increased significantly (about 0.05) and now passes our target of 0.59.  \n",
    "- Our Regression Model saw the most improvement, jumping up by roughly 0.17.  However, the Regression Model's score still does not meet our target.\n",
    "- Main takeaway: Our RandomForestModel is once again our best model, with an F1 score of roughly 0.636."
   ]
  },
  {
   "cell_type": "markdown",
   "metadata": {},
   "source": [
    "### Undersampling"
   ]
  },
  {
   "cell_type": "markdown",
   "metadata": {},
   "source": [
    "Similar to our Up/Over Sampling method, we can do the opposite.  Rather than create more instances of the minority class (the underrepresented values), we can instead reduce instances of the majority class (the overrepresented values).  Let's quickly define a function to accomplish this:"
   ]
  },
  {
   "cell_type": "code",
   "execution_count": 45,
   "metadata": {},
   "outputs": [],
   "source": [
    "def downsample(features, target, fraction):\n",
    "    features_zeros = features[target == 0]\n",
    "    features_ones = features[target == 1]\n",
    "    target_zeros = target[target == 0]\n",
    "    target_ones = target[target == 1]\n",
    "\n",
    "    features_downsampled = pd.concat(\n",
    "        [features_zeros.sample(frac=fraction, random_state=12345)]\n",
    "        + [features_ones]\n",
    "    )\n",
    "    target_downsampled = pd.concat(\n",
    "        [target_zeros.sample(frac=fraction, random_state=12345)]\n",
    "        + [target_ones]\n",
    "    )\n",
    "\n",
    "    features_downsampled, target_downsampled = shuffle(\n",
    "        features_downsampled, target_downsampled, random_state=12345\n",
    "    )\n",
    "\n",
    "    return features_downsampled, target_downsampled"
   ]
  },
  {
   "cell_type": "markdown",
   "metadata": {},
   "source": [
    "Now we undersample our data: "
   ]
  },
  {
   "cell_type": "code",
   "execution_count": 46,
   "metadata": {},
   "outputs": [],
   "source": [
    "#ftd = features_trainingset_downsampled\n",
    "ftd, ttd = downsample(features_train, target_train, 1/ratio)"
   ]
  },
  {
   "cell_type": "code",
   "execution_count": 47,
   "metadata": {},
   "outputs": [
    {
     "data": {
      "image/png": "[encoded data removed]",
      "text/plain": [
       "<Figure size 400x400 with 1 Axes>"
      ]
     },
     "metadata": {},
     "output_type": "display_data"
    }
   ],
   "source": [
    "plot_resample_results(ttd, \"title\")"
   ]
  },
  {
   "cell_type": "markdown",
   "metadata": {},
   "source": [
    "Our Undersampling method provided a more balanced result than our Oversampling function, as the function we created for downsampling is able to utilize a fraction instead of an integer.  Let's build our models. "
   ]
  },
  {
   "cell_type": "markdown",
   "metadata": {},
   "source": [
    "#### Decision Tree Models"
   ]
  },
  {
   "cell_type": "code",
   "execution_count": 48,
   "metadata": {},
   "outputs": [
    {
     "name": "stdout",
     "output_type": "stream",
     "text": [
      "F1 Score of the best model on the validation set (max_depth = 6): 0.5754141238012206\n"
     ]
    }
   ],
   "source": [
    "best_downtree_model = None\n",
    "best_downtree_depth = 0\n",
    "best_downtree_score = 0\n",
    "\n",
    "for depth in range (1,11):\n",
    "    model = DecisionTreeClassifier(random_state=12345, max_depth=depth)\n",
    "    model.fit(ftd, ttd)\n",
    "    predicted_valid = model.predict(features_valid)\n",
    "    score = f1_score(target_valid, predicted_valid)\n",
    "    if score > best_downtree_score:\n",
    "        best_downtree_model = model\n",
    "        best_downtree_depth = depth\n",
    "        best_downtree_score = score\n",
    "        \n",
    "print(f\"F1 Score of the best model on the validation set (max_depth = {best_downtree_depth}): {best_downtree_score}\")"
   ]
  },
  {
   "cell_type": "markdown",
   "metadata": {},
   "source": [
    "#### Random Forest Models"
   ]
  },
  {
   "cell_type": "code",
   "execution_count": 49,
   "metadata": {},
   "outputs": [
    {
     "name": "stdout",
     "output_type": "stream",
     "text": [
      "F1 Score of the best model on the validation set (n_estimators = 50, max_depth = 7): 0.6088631984585742\n"
     ]
    }
   ],
   "source": [
    "best_downforest_model=None\n",
    "best_downforest_est=0\n",
    "best_downforest_depth=0\n",
    "best_downforest_score=0\n",
    "\n",
    "for est in range(10, 51, 10):\n",
    "    for depth in range(1, 11):\n",
    "        model = RandomForestClassifier(random_state=12345, n_estimators=est, max_depth=depth)\n",
    "        model.fit(ftd, ttd)\n",
    "        predicted_valid = model.predict(features_valid)\n",
    "        score = f1_score(target_valid, predicted_valid)\n",
    "        if score > best_downforest_score:\n",
    "            best_downforest_model = model\n",
    "            best_downforest_est = est\n",
    "            best_downforest_depth = depth\n",
    "            best_downforest_score = score\n",
    "\n",
    "print(f\"F1 Score of the best model on the validation set (n_estimators = {best_downforest_est}, max_depth = {best_downforest_depth}): {best_downforest_score}\")"
   ]
  },
  {
   "cell_type": "markdown",
   "metadata": {},
   "source": [
    "#### Regression Model"
   ]
  },
  {
   "cell_type": "code",
   "execution_count": 50,
   "metadata": {},
   "outputs": [
    {
     "name": "stdout",
     "output_type": "stream",
     "text": [
      "F1 Score of the logistic regression model on the validation set: 0.4837861524978088\n"
     ]
    }
   ],
   "source": [
    "model = LogisticRegression(random_state=12345, solver='liblinear')\n",
    "model.fit(ftd, ttd)\n",
    "predicted_valid = model.predict(features_valid)\n",
    "downregres_f1 = f1_score(target_valid, predicted_valid)\n",
    "print(\n",
    "    \"F1 Score of the logistic regression model on the validation set:\", downregres_f1\n",
    ")"
   ]
  },
  {
   "cell_type": "markdown",
   "metadata": {},
   "source": [
    "#### Comparison"
   ]
  },
  {
   "cell_type": "code",
   "execution_count": 51,
   "metadata": {},
   "outputs": [
    {
     "name": "stdout",
     "output_type": "stream",
     "text": [
      "F1 Score of the best model: 0.57541\n",
      "F1 Score of the best model: 0.60886\n",
      "F1 Score of the logistic regression model: 0.48379\n"
     ]
    }
   ],
   "source": [
    "print(f\"F1 Score of the best model: {best_downtree_score:.5}\")\n",
    "print(f\"F1 Score of the best model: {best_downforest_score:.5}\")\n",
    "print(f\"F1 Score of the logistic regression model: {downregres_f1:.5}\")"
   ]
  },
  {
   "cell_type": "markdown",
   "metadata": {},
   "source": [
    "Our \n",
    "\n",
    "Our downsampling method, while better than our baseline, underperforms in comparison to our Upsampling"
   ]
  },
  {
   "cell_type": "markdown",
   "metadata": {},
   "source": [
    "- From undersampling, our DecisionTreeClassifier performs similarly to our baseline model; the F1 score only slightly improves.  \n",
    "- Our RandomForestModel's F1 Score increased slightly and passes our target of 0.59.  \n",
    "- Our Regression Model saw the most improvement with undersampling, jumping up by 0.2.  However, the Regression Model's score still does not meet our target.\n",
    "\n",
    "- Main takeaway: Our RandomForestModel is once again our best model, with an F1 score of roughly 0.608."
   ]
  },
  {
   "cell_type": "markdown",
   "metadata": {},
   "source": [
    "From testing different models we have one Key Point to mention.  Out of all models, our Upsampling method yielded the best results for all models.  The overall best model was our Upsampled RandomForestModel."
   ]
  },
  {
   "cell_type": "markdown",
   "metadata": {},
   "source": [
    "## Final Model"
   ]
  },
  {
   "cell_type": "code",
   "execution_count": 52,
   "metadata": {},
   "outputs": [
    {
     "name": "stdout",
     "output_type": "stream",
     "text": [
      "Our overall best model was our Upsampled RandomForest Model with the following parameters: \n",
      " n_estimators: 40 \n",
      " max_depth: 6\n",
      "Our model obtained an F1 Score of 0.63647 on the validation set.\n"
     ]
    }
   ],
   "source": [
    "print(f\"Our overall best model was our Upsampled RandomForest Model with the following parameters: \\n n_estimators: {best_upforest_est} \\n max_depth: {best_upforest_depth}\")\n",
    "print(f\"Our model obtained an F1 Score of {best_upforest_score:.5f} on the validation set.\")"
   ]
  },
  {
   "cell_type": "markdown",
   "metadata": {},
   "source": [
    "Now lets use our model on our final test set and see the values we obtain:"
   ]
  },
  {
   "cell_type": "code",
   "execution_count": 53,
   "metadata": {
    "scrolled": false
   },
   "outputs": [
    {
     "name": "stdout",
     "output_type": "stream",
     "text": [
      "0.5909617612977984\n"
     ]
    }
   ],
   "source": [
    "model = best_upforest_model\n",
    "model.fit(ftu, ttu)\n",
    "predicted_test = model.predict(features_test)\n",
    "final_score = f1_score(target_test, predicted_test)\n",
    "print(final_score)"
   ]
  },
  {
   "cell_type": "markdown",
   "metadata": {},
   "source": [
    "Our final model has an F1 Score of 0.59 on the test set.  We've just cleared our target!  Let's examine our AUC-ROC score as well."
   ]
  },
  {
   "cell_type": "code",
   "execution_count": 54,
   "metadata": {},
   "outputs": [
    {
     "data": {
      "image/png": "[encoded data removed]",
      "text/plain": [
       "<Figure size 640x480 with 1 Axes>"
      ]
     },
     "metadata": {},
     "output_type": "display_data"
    }
   ],
   "source": [
    "#plotting our curve\n",
    "probs_test = model.predict_proba(features_test)\n",
    "probs_one_valid = probs_test[:, 1]\n",
    "\n",
    "fpr, tpr, thresholds = roc_curve(target_test, probs_one_valid)\n",
    "plt.figure()\n",
    "plt.plot(fpr, tpr)\n",
    "\n",
    "plt.plot([0,1], [0,1], linestyle='--')\n",
    "\n",
    "plt.xlim([0,1])\n",
    "plt.ylim([0,1])\n",
    "\n",
    "plt.xlabel('False Positive Rate')\n",
    "plt.ylabel('True Positive Rate')\n",
    "plt.grid(True)\n",
    "plt.title(\"ROC curve\")\n",
    "plt.show()"
   ]
  },
  {
   "cell_type": "code",
   "execution_count": 55,
   "metadata": {
    "scrolled": true
   },
   "outputs": [
    {
     "name": "stdout",
     "output_type": "stream",
     "text": [
      " ROC AUC of our final model on the test set: 0.74276\n"
     ]
    }
   ],
   "source": [
    "print(f\" ROC AUC of our final model on the test set: {roc_auc_score(target_test, predicted_test):.5f}\")"
   ]
  },
  {
   "cell_type": "markdown",
   "metadata": {},
   "source": [
    "## Conclusions"
   ]
  },
  {
   "cell_type": "markdown",
   "metadata": {},
   "source": [
    "Through testing multiple models, we were able to produce a final model that passes our F1 Score requirement of 0.59.  \n",
    "\n",
    "We tested three different kinds of models:\n",
    "- DecisionTreeClassifier\n",
    "- RandomForestClassifier\n",
    "- LogisticRegression\n",
    "\n",
    "In all of our tests, the RandomForestClassifier produced the best model.  When working to improve our baseline models, Upsampling created the greatest improvement.  We selected a RandomForestClassifier model that uses Upsampling for our final model. \n",
    "\n",
    "Our final model had an F1 score of 0.5909 on the testing set.  While there is certainly room for improvement towards perfect precision and recall, our score is acceptable for this task.  We've also obtained an AUC score of 0.74276.  We'd say this score is moderately accurate.  Again, while there is room for improvement, our model shows that is has at least some ability to predict correctly."
   ]
  }
 ],
 "metadata": {
  "ExecuteTimeLog": [
   {
    "duration": 819,
    "start_time": "2025-01-16T00:40:59.421Z"
   },
   {
    "duration": 24,
    "start_time": "2025-01-16T00:48:13.415Z"
   },
   {
    "duration": 10,
    "start_time": "2025-01-16T00:48:29.497Z"
   },
   {
    "duration": 14,
    "start_time": "2025-01-16T00:49:23.750Z"
   },
   {
    "duration": 7,
    "start_time": "2025-01-16T00:49:49.377Z"
   },
   {
    "duration": 126,
    "start_time": "2025-01-16T00:49:58.504Z"
   },
   {
    "duration": 493,
    "start_time": "2025-01-16T00:50:05.727Z"
   },
   {
    "duration": 5,
    "start_time": "2025-01-16T00:50:12.699Z"
   },
   {
    "duration": 5,
    "start_time": "2025-01-16T00:54:54.240Z"
   },
   {
    "duration": 5,
    "start_time": "2025-01-16T00:55:46.742Z"
   },
   {
    "duration": 5,
    "start_time": "2025-01-16T00:55:53.374Z"
   },
   {
    "duration": 6,
    "start_time": "2025-01-16T00:56:00.829Z"
   },
   {
    "duration": 814,
    "start_time": "2025-01-23T05:34:33.853Z"
   },
   {
    "duration": 25,
    "start_time": "2025-01-23T05:34:34.670Z"
   },
   {
    "duration": 11,
    "start_time": "2025-01-23T05:34:34.697Z"
   },
   {
    "duration": 8,
    "start_time": "2025-01-23T05:34:34.709Z"
   },
   {
    "duration": 14,
    "start_time": "2025-01-23T05:34:34.719Z"
   },
   {
    "duration": 6,
    "start_time": "2025-01-23T05:36:10.794Z"
   },
   {
    "duration": 840,
    "start_time": "2025-02-04T00:17:39.157Z"
   },
   {
    "duration": 25,
    "start_time": "2025-02-04T00:17:39.999Z"
   },
   {
    "duration": 11,
    "start_time": "2025-02-04T00:17:40.026Z"
   },
   {
    "duration": 7,
    "start_time": "2025-02-04T00:17:40.039Z"
   },
   {
    "duration": 6,
    "start_time": "2025-02-04T00:17:40.048Z"
   },
   {
    "duration": 13,
    "start_time": "2025-02-04T00:47:54.762Z"
   },
   {
    "duration": 5,
    "start_time": "2025-02-04T01:53:29.341Z"
   },
   {
    "duration": 5,
    "start_time": "2025-02-04T01:53:34.509Z"
   },
   {
    "duration": 4,
    "start_time": "2025-02-04T01:56:37.445Z"
   },
   {
    "duration": 4,
    "start_time": "2025-02-04T02:06:04.289Z"
   },
   {
    "duration": 4,
    "start_time": "2025-02-04T02:09:23.217Z"
   },
   {
    "duration": 125,
    "start_time": "2025-02-04T02:10:01.786Z"
   },
   {
    "duration": 2050,
    "start_time": "2025-02-04T02:10:07.588Z"
   },
   {
    "duration": 3,
    "start_time": "2025-02-04T02:10:54.004Z"
   },
   {
    "duration": 2575,
    "start_time": "2025-02-05T01:09:24.111Z"
   },
   {
    "duration": 26,
    "start_time": "2025-02-05T01:09:26.689Z"
   },
   {
    "duration": 11,
    "start_time": "2025-02-05T01:09:26.716Z"
   },
   {
    "duration": 14,
    "start_time": "2025-02-05T01:09:26.728Z"
   },
   {
    "duration": 5,
    "start_time": "2025-02-05T01:09:26.744Z"
   },
   {
    "duration": 6,
    "start_time": "2025-02-05T01:09:26.751Z"
   },
   {
    "duration": 6,
    "start_time": "2025-02-05T01:09:26.758Z"
   },
   {
    "duration": 5,
    "start_time": "2025-02-05T01:09:26.765Z"
   },
   {
    "duration": 109,
    "start_time": "2025-02-05T01:09:26.771Z"
   },
   {
    "duration": 2,
    "start_time": "2025-02-05T01:12:37.741Z"
   },
   {
    "duration": 8,
    "start_time": "2025-02-05T01:13:47.359Z"
   },
   {
    "duration": 7,
    "start_time": "2025-02-05T01:17:08.411Z"
   },
   {
    "duration": 223,
    "start_time": "2025-02-05T01:17:16.665Z"
   },
   {
    "duration": 6,
    "start_time": "2025-02-05T01:17:19.446Z"
   },
   {
    "duration": 5,
    "start_time": "2025-02-05T01:17:24.888Z"
   },
   {
    "duration": 5,
    "start_time": "2025-02-05T01:17:31.651Z"
   },
   {
    "duration": 13,
    "start_time": "2025-02-05T01:30:33.331Z"
   },
   {
    "duration": 49,
    "start_time": "2025-02-05T01:30:36.907Z"
   },
   {
    "duration": 3,
    "start_time": "2025-02-05T01:30:44.349Z"
   },
   {
    "duration": 3,
    "start_time": "2025-02-05T01:30:50.226Z"
   },
   {
    "duration": 3,
    "start_time": "2025-02-05T01:30:52.424Z"
   },
   {
    "duration": 7,
    "start_time": "2025-02-05T01:32:28.786Z"
   },
   {
    "duration": 11,
    "start_time": "2025-02-05T01:32:32.429Z"
   },
   {
    "duration": 4,
    "start_time": "2025-02-05T01:32:34.577Z"
   },
   {
    "duration": 344,
    "start_time": "2025-02-05T01:33:00.938Z"
   },
   {
    "duration": 979,
    "start_time": "2025-02-05T01:33:11.360Z"
   },
   {
    "duration": 16,
    "start_time": "2025-02-05T01:33:12.341Z"
   },
   {
    "duration": 11,
    "start_time": "2025-02-05T01:33:12.358Z"
   },
   {
    "duration": 15,
    "start_time": "2025-02-05T01:33:12.372Z"
   },
   {
    "duration": 81,
    "start_time": "2025-02-05T01:33:12.389Z"
   },
   {
    "duration": 7,
    "start_time": "2025-02-05T01:33:12.472Z"
   },
   {
    "duration": 6,
    "start_time": "2025-02-05T01:33:12.480Z"
   },
   {
    "duration": 7,
    "start_time": "2025-02-05T01:33:12.487Z"
   },
   {
    "duration": 431,
    "start_time": "2025-02-05T01:33:12.495Z"
   },
   {
    "duration": 0,
    "start_time": "2025-02-05T01:33:12.928Z"
   },
   {
    "duration": 0,
    "start_time": "2025-02-05T01:33:12.931Z"
   },
   {
    "duration": 0,
    "start_time": "2025-02-05T01:33:12.932Z"
   },
   {
    "duration": 0,
    "start_time": "2025-02-05T01:33:12.933Z"
   },
   {
    "duration": 0,
    "start_time": "2025-02-05T01:33:12.934Z"
   },
   {
    "duration": 5,
    "start_time": "2025-02-05T01:33:30.577Z"
   },
   {
    "duration": 4,
    "start_time": "2025-02-05T01:33:32.828Z"
   },
   {
    "duration": 6,
    "start_time": "2025-02-05T01:33:43.925Z"
   },
   {
    "duration": 4,
    "start_time": "2025-02-05T01:40:17.478Z"
   },
   {
    "duration": 3,
    "start_time": "2025-02-05T01:40:26.558Z"
   },
   {
    "duration": 4,
    "start_time": "2025-02-05T01:43:03.531Z"
   },
   {
    "duration": 4,
    "start_time": "2025-02-05T01:43:05.888Z"
   },
   {
    "duration": 4,
    "start_time": "2025-02-05T01:43:13.044Z"
   },
   {
    "duration": 4,
    "start_time": "2025-02-05T01:43:13.621Z"
   },
   {
    "duration": 940,
    "start_time": "2025-02-05T01:43:22.173Z"
   },
   {
    "duration": 16,
    "start_time": "2025-02-05T01:43:23.115Z"
   },
   {
    "duration": 10,
    "start_time": "2025-02-05T01:43:23.133Z"
   },
   {
    "duration": 14,
    "start_time": "2025-02-05T01:43:23.144Z"
   },
   {
    "duration": 86,
    "start_time": "2025-02-05T01:43:23.160Z"
   },
   {
    "duration": 6,
    "start_time": "2025-02-05T01:43:23.248Z"
   },
   {
    "duration": 5,
    "start_time": "2025-02-05T01:43:23.256Z"
   },
   {
    "duration": 6,
    "start_time": "2025-02-05T01:43:23.262Z"
   },
   {
    "duration": 3,
    "start_time": "2025-02-05T01:43:23.270Z"
   },
   {
    "duration": 4,
    "start_time": "2025-02-05T01:43:23.274Z"
   },
   {
    "duration": 4,
    "start_time": "2025-02-05T01:43:23.280Z"
   },
   {
    "duration": 4,
    "start_time": "2025-02-05T01:43:23.286Z"
   },
   {
    "duration": 41,
    "start_time": "2025-02-05T01:43:23.292Z"
   },
   {
    "duration": 4,
    "start_time": "2025-02-05T01:43:23.337Z"
   },
   {
    "duration": 3,
    "start_time": "2025-02-05T01:43:23.343Z"
   },
   {
    "duration": 247,
    "start_time": "2025-02-05T01:43:23.348Z"
   },
   {
    "duration": 0,
    "start_time": "2025-02-05T01:43:23.598Z"
   },
   {
    "duration": 0,
    "start_time": "2025-02-05T01:43:23.599Z"
   },
   {
    "duration": 0,
    "start_time": "2025-02-05T01:43:23.600Z"
   },
   {
    "duration": 19,
    "start_time": "2025-02-05T01:43:50.172Z"
   },
   {
    "duration": 995,
    "start_time": "2025-02-05T01:44:02.960Z"
   },
   {
    "duration": 24,
    "start_time": "2025-02-05T01:44:03.957Z"
   },
   {
    "duration": 11,
    "start_time": "2025-02-05T01:44:03.984Z"
   },
   {
    "duration": 15,
    "start_time": "2025-02-05T01:44:03.997Z"
   },
   {
    "duration": 70,
    "start_time": "2025-02-05T01:44:04.032Z"
   },
   {
    "duration": 6,
    "start_time": "2025-02-05T01:44:04.104Z"
   },
   {
    "duration": 20,
    "start_time": "2025-02-05T01:44:04.112Z"
   },
   {
    "duration": 9,
    "start_time": "2025-02-05T01:44:04.134Z"
   },
   {
    "duration": 4,
    "start_time": "2025-02-05T01:44:04.144Z"
   },
   {
    "duration": 4,
    "start_time": "2025-02-05T01:44:04.150Z"
   },
   {
    "duration": 5,
    "start_time": "2025-02-05T01:44:04.156Z"
   },
   {
    "duration": 3,
    "start_time": "2025-02-05T01:44:04.162Z"
   },
   {
    "duration": 25,
    "start_time": "2025-02-05T01:44:04.167Z"
   },
   {
    "duration": 33,
    "start_time": "2025-02-05T01:44:04.200Z"
   },
   {
    "duration": 4,
    "start_time": "2025-02-05T01:44:04.236Z"
   },
   {
    "duration": 6,
    "start_time": "2025-02-05T01:44:04.242Z"
   },
   {
    "duration": 6,
    "start_time": "2025-02-05T01:44:04.250Z"
   },
   {
    "duration": 121,
    "start_time": "2025-02-05T01:44:04.257Z"
   },
   {
    "duration": 9,
    "start_time": "2025-02-05T01:50:44.309Z"
   },
   {
    "duration": 14,
    "start_time": "2025-02-05T01:50:46.161Z"
   },
   {
    "duration": 135,
    "start_time": "2025-02-05T01:50:58.736Z"
   },
   {
    "duration": 932,
    "start_time": "2025-02-05T01:52:33.644Z"
   },
   {
    "duration": 16,
    "start_time": "2025-02-05T01:52:34.579Z"
   },
   {
    "duration": 11,
    "start_time": "2025-02-05T01:52:34.596Z"
   },
   {
    "duration": 27,
    "start_time": "2025-02-05T01:52:34.609Z"
   },
   {
    "duration": 61,
    "start_time": "2025-02-05T01:52:34.639Z"
   },
   {
    "duration": 5,
    "start_time": "2025-02-05T01:52:34.702Z"
   },
   {
    "duration": 24,
    "start_time": "2025-02-05T01:52:34.709Z"
   },
   {
    "duration": 6,
    "start_time": "2025-02-05T01:52:34.735Z"
   },
   {
    "duration": 4,
    "start_time": "2025-02-05T01:52:34.742Z"
   },
   {
    "duration": 3,
    "start_time": "2025-02-05T01:52:34.748Z"
   },
   {
    "duration": 4,
    "start_time": "2025-02-05T01:52:34.753Z"
   },
   {
    "duration": 4,
    "start_time": "2025-02-05T01:52:34.759Z"
   },
   {
    "duration": 7,
    "start_time": "2025-02-05T01:52:34.765Z"
   },
   {
    "duration": 9,
    "start_time": "2025-02-05T01:52:34.774Z"
   },
   {
    "duration": 53,
    "start_time": "2025-02-05T01:52:34.784Z"
   },
   {
    "duration": 5,
    "start_time": "2025-02-05T01:52:34.838Z"
   },
   {
    "duration": 91,
    "start_time": "2025-02-05T01:52:34.845Z"
   },
   {
    "duration": 225,
    "start_time": "2025-02-05T02:43:00.455Z"
   },
   {
    "duration": 14,
    "start_time": "2025-02-05T02:43:06.383Z"
   },
   {
    "duration": 30,
    "start_time": "2025-02-05T02:43:54.235Z"
   },
   {
    "duration": 18,
    "start_time": "2025-02-05T02:44:12.653Z"
   },
   {
    "duration": 10,
    "start_time": "2025-02-05T02:44:25.245Z"
   },
   {
    "duration": 16,
    "start_time": "2025-02-05T02:45:12.054Z"
   },
   {
    "duration": 9,
    "start_time": "2025-02-05T02:47:57.125Z"
   },
   {
    "duration": 11,
    "start_time": "2025-02-05T02:48:04.892Z"
   },
   {
    "duration": 21,
    "start_time": "2025-02-05T02:48:13.060Z"
   },
   {
    "duration": 31,
    "start_time": "2025-02-05T02:48:43.647Z"
   },
   {
    "duration": 26,
    "start_time": "2025-02-05T02:48:48.965Z"
   },
   {
    "duration": 24,
    "start_time": "2025-02-05T02:48:58.305Z"
   },
   {
    "duration": 24,
    "start_time": "2025-02-05T02:49:54.322Z"
   },
   {
    "duration": 976,
    "start_time": "2025-02-05T02:50:17.455Z"
   },
   {
    "duration": 18,
    "start_time": "2025-02-05T02:50:18.433Z"
   },
   {
    "duration": 10,
    "start_time": "2025-02-05T02:50:18.453Z"
   },
   {
    "duration": 14,
    "start_time": "2025-02-05T02:50:18.465Z"
   },
   {
    "duration": 78,
    "start_time": "2025-02-05T02:50:18.483Z"
   },
   {
    "duration": 7,
    "start_time": "2025-02-05T02:50:18.562Z"
   },
   {
    "duration": 6,
    "start_time": "2025-02-05T02:50:18.570Z"
   },
   {
    "duration": 7,
    "start_time": "2025-02-05T02:50:18.577Z"
   },
   {
    "duration": 4,
    "start_time": "2025-02-05T02:50:18.585Z"
   },
   {
    "duration": 4,
    "start_time": "2025-02-05T02:50:18.590Z"
   },
   {
    "duration": 4,
    "start_time": "2025-02-05T02:50:18.596Z"
   },
   {
    "duration": 4,
    "start_time": "2025-02-05T02:50:18.632Z"
   },
   {
    "duration": 8,
    "start_time": "2025-02-05T02:50:18.637Z"
   },
   {
    "duration": 8,
    "start_time": "2025-02-05T02:50:18.648Z"
   },
   {
    "duration": 16,
    "start_time": "2025-02-05T02:50:18.657Z"
   },
   {
    "duration": 5,
    "start_time": "2025-02-05T02:50:18.674Z"
   },
   {
    "duration": 111,
    "start_time": "2025-02-05T02:50:18.681Z"
   },
   {
    "duration": 23,
    "start_time": "2025-02-05T02:50:18.793Z"
   },
   {
    "duration": 15,
    "start_time": "2025-02-05T02:50:18.817Z"
   },
   {
    "duration": 7,
    "start_time": "2025-02-05T02:52:03.084Z"
   },
   {
    "duration": 6,
    "start_time": "2025-02-05T02:53:20.603Z"
   },
   {
    "duration": 131,
    "start_time": "2025-02-05T03:17:24.236Z"
   },
   {
    "duration": 274,
    "start_time": "2025-02-05T03:19:08.156Z"
   },
   {
    "duration": 2,
    "start_time": "2025-02-05T03:19:15.749Z"
   },
   {
    "duration": 19,
    "start_time": "2025-02-05T03:19:37.158Z"
   },
   {
    "duration": 36,
    "start_time": "2025-02-05T03:20:32.965Z"
   },
   {
    "duration": 28,
    "start_time": "2025-02-05T03:20:37.249Z"
   },
   {
    "duration": 140,
    "start_time": "2025-02-05T03:22:09.744Z"
   },
   {
    "duration": 135,
    "start_time": "2025-02-05T03:24:22.519Z"
   },
   {
    "duration": 33,
    "start_time": "2025-02-05T03:27:29.304Z"
   },
   {
    "duration": 3,
    "start_time": "2025-02-05T03:28:02.800Z"
   },
   {
    "duration": 13,
    "start_time": "2025-02-05T03:28:08.083Z"
   },
   {
    "duration": 13,
    "start_time": "2025-02-05T03:28:12.936Z"
   },
   {
    "duration": 13,
    "start_time": "2025-02-05T03:28:17.495Z"
   },
   {
    "duration": 4903,
    "start_time": "2025-02-05T03:40:26.932Z"
   },
   {
    "duration": 14,
    "start_time": "2025-02-05T03:45:49.698Z"
   },
   {
    "duration": 3,
    "start_time": "2025-02-05T03:46:27.773Z"
   },
   {
    "duration": 4,
    "start_time": "2025-02-05T03:46:49.566Z"
   },
   {
    "duration": 3,
    "start_time": "2025-02-05T03:46:57.065Z"
   },
   {
    "duration": 13,
    "start_time": "2025-02-05T03:47:50.853Z"
   },
   {
    "duration": 3,
    "start_time": "2025-02-05T03:47:56.031Z"
   },
   {
    "duration": 3,
    "start_time": "2025-02-05T03:48:00.242Z"
   },
   {
    "duration": 3,
    "start_time": "2025-02-05T03:48:05.477Z"
   },
   {
    "duration": 3,
    "start_time": "2025-02-05T03:48:09.204Z"
   },
   {
    "duration": 3,
    "start_time": "2025-02-05T03:48:12.518Z"
   },
   {
    "duration": 4,
    "start_time": "2025-02-05T03:48:25.579Z"
   },
   {
    "duration": 151,
    "start_time": "2025-02-05T04:07:49.237Z"
   },
   {
    "duration": 260,
    "start_time": "2025-02-05T04:07:59.676Z"
   },
   {
    "duration": 259,
    "start_time": "2025-02-05T04:08:22.808Z"
   },
   {
    "duration": 186,
    "start_time": "2025-02-05T04:09:53.781Z"
   },
   {
    "duration": 326,
    "start_time": "2025-02-05T04:10:00.525Z"
   },
   {
    "duration": 3,
    "start_time": "2025-02-05T04:13:50.220Z"
   },
   {
    "duration": 3,
    "start_time": "2025-02-05T04:35:38.347Z"
   },
   {
    "duration": 18,
    "start_time": "2025-02-05T04:36:04.591Z"
   },
   {
    "duration": 4,
    "start_time": "2025-02-05T04:36:07.663Z"
   },
   {
    "duration": 34,
    "start_time": "2025-02-05T04:36:09.667Z"
   },
   {
    "duration": 6,
    "start_time": "2025-02-05T04:36:29.734Z"
   },
   {
    "duration": 37,
    "start_time": "2025-02-05T04:36:31.935Z"
   },
   {
    "duration": 3,
    "start_time": "2025-02-05T04:36:58.543Z"
   },
   {
    "duration": 6,
    "start_time": "2025-02-05T04:37:03.909Z"
   },
   {
    "duration": 6,
    "start_time": "2025-02-05T04:37:06.348Z"
   },
   {
    "duration": 8,
    "start_time": "2025-02-05T04:37:07.708Z"
   },
   {
    "duration": 15,
    "start_time": "2025-02-05T04:37:37.322Z"
   },
   {
    "duration": 31,
    "start_time": "2025-02-05T04:37:42.013Z"
   },
   {
    "duration": 4,
    "start_time": "2025-02-05T04:37:50.222Z"
   },
   {
    "duration": 21,
    "start_time": "2025-02-05T04:37:53.808Z"
   },
   {
    "duration": 4,
    "start_time": "2025-02-05T04:38:13.473Z"
   },
   {
    "duration": 88,
    "start_time": "2025-02-05T04:38:17.585Z"
   },
   {
    "duration": 8,
    "start_time": "2025-02-05T04:39:58.795Z"
   },
   {
    "duration": 70,
    "start_time": "2025-02-05T04:40:17.323Z"
   },
   {
    "duration": 2751,
    "start_time": "2025-02-06T00:41:00.954Z"
   },
   {
    "duration": 33,
    "start_time": "2025-02-06T00:41:03.708Z"
   },
   {
    "duration": 14,
    "start_time": "2025-02-06T00:41:03.743Z"
   },
   {
    "duration": 20,
    "start_time": "2025-02-06T00:41:03.760Z"
   },
   {
    "duration": 12,
    "start_time": "2025-02-06T00:41:03.784Z"
   },
   {
    "duration": 7,
    "start_time": "2025-02-06T00:41:03.808Z"
   },
   {
    "duration": 6,
    "start_time": "2025-02-06T00:41:03.817Z"
   },
   {
    "duration": 7,
    "start_time": "2025-02-06T00:41:03.825Z"
   },
   {
    "duration": 4,
    "start_time": "2025-02-06T00:41:03.834Z"
   },
   {
    "duration": 4,
    "start_time": "2025-02-06T00:41:03.840Z"
   },
   {
    "duration": 4,
    "start_time": "2025-02-06T00:41:03.847Z"
   },
   {
    "duration": 5,
    "start_time": "2025-02-06T00:41:03.853Z"
   },
   {
    "duration": 9,
    "start_time": "2025-02-06T00:41:03.860Z"
   },
   {
    "duration": 9,
    "start_time": "2025-02-06T00:41:03.912Z"
   },
   {
    "duration": 20,
    "start_time": "2025-02-06T00:41:03.923Z"
   },
   {
    "duration": 4,
    "start_time": "2025-02-06T00:41:03.945Z"
   },
   {
    "duration": 2,
    "start_time": "2025-02-06T00:41:03.951Z"
   },
   {
    "duration": 344,
    "start_time": "2025-02-06T00:41:03.954Z"
   },
   {
    "duration": 9,
    "start_time": "2025-02-06T00:41:04.300Z"
   },
   {
    "duration": 29,
    "start_time": "2025-02-06T00:41:04.311Z"
   },
   {
    "duration": 6,
    "start_time": "2025-02-06T00:41:04.342Z"
   },
   {
    "duration": 221,
    "start_time": "2025-02-06T00:41:04.350Z"
   },
   {
    "duration": 4951,
    "start_time": "2025-02-06T00:41:04.573Z"
   },
   {
    "duration": 25,
    "start_time": "2025-02-06T00:41:09.527Z"
   },
   {
    "duration": 4,
    "start_time": "2025-02-06T00:41:09.554Z"
   },
   {
    "duration": 52,
    "start_time": "2025-02-06T00:41:09.560Z"
   },
   {
    "duration": 14,
    "start_time": "2025-02-06T00:41:09.614Z"
   },
   {
    "duration": 159,
    "start_time": "2025-02-06T00:41:09.630Z"
   },
   {
    "duration": 4,
    "start_time": "2025-02-06T00:41:09.794Z"
   },
   {
    "duration": 15,
    "start_time": "2025-02-06T00:41:09.800Z"
   },
   {
    "duration": 64,
    "start_time": "2025-02-06T00:41:09.816Z"
   },
   {
    "duration": 164,
    "start_time": "2025-02-06T00:43:09.892Z"
   },
   {
    "duration": 168,
    "start_time": "2025-02-06T00:45:33.254Z"
   },
   {
    "duration": 4802,
    "start_time": "2025-02-06T00:45:43.167Z"
   },
   {
    "duration": 5947,
    "start_time": "2025-02-06T00:46:13.397Z"
   },
   {
    "duration": 8,
    "start_time": "2025-02-06T00:47:43.345Z"
   },
   {
    "duration": 18,
    "start_time": "2025-02-06T00:47:48.591Z"
   },
   {
    "duration": 3,
    "start_time": "2025-02-06T01:01:23.150Z"
   },
   {
    "duration": 81,
    "start_time": "2025-02-06T01:12:38.799Z"
   },
   {
    "duration": 2848,
    "start_time": "2025-02-06T01:24:29.512Z"
   },
   {
    "duration": 8,
    "start_time": "2025-02-06T01:32:13.507Z"
   },
   {
    "duration": 8,
    "start_time": "2025-02-06T01:32:32.058Z"
   },
   {
    "duration": 225,
    "start_time": "2025-02-06T01:33:51.134Z"
   },
   {
    "duration": 19,
    "start_time": "2025-02-06T01:34:09.158Z"
   },
   {
    "duration": 9,
    "start_time": "2025-02-06T01:34:11.492Z"
   },
   {
    "duration": 3,
    "start_time": "2025-02-06T01:34:48.685Z"
   },
   {
    "duration": 4,
    "start_time": "2025-02-06T02:12:41.384Z"
   },
   {
    "duration": 5,
    "start_time": "2025-02-06T02:13:29.115Z"
   },
   {
    "duration": 3,
    "start_time": "2025-02-06T02:13:52.198Z"
   },
   {
    "duration": 4,
    "start_time": "2025-02-06T02:14:24.201Z"
   },
   {
    "duration": 4,
    "start_time": "2025-02-06T02:14:27.979Z"
   },
   {
    "duration": 3,
    "start_time": "2025-02-06T02:14:30.604Z"
   },
   {
    "duration": 15,
    "start_time": "2025-02-06T02:14:38.347Z"
   },
   {
    "duration": 3,
    "start_time": "2025-02-06T02:14:44.141Z"
   },
   {
    "duration": 115,
    "start_time": "2025-02-06T02:17:59.107Z"
   },
   {
    "duration": 126,
    "start_time": "2025-02-06T02:18:20.673Z"
   },
   {
    "duration": 269,
    "start_time": "2025-02-06T02:18:48.720Z"
   },
   {
    "duration": 3,
    "start_time": "2025-02-06T02:20:02.855Z"
   },
   {
    "duration": 271,
    "start_time": "2025-02-06T02:20:31.364Z"
   },
   {
    "duration": 16,
    "start_time": "2025-02-06T02:32:38.325Z"
   },
   {
    "duration": 5,
    "start_time": "2025-02-06T02:33:33.162Z"
   },
   {
    "duration": 8,
    "start_time": "2025-02-06T02:33:39.044Z"
   },
   {
    "duration": 2705,
    "start_time": "2025-02-07T00:55:01.865Z"
   },
   {
    "duration": 24,
    "start_time": "2025-02-07T00:55:04.572Z"
   },
   {
    "duration": 11,
    "start_time": "2025-02-07T00:55:04.598Z"
   },
   {
    "duration": 18,
    "start_time": "2025-02-07T00:55:04.611Z"
   },
   {
    "duration": 9,
    "start_time": "2025-02-07T00:55:04.631Z"
   },
   {
    "duration": 9,
    "start_time": "2025-02-07T00:55:04.650Z"
   },
   {
    "duration": 6,
    "start_time": "2025-02-07T00:55:04.660Z"
   },
   {
    "duration": 6,
    "start_time": "2025-02-07T00:55:04.667Z"
   },
   {
    "duration": 4,
    "start_time": "2025-02-07T00:55:04.674Z"
   },
   {
    "duration": 4,
    "start_time": "2025-02-07T00:55:04.681Z"
   },
   {
    "duration": 4,
    "start_time": "2025-02-07T00:55:04.686Z"
   },
   {
    "duration": 3,
    "start_time": "2025-02-07T00:55:04.724Z"
   },
   {
    "duration": 7,
    "start_time": "2025-02-07T00:55:04.728Z"
   },
   {
    "duration": 7,
    "start_time": "2025-02-07T00:55:04.737Z"
   },
   {
    "duration": 14,
    "start_time": "2025-02-07T00:55:04.745Z"
   },
   {
    "duration": 5,
    "start_time": "2025-02-07T00:55:04.760Z"
   },
   {
    "duration": 2,
    "start_time": "2025-02-07T00:55:04.766Z"
   },
   {
    "duration": 328,
    "start_time": "2025-02-07T00:55:04.770Z"
   },
   {
    "duration": 3,
    "start_time": "2025-02-07T00:55:05.100Z"
   },
   {
    "duration": 36,
    "start_time": "2025-02-07T00:55:05.105Z"
   },
   {
    "duration": 6,
    "start_time": "2025-02-07T00:55:05.143Z"
   },
   {
    "duration": 147,
    "start_time": "2025-02-07T00:55:05.150Z"
   },
   {
    "duration": 4780,
    "start_time": "2025-02-07T00:55:05.300Z"
   },
   {
    "duration": 13,
    "start_time": "2025-02-07T00:55:10.082Z"
   },
   {
    "duration": 28,
    "start_time": "2025-02-07T00:55:10.097Z"
   },
   {
    "duration": 4,
    "start_time": "2025-02-07T00:55:10.127Z"
   },
   {
    "duration": 13,
    "start_time": "2025-02-07T00:55:10.132Z"
   },
   {
    "duration": 130,
    "start_time": "2025-02-07T00:55:10.150Z"
   },
   {
    "duration": 181,
    "start_time": "2025-02-07T00:55:10.282Z"
   },
   {
    "duration": 6179,
    "start_time": "2025-02-07T00:55:10.465Z"
   },
   {
    "duration": 20,
    "start_time": "2025-02-07T00:55:16.647Z"
   },
   {
    "duration": 4,
    "start_time": "2025-02-07T00:55:16.671Z"
   },
   {
    "duration": 52,
    "start_time": "2025-02-07T00:55:16.677Z"
   },
   {
    "duration": 15,
    "start_time": "2025-02-07T00:55:16.730Z"
   },
   {
    "duration": 124,
    "start_time": "2025-02-07T00:55:16.747Z"
   },
   {
    "duration": 85,
    "start_time": "2025-02-07T00:55:16.874Z"
   },
   {
    "duration": 2979,
    "start_time": "2025-02-07T00:55:16.961Z"
   },
   {
    "duration": 11,
    "start_time": "2025-02-07T00:55:19.942Z"
   },
   {
    "duration": 2,
    "start_time": "2025-02-07T00:55:19.955Z"
   },
   {
    "duration": 4,
    "start_time": "2025-02-07T00:55:19.959Z"
   },
   {
    "duration": 410,
    "start_time": "2025-02-07T00:55:19.965Z"
   },
   {
    "duration": 5,
    "start_time": "2025-02-07T00:55:20.377Z"
   },
   {
    "duration": 5,
    "start_time": "2025-02-07T00:59:32.072Z"
   },
   {
    "duration": 4,
    "start_time": "2025-02-07T00:59:37.318Z"
   },
   {
    "duration": 141,
    "start_time": "2025-02-07T01:01:38.595Z"
   },
   {
    "duration": 563,
    "start_time": "2025-02-07T01:01:48.355Z"
   },
   {
    "duration": 1070,
    "start_time": "2025-02-07T01:01:56.375Z"
   },
   {
    "duration": 21,
    "start_time": "2025-02-07T01:01:57.447Z"
   },
   {
    "duration": 13,
    "start_time": "2025-02-07T01:01:57.470Z"
   },
   {
    "duration": 18,
    "start_time": "2025-02-07T01:01:57.485Z"
   },
   {
    "duration": 16,
    "start_time": "2025-02-07T01:01:57.524Z"
   },
   {
    "duration": 5,
    "start_time": "2025-02-07T01:01:57.542Z"
   },
   {
    "duration": 6,
    "start_time": "2025-02-07T01:01:57.549Z"
   },
   {
    "duration": 9,
    "start_time": "2025-02-07T01:01:57.557Z"
   },
   {
    "duration": 8,
    "start_time": "2025-02-07T01:01:57.568Z"
   },
   {
    "duration": 4,
    "start_time": "2025-02-07T01:01:57.578Z"
   },
   {
    "duration": 42,
    "start_time": "2025-02-07T01:01:57.584Z"
   },
   {
    "duration": 4,
    "start_time": "2025-02-07T01:01:57.629Z"
   },
   {
    "duration": 3,
    "start_time": "2025-02-07T01:01:57.635Z"
   },
   {
    "duration": 8,
    "start_time": "2025-02-07T01:01:57.642Z"
   },
   {
    "duration": 8,
    "start_time": "2025-02-07T01:01:57.652Z"
   },
   {
    "duration": 14,
    "start_time": "2025-02-07T01:01:57.662Z"
   },
   {
    "duration": 5,
    "start_time": "2025-02-07T01:01:57.677Z"
   },
   {
    "duration": 3,
    "start_time": "2025-02-07T01:01:57.683Z"
   },
   {
    "duration": 273,
    "start_time": "2025-02-07T01:01:57.725Z"
   },
   {
    "duration": 3,
    "start_time": "2025-02-07T01:01:58.000Z"
   },
   {
    "duration": 45,
    "start_time": "2025-02-07T01:01:58.005Z"
   },
   {
    "duration": 7,
    "start_time": "2025-02-07T01:01:58.052Z"
   },
   {
    "duration": 149,
    "start_time": "2025-02-07T01:01:58.061Z"
   },
   {
    "duration": 4799,
    "start_time": "2025-02-07T01:01:58.212Z"
   },
   {
    "duration": 22,
    "start_time": "2025-02-07T01:02:03.014Z"
   },
   {
    "duration": 3,
    "start_time": "2025-02-07T01:02:03.038Z"
   },
   {
    "duration": 4,
    "start_time": "2025-02-07T01:02:03.042Z"
   },
   {
    "duration": 77,
    "start_time": "2025-02-07T01:02:03.047Z"
   },
   {
    "duration": 109,
    "start_time": "2025-02-07T01:02:03.126Z"
   },
   {
    "duration": 179,
    "start_time": "2025-02-07T01:02:03.237Z"
   },
   {
    "duration": 6021,
    "start_time": "2025-02-07T01:02:03.423Z"
   },
   {
    "duration": 24,
    "start_time": "2025-02-07T01:02:09.446Z"
   },
   {
    "duration": 3,
    "start_time": "2025-02-07T01:02:09.472Z"
   },
   {
    "duration": 5,
    "start_time": "2025-02-07T01:02:09.524Z"
   },
   {
    "duration": 9,
    "start_time": "2025-02-07T01:02:09.531Z"
   },
   {
    "duration": 134,
    "start_time": "2025-02-07T01:02:09.542Z"
   },
   {
    "duration": 92,
    "start_time": "2025-02-07T01:02:09.678Z"
   },
   {
    "duration": 2816,
    "start_time": "2025-02-07T01:02:09.773Z"
   },
   {
    "duration": 9,
    "start_time": "2025-02-07T01:02:12.591Z"
   },
   {
    "duration": 25,
    "start_time": "2025-02-07T01:02:12.602Z"
   },
   {
    "duration": 3,
    "start_time": "2025-02-07T01:02:12.631Z"
   },
   {
    "duration": 345,
    "start_time": "2025-02-07T01:02:12.636Z"
   },
   {
    "duration": 4,
    "start_time": "2025-02-07T01:02:12.983Z"
   },
   {
    "duration": 5,
    "start_time": "2025-02-07T01:06:21.741Z"
   },
   {
    "duration": 5,
    "start_time": "2025-02-07T01:06:31.056Z"
   },
   {
    "duration": 4764,
    "start_time": "2025-02-07T01:08:48.016Z"
   },
   {
    "duration": 5851,
    "start_time": "2025-02-07T01:09:29.436Z"
   },
   {
    "duration": 168,
    "start_time": "2025-02-07T01:09:35.289Z"
   },
   {
    "duration": 76,
    "start_time": "2025-02-07T01:09:39.972Z"
   },
   {
    "duration": 2770,
    "start_time": "2025-02-07T01:09:43.027Z"
   },
   {
    "duration": 136,
    "start_time": "2025-02-07T01:10:07.767Z"
   },
   {
    "duration": 1005,
    "start_time": "2025-02-07T01:10:39.796Z"
   },
   {
    "duration": 31,
    "start_time": "2025-02-07T01:10:40.803Z"
   },
   {
    "duration": 11,
    "start_time": "2025-02-07T01:10:40.836Z"
   },
   {
    "duration": 13,
    "start_time": "2025-02-07T01:10:40.849Z"
   },
   {
    "duration": 9,
    "start_time": "2025-02-07T01:10:40.865Z"
   },
   {
    "duration": 4,
    "start_time": "2025-02-07T01:10:40.877Z"
   },
   {
    "duration": 6,
    "start_time": "2025-02-07T01:10:40.883Z"
   },
   {
    "duration": 34,
    "start_time": "2025-02-07T01:10:40.891Z"
   },
   {
    "duration": 4,
    "start_time": "2025-02-07T01:10:40.927Z"
   },
   {
    "duration": 5,
    "start_time": "2025-02-07T01:10:40.934Z"
   },
   {
    "duration": 4,
    "start_time": "2025-02-07T01:10:40.941Z"
   },
   {
    "duration": 3,
    "start_time": "2025-02-07T01:10:40.947Z"
   },
   {
    "duration": 5,
    "start_time": "2025-02-07T01:10:40.952Z"
   },
   {
    "duration": 4,
    "start_time": "2025-02-07T01:10:40.959Z"
   },
   {
    "duration": 6,
    "start_time": "2025-02-07T01:10:40.966Z"
   },
   {
    "duration": 57,
    "start_time": "2025-02-07T01:10:40.974Z"
   },
   {
    "duration": 15,
    "start_time": "2025-02-07T01:10:41.033Z"
   },
   {
    "duration": 5,
    "start_time": "2025-02-07T01:10:41.049Z"
   },
   {
    "duration": 3,
    "start_time": "2025-02-07T01:10:41.055Z"
   },
   {
    "duration": 296,
    "start_time": "2025-02-07T01:10:41.059Z"
   },
   {
    "duration": 3,
    "start_time": "2025-02-07T01:10:41.357Z"
   },
   {
    "duration": 24,
    "start_time": "2025-02-07T01:10:41.362Z"
   },
   {
    "duration": 6,
    "start_time": "2025-02-07T01:10:41.388Z"
   },
   {
    "duration": 174,
    "start_time": "2025-02-07T01:10:41.396Z"
   },
   {
    "duration": 5012,
    "start_time": "2025-02-07T01:10:41.572Z"
   },
   {
    "duration": 14,
    "start_time": "2025-02-07T01:10:46.586Z"
   },
   {
    "duration": 4,
    "start_time": "2025-02-07T01:10:46.624Z"
   },
   {
    "duration": 4,
    "start_time": "2025-02-07T01:10:46.636Z"
   },
   {
    "duration": 82,
    "start_time": "2025-02-07T01:10:46.642Z"
   },
   {
    "duration": 62,
    "start_time": "2025-02-07T01:10:46.726Z"
   },
   {
    "duration": 193,
    "start_time": "2025-02-07T01:10:46.790Z"
   },
   {
    "duration": 6515,
    "start_time": "2025-02-07T01:10:46.985Z"
   },
   {
    "duration": 24,
    "start_time": "2025-02-07T01:10:53.502Z"
   },
   {
    "duration": 3,
    "start_time": "2025-02-07T01:10:53.528Z"
   },
   {
    "duration": 4,
    "start_time": "2025-02-07T01:10:53.532Z"
   },
   {
    "duration": 85,
    "start_time": "2025-02-07T01:10:53.538Z"
   },
   {
    "duration": 63,
    "start_time": "2025-02-07T01:10:53.625Z"
   },
   {
    "duration": 93,
    "start_time": "2025-02-07T01:10:53.690Z"
   },
   {
    "duration": 2921,
    "start_time": "2025-02-07T01:10:53.785Z"
   },
   {
    "duration": 17,
    "start_time": "2025-02-07T01:10:56.708Z"
   },
   {
    "duration": 4,
    "start_time": "2025-02-07T01:10:56.726Z"
   },
   {
    "duration": 7,
    "start_time": "2025-02-07T01:10:56.731Z"
   },
   {
    "duration": 283,
    "start_time": "2025-02-07T01:10:56.739Z"
   },
   {
    "duration": 6,
    "start_time": "2025-02-07T01:10:57.024Z"
   },
   {
    "duration": 3,
    "start_time": "2025-02-07T01:13:09.559Z"
   },
   {
    "duration": 12,
    "start_time": "2025-02-07T01:14:10.652Z"
   },
   {
    "duration": 21,
    "start_time": "2025-02-07T01:14:12.498Z"
   },
   {
    "duration": 1056,
    "start_time": "2025-02-07T01:14:24.469Z"
   },
   {
    "duration": 15,
    "start_time": "2025-02-07T01:14:25.527Z"
   },
   {
    "duration": 10,
    "start_time": "2025-02-07T01:14:25.544Z"
   },
   {
    "duration": 14,
    "start_time": "2025-02-07T01:14:25.557Z"
   },
   {
    "duration": 9,
    "start_time": "2025-02-07T01:14:25.572Z"
   },
   {
    "duration": 5,
    "start_time": "2025-02-07T01:14:25.582Z"
   },
   {
    "duration": 37,
    "start_time": "2025-02-07T01:14:25.588Z"
   },
   {
    "duration": 7,
    "start_time": "2025-02-07T01:14:25.627Z"
   },
   {
    "duration": 4,
    "start_time": "2025-02-07T01:14:25.636Z"
   },
   {
    "duration": 6,
    "start_time": "2025-02-07T01:14:25.644Z"
   },
   {
    "duration": 4,
    "start_time": "2025-02-07T01:14:25.652Z"
   },
   {
    "duration": 4,
    "start_time": "2025-02-07T01:14:25.658Z"
   },
   {
    "duration": 4,
    "start_time": "2025-02-07T01:14:25.665Z"
   },
   {
    "duration": 4,
    "start_time": "2025-02-07T01:14:25.672Z"
   },
   {
    "duration": 52,
    "start_time": "2025-02-07T01:14:25.678Z"
   },
   {
    "duration": 9,
    "start_time": "2025-02-07T01:14:25.731Z"
   },
   {
    "duration": 14,
    "start_time": "2025-02-07T01:14:25.742Z"
   },
   {
    "duration": 4,
    "start_time": "2025-02-07T01:14:25.758Z"
   },
   {
    "duration": 2,
    "start_time": "2025-02-07T01:14:25.764Z"
   },
   {
    "duration": 323,
    "start_time": "2025-02-07T01:14:25.768Z"
   },
   {
    "duration": 3,
    "start_time": "2025-02-07T01:14:26.093Z"
   },
   {
    "duration": 6,
    "start_time": "2025-02-07T01:14:26.097Z"
   },
   {
    "duration": 19,
    "start_time": "2025-02-07T01:14:26.105Z"
   },
   {
    "duration": 14,
    "start_time": "2025-02-07T01:14:26.125Z"
   },
   {
    "duration": 20,
    "start_time": "2025-02-07T01:14:26.141Z"
   },
   {
    "duration": 167,
    "start_time": "2025-02-07T01:14:26.162Z"
   },
   {
    "duration": 5030,
    "start_time": "2025-02-07T01:14:26.331Z"
   },
   {
    "duration": 14,
    "start_time": "2025-02-07T01:14:31.366Z"
   },
   {
    "duration": 42,
    "start_time": "2025-02-07T01:14:31.382Z"
   },
   {
    "duration": 6,
    "start_time": "2025-02-07T01:14:31.426Z"
   },
   {
    "duration": 11,
    "start_time": "2025-02-07T01:14:31.435Z"
   },
   {
    "duration": 62,
    "start_time": "2025-02-07T01:14:31.524Z"
   },
   {
    "duration": 188,
    "start_time": "2025-02-07T01:14:31.588Z"
   },
   {
    "duration": 6437,
    "start_time": "2025-02-07T01:14:31.778Z"
   },
   {
    "duration": 19,
    "start_time": "2025-02-07T01:14:38.229Z"
   },
   {
    "duration": 4,
    "start_time": "2025-02-07T01:14:38.252Z"
   },
   {
    "duration": 3,
    "start_time": "2025-02-07T01:14:38.258Z"
   },
   {
    "duration": 63,
    "start_time": "2025-02-07T01:14:38.263Z"
   },
   {
    "duration": 125,
    "start_time": "2025-02-07T01:14:38.328Z"
   },
   {
    "duration": 94,
    "start_time": "2025-02-07T01:14:38.455Z"
   },
   {
    "duration": 2878,
    "start_time": "2025-02-07T01:14:38.552Z"
   },
   {
    "duration": 10,
    "start_time": "2025-02-07T01:14:41.432Z"
   },
   {
    "duration": 3,
    "start_time": "2025-02-07T01:14:41.443Z"
   },
   {
    "duration": 3,
    "start_time": "2025-02-07T01:14:41.448Z"
   },
   {
    "duration": 183,
    "start_time": "2025-02-07T01:14:41.452Z"
   },
   {
    "duration": 5,
    "start_time": "2025-02-07T01:14:41.637Z"
   },
   {
    "duration": 15,
    "start_time": "2025-02-07T01:16:16.290Z"
   },
   {
    "duration": 23,
    "start_time": "2025-02-07T01:16:49.204Z"
   },
   {
    "duration": 997,
    "start_time": "2025-02-07T01:17:07.613Z"
   },
   {
    "duration": 24,
    "start_time": "2025-02-07T01:17:08.612Z"
   },
   {
    "duration": 10,
    "start_time": "2025-02-07T01:17:08.637Z"
   },
   {
    "duration": 13,
    "start_time": "2025-02-07T01:17:08.649Z"
   },
   {
    "duration": 11,
    "start_time": "2025-02-07T01:17:08.664Z"
   },
   {
    "duration": 5,
    "start_time": "2025-02-07T01:17:08.677Z"
   },
   {
    "duration": 7,
    "start_time": "2025-02-07T01:17:08.684Z"
   },
   {
    "duration": 37,
    "start_time": "2025-02-07T01:17:08.692Z"
   },
   {
    "duration": 4,
    "start_time": "2025-02-07T01:17:08.731Z"
   },
   {
    "duration": 7,
    "start_time": "2025-02-07T01:17:08.737Z"
   },
   {
    "duration": 5,
    "start_time": "2025-02-07T01:17:08.745Z"
   },
   {
    "duration": 3,
    "start_time": "2025-02-07T01:17:08.752Z"
   },
   {
    "duration": 4,
    "start_time": "2025-02-07T01:17:08.757Z"
   },
   {
    "duration": 3,
    "start_time": "2025-02-07T01:17:08.766Z"
   },
   {
    "duration": 7,
    "start_time": "2025-02-07T01:17:08.770Z"
   },
   {
    "duration": 53,
    "start_time": "2025-02-07T01:17:08.778Z"
   },
   {
    "duration": 14,
    "start_time": "2025-02-07T01:17:08.833Z"
   },
   {
    "duration": 5,
    "start_time": "2025-02-07T01:17:08.848Z"
   },
   {
    "duration": 2,
    "start_time": "2025-02-07T01:17:08.855Z"
   },
   {
    "duration": 279,
    "start_time": "2025-02-07T01:17:08.859Z"
   },
   {
    "duration": 3,
    "start_time": "2025-02-07T01:17:09.140Z"
   },
   {
    "duration": 5,
    "start_time": "2025-02-07T01:17:09.145Z"
   },
   {
    "duration": 6,
    "start_time": "2025-02-07T01:17:09.152Z"
   },
   {
    "duration": 13,
    "start_time": "2025-02-07T01:17:09.159Z"
   },
   {
    "duration": 51,
    "start_time": "2025-02-07T01:17:09.174Z"
   },
   {
    "duration": 159,
    "start_time": "2025-02-07T01:17:09.227Z"
   },
   {
    "duration": 4957,
    "start_time": "2025-02-07T01:17:09.388Z"
   },
   {
    "duration": 14,
    "start_time": "2025-02-07T01:17:14.347Z"
   },
   {
    "duration": 61,
    "start_time": "2025-02-07T01:17:14.363Z"
   },
   {
    "duration": 7,
    "start_time": "2025-02-07T01:17:14.426Z"
   },
   {
    "duration": 12,
    "start_time": "2025-02-07T01:17:14.435Z"
   },
   {
    "duration": 136,
    "start_time": "2025-02-07T01:17:14.450Z"
   },
   {
    "duration": 188,
    "start_time": "2025-02-07T01:17:14.588Z"
   },
   {
    "duration": 6405,
    "start_time": "2025-02-07T01:17:14.778Z"
   },
   {
    "duration": 39,
    "start_time": "2025-02-07T01:17:21.185Z"
   },
   {
    "duration": 5,
    "start_time": "2025-02-07T01:17:21.229Z"
   },
   {
    "duration": 7,
    "start_time": "2025-02-07T01:17:21.237Z"
   },
   {
    "duration": 83,
    "start_time": "2025-02-07T01:17:21.246Z"
   },
   {
    "duration": 57,
    "start_time": "2025-02-07T01:17:21.330Z"
   },
   {
    "duration": 91,
    "start_time": "2025-02-07T01:17:21.389Z"
   },
   {
    "duration": 2882,
    "start_time": "2025-02-07T01:17:21.484Z"
   },
   {
    "duration": 10,
    "start_time": "2025-02-07T01:17:24.368Z"
   },
   {
    "duration": 3,
    "start_time": "2025-02-07T01:17:24.379Z"
   },
   {
    "duration": 41,
    "start_time": "2025-02-07T01:17:24.384Z"
   },
   {
    "duration": 134,
    "start_time": "2025-02-07T01:17:24.427Z"
   },
   {
    "duration": 5,
    "start_time": "2025-02-07T01:17:24.562Z"
   },
   {
    "duration": 30,
    "start_time": "2025-02-07T01:28:20.599Z"
   },
   {
    "duration": 27,
    "start_time": "2025-02-07T01:28:47.672Z"
   },
   {
    "duration": 25,
    "start_time": "2025-02-07T01:29:06.325Z"
   },
   {
    "duration": 28,
    "start_time": "2025-02-07T01:29:18.001Z"
   },
   {
    "duration": 26,
    "start_time": "2025-02-07T01:30:43.003Z"
   },
   {
    "duration": 1030,
    "start_time": "2025-02-07T01:31:03.094Z"
   },
   {
    "duration": 17,
    "start_time": "2025-02-07T01:31:04.126Z"
   },
   {
    "duration": 10,
    "start_time": "2025-02-07T01:31:04.145Z"
   },
   {
    "duration": 14,
    "start_time": "2025-02-07T01:31:04.157Z"
   },
   {
    "duration": 8,
    "start_time": "2025-02-07T01:31:04.172Z"
   },
   {
    "duration": 4,
    "start_time": "2025-02-07T01:31:04.182Z"
   },
   {
    "duration": 36,
    "start_time": "2025-02-07T01:31:04.188Z"
   },
   {
    "duration": 6,
    "start_time": "2025-02-07T01:31:04.225Z"
   },
   {
    "duration": 4,
    "start_time": "2025-02-07T01:31:04.232Z"
   },
   {
    "duration": 5,
    "start_time": "2025-02-07T01:31:04.239Z"
   },
   {
    "duration": 3,
    "start_time": "2025-02-07T01:31:04.246Z"
   },
   {
    "duration": 5,
    "start_time": "2025-02-07T01:31:04.251Z"
   },
   {
    "duration": 4,
    "start_time": "2025-02-07T01:31:04.257Z"
   },
   {
    "duration": 4,
    "start_time": "2025-02-07T01:31:04.263Z"
   },
   {
    "duration": 7,
    "start_time": "2025-02-07T01:31:04.269Z"
   },
   {
    "duration": 48,
    "start_time": "2025-02-07T01:31:04.278Z"
   },
   {
    "duration": 18,
    "start_time": "2025-02-07T01:31:04.328Z"
   },
   {
    "duration": 5,
    "start_time": "2025-02-07T01:31:04.348Z"
   },
   {
    "duration": 3,
    "start_time": "2025-02-07T01:31:04.354Z"
   },
   {
    "duration": 303,
    "start_time": "2025-02-07T01:31:04.359Z"
   },
   {
    "duration": 3,
    "start_time": "2025-02-07T01:31:04.664Z"
   },
   {
    "duration": 4,
    "start_time": "2025-02-07T01:31:04.669Z"
   },
   {
    "duration": 6,
    "start_time": "2025-02-07T01:31:04.675Z"
   },
   {
    "duration": 13,
    "start_time": "2025-02-07T01:31:04.682Z"
   },
   {
    "duration": 52,
    "start_time": "2025-02-07T01:31:04.696Z"
   },
   {
    "duration": 160,
    "start_time": "2025-02-07T01:31:04.750Z"
   },
   {
    "duration": 5050,
    "start_time": "2025-02-07T01:31:04.912Z"
   },
   {
    "duration": 14,
    "start_time": "2025-02-07T01:31:09.965Z"
   },
   {
    "duration": 3,
    "start_time": "2025-02-07T01:31:09.981Z"
   },
   {
    "duration": 39,
    "start_time": "2025-02-07T01:31:09.986Z"
   },
   {
    "duration": 11,
    "start_time": "2025-02-07T01:31:10.027Z"
   },
   {
    "duration": 136,
    "start_time": "2025-02-07T01:31:10.040Z"
   },
   {
    "duration": 190,
    "start_time": "2025-02-07T01:31:10.177Z"
   },
   {
    "duration": 6443,
    "start_time": "2025-02-07T01:31:10.369Z"
   },
   {
    "duration": 24,
    "start_time": "2025-02-07T01:31:16.814Z"
   },
   {
    "duration": 3,
    "start_time": "2025-02-07T01:31:16.840Z"
   },
   {
    "duration": 5,
    "start_time": "2025-02-07T01:31:16.844Z"
   },
   {
    "duration": 74,
    "start_time": "2025-02-07T01:31:16.850Z"
   },
   {
    "duration": 101,
    "start_time": "2025-02-07T01:31:16.926Z"
   },
   {
    "duration": 83,
    "start_time": "2025-02-07T01:31:17.029Z"
   },
   {
    "duration": 2945,
    "start_time": "2025-02-07T01:31:17.113Z"
   },
   {
    "duration": 9,
    "start_time": "2025-02-07T01:31:20.060Z"
   },
   {
    "duration": 3,
    "start_time": "2025-02-07T01:31:20.070Z"
   },
   {
    "duration": 49,
    "start_time": "2025-02-07T01:31:20.075Z"
   },
   {
    "duration": 275,
    "start_time": "2025-02-07T01:31:20.127Z"
   },
   {
    "duration": 5,
    "start_time": "2025-02-07T01:31:20.403Z"
   },
   {
    "duration": 32,
    "start_time": "2025-02-07T01:31:20.412Z"
   },
   {
    "duration": 20,
    "start_time": "2025-02-07T01:31:31.300Z"
   },
   {
    "duration": 1055,
    "start_time": "2025-02-07T01:32:38.159Z"
   },
   {
    "duration": 15,
    "start_time": "2025-02-07T01:32:39.223Z"
   },
   {
    "duration": 10,
    "start_time": "2025-02-07T01:32:39.240Z"
   },
   {
    "duration": 14,
    "start_time": "2025-02-07T01:32:39.251Z"
   },
   {
    "duration": 8,
    "start_time": "2025-02-07T01:32:39.267Z"
   },
   {
    "duration": 4,
    "start_time": "2025-02-07T01:32:39.277Z"
   },
   {
    "duration": 5,
    "start_time": "2025-02-07T01:32:39.283Z"
   },
   {
    "duration": 39,
    "start_time": "2025-02-07T01:32:39.290Z"
   },
   {
    "duration": 4,
    "start_time": "2025-02-07T01:32:39.331Z"
   },
   {
    "duration": 5,
    "start_time": "2025-02-07T01:32:39.336Z"
   },
   {
    "duration": 3,
    "start_time": "2025-02-07T01:32:39.343Z"
   },
   {
    "duration": 4,
    "start_time": "2025-02-07T01:32:39.348Z"
   },
   {
    "duration": 4,
    "start_time": "2025-02-07T01:32:39.355Z"
   },
   {
    "duration": 4,
    "start_time": "2025-02-07T01:32:39.363Z"
   },
   {
    "duration": 7,
    "start_time": "2025-02-07T01:32:39.369Z"
   },
   {
    "duration": 49,
    "start_time": "2025-02-07T01:32:39.377Z"
   },
   {
    "duration": 15,
    "start_time": "2025-02-07T01:32:39.428Z"
   },
   {
    "duration": 5,
    "start_time": "2025-02-07T01:32:39.445Z"
   },
   {
    "duration": 2,
    "start_time": "2025-02-07T01:32:39.452Z"
   },
   {
    "duration": 306,
    "start_time": "2025-02-07T01:32:39.456Z"
   },
   {
    "duration": 2,
    "start_time": "2025-02-07T01:32:39.764Z"
   },
   {
    "duration": 4,
    "start_time": "2025-02-07T01:32:39.768Z"
   },
   {
    "duration": 6,
    "start_time": "2025-02-07T01:32:39.775Z"
   },
   {
    "duration": 12,
    "start_time": "2025-02-07T01:32:39.782Z"
   },
   {
    "duration": 44,
    "start_time": "2025-02-07T01:32:39.796Z"
   },
   {
    "duration": 155,
    "start_time": "2025-02-07T01:32:39.842Z"
   },
   {
    "duration": 5135,
    "start_time": "2025-02-07T01:32:39.999Z"
   },
   {
    "duration": 23,
    "start_time": "2025-02-07T01:32:45.136Z"
   },
   {
    "duration": 4,
    "start_time": "2025-02-07T01:32:45.161Z"
   },
   {
    "duration": 7,
    "start_time": "2025-02-07T01:32:45.166Z"
   },
   {
    "duration": 14,
    "start_time": "2025-02-07T01:32:45.225Z"
   },
   {
    "duration": 153,
    "start_time": "2025-02-07T01:32:45.241Z"
   },
   {
    "duration": 193,
    "start_time": "2025-02-07T01:32:45.396Z"
   },
   {
    "duration": 6563,
    "start_time": "2025-02-07T01:32:45.591Z"
   },
   {
    "duration": 15,
    "start_time": "2025-02-07T01:32:52.156Z"
   },
   {
    "duration": 5,
    "start_time": "2025-02-07T01:32:52.173Z"
   },
   {
    "duration": 45,
    "start_time": "2025-02-07T01:32:52.180Z"
   },
   {
    "duration": 13,
    "start_time": "2025-02-07T01:32:52.227Z"
   },
   {
    "duration": 130,
    "start_time": "2025-02-07T01:32:52.242Z"
   },
   {
    "duration": 89,
    "start_time": "2025-02-07T01:32:52.374Z"
   },
   {
    "duration": 2881,
    "start_time": "2025-02-07T01:32:52.467Z"
   },
   {
    "duration": 11,
    "start_time": "2025-02-07T01:32:55.350Z"
   },
   {
    "duration": 3,
    "start_time": "2025-02-07T01:32:55.362Z"
   },
   {
    "duration": 3,
    "start_time": "2025-02-07T01:32:55.367Z"
   },
   {
    "duration": 322,
    "start_time": "2025-02-07T01:32:55.372Z"
   },
   {
    "duration": 5,
    "start_time": "2025-02-07T01:32:55.695Z"
   },
   {
    "duration": 2678,
    "start_time": "2025-02-08T21:36:58.355Z"
   },
   {
    "duration": 27,
    "start_time": "2025-02-08T21:37:01.035Z"
   },
   {
    "duration": 10,
    "start_time": "2025-02-08T21:37:01.066Z"
   },
   {
    "duration": 13,
    "start_time": "2025-02-08T21:37:01.078Z"
   },
   {
    "duration": 8,
    "start_time": "2025-02-08T21:37:01.092Z"
   },
   {
    "duration": 21,
    "start_time": "2025-02-08T21:37:01.102Z"
   },
   {
    "duration": 6,
    "start_time": "2025-02-08T21:37:01.125Z"
   },
   {
    "duration": 5,
    "start_time": "2025-02-08T21:37:01.132Z"
   },
   {
    "duration": 4,
    "start_time": "2025-02-08T21:37:01.140Z"
   },
   {
    "duration": 6,
    "start_time": "2025-02-08T21:37:01.145Z"
   },
   {
    "duration": 4,
    "start_time": "2025-02-08T21:37:01.153Z"
   },
   {
    "duration": 5,
    "start_time": "2025-02-08T21:37:01.158Z"
   },
   {
    "duration": 4,
    "start_time": "2025-02-08T21:37:01.165Z"
   },
   {
    "duration": 4,
    "start_time": "2025-02-08T21:37:01.170Z"
   },
   {
    "duration": 53,
    "start_time": "2025-02-08T21:37:01.176Z"
   },
   {
    "duration": 8,
    "start_time": "2025-02-08T21:37:01.230Z"
   },
   {
    "duration": 14,
    "start_time": "2025-02-08T21:37:01.240Z"
   },
   {
    "duration": 5,
    "start_time": "2025-02-08T21:37:01.255Z"
   },
   {
    "duration": 2,
    "start_time": "2025-02-08T21:37:01.262Z"
   },
   {
    "duration": 349,
    "start_time": "2025-02-08T21:37:01.266Z"
   },
   {
    "duration": 7,
    "start_time": "2025-02-08T21:37:01.617Z"
   },
   {
    "duration": 4,
    "start_time": "2025-02-08T21:37:01.627Z"
   },
   {
    "duration": 7,
    "start_time": "2025-02-08T21:37:01.632Z"
   },
   {
    "duration": 13,
    "start_time": "2025-02-08T21:37:01.641Z"
   },
   {
    "duration": 20,
    "start_time": "2025-02-08T21:37:01.655Z"
   },
   {
    "duration": 179,
    "start_time": "2025-02-08T21:37:01.676Z"
   },
   {
    "duration": 4966,
    "start_time": "2025-02-08T21:37:01.860Z"
   },
   {
    "duration": 14,
    "start_time": "2025-02-08T21:37:06.829Z"
   },
   {
    "duration": 2,
    "start_time": "2025-02-08T21:37:06.845Z"
   },
   {
    "duration": 4,
    "start_time": "2025-02-08T21:37:06.849Z"
   },
   {
    "duration": 78,
    "start_time": "2025-02-08T21:37:06.855Z"
   },
   {
    "duration": 99,
    "start_time": "2025-02-08T21:37:06.934Z"
   },
   {
    "duration": 180,
    "start_time": "2025-02-08T21:37:07.034Z"
   },
   {
    "duration": 6487,
    "start_time": "2025-02-08T21:37:07.216Z"
   },
   {
    "duration": 33,
    "start_time": "2025-02-08T21:37:13.705Z"
   },
   {
    "duration": 4,
    "start_time": "2025-02-08T21:37:13.740Z"
   },
   {
    "duration": 8,
    "start_time": "2025-02-08T21:37:13.747Z"
   },
   {
    "duration": 76,
    "start_time": "2025-02-08T21:37:13.756Z"
   },
   {
    "duration": 91,
    "start_time": "2025-02-08T21:37:13.833Z"
   },
   {
    "duration": 82,
    "start_time": "2025-02-08T21:37:13.926Z"
   },
   {
    "duration": 2954,
    "start_time": "2025-02-08T21:37:14.010Z"
   },
   {
    "duration": 13,
    "start_time": "2025-02-08T21:37:16.966Z"
   },
   {
    "duration": 5,
    "start_time": "2025-02-08T21:37:16.981Z"
   },
   {
    "duration": 3,
    "start_time": "2025-02-08T21:37:17.025Z"
   },
   {
    "duration": 273,
    "start_time": "2025-02-08T21:37:17.030Z"
   },
   {
    "duration": 5,
    "start_time": "2025-02-08T21:37:17.305Z"
   },
   {
    "duration": 110,
    "start_time": "2025-02-08T22:48:23.801Z"
   },
   {
    "duration": 134,
    "start_time": "2025-02-08T22:48:37.510Z"
   },
   {
    "duration": 119,
    "start_time": "2025-02-08T22:48:56.204Z"
   },
   {
    "duration": 165,
    "start_time": "2025-02-08T22:49:17.164Z"
   },
   {
    "duration": 138,
    "start_time": "2025-02-08T22:53:02.831Z"
   },
   {
    "duration": 83,
    "start_time": "2025-02-08T22:53:20.118Z"
   },
   {
    "duration": 128,
    "start_time": "2025-02-08T22:56:15.947Z"
   },
   {
    "duration": 209,
    "start_time": "2025-02-08T22:56:24.784Z"
   },
   {
    "duration": 381,
    "start_time": "2025-02-08T22:56:47.944Z"
   },
   {
    "duration": 191,
    "start_time": "2025-02-08T22:56:51.252Z"
   },
   {
    "duration": 117,
    "start_time": "2025-02-08T22:57:08.740Z"
   },
   {
    "duration": 162,
    "start_time": "2025-02-09T18:11:54.834Z"
   },
   {
    "duration": 2748,
    "start_time": "2025-02-09T18:12:01.927Z"
   },
   {
    "duration": 25,
    "start_time": "2025-02-09T18:12:04.677Z"
   },
   {
    "duration": 10,
    "start_time": "2025-02-09T18:12:04.704Z"
   },
   {
    "duration": 13,
    "start_time": "2025-02-09T18:12:04.715Z"
   },
   {
    "duration": 8,
    "start_time": "2025-02-09T18:12:04.731Z"
   },
   {
    "duration": 4,
    "start_time": "2025-02-09T18:12:04.740Z"
   },
   {
    "duration": 7,
    "start_time": "2025-02-09T18:12:04.746Z"
   },
   {
    "duration": 33,
    "start_time": "2025-02-09T18:12:04.754Z"
   },
   {
    "duration": 4,
    "start_time": "2025-02-09T18:12:04.789Z"
   },
   {
    "duration": 6,
    "start_time": "2025-02-09T18:12:04.794Z"
   },
   {
    "duration": 3,
    "start_time": "2025-02-09T18:12:04.801Z"
   },
   {
    "duration": 5,
    "start_time": "2025-02-09T18:12:04.806Z"
   },
   {
    "duration": 4,
    "start_time": "2025-02-09T18:12:04.812Z"
   },
   {
    "duration": 3,
    "start_time": "2025-02-09T18:12:04.820Z"
   },
   {
    "duration": 7,
    "start_time": "2025-02-09T18:12:04.825Z"
   },
   {
    "duration": 8,
    "start_time": "2025-02-09T18:12:04.833Z"
   },
   {
    "duration": 57,
    "start_time": "2025-02-09T18:12:04.842Z"
   },
   {
    "duration": 474,
    "start_time": "2025-02-09T18:12:04.901Z"
   },
   {
    "duration": 0,
    "start_time": "2025-02-09T18:12:05.377Z"
   },
   {
    "duration": 0,
    "start_time": "2025-02-09T18:12:05.378Z"
   },
   {
    "duration": 0,
    "start_time": "2025-02-09T18:12:05.379Z"
   },
   {
    "duration": 0,
    "start_time": "2025-02-09T18:12:05.381Z"
   },
   {
    "duration": 0,
    "start_time": "2025-02-09T18:12:05.386Z"
   },
   {
    "duration": 0,
    "start_time": "2025-02-09T18:12:05.387Z"
   },
   {
    "duration": 0,
    "start_time": "2025-02-09T18:12:05.388Z"
   },
   {
    "duration": 0,
    "start_time": "2025-02-09T18:12:05.389Z"
   },
   {
    "duration": 0,
    "start_time": "2025-02-09T18:12:05.389Z"
   },
   {
    "duration": 0,
    "start_time": "2025-02-09T18:12:05.391Z"
   },
   {
    "duration": 0,
    "start_time": "2025-02-09T18:12:05.393Z"
   },
   {
    "duration": 0,
    "start_time": "2025-02-09T18:12:05.394Z"
   },
   {
    "duration": 0,
    "start_time": "2025-02-09T18:12:05.395Z"
   },
   {
    "duration": 0,
    "start_time": "2025-02-09T18:12:05.396Z"
   },
   {
    "duration": 0,
    "start_time": "2025-02-09T18:12:05.397Z"
   },
   {
    "duration": 0,
    "start_time": "2025-02-09T18:12:05.398Z"
   },
   {
    "duration": 0,
    "start_time": "2025-02-09T18:12:05.399Z"
   },
   {
    "duration": 0,
    "start_time": "2025-02-09T18:12:05.400Z"
   },
   {
    "duration": 0,
    "start_time": "2025-02-09T18:12:05.402Z"
   },
   {
    "duration": 0,
    "start_time": "2025-02-09T18:12:05.404Z"
   },
   {
    "duration": 0,
    "start_time": "2025-02-09T18:12:05.405Z"
   },
   {
    "duration": 0,
    "start_time": "2025-02-09T18:12:05.406Z"
   },
   {
    "duration": 0,
    "start_time": "2025-02-09T18:12:05.408Z"
   },
   {
    "duration": 0,
    "start_time": "2025-02-09T18:12:05.409Z"
   },
   {
    "duration": 0,
    "start_time": "2025-02-09T18:12:05.412Z"
   },
   {
    "duration": 0,
    "start_time": "2025-02-09T18:12:05.414Z"
   },
   {
    "duration": 0,
    "start_time": "2025-02-09T18:12:05.415Z"
   },
   {
    "duration": 0,
    "start_time": "2025-02-09T18:12:05.417Z"
   },
   {
    "duration": 0,
    "start_time": "2025-02-09T18:12:05.419Z"
   },
   {
    "duration": 0,
    "start_time": "2025-02-09T18:12:05.419Z"
   },
   {
    "duration": 0,
    "start_time": "2025-02-09T18:12:05.421Z"
   },
   {
    "duration": 0,
    "start_time": "2025-02-09T18:12:05.422Z"
   },
   {
    "duration": 280,
    "start_time": "2025-02-09T18:12:52.400Z"
   },
   {
    "duration": 288,
    "start_time": "2025-02-09T18:13:05.470Z"
   },
   {
    "duration": 296,
    "start_time": "2025-02-09T18:13:48.850Z"
   },
   {
    "duration": 295,
    "start_time": "2025-02-09T18:14:10.462Z"
   },
   {
    "duration": 93,
    "start_time": "2025-02-09T18:16:07.491Z"
   },
   {
    "duration": 166,
    "start_time": "2025-02-09T18:16:09.649Z"
   },
   {
    "duration": 290,
    "start_time": "2025-02-09T18:17:53.043Z"
   },
   {
    "duration": 291,
    "start_time": "2025-02-09T18:17:57.442Z"
   },
   {
    "duration": 263,
    "start_time": "2025-02-09T18:18:05.504Z"
   },
   {
    "duration": 282,
    "start_time": "2025-02-09T18:18:09.639Z"
   },
   {
    "duration": 318,
    "start_time": "2025-02-09T18:18:14.361Z"
   },
   {
    "duration": 841,
    "start_time": "2025-02-09T18:18:29.855Z"
   },
   {
    "duration": 326,
    "start_time": "2025-02-09T18:18:37.464Z"
   },
   {
    "duration": 283,
    "start_time": "2025-02-09T18:18:44.582Z"
   },
   {
    "duration": 376,
    "start_time": "2025-02-09T18:18:49.202Z"
   },
   {
    "duration": 205,
    "start_time": "2025-02-09T18:21:04.683Z"
   },
   {
    "duration": 15,
    "start_time": "2025-02-09T18:21:52.039Z"
   },
   {
    "duration": 13,
    "start_time": "2025-02-09T18:21:55.387Z"
   },
   {
    "duration": 14,
    "start_time": "2025-02-09T18:22:43.017Z"
   },
   {
    "duration": 304,
    "start_time": "2025-02-09T18:23:42.064Z"
   },
   {
    "duration": 398,
    "start_time": "2025-02-09T18:24:02.721Z"
   },
   {
    "duration": 284,
    "start_time": "2025-02-09T18:24:25.425Z"
   },
   {
    "duration": 389,
    "start_time": "2025-02-09T18:24:39.991Z"
   },
   {
    "duration": 302,
    "start_time": "2025-02-09T18:24:51.392Z"
   },
   {
    "duration": 576,
    "start_time": "2025-02-09T18:25:07.052Z"
   },
   {
    "duration": 227,
    "start_time": "2025-02-09T18:25:18.631Z"
   },
   {
    "duration": 229,
    "start_time": "2025-02-09T18:25:49.959Z"
   },
   {
    "duration": 304,
    "start_time": "2025-02-09T18:25:58.344Z"
   },
   {
    "duration": 4,
    "start_time": "2025-02-09T18:39:12.014Z"
   },
   {
    "duration": 5,
    "start_time": "2025-02-09T18:40:34.884Z"
   },
   {
    "duration": 7,
    "start_time": "2025-02-09T18:42:09.006Z"
   },
   {
    "duration": 140,
    "start_time": "2025-02-09T18:44:34.977Z"
   },
   {
    "duration": 279,
    "start_time": "2025-02-09T18:44:49.513Z"
   },
   {
    "duration": 413,
    "start_time": "2025-02-09T18:47:49.927Z"
   },
   {
    "duration": 318,
    "start_time": "2025-02-09T18:49:04.762Z"
   },
   {
    "duration": 261,
    "start_time": "2025-02-09T18:49:26.014Z"
   },
   {
    "duration": 271,
    "start_time": "2025-02-09T18:49:47.418Z"
   },
   {
    "duration": 289,
    "start_time": "2025-02-09T18:50:28.206Z"
   },
   {
    "duration": 323,
    "start_time": "2025-02-09T18:50:43.914Z"
   },
   {
    "duration": 4,
    "start_time": "2025-02-09T18:51:00.481Z"
   },
   {
    "duration": 3,
    "start_time": "2025-02-09T18:51:18.283Z"
   },
   {
    "duration": 340,
    "start_time": "2025-02-09T18:51:22.875Z"
   },
   {
    "duration": 465,
    "start_time": "2025-02-09T18:51:31.549Z"
   },
   {
    "duration": 4,
    "start_time": "2025-02-09T18:51:42.722Z"
   },
   {
    "duration": 4,
    "start_time": "2025-02-09T18:51:47.302Z"
   },
   {
    "duration": 8,
    "start_time": "2025-02-09T18:54:08.467Z"
   },
   {
    "duration": 345,
    "start_time": "2025-02-09T18:54:59.161Z"
   },
   {
    "duration": 314,
    "start_time": "2025-02-09T18:55:45.405Z"
   },
   {
    "duration": 15,
    "start_time": "2025-02-09T19:21:53.864Z"
   },
   {
    "duration": 14,
    "start_time": "2025-02-09T19:22:05.278Z"
   },
   {
    "duration": 60,
    "start_time": "2025-02-09T19:22:22.934Z"
   },
   {
    "duration": 178,
    "start_time": "2025-02-09T19:22:55.169Z"
   },
   {
    "duration": 19,
    "start_time": "2025-02-09T19:23:23.141Z"
   },
   {
    "duration": 12,
    "start_time": "2025-02-09T19:23:25.491Z"
   },
   {
    "duration": 98,
    "start_time": "2025-02-09T19:23:38.048Z"
   },
   {
    "duration": 7,
    "start_time": "2025-02-09T19:24:06.124Z"
   },
   {
    "duration": 1053,
    "start_time": "2025-02-09T19:24:18.922Z"
   },
   {
    "duration": 22,
    "start_time": "2025-02-09T19:24:19.978Z"
   },
   {
    "duration": 9,
    "start_time": "2025-02-09T19:24:20.002Z"
   },
   {
    "duration": 14,
    "start_time": "2025-02-09T19:24:20.013Z"
   },
   {
    "duration": 9,
    "start_time": "2025-02-09T19:24:20.028Z"
   },
   {
    "duration": 4,
    "start_time": "2025-02-09T19:24:20.038Z"
   },
   {
    "duration": 6,
    "start_time": "2025-02-09T19:24:20.044Z"
   },
   {
    "duration": 36,
    "start_time": "2025-02-09T19:24:20.051Z"
   },
   {
    "duration": 4,
    "start_time": "2025-02-09T19:24:20.089Z"
   },
   {
    "duration": 6,
    "start_time": "2025-02-09T19:24:20.096Z"
   },
   {
    "duration": 3,
    "start_time": "2025-02-09T19:24:20.103Z"
   },
   {
    "duration": 4,
    "start_time": "2025-02-09T19:24:20.108Z"
   },
   {
    "duration": 4,
    "start_time": "2025-02-09T19:24:20.113Z"
   },
   {
    "duration": 5,
    "start_time": "2025-02-09T19:24:20.119Z"
   },
   {
    "duration": 7,
    "start_time": "2025-02-09T19:24:20.125Z"
   },
   {
    "duration": 52,
    "start_time": "2025-02-09T19:24:20.134Z"
   },
   {
    "duration": 15,
    "start_time": "2025-02-09T19:24:20.188Z"
   },
   {
    "duration": 322,
    "start_time": "2025-02-09T19:24:20.204Z"
   },
   {
    "duration": 7,
    "start_time": "2025-02-09T19:24:20.528Z"
   },
   {
    "duration": 5,
    "start_time": "2025-02-09T19:24:20.537Z"
   },
   {
    "duration": 5,
    "start_time": "2025-02-09T19:24:20.543Z"
   },
   {
    "duration": 403,
    "start_time": "2025-02-09T19:24:20.550Z"
   },
   {
    "duration": 6,
    "start_time": "2025-02-09T19:24:20.955Z"
   },
   {
    "duration": 6,
    "start_time": "2025-02-09T19:24:20.963Z"
   },
   {
    "duration": 116,
    "start_time": "2025-02-09T19:24:20.971Z"
   },
   {
    "duration": 5,
    "start_time": "2025-02-09T19:24:21.090Z"
   },
   {
    "duration": 2,
    "start_time": "2025-02-09T19:24:21.097Z"
   },
   {
    "duration": 259,
    "start_time": "2025-02-09T19:24:21.105Z"
   },
   {
    "duration": 3,
    "start_time": "2025-02-09T19:24:21.366Z"
   },
   {
    "duration": 16,
    "start_time": "2025-02-09T19:24:21.371Z"
   },
   {
    "duration": 6,
    "start_time": "2025-02-09T19:24:21.389Z"
   },
   {
    "duration": 12,
    "start_time": "2025-02-09T19:24:21.396Z"
   },
   {
    "duration": 19,
    "start_time": "2025-02-09T19:24:21.410Z"
   },
   {
    "duration": 168,
    "start_time": "2025-02-09T19:24:21.431Z"
   },
   {
    "duration": 5008,
    "start_time": "2025-02-09T19:24:21.601Z"
   },
   {
    "duration": 16,
    "start_time": "2025-02-09T19:24:26.611Z"
   },
   {
    "duration": 3,
    "start_time": "2025-02-09T19:24:26.628Z"
   },
   {
    "duration": 3,
    "start_time": "2025-02-09T19:24:26.633Z"
   },
   {
    "duration": 55,
    "start_time": "2025-02-09T19:24:26.638Z"
   },
   {
    "duration": 131,
    "start_time": "2025-02-09T19:24:26.694Z"
   },
   {
    "duration": 188,
    "start_time": "2025-02-09T19:24:26.827Z"
   },
   {
    "duration": 6449,
    "start_time": "2025-02-09T19:24:27.019Z"
   },
   {
    "duration": 27,
    "start_time": "2025-02-09T19:24:33.470Z"
   },
   {
    "duration": 3,
    "start_time": "2025-02-09T19:24:33.498Z"
   },
   {
    "duration": 4,
    "start_time": "2025-02-09T19:24:33.503Z"
   },
   {
    "duration": 9,
    "start_time": "2025-02-09T19:24:33.509Z"
   },
   {
    "duration": 60,
    "start_time": "2025-02-09T19:24:33.588Z"
   },
   {
    "duration": 116,
    "start_time": "2025-02-09T19:24:33.650Z"
   },
   {
    "duration": 2888,
    "start_time": "2025-02-09T19:24:33.768Z"
   },
   {
    "duration": 29,
    "start_time": "2025-02-09T19:24:36.658Z"
   },
   {
    "duration": 3,
    "start_time": "2025-02-09T19:24:36.689Z"
   },
   {
    "duration": 3,
    "start_time": "2025-02-09T19:24:36.694Z"
   },
   {
    "duration": 268,
    "start_time": "2025-02-09T19:24:36.699Z"
   },
   {
    "duration": 5,
    "start_time": "2025-02-09T19:24:36.968Z"
   },
   {
    "duration": 350,
    "start_time": "2025-02-09T19:26:14.887Z"
   },
   {
    "duration": 309,
    "start_time": "2025-02-09T19:26:25.807Z"
   },
   {
    "duration": 326,
    "start_time": "2025-02-09T19:26:45.593Z"
   },
   {
    "duration": 715,
    "start_time": "2025-02-09T19:27:24.645Z"
   },
   {
    "duration": 427,
    "start_time": "2025-02-09T19:27:34.370Z"
   },
   {
    "duration": 370,
    "start_time": "2025-02-09T19:29:17.073Z"
   },
   {
    "duration": 343,
    "start_time": "2025-02-09T19:29:23.423Z"
   },
   {
    "duration": 354,
    "start_time": "2025-02-09T19:29:33.338Z"
   },
   {
    "duration": 287,
    "start_time": "2025-02-09T19:46:43.879Z"
   },
   {
    "duration": 187,
    "start_time": "2025-02-09T19:47:47.532Z"
   },
   {
    "duration": 117,
    "start_time": "2025-02-09T19:48:31.798Z"
   },
   {
    "duration": 101,
    "start_time": "2025-02-09T19:50:10.521Z"
   },
   {
    "duration": 106,
    "start_time": "2025-02-09T19:52:20.923Z"
   },
   {
    "duration": 111,
    "start_time": "2025-02-09T19:54:34.981Z"
   },
   {
    "duration": 1028,
    "start_time": "2025-02-09T19:54:48.838Z"
   },
   {
    "duration": 19,
    "start_time": "2025-02-09T19:54:49.868Z"
   },
   {
    "duration": 11,
    "start_time": "2025-02-09T19:54:49.894Z"
   },
   {
    "duration": 14,
    "start_time": "2025-02-09T19:54:49.907Z"
   },
   {
    "duration": 9,
    "start_time": "2025-02-09T19:54:49.923Z"
   },
   {
    "duration": 4,
    "start_time": "2025-02-09T19:54:49.934Z"
   },
   {
    "duration": 8,
    "start_time": "2025-02-09T19:54:49.940Z"
   },
   {
    "duration": 38,
    "start_time": "2025-02-09T19:54:49.951Z"
   },
   {
    "duration": 5,
    "start_time": "2025-02-09T19:54:49.990Z"
   },
   {
    "duration": 5,
    "start_time": "2025-02-09T19:54:49.997Z"
   },
   {
    "duration": 3,
    "start_time": "2025-02-09T19:54:50.004Z"
   },
   {
    "duration": 4,
    "start_time": "2025-02-09T19:54:50.009Z"
   },
   {
    "duration": 4,
    "start_time": "2025-02-09T19:54:50.015Z"
   },
   {
    "duration": 3,
    "start_time": "2025-02-09T19:54:50.022Z"
   },
   {
    "duration": 7,
    "start_time": "2025-02-09T19:54:50.027Z"
   },
   {
    "duration": 56,
    "start_time": "2025-02-09T19:54:50.036Z"
   },
   {
    "duration": 14,
    "start_time": "2025-02-09T19:54:50.094Z"
   },
   {
    "duration": 340,
    "start_time": "2025-02-09T19:54:50.110Z"
   },
   {
    "duration": 7,
    "start_time": "2025-02-09T19:54:50.453Z"
   },
   {
    "duration": 4,
    "start_time": "2025-02-09T19:54:50.462Z"
   },
   {
    "duration": 18,
    "start_time": "2025-02-09T19:54:50.468Z"
   },
   {
    "duration": 336,
    "start_time": "2025-02-09T19:54:50.488Z"
   },
   {
    "duration": 7,
    "start_time": "2025-02-09T19:54:50.827Z"
   },
   {
    "duration": 378,
    "start_time": "2025-02-09T19:54:50.835Z"
   },
   {
    "duration": 7,
    "start_time": "2025-02-09T19:54:51.215Z"
   },
   {
    "duration": 4,
    "start_time": "2025-02-09T19:54:51.227Z"
   },
   {
    "duration": 3,
    "start_time": "2025-02-09T19:54:51.233Z"
   },
   {
    "duration": 292,
    "start_time": "2025-02-09T19:54:51.237Z"
   },
   {
    "duration": 3,
    "start_time": "2025-02-09T19:54:51.531Z"
   },
   {
    "duration": 5,
    "start_time": "2025-02-09T19:54:51.535Z"
   },
   {
    "duration": 6,
    "start_time": "2025-02-09T19:54:51.541Z"
   },
   {
    "duration": 13,
    "start_time": "2025-02-09T19:54:51.548Z"
   },
   {
    "duration": 20,
    "start_time": "2025-02-09T19:54:51.586Z"
   },
   {
    "duration": 154,
    "start_time": "2025-02-09T19:54:51.609Z"
   },
   {
    "duration": 5022,
    "start_time": "2025-02-09T19:54:51.765Z"
   },
   {
    "duration": 14,
    "start_time": "2025-02-09T19:54:56.789Z"
   },
   {
    "duration": 4,
    "start_time": "2025-02-09T19:54:56.804Z"
   },
   {
    "duration": 4,
    "start_time": "2025-02-09T19:54:56.809Z"
   },
   {
    "duration": 72,
    "start_time": "2025-02-09T19:54:56.815Z"
   },
   {
    "duration": 114,
    "start_time": "2025-02-09T19:54:56.889Z"
   },
   {
    "duration": 186,
    "start_time": "2025-02-09T19:54:57.005Z"
   },
   {
    "duration": 6408,
    "start_time": "2025-02-09T19:54:57.194Z"
   },
   {
    "duration": 16,
    "start_time": "2025-02-09T19:55:03.604Z"
   },
   {
    "duration": 6,
    "start_time": "2025-02-09T19:55:03.621Z"
   },
   {
    "duration": 58,
    "start_time": "2025-02-09T19:55:03.629Z"
   },
   {
    "duration": 11,
    "start_time": "2025-02-09T19:55:03.690Z"
   },
   {
    "duration": 139,
    "start_time": "2025-02-09T19:55:03.704Z"
   },
   {
    "duration": 90,
    "start_time": "2025-02-09T19:55:03.845Z"
   },
   {
    "duration": 2990,
    "start_time": "2025-02-09T19:55:03.937Z"
   },
   {
    "duration": 14,
    "start_time": "2025-02-09T19:55:06.930Z"
   },
   {
    "duration": 4,
    "start_time": "2025-02-09T19:55:06.946Z"
   },
   {
    "duration": 4,
    "start_time": "2025-02-09T19:55:06.987Z"
   },
   {
    "duration": 258,
    "start_time": "2025-02-09T19:55:06.995Z"
   },
   {
    "duration": 113,
    "start_time": "2025-02-09T19:55:07.254Z"
   },
   {
    "duration": 5,
    "start_time": "2025-02-09T19:55:07.369Z"
   }
  ],
  "kernelspec": {
   "display_name": "Python 3 (ipykernel)",
   "language": "python",
   "name": "python3"
  },
  "language_info": {
   "codemirror_mode": {
    "name": "ipython",
    "version": 3
   },
   "file_extension": ".py",
   "mimetype": "text/x-python",
   "name": "python",
   "nbconvert_exporter": "python",
   "pygments_lexer": "ipython3",
   "version": "3.9.19"
  },
  "toc": {
   "base_numbering": 1,
   "nav_menu": {},
   "number_sections": true,
   "sideBar": true,
   "skip_h1_title": true,
   "title_cell": "Table of Contents",
   "title_sidebar": "Contents",
   "toc_cell": false,
   "toc_position": {},
   "toc_section_display": true,
   "toc_window_display": false
  }
 },
 "nbformat": 4,
 "nbformat_minor": 2
}
